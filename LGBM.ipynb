{
 "cells": [
  {
   "cell_type": "code",
   "execution_count": 2,
   "metadata": {},
   "outputs": [
    {
     "name": "stderr",
     "output_type": "stream",
     "text": [
      "Using TensorFlow backend.\n"
     ]
    }
   ],
   "source": [
    "\n",
    "# import libraries\n",
    "\n",
    "import pandas as pd\n",
    "import numpy as np\n",
    "import matplotlib.pyplot as plt\n",
    "import seaborn as sns\n",
    "%matplotlib inline\n",
    "\n",
    "from statsmodels.stats.outliers_influence import variance_inflation_factor\n",
    "from sklearn.feature_selection import RFE, RFECV\n",
    "from sklearn.metrics import f1_score\n",
    "from sklearn.model_selection import train_test_split\n",
    "from sklearn.linear_model import LogisticRegression\n",
    "from sklearn.neighbors import NearestNeighbors\n",
    "from sklearn.tree import DecisionTreeClassifier\n",
    "from sklearn.svm import SVC\n",
    "from sklearn.ensemble import RandomForestClassifier,AdaBoostClassifier, ExtraTreesClassifier,GradientBoostingClassifier\n",
    "from sklearn.metrics import classification_report, confusion_matrix, roc_auc_score, roc_curve\n",
    "from sklearn.model_selection import cross_val_score, KFold\n",
    "from imblearn.over_sampling import SMOTE\n",
    "from sklearn.utils import resample\n",
    "from sklearn.model_selection import GridSearchCV, RandomizedSearchCV\n",
    "\n",
    "import warnings\n",
    "warnings.filterwarnings(\"ignore\")\n"
   ]
  },
  {
   "cell_type": "markdown",
   "metadata": {},
   "source": [
    "https://towardsdatascience.com/machine-learning-model-for-predicting-click-through-in-hotel-online-ranking-d55fc18c8516\n",
    "https://www.kaggle.com/konchada/logistic-vs-random-forest-model-for-ad-click\n",
    "https://becominghuman.ai/predicting-click-probabilities-on-a-leading-advertising-platform-7582633e6e78\n",
    "https://towardsdatascience.com/mobile-ads-click-through-rate-ctr-prediction-44fdac40c6ff"
   ]
  },
  {
   "cell_type": "code",
   "execution_count": 70,
   "metadata": {},
   "outputs": [],
   "source": [
    "item_data=pd.read_csv(\"item_data.csv\")\n",
    "train = pd.read_csv(\"train.csv\")\n",
    "view_log = pd.read_csv(\"view_log.csv\")\n",
    "test=pd.read_csv(\"test.csv\")\n",
    "sample_submission = pd.read_csv(\"sample_submission.csv\")"
   ]
  },
  {
   "cell_type": "code",
   "execution_count": 159,
   "metadata": {},
   "outputs": [],
   "source": [
    "test=pd.read_csv(\"test.csv\")"
   ]
  },
  {
   "cell_type": "code",
   "execution_count": 236,
   "metadata": {},
   "outputs": [
    {
     "data": {
      "text/plain": [
       "((132761, 6),)"
      ]
     },
     "execution_count": 236,
     "metadata": {},
     "output_type": "execute_result"
    }
   ],
   "source": [
    "item_data.shape,\n"
   ]
  },
  {
   "cell_type": "code",
   "execution_count": 237,
   "metadata": {},
   "outputs": [
    {
     "data": {
      "text/plain": [
       "((237609, 7),)"
      ]
     },
     "execution_count": 237,
     "metadata": {},
     "output_type": "execute_result"
    }
   ],
   "source": [
    "train.shape,\n"
   ]
  },
  {
   "cell_type": "code",
   "execution_count": 238,
   "metadata": {},
   "outputs": [
    {
     "data": {
      "text/plain": [
       "(3118622, 5)"
      ]
     },
     "execution_count": 238,
     "metadata": {},
     "output_type": "execute_result"
    }
   ],
   "source": [
    "view_log.shape\n"
   ]
  },
  {
   "cell_type": "code",
   "execution_count": 160,
   "metadata": {},
   "outputs": [
    {
     "data": {
      "text/plain": [
       "((90675, 6),)"
      ]
     },
     "execution_count": 160,
     "metadata": {},
     "output_type": "execute_result"
    }
   ],
   "source": [
    "test.shape,\n"
   ]
  },
  {
   "cell_type": "code",
   "execution_count": 12,
   "metadata": {},
   "outputs": [
    {
     "data": {
      "text/plain": [
       "(90675, 2)"
      ]
     },
     "execution_count": 12,
     "metadata": {},
     "output_type": "execute_result"
    }
   ],
   "source": [
    "sample_submission.shape"
   ]
  },
  {
   "cell_type": "code",
   "execution_count": 13,
   "metadata": {},
   "outputs": [
    {
     "data": {
      "text/html": [
       "<div>\n",
       "<style scoped>\n",
       "    .dataframe tbody tr th:only-of-type {\n",
       "        vertical-align: middle;\n",
       "    }\n",
       "\n",
       "    .dataframe tbody tr th {\n",
       "        vertical-align: top;\n",
       "    }\n",
       "\n",
       "    .dataframe thead th {\n",
       "        text-align: right;\n",
       "    }\n",
       "</style>\n",
       "<table border=\"1\" class=\"dataframe\">\n",
       "  <thead>\n",
       "    <tr style=\"text-align: right;\">\n",
       "      <th></th>\n",
       "      <th>item_id</th>\n",
       "      <th>item_price</th>\n",
       "      <th>category_1</th>\n",
       "      <th>category_2</th>\n",
       "      <th>category_3</th>\n",
       "      <th>product_type</th>\n",
       "    </tr>\n",
       "  </thead>\n",
       "  <tbody>\n",
       "    <tr>\n",
       "      <th>0</th>\n",
       "      <td>26880</td>\n",
       "      <td>4602</td>\n",
       "      <td>11</td>\n",
       "      <td>35</td>\n",
       "      <td>20</td>\n",
       "      <td>3040</td>\n",
       "    </tr>\n",
       "    <tr>\n",
       "      <th>1</th>\n",
       "      <td>54939</td>\n",
       "      <td>3513</td>\n",
       "      <td>12</td>\n",
       "      <td>57</td>\n",
       "      <td>85</td>\n",
       "      <td>6822</td>\n",
       "    </tr>\n",
       "    <tr>\n",
       "      <th>2</th>\n",
       "      <td>40383</td>\n",
       "      <td>825</td>\n",
       "      <td>17</td>\n",
       "      <td>8</td>\n",
       "      <td>279</td>\n",
       "      <td>1619</td>\n",
       "    </tr>\n",
       "    <tr>\n",
       "      <th>3</th>\n",
       "      <td>8777</td>\n",
       "      <td>2355</td>\n",
       "      <td>13</td>\n",
       "      <td>58</td>\n",
       "      <td>189</td>\n",
       "      <td>5264</td>\n",
       "    </tr>\n",
       "    <tr>\n",
       "      <th>4</th>\n",
       "      <td>113705</td>\n",
       "      <td>1267</td>\n",
       "      <td>17</td>\n",
       "      <td>39</td>\n",
       "      <td>151</td>\n",
       "      <td>10239</td>\n",
       "    </tr>\n",
       "  </tbody>\n",
       "</table>\n",
       "</div>"
      ],
      "text/plain": [
       "   item_id  item_price  category_1  category_2  category_3  product_type\n",
       "0    26880        4602          11          35          20          3040\n",
       "1    54939        3513          12          57          85          6822\n",
       "2    40383         825          17           8         279          1619\n",
       "3     8777        2355          13          58         189          5264\n",
       "4   113705        1267          17          39         151         10239"
      ]
     },
     "execution_count": 13,
     "metadata": {},
     "output_type": "execute_result"
    }
   ],
   "source": [
    "item_data.head()"
   ]
  },
  {
   "cell_type": "code",
   "execution_count": 3,
   "metadata": {},
   "outputs": [
    {
     "data": {
      "text/html": [
       "<div>\n",
       "<style scoped>\n",
       "    .dataframe tbody tr th:only-of-type {\n",
       "        vertical-align: middle;\n",
       "    }\n",
       "\n",
       "    .dataframe tbody tr th {\n",
       "        vertical-align: top;\n",
       "    }\n",
       "\n",
       "    .dataframe thead th {\n",
       "        text-align: right;\n",
       "    }\n",
       "</style>\n",
       "<table border=\"1\" class=\"dataframe\">\n",
       "  <thead>\n",
       "    <tr style=\"text-align: right;\">\n",
       "      <th></th>\n",
       "      <th>impression_id</th>\n",
       "      <th>impression_time</th>\n",
       "      <th>user_id</th>\n",
       "      <th>app_code</th>\n",
       "      <th>os_version</th>\n",
       "      <th>is_4G</th>\n",
       "      <th>is_click</th>\n",
       "    </tr>\n",
       "  </thead>\n",
       "  <tbody>\n",
       "    <tr>\n",
       "      <th>0</th>\n",
       "      <td>c4ca4238a0b923820dcc509a6f75849b</td>\n",
       "      <td>2018-11-15 00:00:00</td>\n",
       "      <td>87862</td>\n",
       "      <td>422</td>\n",
       "      <td>old</td>\n",
       "      <td>0</td>\n",
       "      <td>0</td>\n",
       "    </tr>\n",
       "    <tr>\n",
       "      <th>1</th>\n",
       "      <td>45c48cce2e2d7fbdea1afc51c7c6ad26</td>\n",
       "      <td>2018-11-15 00:01:00</td>\n",
       "      <td>63410</td>\n",
       "      <td>467</td>\n",
       "      <td>latest</td>\n",
       "      <td>1</td>\n",
       "      <td>1</td>\n",
       "    </tr>\n",
       "    <tr>\n",
       "      <th>2</th>\n",
       "      <td>70efdf2ec9b086079795c442636b55fb</td>\n",
       "      <td>2018-11-15 00:02:00</td>\n",
       "      <td>71748</td>\n",
       "      <td>259</td>\n",
       "      <td>intermediate</td>\n",
       "      <td>1</td>\n",
       "      <td>0</td>\n",
       "    </tr>\n",
       "    <tr>\n",
       "      <th>3</th>\n",
       "      <td>8e296a067a37563370ded05f5a3bf3ec</td>\n",
       "      <td>2018-11-15 00:02:00</td>\n",
       "      <td>69209</td>\n",
       "      <td>244</td>\n",
       "      <td>latest</td>\n",
       "      <td>1</td>\n",
       "      <td>0</td>\n",
       "    </tr>\n",
       "    <tr>\n",
       "      <th>4</th>\n",
       "      <td>182be0c5cdcd5072bb1864cdee4d3d6e</td>\n",
       "      <td>2018-11-15 00:02:00</td>\n",
       "      <td>62873</td>\n",
       "      <td>473</td>\n",
       "      <td>latest</td>\n",
       "      <td>0</td>\n",
       "      <td>0</td>\n",
       "    </tr>\n",
       "  </tbody>\n",
       "</table>\n",
       "</div>"
      ],
      "text/plain": [
       "                      impression_id      impression_time  user_id  app_code  \\\n",
       "0  c4ca4238a0b923820dcc509a6f75849b  2018-11-15 00:00:00    87862       422   \n",
       "1  45c48cce2e2d7fbdea1afc51c7c6ad26  2018-11-15 00:01:00    63410       467   \n",
       "2  70efdf2ec9b086079795c442636b55fb  2018-11-15 00:02:00    71748       259   \n",
       "3  8e296a067a37563370ded05f5a3bf3ec  2018-11-15 00:02:00    69209       244   \n",
       "4  182be0c5cdcd5072bb1864cdee4d3d6e  2018-11-15 00:02:00    62873       473   \n",
       "\n",
       "     os_version  is_4G  is_click  \n",
       "0           old      0         0  \n",
       "1        latest      1         1  \n",
       "2  intermediate      1         0  \n",
       "3        latest      1         0  \n",
       "4        latest      0         0  "
      ]
     },
     "execution_count": 3,
     "metadata": {},
     "output_type": "execute_result"
    }
   ],
   "source": [
    "train.head()"
   ]
  },
  {
   "cell_type": "code",
   "execution_count": 134,
   "metadata": {},
   "outputs": [],
   "source": [
    "train = train.drop(['ad_count','app_code1','click_sum','app_code2'], axis=1)"
   ]
  },
  {
   "cell_type": "code",
   "execution_count": 15,
   "metadata": {},
   "outputs": [
    {
     "data": {
      "text/html": [
       "<div>\n",
       "<style scoped>\n",
       "    .dataframe tbody tr th:only-of-type {\n",
       "        vertical-align: middle;\n",
       "    }\n",
       "\n",
       "    .dataframe tbody tr th {\n",
       "        vertical-align: top;\n",
       "    }\n",
       "\n",
       "    .dataframe thead th {\n",
       "        text-align: right;\n",
       "    }\n",
       "</style>\n",
       "<table border=\"1\" class=\"dataframe\">\n",
       "  <thead>\n",
       "    <tr style=\"text-align: right;\">\n",
       "      <th></th>\n",
       "      <th>server_time</th>\n",
       "      <th>device_type</th>\n",
       "      <th>session_id</th>\n",
       "      <th>user_id</th>\n",
       "      <th>item_id</th>\n",
       "    </tr>\n",
       "  </thead>\n",
       "  <tbody>\n",
       "    <tr>\n",
       "      <th>0</th>\n",
       "      <td>2018-10-15 08:58:00</td>\n",
       "      <td>android</td>\n",
       "      <td>112333</td>\n",
       "      <td>4557</td>\n",
       "      <td>32970</td>\n",
       "    </tr>\n",
       "    <tr>\n",
       "      <th>1</th>\n",
       "      <td>2018-10-15 08:58:00</td>\n",
       "      <td>android</td>\n",
       "      <td>503590</td>\n",
       "      <td>74788</td>\n",
       "      <td>7640</td>\n",
       "    </tr>\n",
       "    <tr>\n",
       "      <th>2</th>\n",
       "      <td>2018-10-15 08:58:00</td>\n",
       "      <td>android</td>\n",
       "      <td>573960</td>\n",
       "      <td>23628</td>\n",
       "      <td>128855</td>\n",
       "    </tr>\n",
       "    <tr>\n",
       "      <th>3</th>\n",
       "      <td>2018-10-15 08:58:00</td>\n",
       "      <td>android</td>\n",
       "      <td>121691</td>\n",
       "      <td>2430</td>\n",
       "      <td>12774</td>\n",
       "    </tr>\n",
       "    <tr>\n",
       "      <th>4</th>\n",
       "      <td>2018-10-15 08:58:00</td>\n",
       "      <td>android</td>\n",
       "      <td>218564</td>\n",
       "      <td>19227</td>\n",
       "      <td>28296</td>\n",
       "    </tr>\n",
       "  </tbody>\n",
       "</table>\n",
       "</div>"
      ],
      "text/plain": [
       "           server_time device_type  session_id  user_id  item_id\n",
       "0  2018-10-15 08:58:00     android      112333     4557    32970\n",
       "1  2018-10-15 08:58:00     android      503590    74788     7640\n",
       "2  2018-10-15 08:58:00     android      573960    23628   128855\n",
       "3  2018-10-15 08:58:00     android      121691     2430    12774\n",
       "4  2018-10-15 08:58:00     android      218564    19227    28296"
      ]
     },
     "execution_count": 15,
     "metadata": {},
     "output_type": "execute_result"
    }
   ],
   "source": [
    "view_log.head()"
   ]
  },
  {
   "cell_type": "code",
   "execution_count": 16,
   "metadata": {},
   "outputs": [
    {
     "data": {
      "text/html": [
       "<div>\n",
       "<style scoped>\n",
       "    .dataframe tbody tr th:only-of-type {\n",
       "        vertical-align: middle;\n",
       "    }\n",
       "\n",
       "    .dataframe tbody tr th {\n",
       "        vertical-align: top;\n",
       "    }\n",
       "\n",
       "    .dataframe thead th {\n",
       "        text-align: right;\n",
       "    }\n",
       "</style>\n",
       "<table border=\"1\" class=\"dataframe\">\n",
       "  <thead>\n",
       "    <tr style=\"text-align: right;\">\n",
       "      <th></th>\n",
       "      <th>impression_id</th>\n",
       "      <th>impression_time</th>\n",
       "      <th>user_id</th>\n",
       "      <th>app_code</th>\n",
       "      <th>os_version</th>\n",
       "      <th>is_4G</th>\n",
       "    </tr>\n",
       "  </thead>\n",
       "  <tbody>\n",
       "    <tr>\n",
       "      <th>0</th>\n",
       "      <td>a9e7126a585a69a32bc7414e9d0c0ada</td>\n",
       "      <td>2018-12-13 07:44:00</td>\n",
       "      <td>44754</td>\n",
       "      <td>127</td>\n",
       "      <td>latest</td>\n",
       "      <td>1</td>\n",
       "    </tr>\n",
       "    <tr>\n",
       "      <th>1</th>\n",
       "      <td>caac14a5bf2ba283db7708bb34855760</td>\n",
       "      <td>2018-12-13 07:45:00</td>\n",
       "      <td>29656</td>\n",
       "      <td>44</td>\n",
       "      <td>latest</td>\n",
       "      <td>0</td>\n",
       "    </tr>\n",
       "    <tr>\n",
       "      <th>2</th>\n",
       "      <td>13f10ba306a19ce7bec2f3cae507b698</td>\n",
       "      <td>2018-12-13 07:46:00</td>\n",
       "      <td>25234</td>\n",
       "      <td>296</td>\n",
       "      <td>latest</td>\n",
       "      <td>1</td>\n",
       "    </tr>\n",
       "    <tr>\n",
       "      <th>3</th>\n",
       "      <td>39c4b4dc0e9701b55a0a4f072008fb3f</td>\n",
       "      <td>2018-12-13 07:47:00</td>\n",
       "      <td>22988</td>\n",
       "      <td>207</td>\n",
       "      <td>latest</td>\n",
       "      <td>1</td>\n",
       "    </tr>\n",
       "    <tr>\n",
       "      <th>4</th>\n",
       "      <td>bf5a572cca75f5fc67f4b14e58b11d70</td>\n",
       "      <td>2018-12-13 07:48:00</td>\n",
       "      <td>35431</td>\n",
       "      <td>242</td>\n",
       "      <td>latest</td>\n",
       "      <td>1</td>\n",
       "    </tr>\n",
       "  </tbody>\n",
       "</table>\n",
       "</div>"
      ],
      "text/plain": [
       "                      impression_id      impression_time  user_id  app_code  \\\n",
       "0  a9e7126a585a69a32bc7414e9d0c0ada  2018-12-13 07:44:00    44754       127   \n",
       "1  caac14a5bf2ba283db7708bb34855760  2018-12-13 07:45:00    29656        44   \n",
       "2  13f10ba306a19ce7bec2f3cae507b698  2018-12-13 07:46:00    25234       296   \n",
       "3  39c4b4dc0e9701b55a0a4f072008fb3f  2018-12-13 07:47:00    22988       207   \n",
       "4  bf5a572cca75f5fc67f4b14e58b11d70  2018-12-13 07:48:00    35431       242   \n",
       "\n",
       "  os_version  is_4G  \n",
       "0     latest      1  \n",
       "1     latest      0  \n",
       "2     latest      1  \n",
       "3     latest      1  \n",
       "4     latest      1  "
      ]
     },
     "execution_count": 16,
     "metadata": {},
     "output_type": "execute_result"
    }
   ],
   "source": [
    "test.head()"
   ]
  },
  {
   "cell_type": "code",
   "execution_count": 17,
   "metadata": {},
   "outputs": [
    {
     "data": {
      "text/html": [
       "<div>\n",
       "<style scoped>\n",
       "    .dataframe tbody tr th:only-of-type {\n",
       "        vertical-align: middle;\n",
       "    }\n",
       "\n",
       "    .dataframe tbody tr th {\n",
       "        vertical-align: top;\n",
       "    }\n",
       "\n",
       "    .dataframe thead th {\n",
       "        text-align: right;\n",
       "    }\n",
       "</style>\n",
       "<table border=\"1\" class=\"dataframe\">\n",
       "  <thead>\n",
       "    <tr style=\"text-align: right;\">\n",
       "      <th></th>\n",
       "      <th>impression_id</th>\n",
       "      <th>is_click</th>\n",
       "    </tr>\n",
       "  </thead>\n",
       "  <tbody>\n",
       "    <tr>\n",
       "      <th>0</th>\n",
       "      <td>a9e7126a585a69a32bc7414e9d0c0ada</td>\n",
       "      <td>0</td>\n",
       "    </tr>\n",
       "    <tr>\n",
       "      <th>1</th>\n",
       "      <td>caac14a5bf2ba283db7708bb34855760</td>\n",
       "      <td>0</td>\n",
       "    </tr>\n",
       "    <tr>\n",
       "      <th>2</th>\n",
       "      <td>13f10ba306a19ce7bec2f3cae507b698</td>\n",
       "      <td>0</td>\n",
       "    </tr>\n",
       "    <tr>\n",
       "      <th>3</th>\n",
       "      <td>39c4b4dc0e9701b55a0a4f072008fb3f</td>\n",
       "      <td>0</td>\n",
       "    </tr>\n",
       "    <tr>\n",
       "      <th>4</th>\n",
       "      <td>bf5a572cca75f5fc67f4b14e58b11d70</td>\n",
       "      <td>0</td>\n",
       "    </tr>\n",
       "  </tbody>\n",
       "</table>\n",
       "</div>"
      ],
      "text/plain": [
       "                      impression_id  is_click\n",
       "0  a9e7126a585a69a32bc7414e9d0c0ada         0\n",
       "1  caac14a5bf2ba283db7708bb34855760         0\n",
       "2  13f10ba306a19ce7bec2f3cae507b698         0\n",
       "3  39c4b4dc0e9701b55a0a4f072008fb3f         0\n",
       "4  bf5a572cca75f5fc67f4b14e58b11d70         0"
      ]
     },
     "execution_count": 17,
     "metadata": {},
     "output_type": "execute_result"
    }
   ],
   "source": [
    "sample_submission.head()"
   ]
  },
  {
   "cell_type": "code",
   "execution_count": 4,
   "metadata": {},
   "outputs": [],
   "source": [
    "log_item_merge =pd.merge(view_log,item_data,on='item_id',how ='left' )"
   ]
  },
  {
   "cell_type": "code",
   "execution_count": 5,
   "metadata": {},
   "outputs": [
    {
     "data": {
      "text/html": [
       "<div>\n",
       "<style scoped>\n",
       "    .dataframe tbody tr th:only-of-type {\n",
       "        vertical-align: middle;\n",
       "    }\n",
       "\n",
       "    .dataframe tbody tr th {\n",
       "        vertical-align: top;\n",
       "    }\n",
       "\n",
       "    .dataframe thead th {\n",
       "        text-align: right;\n",
       "    }\n",
       "</style>\n",
       "<table border=\"1\" class=\"dataframe\">\n",
       "  <thead>\n",
       "    <tr style=\"text-align: right;\">\n",
       "      <th></th>\n",
       "      <th>server_time</th>\n",
       "      <th>device_type</th>\n",
       "      <th>session_id</th>\n",
       "      <th>user_id</th>\n",
       "      <th>item_id</th>\n",
       "      <th>item_price</th>\n",
       "      <th>category_1</th>\n",
       "      <th>category_2</th>\n",
       "      <th>category_3</th>\n",
       "      <th>product_type</th>\n",
       "    </tr>\n",
       "  </thead>\n",
       "  <tbody>\n",
       "    <tr>\n",
       "      <th>0</th>\n",
       "      <td>2018-10-15 08:58:00</td>\n",
       "      <td>android</td>\n",
       "      <td>112333</td>\n",
       "      <td>4557</td>\n",
       "      <td>32970</td>\n",
       "      <td>54685.0</td>\n",
       "      <td>16.0</td>\n",
       "      <td>56.0</td>\n",
       "      <td>253.0</td>\n",
       "      <td>3184.0</td>\n",
       "    </tr>\n",
       "    <tr>\n",
       "      <th>1</th>\n",
       "      <td>2018-10-15 08:58:00</td>\n",
       "      <td>android</td>\n",
       "      <td>503590</td>\n",
       "      <td>74788</td>\n",
       "      <td>7640</td>\n",
       "      <td>1376.0</td>\n",
       "      <td>7.0</td>\n",
       "      <td>71.0</td>\n",
       "      <td>228.0</td>\n",
       "      <td>545.0</td>\n",
       "    </tr>\n",
       "    <tr>\n",
       "      <th>2</th>\n",
       "      <td>2018-10-15 08:58:00</td>\n",
       "      <td>android</td>\n",
       "      <td>573960</td>\n",
       "      <td>23628</td>\n",
       "      <td>128855</td>\n",
       "      <td>4544.0</td>\n",
       "      <td>4.0</td>\n",
       "      <td>38.0</td>\n",
       "      <td>62.0</td>\n",
       "      <td>5609.0</td>\n",
       "    </tr>\n",
       "    <tr>\n",
       "      <th>3</th>\n",
       "      <td>2018-10-15 08:58:00</td>\n",
       "      <td>android</td>\n",
       "      <td>121691</td>\n",
       "      <td>2430</td>\n",
       "      <td>12774</td>\n",
       "      <td>904.0</td>\n",
       "      <td>17.0</td>\n",
       "      <td>39.0</td>\n",
       "      <td>252.0</td>\n",
       "      <td>2740.0</td>\n",
       "    </tr>\n",
       "    <tr>\n",
       "      <th>4</th>\n",
       "      <td>2018-10-15 08:58:00</td>\n",
       "      <td>android</td>\n",
       "      <td>218564</td>\n",
       "      <td>19227</td>\n",
       "      <td>28296</td>\n",
       "      <td>2304.0</td>\n",
       "      <td>12.0</td>\n",
       "      <td>57.0</td>\n",
       "      <td>54.0</td>\n",
       "      <td>7422.0</td>\n",
       "    </tr>\n",
       "  </tbody>\n",
       "</table>\n",
       "</div>"
      ],
      "text/plain": [
       "           server_time device_type  session_id  user_id  item_id  item_price  \\\n",
       "0  2018-10-15 08:58:00     android      112333     4557    32970     54685.0   \n",
       "1  2018-10-15 08:58:00     android      503590    74788     7640      1376.0   \n",
       "2  2018-10-15 08:58:00     android      573960    23628   128855      4544.0   \n",
       "3  2018-10-15 08:58:00     android      121691     2430    12774       904.0   \n",
       "4  2018-10-15 08:58:00     android      218564    19227    28296      2304.0   \n",
       "\n",
       "   category_1  category_2  category_3  product_type  \n",
       "0        16.0        56.0       253.0        3184.0  \n",
       "1         7.0        71.0       228.0         545.0  \n",
       "2         4.0        38.0        62.0        5609.0  \n",
       "3        17.0        39.0       252.0        2740.0  \n",
       "4        12.0        57.0        54.0        7422.0  "
      ]
     },
     "execution_count": 5,
     "metadata": {},
     "output_type": "execute_result"
    }
   ],
   "source": [
    "log_item_merge.head()"
   ]
  },
  {
   "cell_type": "code",
   "execution_count": 71,
   "metadata": {},
   "outputs": [],
   "source": [
    "#High no of ad's(app_code) count given to app priorities by (High, Medium, low)\n",
    "\n",
    "#app_ad_cnt=train.groupby(['app_code'])['is_click'].count()#.nlargest().reset_index()\n",
    "#app_ad_cnt=train.groupby('app_code').agg({\"is_click\": \"count\"}).reset_index(drop=False)\n",
    "#app_ad_cnt=train.groupby(['app_code'], as_index=True)[['is_click']].count()\n",
    "#app_ad_cnt= train.loc[:,['app_code','is_click']]\n",
    "#app_ad_cnt['ad_count']=train.groupby(['app_code'])['is_click'].count()\n",
    "\n",
    "app_ad_cnt=train.groupby('app_code').agg({\"is_click\": \"count\"})\n",
    "app_ad_cnt.rename(columns={\"is_click\":\"ad_count\"},inplace=True)\n",
    "app_ad_cnt['app_code']=app_ad_cnt.index"
   ]
  },
  {
   "cell_type": "code",
   "execution_count": 72,
   "metadata": {},
   "outputs": [],
   "source": [
    "app_ad_cnt.rename(columns={\"app_code\":\"app_code1\"},inplace=True)"
   ]
  },
  {
   "cell_type": "code",
   "execution_count": 76,
   "metadata": {},
   "outputs": [
    {
     "data": {
      "text/plain": [
       "(1, 33788, 484.91632653061225)"
      ]
     },
     "execution_count": 76,
     "metadata": {},
     "output_type": "execute_result"
    }
   ],
   "source": [
    "min(app_ad_cnt['ad_count']),max(app_ad_cnt['ad_count']),np.mean(app_ad_cnt['ad_count'])"
   ]
  },
  {
   "cell_type": "code",
   "execution_count": 73,
   "metadata": {},
   "outputs": [],
   "source": [
    "app_ad_cnt['ad_pri'] = np.where( (app_ad_cnt['ad_count'] > 2000), 1, 0)"
   ]
  },
  {
   "cell_type": "code",
   "execution_count": 9,
   "metadata": {},
   "outputs": [
    {
     "data": {
      "text/plain": [
       "0    464\n",
       "1     26\n",
       "Name: ad_pri, dtype: int64"
      ]
     },
     "execution_count": 9,
     "metadata": {},
     "output_type": "execute_result"
    }
   ],
   "source": [
    "app_ad_cnt['ad_pri'].value_counts()"
   ]
  },
  {
   "cell_type": "code",
   "execution_count": 10,
   "metadata": {},
   "outputs": [
    {
     "data": {
      "text/html": [
       "<div>\n",
       "<style scoped>\n",
       "    .dataframe tbody tr th:only-of-type {\n",
       "        vertical-align: middle;\n",
       "    }\n",
       "\n",
       "    .dataframe tbody tr th {\n",
       "        vertical-align: top;\n",
       "    }\n",
       "\n",
       "    .dataframe thead th {\n",
       "        text-align: right;\n",
       "    }\n",
       "</style>\n",
       "<table border=\"1\" class=\"dataframe\">\n",
       "  <thead>\n",
       "    <tr style=\"text-align: right;\">\n",
       "      <th></th>\n",
       "      <th>ad_count</th>\n",
       "      <th>app_code1</th>\n",
       "      <th>ad_pri</th>\n",
       "    </tr>\n",
       "    <tr>\n",
       "      <th>app_code</th>\n",
       "      <th></th>\n",
       "      <th></th>\n",
       "      <th></th>\n",
       "    </tr>\n",
       "  </thead>\n",
       "  <tbody>\n",
       "    <tr>\n",
       "      <th>0</th>\n",
       "      <td>73</td>\n",
       "      <td>0</td>\n",
       "      <td>0</td>\n",
       "    </tr>\n",
       "    <tr>\n",
       "      <th>1</th>\n",
       "      <td>35</td>\n",
       "      <td>1</td>\n",
       "      <td>0</td>\n",
       "    </tr>\n",
       "    <tr>\n",
       "      <th>2</th>\n",
       "      <td>134</td>\n",
       "      <td>2</td>\n",
       "      <td>0</td>\n",
       "    </tr>\n",
       "    <tr>\n",
       "      <th>3</th>\n",
       "      <td>8860</td>\n",
       "      <td>3</td>\n",
       "      <td>1</td>\n",
       "    </tr>\n",
       "    <tr>\n",
       "      <th>4</th>\n",
       "      <td>2</td>\n",
       "      <td>4</td>\n",
       "      <td>0</td>\n",
       "    </tr>\n",
       "  </tbody>\n",
       "</table>\n",
       "</div>"
      ],
      "text/plain": [
       "          ad_count  app_code1  ad_pri\n",
       "app_code                             \n",
       "0               73          0       0\n",
       "1               35          1       0\n",
       "2              134          2       0\n",
       "3             8860          3       1\n",
       "4                2          4       0"
      ]
     },
     "execution_count": 10,
     "metadata": {},
     "output_type": "execute_result"
    }
   ],
   "source": [
    "app_ad_cnt.head()"
   ]
  },
  {
   "cell_type": "code",
   "execution_count": 74,
   "metadata": {},
   "outputs": [],
   "source": [
    "app_ad_cli=train.groupby('app_code').agg({\"is_click\": \"sum\"})\n",
    "app_ad_cli.rename(columns={\"is_click\":\"click_sum\"},inplace=True)\n",
    "app_ad_cli['app_code']=app_ad_cli.index"
   ]
  },
  {
   "cell_type": "code",
   "execution_count": 75,
   "metadata": {},
   "outputs": [],
   "source": [
    "app_ad_cli.rename(columns={\"app_code\":\"app_code2\"},inplace=True)"
   ]
  },
  {
   "cell_type": "code",
   "execution_count": 76,
   "metadata": {},
   "outputs": [],
   "source": [
    "app_ad_cli['ad_click'] = np.where( (app_ad_cli['click_sum'] > 100), 1, 0)"
   ]
  },
  {
   "cell_type": "code",
   "execution_count": 15,
   "metadata": {},
   "outputs": [
    {
     "data": {
      "text/html": [
       "<div>\n",
       "<style scoped>\n",
       "    .dataframe tbody tr th:only-of-type {\n",
       "        vertical-align: middle;\n",
       "    }\n",
       "\n",
       "    .dataframe tbody tr th {\n",
       "        vertical-align: top;\n",
       "    }\n",
       "\n",
       "    .dataframe thead th {\n",
       "        text-align: right;\n",
       "    }\n",
       "</style>\n",
       "<table border=\"1\" class=\"dataframe\">\n",
       "  <thead>\n",
       "    <tr style=\"text-align: right;\">\n",
       "      <th></th>\n",
       "      <th>click_sum</th>\n",
       "      <th>app_code2</th>\n",
       "      <th>ad_click</th>\n",
       "    </tr>\n",
       "    <tr>\n",
       "      <th>app_code</th>\n",
       "      <th></th>\n",
       "      <th></th>\n",
       "      <th></th>\n",
       "    </tr>\n",
       "  </thead>\n",
       "  <tbody>\n",
       "    <tr>\n",
       "      <th>0</th>\n",
       "      <td>6</td>\n",
       "      <td>0</td>\n",
       "      <td>0</td>\n",
       "    </tr>\n",
       "    <tr>\n",
       "      <th>1</th>\n",
       "      <td>3</td>\n",
       "      <td>1</td>\n",
       "      <td>0</td>\n",
       "    </tr>\n",
       "    <tr>\n",
       "      <th>2</th>\n",
       "      <td>9</td>\n",
       "      <td>2</td>\n",
       "      <td>0</td>\n",
       "    </tr>\n",
       "    <tr>\n",
       "      <th>3</th>\n",
       "      <td>305</td>\n",
       "      <td>3</td>\n",
       "      <td>1</td>\n",
       "    </tr>\n",
       "    <tr>\n",
       "      <th>4</th>\n",
       "      <td>0</td>\n",
       "      <td>4</td>\n",
       "      <td>0</td>\n",
       "    </tr>\n",
       "  </tbody>\n",
       "</table>\n",
       "</div>"
      ],
      "text/plain": [
       "          click_sum  app_code2  ad_click\n",
       "app_code                                \n",
       "0                 6          0         0\n",
       "1                 3          1         0\n",
       "2                 9          2         0\n",
       "3               305          3         1\n",
       "4                 0          4         0"
      ]
     },
     "execution_count": 15,
     "metadata": {},
     "output_type": "execute_result"
    }
   ],
   "source": [
    "app_ad_cli.head()"
   ]
  },
  {
   "cell_type": "code",
   "execution_count": 104,
   "metadata": {},
   "outputs": [
    {
     "data": {
      "text/html": [
       "<div>\n",
       "<style scoped>\n",
       "    .dataframe tbody tr th:only-of-type {\n",
       "        vertical-align: middle;\n",
       "    }\n",
       "\n",
       "    .dataframe tbody tr th {\n",
       "        vertical-align: top;\n",
       "    }\n",
       "\n",
       "    .dataframe thead th {\n",
       "        text-align: right;\n",
       "    }\n",
       "</style>\n",
       "<table border=\"1\" class=\"dataframe\">\n",
       "  <thead>\n",
       "    <tr style=\"text-align: right;\">\n",
       "      <th></th>\n",
       "      <th>app_code</th>\n",
       "      <th>is_click</th>\n",
       "    </tr>\n",
       "  </thead>\n",
       "  <tbody>\n",
       "    <tr>\n",
       "      <th>0</th>\n",
       "      <td>207</td>\n",
       "      <td>33788</td>\n",
       "    </tr>\n",
       "    <tr>\n",
       "      <th>1</th>\n",
       "      <td>386</td>\n",
       "      <td>30706</td>\n",
       "    </tr>\n",
       "    <tr>\n",
       "      <th>2</th>\n",
       "      <td>190</td>\n",
       "      <td>17441</td>\n",
       "    </tr>\n",
       "    <tr>\n",
       "      <th>3</th>\n",
       "      <td>127</td>\n",
       "      <td>10851</td>\n",
       "    </tr>\n",
       "    <tr>\n",
       "      <th>4</th>\n",
       "      <td>371</td>\n",
       "      <td>9343</td>\n",
       "    </tr>\n",
       "  </tbody>\n",
       "</table>\n",
       "</div>"
      ],
      "text/plain": [
       "   app_code  is_click\n",
       "0       207     33788\n",
       "1       386     30706\n",
       "2       190     17441\n",
       "3       127     10851\n",
       "4       371      9343"
      ]
     },
     "execution_count": 104,
     "metadata": {},
     "output_type": "execute_result"
    }
   ],
   "source": [
    "train.groupby(['app_code'])['is_click'].count().nlargest(5).reset_index()"
   ]
  },
  {
   "cell_type": "code",
   "execution_count": 93,
   "metadata": {},
   "outputs": [],
   "source": [
    "train1=train"
   ]
  },
  {
   "cell_type": "code",
   "execution_count": 94,
   "metadata": {},
   "outputs": [],
   "source": [
    "train1=test"
   ]
  },
  {
   "cell_type": "code",
   "execution_count": null,
   "metadata": {},
   "outputs": [],
   "source": []
  },
  {
   "cell_type": "code",
   "execution_count": 79,
   "metadata": {},
   "outputs": [],
   "source": [
    "train =pd.merge(train1,app_ad_cnt,left_on=\"app_code\", right_on=\"app_code1\",how ='left' )\n"
   ]
  },
  {
   "cell_type": "code",
   "execution_count": 80,
   "metadata": {},
   "outputs": [],
   "source": [
    "train =pd.merge(train,app_ad_cli,left_on=\"app_code\", right_on=\"app_code2\",how ='left' )\n"
   ]
  },
  {
   "cell_type": "code",
   "execution_count": 81,
   "metadata": {},
   "outputs": [],
   "source": [
    "train = train.drop(['app_code1','app_code2'], axis=1)"
   ]
  },
  {
   "cell_type": "code",
   "execution_count": 352,
   "metadata": {},
   "outputs": [
    {
     "data": {
      "text/html": [
       "<div>\n",
       "<style scoped>\n",
       "    .dataframe tbody tr th:only-of-type {\n",
       "        vertical-align: middle;\n",
       "    }\n",
       "\n",
       "    .dataframe tbody tr th {\n",
       "        vertical-align: top;\n",
       "    }\n",
       "\n",
       "    .dataframe thead th {\n",
       "        text-align: right;\n",
       "    }\n",
       "</style>\n",
       "<table border=\"1\" class=\"dataframe\">\n",
       "  <thead>\n",
       "    <tr style=\"text-align: right;\">\n",
       "      <th></th>\n",
       "      <th>impression_id</th>\n",
       "      <th>user_id</th>\n",
       "      <th>app_code</th>\n",
       "      <th>os_version</th>\n",
       "      <th>is_4G</th>\n",
       "      <th>ad_pri</th>\n",
       "      <th>ad_click</th>\n",
       "      <th>impression_time_Timestamp</th>\n",
       "      <th>Month</th>\n",
       "      <th>Day</th>\n",
       "      <th>Hour</th>\n",
       "      <th>Weekday</th>\n",
       "      <th>is_click</th>\n",
       "      <th>intermediate</th>\n",
       "      <th>latest</th>\n",
       "      <th>old</th>\n",
       "    </tr>\n",
       "  </thead>\n",
       "  <tbody>\n",
       "    <tr>\n",
       "      <th>0</th>\n",
       "      <td>a9e7126a585a69a32bc7414e9d0c0ada</td>\n",
       "      <td>44754</td>\n",
       "      <td>127</td>\n",
       "      <td>latest</td>\n",
       "      <td>1</td>\n",
       "      <td>1</td>\n",
       "      <td>1</td>\n",
       "      <td>2018-12-13 07:44:00</td>\n",
       "      <td>12</td>\n",
       "      <td>13</td>\n",
       "      <td>7</td>\n",
       "      <td>3</td>\n",
       "      <td>0</td>\n",
       "      <td>0</td>\n",
       "      <td>1</td>\n",
       "      <td>0</td>\n",
       "    </tr>\n",
       "    <tr>\n",
       "      <th>1</th>\n",
       "      <td>caac14a5bf2ba283db7708bb34855760</td>\n",
       "      <td>29656</td>\n",
       "      <td>44</td>\n",
       "      <td>latest</td>\n",
       "      <td>0</td>\n",
       "      <td>1</td>\n",
       "      <td>0</td>\n",
       "      <td>2018-12-13 07:45:00</td>\n",
       "      <td>12</td>\n",
       "      <td>13</td>\n",
       "      <td>7</td>\n",
       "      <td>3</td>\n",
       "      <td>0</td>\n",
       "      <td>0</td>\n",
       "      <td>1</td>\n",
       "      <td>0</td>\n",
       "    </tr>\n",
       "    <tr>\n",
       "      <th>2</th>\n",
       "      <td>13f10ba306a19ce7bec2f3cae507b698</td>\n",
       "      <td>25234</td>\n",
       "      <td>296</td>\n",
       "      <td>latest</td>\n",
       "      <td>1</td>\n",
       "      <td>1</td>\n",
       "      <td>1</td>\n",
       "      <td>2018-12-13 07:46:00</td>\n",
       "      <td>12</td>\n",
       "      <td>13</td>\n",
       "      <td>7</td>\n",
       "      <td>3</td>\n",
       "      <td>0</td>\n",
       "      <td>0</td>\n",
       "      <td>1</td>\n",
       "      <td>0</td>\n",
       "    </tr>\n",
       "    <tr>\n",
       "      <th>3</th>\n",
       "      <td>39c4b4dc0e9701b55a0a4f072008fb3f</td>\n",
       "      <td>22988</td>\n",
       "      <td>207</td>\n",
       "      <td>latest</td>\n",
       "      <td>1</td>\n",
       "      <td>1</td>\n",
       "      <td>1</td>\n",
       "      <td>2018-12-13 07:47:00</td>\n",
       "      <td>12</td>\n",
       "      <td>13</td>\n",
       "      <td>7</td>\n",
       "      <td>3</td>\n",
       "      <td>0</td>\n",
       "      <td>0</td>\n",
       "      <td>1</td>\n",
       "      <td>0</td>\n",
       "    </tr>\n",
       "    <tr>\n",
       "      <th>4</th>\n",
       "      <td>bf5a572cca75f5fc67f4b14e58b11d70</td>\n",
       "      <td>35431</td>\n",
       "      <td>242</td>\n",
       "      <td>latest</td>\n",
       "      <td>1</td>\n",
       "      <td>1</td>\n",
       "      <td>1</td>\n",
       "      <td>2018-12-13 07:48:00</td>\n",
       "      <td>12</td>\n",
       "      <td>13</td>\n",
       "      <td>7</td>\n",
       "      <td>3</td>\n",
       "      <td>0</td>\n",
       "      <td>0</td>\n",
       "      <td>1</td>\n",
       "      <td>0</td>\n",
       "    </tr>\n",
       "  </tbody>\n",
       "</table>\n",
       "</div>"
      ],
      "text/plain": [
       "                      impression_id  user_id  app_code os_version  is_4G  \\\n",
       "0  a9e7126a585a69a32bc7414e9d0c0ada    44754       127     latest      1   \n",
       "1  caac14a5bf2ba283db7708bb34855760    29656        44     latest      0   \n",
       "2  13f10ba306a19ce7bec2f3cae507b698    25234       296     latest      1   \n",
       "3  39c4b4dc0e9701b55a0a4f072008fb3f    22988       207     latest      1   \n",
       "4  bf5a572cca75f5fc67f4b14e58b11d70    35431       242     latest      1   \n",
       "\n",
       "   ad_pri  ad_click impression_time_Timestamp  Month  Day  Hour  Weekday  \\\n",
       "0       1         1       2018-12-13 07:44:00     12   13     7        3   \n",
       "1       1         0       2018-12-13 07:45:00     12   13     7        3   \n",
       "2       1         1       2018-12-13 07:46:00     12   13     7        3   \n",
       "3       1         1       2018-12-13 07:47:00     12   13     7        3   \n",
       "4       1         1       2018-12-13 07:48:00     12   13     7        3   \n",
       "\n",
       "   is_click  intermediate  latest  old  \n",
       "0         0             0       1    0  \n",
       "1         0             0       1    0  \n",
       "2         0             0       1    0  \n",
       "3         0             0       1    0  \n",
       "4         0             0       1    0  "
      ]
     },
     "execution_count": 352,
     "metadata": {},
     "output_type": "execute_result"
    }
   ],
   "source": [
    "test.head()"
   ]
  },
  {
   "cell_type": "code",
   "execution_count": 161,
   "metadata": {},
   "outputs": [],
   "source": [
    "test =pd.merge(test,app_ad_cnt,left_on=\"app_code\", right_on=\"app_code1\",how ='left' )\n"
   ]
  },
  {
   "cell_type": "code",
   "execution_count": 162,
   "metadata": {},
   "outputs": [],
   "source": [
    "test =pd.merge(test,app_ad_cli,left_on=\"app_code\", right_on=\"app_code2\",how ='left' )"
   ]
  },
  {
   "cell_type": "code",
   "execution_count": 163,
   "metadata": {},
   "outputs": [],
   "source": [
    "test = test.drop(['app_code1','app_code2'], axis=1)"
   ]
  },
  {
   "cell_type": "code",
   "execution_count": 164,
   "metadata": {},
   "outputs": [
    {
     "data": {
      "text/plain": [
       "((90675, 10),)"
      ]
     },
     "execution_count": 164,
     "metadata": {},
     "output_type": "execute_result"
    }
   ],
   "source": [
    "test.shape,"
   ]
  },
  {
   "cell_type": "code",
   "execution_count": 135,
   "metadata": {},
   "outputs": [
    {
     "name": "stdout",
     "output_type": "stream",
     "text": [
      "is_click       0     1\n",
      "ad_pri                \n",
      "0          41400  2660\n",
      "1         185347  8202\n"
     ]
    }
   ],
   "source": [
    "print(pd.crosstab(train['ad_pri'],train['is_click']))"
   ]
  },
  {
   "cell_type": "code",
   "execution_count": 136,
   "metadata": {},
   "outputs": [
    {
     "name": "stdout",
     "output_type": "stream",
     "text": [
      "is_click       0     1\n",
      "ad_click              \n",
      "0          49602  2580\n",
      "1         177145  8282\n"
     ]
    }
   ],
   "source": [
    "print(pd.crosstab(train['ad_click'],train['is_click']))"
   ]
  },
  {
   "cell_type": "code",
   "execution_count": 67,
   "metadata": {},
   "outputs": [
    {
     "data": {
      "text/plain": [
       "android    3117737\n",
       "iphone         861\n",
       "web             24\n",
       "Name: device_type, dtype: int64"
      ]
     },
     "execution_count": 67,
     "metadata": {},
     "output_type": "execute_result"
    }
   ],
   "source": [
    "view_log['device_type'].value_counts()"
   ]
  },
  {
   "cell_type": "code",
   "execution_count": 68,
   "metadata": {},
   "outputs": [
    {
     "data": {
      "text/plain": [
       "latest          129216\n",
       "intermediate     55543\n",
       "old              52850\n",
       "Name: os_version, dtype: int64"
      ]
     },
     "execution_count": 68,
     "metadata": {},
     "output_type": "execute_result"
    }
   ],
   "source": [
    "train['os_version'].value_counts()"
   ]
  },
  {
   "cell_type": "code",
   "execution_count": 110,
   "metadata": {},
   "outputs": [
    {
     "data": {
      "text/plain": [
       "0    226747\n",
       "1     10862\n",
       "Name: is_click, dtype: int64"
      ]
     },
     "execution_count": 110,
     "metadata": {},
     "output_type": "execute_result"
    }
   ],
   "source": [
    "train['is_click'].value_counts()"
   ]
  },
  {
   "cell_type": "code",
   "execution_count": 70,
   "metadata": {},
   "outputs": [
    {
     "name": "stdout",
     "output_type": "stream",
     "text": [
      "is_click       0     1\n",
      "is_4G                 \n",
      "0         144738  7020\n",
      "1          82009  3842\n"
     ]
    }
   ],
   "source": [
    "print(pd.crosstab(train['is_4G'],train['is_click']))"
   ]
  },
  {
   "cell_type": "code",
   "execution_count": 125,
   "metadata": {},
   "outputs": [],
   "source": [
    "userclick1=train.groupby('user_id')['is_click'].sum()#>'0'"
   ]
  },
  {
   "cell_type": "code",
   "execution_count": 161,
   "metadata": {},
   "outputs": [
    {
     "data": {
      "text/plain": [
       "user_id\n",
       "784      15\n",
       "54611    15\n",
       "84559    15\n",
       "8121     14\n",
       "79033    13\n",
       "Name: is_click, dtype: int64"
      ]
     },
     "execution_count": 161,
     "metadata": {},
     "output_type": "execute_result"
    }
   ],
   "source": [
    "train.groupby('user_id')['is_click'].sum().nlargest(5)"
   ]
  },
  {
   "cell_type": "code",
   "execution_count": 172,
   "metadata": {},
   "outputs": [
    {
     "data": {
      "text/plain": [
       "user_id\n",
       "71457    73\n",
       "29947    70\n",
       "59007    70\n",
       "52082    67\n",
       "68540    64\n",
       "Name: is_click, dtype: int64"
      ]
     },
     "execution_count": 172,
     "metadata": {},
     "output_type": "execute_result"
    }
   ],
   "source": [
    "train.groupby('user_id')['is_click'].count().nlargest(5)"
   ]
  },
  {
   "cell_type": "code",
   "execution_count": 56,
   "metadata": {},
   "outputs": [],
   "source": [
    "userclick1=train.groupby('user_id').agg({\"is_click\": \"count\"})"
   ]
  },
  {
   "cell_type": "code",
   "execution_count": 57,
   "metadata": {},
   "outputs": [],
   "source": [
    "userclick1.rename(columns={\"is_click\":\"is_click_count\"},inplace=True)"
   ]
  },
  {
   "cell_type": "code",
   "execution_count": 63,
   "metadata": {},
   "outputs": [],
   "source": [
    "userclick1['user_id']=userclick1.index"
   ]
  },
  {
   "cell_type": "code",
   "execution_count": 64,
   "metadata": {},
   "outputs": [
    {
     "data": {
      "text/html": [
       "<div>\n",
       "<style scoped>\n",
       "    .dataframe tbody tr th:only-of-type {\n",
       "        vertical-align: middle;\n",
       "    }\n",
       "\n",
       "    .dataframe tbody tr th {\n",
       "        vertical-align: top;\n",
       "    }\n",
       "\n",
       "    .dataframe thead th {\n",
       "        text-align: right;\n",
       "    }\n",
       "</style>\n",
       "<table border=\"1\" class=\"dataframe\">\n",
       "  <thead>\n",
       "    <tr style=\"text-align: right;\">\n",
       "      <th></th>\n",
       "      <th>is_click_count</th>\n",
       "      <th>user_id</th>\n",
       "    </tr>\n",
       "    <tr>\n",
       "      <th>user_id</th>\n",
       "      <th></th>\n",
       "      <th></th>\n",
       "    </tr>\n",
       "  </thead>\n",
       "  <tbody>\n",
       "    <tr>\n",
       "      <th>71457</th>\n",
       "      <td>73</td>\n",
       "      <td>71457</td>\n",
       "    </tr>\n",
       "  </tbody>\n",
       "</table>\n",
       "</div>"
      ],
      "text/plain": [
       "         is_click_count  user_id\n",
       "user_id                         \n",
       "71457                73    71457"
      ]
     },
     "execution_count": 64,
     "metadata": {},
     "output_type": "execute_result"
    }
   ],
   "source": [
    "userclick1[userclick1['is_click_count']==73]"
   ]
  },
  {
   "cell_type": "code",
   "execution_count": 193,
   "metadata": {},
   "outputs": [],
   "source": [
    "userclick2.rename(columns={\"is_click\":\"is_click_sum\"},inplace=True)"
   ]
  },
  {
   "cell_type": "code",
   "execution_count": 194,
   "metadata": {},
   "outputs": [
    {
     "data": {
      "text/html": [
       "<div>\n",
       "<style scoped>\n",
       "    .dataframe tbody tr th:only-of-type {\n",
       "        vertical-align: middle;\n",
       "    }\n",
       "\n",
       "    .dataframe tbody tr th {\n",
       "        vertical-align: top;\n",
       "    }\n",
       "\n",
       "    .dataframe thead th {\n",
       "        text-align: right;\n",
       "    }\n",
       "</style>\n",
       "<table border=\"1\" class=\"dataframe\">\n",
       "  <thead>\n",
       "    <tr style=\"text-align: right;\">\n",
       "      <th></th>\n",
       "      <th>is_click_sum</th>\n",
       "    </tr>\n",
       "    <tr>\n",
       "      <th>user_id</th>\n",
       "      <th></th>\n",
       "    </tr>\n",
       "  </thead>\n",
       "  <tbody>\n",
       "    <tr>\n",
       "      <th>784</th>\n",
       "      <td>15</td>\n",
       "    </tr>\n",
       "    <tr>\n",
       "      <th>3364</th>\n",
       "      <td>10</td>\n",
       "    </tr>\n",
       "    <tr>\n",
       "      <th>8121</th>\n",
       "      <td>14</td>\n",
       "    </tr>\n",
       "    <tr>\n",
       "      <th>35126</th>\n",
       "      <td>11</td>\n",
       "    </tr>\n",
       "    <tr>\n",
       "      <th>37747</th>\n",
       "      <td>10</td>\n",
       "    </tr>\n",
       "    <tr>\n",
       "      <th>52485</th>\n",
       "      <td>11</td>\n",
       "    </tr>\n",
       "    <tr>\n",
       "      <th>52737</th>\n",
       "      <td>10</td>\n",
       "    </tr>\n",
       "    <tr>\n",
       "      <th>54611</th>\n",
       "      <td>15</td>\n",
       "    </tr>\n",
       "    <tr>\n",
       "      <th>55183</th>\n",
       "      <td>12</td>\n",
       "    </tr>\n",
       "    <tr>\n",
       "      <th>58641</th>\n",
       "      <td>11</td>\n",
       "    </tr>\n",
       "    <tr>\n",
       "      <th>64389</th>\n",
       "      <td>10</td>\n",
       "    </tr>\n",
       "    <tr>\n",
       "      <th>69062</th>\n",
       "      <td>11</td>\n",
       "    </tr>\n",
       "    <tr>\n",
       "      <th>79033</th>\n",
       "      <td>13</td>\n",
       "    </tr>\n",
       "    <tr>\n",
       "      <th>84064</th>\n",
       "      <td>11</td>\n",
       "    </tr>\n",
       "    <tr>\n",
       "      <th>84559</th>\n",
       "      <td>15</td>\n",
       "    </tr>\n",
       "    <tr>\n",
       "      <th>84717</th>\n",
       "      <td>11</td>\n",
       "    </tr>\n",
       "    <tr>\n",
       "      <th>87805</th>\n",
       "      <td>12</td>\n",
       "    </tr>\n",
       "    <tr>\n",
       "      <th>90953</th>\n",
       "      <td>10</td>\n",
       "    </tr>\n",
       "    <tr>\n",
       "      <th>91986</th>\n",
       "      <td>12</td>\n",
       "    </tr>\n",
       "  </tbody>\n",
       "</table>\n",
       "</div>"
      ],
      "text/plain": [
       "         is_click_sum\n",
       "user_id              \n",
       "784                15\n",
       "3364               10\n",
       "8121               14\n",
       "35126              11\n",
       "37747              10\n",
       "52485              11\n",
       "52737              10\n",
       "54611              15\n",
       "55183              12\n",
       "58641              11\n",
       "64389              10\n",
       "69062              11\n",
       "79033              13\n",
       "84064              11\n",
       "84559              15\n",
       "84717              11\n",
       "87805              12\n",
       "90953              10\n",
       "91986              12"
      ]
     },
     "execution_count": 194,
     "metadata": {},
     "output_type": "execute_result"
    }
   ],
   "source": [
    "userclick2[userclick2['is_click_sum']>=10]"
   ]
  },
  {
   "cell_type": "code",
   "execution_count": 192,
   "metadata": {},
   "outputs": [
    {
     "data": {
      "text/html": [
       "<div>\n",
       "<style scoped>\n",
       "    .dataframe tbody tr th:only-of-type {\n",
       "        vertical-align: middle;\n",
       "    }\n",
       "\n",
       "    .dataframe tbody tr th {\n",
       "        vertical-align: top;\n",
       "    }\n",
       "\n",
       "    .dataframe thead th {\n",
       "        text-align: right;\n",
       "    }\n",
       "</style>\n",
       "<table border=\"1\" class=\"dataframe\">\n",
       "  <thead>\n",
       "    <tr style=\"text-align: right;\">\n",
       "      <th></th>\n",
       "      <th>is_click_count</th>\n",
       "    </tr>\n",
       "    <tr>\n",
       "      <th>user_id</th>\n",
       "      <th></th>\n",
       "    </tr>\n",
       "  </thead>\n",
       "  <tbody>\n",
       "    <tr>\n",
       "      <th>29947</th>\n",
       "      <td>70</td>\n",
       "    </tr>\n",
       "    <tr>\n",
       "      <th>59007</th>\n",
       "      <td>70</td>\n",
       "    </tr>\n",
       "    <tr>\n",
       "      <th>71457</th>\n",
       "      <td>73</td>\n",
       "    </tr>\n",
       "  </tbody>\n",
       "</table>\n",
       "</div>"
      ],
      "text/plain": [
       "         is_click_count\n",
       "user_id                \n",
       "29947                70\n",
       "59007                70\n",
       "71457                73"
      ]
     },
     "execution_count": 192,
     "metadata": {},
     "output_type": "execute_result"
    }
   ],
   "source": [
    "userclick1[userclick1['is_click_count']>=70]"
   ]
  },
  {
   "cell_type": "code",
   "execution_count": 189,
   "metadata": {},
   "outputs": [
    {
     "data": {
      "text/plain": [
       "impression_id                9\n",
       "user_id                      9\n",
       "app_code                     9\n",
       "os_version                   9\n",
       "is_4G                        9\n",
       "is_click                     9\n",
       "impression_time_Timestamp    9\n",
       "Month                        9\n",
       "Day                          9\n",
       "Hour                         9\n",
       "Weekday                      9\n",
       "dtype: int64"
      ]
     },
     "execution_count": 189,
     "metadata": {},
     "output_type": "execute_result"
    }
   ],
   "source": [
    "train.query('user_id==68540 and is_click ==1').count()"
   ]
  },
  {
   "cell_type": "code",
   "execution_count": 72,
   "metadata": {},
   "outputs": [
    {
     "name": "stdout",
     "output_type": "stream",
     "text": [
      "is_click     0    1\n",
      "app_code           \n",
      "0           67    6\n",
      "1           32    3\n",
      "2          125    9\n",
      "3         8555  305\n",
      "4            2    0\n",
      "5         5006  396\n",
      "6            1    0\n",
      "7          726   45\n",
      "8           27    5\n",
      "9          675   46\n",
      "12           2    0\n",
      "13           1    0\n",
      "14          80   17\n",
      "15           2    0\n",
      "16         103   13\n",
      "17          59    2\n",
      "19          22    2\n",
      "20          26    2\n",
      "21           1    0\n",
      "22          10    2\n",
      "23           6    0\n",
      "24          28    0\n",
      "25           8    0\n",
      "26           1    0\n",
      "27          17    1\n",
      "28           1    1\n",
      "29          44    8\n",
      "30           5    0\n",
      "31         106    3\n",
      "32        5718  266\n",
      "...        ...  ...\n",
      "489         68    2\n",
      "491        421   16\n",
      "492         79    6\n",
      "493         17    5\n",
      "495        167    6\n",
      "496         90    1\n",
      "497          1    0\n",
      "498         19    0\n",
      "499         62    3\n",
      "500         20    1\n",
      "502          1    0\n",
      "503         73    5\n",
      "504        279   47\n",
      "505        145    4\n",
      "506          9    0\n",
      "507        399   14\n",
      "508       1686  132\n",
      "509        865   27\n",
      "510          3    0\n",
      "512        301   23\n",
      "513         45    3\n",
      "514         83    4\n",
      "515         10    0\n",
      "516          1    0\n",
      "517          3    1\n",
      "518          5    0\n",
      "519         38    1\n",
      "520          2    1\n",
      "521         26    2\n",
      "522        120    6\n",
      "\n",
      "[490 rows x 2 columns]\n"
     ]
    },
    {
     "ename": "AttributeError",
     "evalue": "'NoneType' object has no attribute 'size'",
     "output_type": "error",
     "traceback": [
      "\u001b[1;31m---------------------------------------------------------------------------\u001b[0m",
      "\u001b[1;31mAttributeError\u001b[0m                            Traceback (most recent call last)",
      "\u001b[1;32m<ipython-input-72-0ad9a4f8b5c7>\u001b[0m in \u001b[0;36m<module>\u001b[1;34m()\u001b[0m\n\u001b[1;32m----> 1\u001b[1;33m \u001b[0mprint\u001b[0m\u001b[1;33m(\u001b[0m\u001b[0mpd\u001b[0m\u001b[1;33m.\u001b[0m\u001b[0mcrosstab\u001b[0m\u001b[1;33m(\u001b[0m\u001b[0mtrain\u001b[0m\u001b[1;33m[\u001b[0m\u001b[1;34m'app_code'\u001b[0m\u001b[1;33m]\u001b[0m\u001b[1;33m,\u001b[0m\u001b[0mtrain\u001b[0m\u001b[1;33m[\u001b[0m\u001b[1;34m'is_click'\u001b[0m\u001b[1;33m]\u001b[0m\u001b[1;33m)\u001b[0m\u001b[1;33m)\u001b[0m\u001b[1;33m.\u001b[0m\u001b[0msize\u001b[0m\u001b[1;33m(\u001b[0m\u001b[1;33m)\u001b[0m\u001b[1;33m.\u001b[0m\u001b[0mnlargest\u001b[0m\u001b[1;33m(\u001b[0m\u001b[1;36m5\u001b[0m\u001b[1;33m)\u001b[0m\u001b[1;33m\u001b[0m\u001b[0m\n\u001b[0m",
      "\u001b[1;31mAttributeError\u001b[0m: 'NoneType' object has no attribute 'size'"
     ]
    }
   ],
   "source": [
    "print(pd.crosstab(train['app_code'],train['is_click'])).size().nlargest(5)"
   ]
  },
  {
   "cell_type": "code",
   "execution_count": 73,
   "metadata": {},
   "outputs": [
    {
     "name": "stdout",
     "output_type": "stream",
     "text": [
      "is_click           0     1\n",
      "os_version                \n",
      "intermediate   52668  2875\n",
      "latest        123834  5382\n",
      "old            50245  2605\n"
     ]
    }
   ],
   "source": [
    "print(pd.crosstab(train['os_version'],train['is_click']))\n"
   ]
  },
  {
   "cell_type": "code",
   "execution_count": 26,
   "metadata": {
    "scrolled": true
   },
   "outputs": [
    {
     "data": {
      "text/html": [
       "<div>\n",
       "<style scoped>\n",
       "    .dataframe tbody tr th:only-of-type {\n",
       "        vertical-align: middle;\n",
       "    }\n",
       "\n",
       "    .dataframe tbody tr th {\n",
       "        vertical-align: top;\n",
       "    }\n",
       "\n",
       "    .dataframe thead th {\n",
       "        text-align: right;\n",
       "    }\n",
       "</style>\n",
       "<table border=\"1\" class=\"dataframe\">\n",
       "  <thead>\n",
       "    <tr style=\"text-align: right;\">\n",
       "      <th></th>\n",
       "      <th>server_time</th>\n",
       "      <th>device_type</th>\n",
       "      <th>session_id</th>\n",
       "      <th>user_id</th>\n",
       "      <th>item_id</th>\n",
       "    </tr>\n",
       "  </thead>\n",
       "  <tbody>\n",
       "    <tr>\n",
       "      <th>221309</th>\n",
       "      <td>2018-10-19 18:11:00</td>\n",
       "      <td>android</td>\n",
       "      <td>190710</td>\n",
       "      <td>87862</td>\n",
       "      <td>43886</td>\n",
       "    </tr>\n",
       "  </tbody>\n",
       "</table>\n",
       "</div>"
      ],
      "text/plain": [
       "                server_time device_type  session_id  user_id  item_id\n",
       "221309  2018-10-19 18:11:00     android      190710    87862    43886"
      ]
     },
     "execution_count": 26,
     "metadata": {},
     "output_type": "execute_result"
    }
   ],
   "source": [
    "#Analysing user base train recored\n",
    "view_log.query('user_id==87862')"
   ]
  },
  {
   "cell_type": "code",
   "execution_count": 27,
   "metadata": {
    "scrolled": true
   },
   "outputs": [
    {
     "data": {
      "text/html": [
       "<div>\n",
       "<style scoped>\n",
       "    .dataframe tbody tr th:only-of-type {\n",
       "        vertical-align: middle;\n",
       "    }\n",
       "\n",
       "    .dataframe tbody tr th {\n",
       "        vertical-align: top;\n",
       "    }\n",
       "\n",
       "    .dataframe thead th {\n",
       "        text-align: right;\n",
       "    }\n",
       "</style>\n",
       "<table border=\"1\" class=\"dataframe\">\n",
       "  <thead>\n",
       "    <tr style=\"text-align: right;\">\n",
       "      <th></th>\n",
       "      <th>item_id</th>\n",
       "      <th>item_price</th>\n",
       "      <th>category_1</th>\n",
       "      <th>category_2</th>\n",
       "      <th>category_3</th>\n",
       "      <th>product_type</th>\n",
       "    </tr>\n",
       "  </thead>\n",
       "  <tbody>\n",
       "    <tr>\n",
       "      <th>115593</th>\n",
       "      <td>43886</td>\n",
       "      <td>2350</td>\n",
       "      <td>11</td>\n",
       "      <td>35</td>\n",
       "      <td>20</td>\n",
       "      <td>5622</td>\n",
       "    </tr>\n",
       "  </tbody>\n",
       "</table>\n",
       "</div>"
      ],
      "text/plain": [
       "        item_id  item_price  category_1  category_2  category_3  product_type\n",
       "115593    43886        2350          11          35          20          5622"
      ]
     },
     "execution_count": 27,
     "metadata": {},
     "output_type": "execute_result"
    }
   ],
   "source": [
    "item_data.query('item_id==43886')"
   ]
  },
  {
   "cell_type": "code",
   "execution_count": 28,
   "metadata": {},
   "outputs": [
    {
     "data": {
      "text/html": [
       "<div>\n",
       "<style scoped>\n",
       "    .dataframe tbody tr th:only-of-type {\n",
       "        vertical-align: middle;\n",
       "    }\n",
       "\n",
       "    .dataframe tbody tr th {\n",
       "        vertical-align: top;\n",
       "    }\n",
       "\n",
       "    .dataframe thead th {\n",
       "        text-align: right;\n",
       "    }\n",
       "</style>\n",
       "<table border=\"1\" class=\"dataframe\">\n",
       "  <thead>\n",
       "    <tr style=\"text-align: right;\">\n",
       "      <th></th>\n",
       "      <th>impression_id</th>\n",
       "      <th>impression_time</th>\n",
       "      <th>user_id</th>\n",
       "      <th>app_code</th>\n",
       "      <th>os_version</th>\n",
       "      <th>is_4G</th>\n",
       "      <th>is_click</th>\n",
       "    </tr>\n",
       "  </thead>\n",
       "  <tbody>\n",
       "    <tr>\n",
       "      <th>0</th>\n",
       "      <td>c4ca4238a0b923820dcc509a6f75849b</td>\n",
       "      <td>2018-11-15 00:00:00</td>\n",
       "      <td>87862</td>\n",
       "      <td>422</td>\n",
       "      <td>old</td>\n",
       "      <td>0</td>\n",
       "      <td>0</td>\n",
       "    </tr>\n",
       "    <tr>\n",
       "      <th>616</th>\n",
       "      <td>621bf66ddb7c962aa0d22ac97d69b793</td>\n",
       "      <td>2018-11-15 00:19:00</td>\n",
       "      <td>87862</td>\n",
       "      <td>422</td>\n",
       "      <td>old</td>\n",
       "      <td>0</td>\n",
       "      <td>0</td>\n",
       "    </tr>\n",
       "    <tr>\n",
       "      <th>5936</th>\n",
       "      <td>ab394288aed46588bdc90bf4b541ec0d</td>\n",
       "      <td>2018-11-16 17:29:00</td>\n",
       "      <td>87862</td>\n",
       "      <td>422</td>\n",
       "      <td>old</td>\n",
       "      <td>0</td>\n",
       "      <td>0</td>\n",
       "    </tr>\n",
       "  </tbody>\n",
       "</table>\n",
       "</div>"
      ],
      "text/plain": [
       "                         impression_id      impression_time  user_id  \\\n",
       "0     c4ca4238a0b923820dcc509a6f75849b  2018-11-15 00:00:00    87862   \n",
       "616   621bf66ddb7c962aa0d22ac97d69b793  2018-11-15 00:19:00    87862   \n",
       "5936  ab394288aed46588bdc90bf4b541ec0d  2018-11-16 17:29:00    87862   \n",
       "\n",
       "      app_code os_version  is_4G  is_click  \n",
       "0          422        old      0         0  \n",
       "616        422        old      0         0  \n",
       "5936       422        old      0         0  "
      ]
     },
     "execution_count": 28,
     "metadata": {},
     "output_type": "execute_result"
    }
   ],
   "source": [
    "train.query('user_id ==87862')"
   ]
  },
  {
   "cell_type": "code",
   "execution_count": 30,
   "metadata": {},
   "outputs": [
    {
     "data": {
      "text/html": [
       "<div>\n",
       "<style scoped>\n",
       "    .dataframe tbody tr th:only-of-type {\n",
       "        vertical-align: middle;\n",
       "    }\n",
       "\n",
       "    .dataframe tbody tr th {\n",
       "        vertical-align: top;\n",
       "    }\n",
       "\n",
       "    .dataframe thead th {\n",
       "        text-align: right;\n",
       "    }\n",
       "</style>\n",
       "<table border=\"1\" class=\"dataframe\">\n",
       "  <thead>\n",
       "    <tr style=\"text-align: right;\">\n",
       "      <th></th>\n",
       "      <th>server_time</th>\n",
       "      <th>device_type</th>\n",
       "      <th>session_id</th>\n",
       "      <th>user_id</th>\n",
       "      <th>item_id</th>\n",
       "    </tr>\n",
       "  </thead>\n",
       "  <tbody>\n",
       "    <tr>\n",
       "      <th>284024</th>\n",
       "      <td>2018-10-21 06:13:00</td>\n",
       "      <td>android</td>\n",
       "      <td>356854</td>\n",
       "      <td>63410</td>\n",
       "      <td>43209</td>\n",
       "    </tr>\n",
       "    <tr>\n",
       "      <th>284028</th>\n",
       "      <td>2018-10-21 06:13:00</td>\n",
       "      <td>android</td>\n",
       "      <td>356854</td>\n",
       "      <td>63410</td>\n",
       "      <td>66370</td>\n",
       "    </tr>\n",
       "    <tr>\n",
       "      <th>309046</th>\n",
       "      <td>2018-10-21 17:01:00</td>\n",
       "      <td>android</td>\n",
       "      <td>345289</td>\n",
       "      <td>63410</td>\n",
       "      <td>43209</td>\n",
       "    </tr>\n",
       "    <tr>\n",
       "      <th>339224</th>\n",
       "      <td>2018-10-22 09:54:00</td>\n",
       "      <td>android</td>\n",
       "      <td>406658</td>\n",
       "      <td>63410</td>\n",
       "      <td>43209</td>\n",
       "    </tr>\n",
       "    <tr>\n",
       "      <th>449354</th>\n",
       "      <td>2018-10-24 11:14:00</td>\n",
       "      <td>android</td>\n",
       "      <td>15568</td>\n",
       "      <td>63410</td>\n",
       "      <td>71877</td>\n",
       "    </tr>\n",
       "    <tr>\n",
       "      <th>486317</th>\n",
       "      <td>2018-10-25 05:00:00</td>\n",
       "      <td>android</td>\n",
       "      <td>343558</td>\n",
       "      <td>63410</td>\n",
       "      <td>43209</td>\n",
       "    </tr>\n",
       "    <tr>\n",
       "      <th>486325</th>\n",
       "      <td>2018-10-25 05:03:00</td>\n",
       "      <td>android</td>\n",
       "      <td>343558</td>\n",
       "      <td>63410</td>\n",
       "      <td>43209</td>\n",
       "    </tr>\n",
       "    <tr>\n",
       "      <th>2115995</th>\n",
       "      <td>2018-11-24 05:29:00</td>\n",
       "      <td>android</td>\n",
       "      <td>983607</td>\n",
       "      <td>63410</td>\n",
       "      <td>97274</td>\n",
       "    </tr>\n",
       "    <tr>\n",
       "      <th>3028698</th>\n",
       "      <td>2018-12-10 19:48:00</td>\n",
       "      <td>android</td>\n",
       "      <td>135003</td>\n",
       "      <td>63410</td>\n",
       "      <td>109074</td>\n",
       "    </tr>\n",
       "    <tr>\n",
       "      <th>3028895</th>\n",
       "      <td>2018-12-10 19:51:00</td>\n",
       "      <td>android</td>\n",
       "      <td>135003</td>\n",
       "      <td>63410</td>\n",
       "      <td>58018</td>\n",
       "    </tr>\n",
       "    <tr>\n",
       "      <th>3029399</th>\n",
       "      <td>2018-12-10 19:59:00</td>\n",
       "      <td>android</td>\n",
       "      <td>135003</td>\n",
       "      <td>63410</td>\n",
       "      <td>109074</td>\n",
       "    </tr>\n",
       "    <tr>\n",
       "      <th>3029745</th>\n",
       "      <td>2018-12-10 20:03:00</td>\n",
       "      <td>android</td>\n",
       "      <td>135003</td>\n",
       "      <td>63410</td>\n",
       "      <td>22064</td>\n",
       "    </tr>\n",
       "  </tbody>\n",
       "</table>\n",
       "</div>"
      ],
      "text/plain": [
       "                 server_time device_type  session_id  user_id  item_id\n",
       "284024   2018-10-21 06:13:00     android      356854    63410    43209\n",
       "284028   2018-10-21 06:13:00     android      356854    63410    66370\n",
       "309046   2018-10-21 17:01:00     android      345289    63410    43209\n",
       "339224   2018-10-22 09:54:00     android      406658    63410    43209\n",
       "449354   2018-10-24 11:14:00     android       15568    63410    71877\n",
       "486317   2018-10-25 05:00:00     android      343558    63410    43209\n",
       "486325   2018-10-25 05:03:00     android      343558    63410    43209\n",
       "2115995  2018-11-24 05:29:00     android      983607    63410    97274\n",
       "3028698  2018-12-10 19:48:00     android      135003    63410   109074\n",
       "3028895  2018-12-10 19:51:00     android      135003    63410    58018\n",
       "3029399  2018-12-10 19:59:00     android      135003    63410   109074\n",
       "3029745  2018-12-10 20:03:00     android      135003    63410    22064"
      ]
     },
     "execution_count": 30,
     "metadata": {},
     "output_type": "execute_result"
    }
   ],
   "source": [
    "\n",
    "view_log.query('user_id==63410')"
   ]
  },
  {
   "cell_type": "code",
   "execution_count": 39,
   "metadata": {},
   "outputs": [
    {
     "data": {
      "text/html": [
       "<div>\n",
       "<style scoped>\n",
       "    .dataframe tbody tr th:only-of-type {\n",
       "        vertical-align: middle;\n",
       "    }\n",
       "\n",
       "    .dataframe tbody tr th {\n",
       "        vertical-align: top;\n",
       "    }\n",
       "\n",
       "    .dataframe thead th {\n",
       "        text-align: right;\n",
       "    }\n",
       "</style>\n",
       "<table border=\"1\" class=\"dataframe\">\n",
       "  <thead>\n",
       "    <tr style=\"text-align: right;\">\n",
       "      <th></th>\n",
       "      <th>item_id</th>\n",
       "      <th>item_price</th>\n",
       "      <th>category_1</th>\n",
       "      <th>category_2</th>\n",
       "      <th>category_3</th>\n",
       "      <th>product_type</th>\n",
       "    </tr>\n",
       "  </thead>\n",
       "  <tbody>\n",
       "    <tr>\n",
       "      <th>52</th>\n",
       "      <td>109074</td>\n",
       "      <td>6330</td>\n",
       "      <td>10</td>\n",
       "      <td>63</td>\n",
       "      <td>295</td>\n",
       "      <td>9337</td>\n",
       "    </tr>\n",
       "    <tr>\n",
       "      <th>10689</th>\n",
       "      <td>71877</td>\n",
       "      <td>3961</td>\n",
       "      <td>10</td>\n",
       "      <td>63</td>\n",
       "      <td>295</td>\n",
       "      <td>2270</td>\n",
       "    </tr>\n",
       "    <tr>\n",
       "      <th>50221</th>\n",
       "      <td>22064</td>\n",
       "      <td>1024</td>\n",
       "      <td>11</td>\n",
       "      <td>76</td>\n",
       "      <td>67</td>\n",
       "      <td>8411</td>\n",
       "    </tr>\n",
       "    <tr>\n",
       "      <th>55749</th>\n",
       "      <td>58018</td>\n",
       "      <td>1888</td>\n",
       "      <td>13</td>\n",
       "      <td>52</td>\n",
       "      <td>163</td>\n",
       "      <td>2734</td>\n",
       "    </tr>\n",
       "    <tr>\n",
       "      <th>60403</th>\n",
       "      <td>43209</td>\n",
       "      <td>3421</td>\n",
       "      <td>4</td>\n",
       "      <td>74</td>\n",
       "      <td>292</td>\n",
       "      <td>577</td>\n",
       "    </tr>\n",
       "    <tr>\n",
       "      <th>96448</th>\n",
       "      <td>97274</td>\n",
       "      <td>2630</td>\n",
       "      <td>10</td>\n",
       "      <td>43</td>\n",
       "      <td>223</td>\n",
       "      <td>3055</td>\n",
       "    </tr>\n",
       "    <tr>\n",
       "      <th>117273</th>\n",
       "      <td>66370</td>\n",
       "      <td>14166</td>\n",
       "      <td>4</td>\n",
       "      <td>74</td>\n",
       "      <td>292</td>\n",
       "      <td>3399</td>\n",
       "    </tr>\n",
       "  </tbody>\n",
       "</table>\n",
       "</div>"
      ],
      "text/plain": [
       "        item_id  item_price  category_1  category_2  category_3  product_type\n",
       "52       109074        6330          10          63         295          9337\n",
       "10689     71877        3961          10          63         295          2270\n",
       "50221     22064        1024          11          76          67          8411\n",
       "55749     58018        1888          13          52         163          2734\n",
       "60403     43209        3421           4          74         292           577\n",
       "96448     97274        2630          10          43         223          3055\n",
       "117273    66370       14166           4          74         292          3399"
      ]
     },
     "execution_count": 39,
     "metadata": {},
     "output_type": "execute_result"
    }
   ],
   "source": [
    "item_data.query('item_id==43209 or item_id==66370 or item_id ==71877 or item_id ==97274 or item_id ==109074 or item_id ==58018 or item_id ==22064')"
   ]
  },
  {
   "cell_type": "code",
   "execution_count": 47,
   "metadata": {},
   "outputs": [
    {
     "data": {
      "text/html": [
       "<div>\n",
       "<style scoped>\n",
       "    .dataframe tbody tr th:only-of-type {\n",
       "        vertical-align: middle;\n",
       "    }\n",
       "\n",
       "    .dataframe tbody tr th {\n",
       "        vertical-align: top;\n",
       "    }\n",
       "\n",
       "    .dataframe thead th {\n",
       "        text-align: right;\n",
       "    }\n",
       "</style>\n",
       "<table border=\"1\" class=\"dataframe\">\n",
       "  <thead>\n",
       "    <tr style=\"text-align: right;\">\n",
       "      <th></th>\n",
       "      <th>item_id</th>\n",
       "      <th>item_price</th>\n",
       "      <th>category_1</th>\n",
       "      <th>category_2</th>\n",
       "      <th>category_3</th>\n",
       "      <th>product_type</th>\n",
       "    </tr>\n",
       "  </thead>\n",
       "  <tbody>\n",
       "    <tr>\n",
       "      <th>88047</th>\n",
       "      <td>25430</td>\n",
       "      <td>300</td>\n",
       "      <td>15</td>\n",
       "      <td>0</td>\n",
       "      <td>214</td>\n",
       "      <td>386</td>\n",
       "    </tr>\n",
       "  </tbody>\n",
       "</table>\n",
       "</div>"
      ],
      "text/plain": [
       "       item_id  item_price  category_1  category_2  category_3  product_type\n",
       "88047    25430         300          15           0         214           386"
      ]
     },
     "execution_count": 47,
     "metadata": {},
     "output_type": "execute_result"
    }
   ],
   "source": [
    "item_data.query('product_type == 386')"
   ]
  },
  {
   "cell_type": "code",
   "execution_count": 216,
   "metadata": {},
   "outputs": [
    {
     "data": {
      "text/html": [
       "<div>\n",
       "<style scoped>\n",
       "    .dataframe tbody tr th:only-of-type {\n",
       "        vertical-align: middle;\n",
       "    }\n",
       "\n",
       "    .dataframe tbody tr th {\n",
       "        vertical-align: top;\n",
       "    }\n",
       "\n",
       "    .dataframe thead th {\n",
       "        text-align: right;\n",
       "    }\n",
       "</style>\n",
       "<table border=\"1\" class=\"dataframe\">\n",
       "  <thead>\n",
       "    <tr style=\"text-align: right;\">\n",
       "      <th></th>\n",
       "      <th>impression_id</th>\n",
       "      <th>user_id</th>\n",
       "      <th>app_code</th>\n",
       "      <th>os_version</th>\n",
       "      <th>is_4G</th>\n",
       "      <th>is_click</th>\n",
       "      <th>ad_pri</th>\n",
       "      <th>ad_click</th>\n",
       "      <th>impression_time_Timestamp</th>\n",
       "      <th>Month</th>\n",
       "      <th>Day</th>\n",
       "      <th>Hour</th>\n",
       "      <th>Weekday</th>\n",
       "      <th>intermediate</th>\n",
       "      <th>latest</th>\n",
       "      <th>old</th>\n",
       "    </tr>\n",
       "  </thead>\n",
       "  <tbody>\n",
       "    <tr>\n",
       "      <th>8</th>\n",
       "      <td>fc490ca45c00b1249bbe3554a4fdf6fb</td>\n",
       "      <td>83318</td>\n",
       "      <td>386</td>\n",
       "      <td>old</td>\n",
       "      <td>0</td>\n",
       "      <td>0</td>\n",
       "      <td>1</td>\n",
       "      <td>1</td>\n",
       "      <td>2018-11-15 00:05:00</td>\n",
       "      <td>11</td>\n",
       "      <td>15</td>\n",
       "      <td>0</td>\n",
       "      <td>3</td>\n",
       "      <td>0</td>\n",
       "      <td>0</td>\n",
       "      <td>1</td>\n",
       "    </tr>\n",
       "    <tr>\n",
       "      <th>47</th>\n",
       "      <td>70c639df5e30bdee440e4cdf599fec2b</td>\n",
       "      <td>14496</td>\n",
       "      <td>386</td>\n",
       "      <td>latest</td>\n",
       "      <td>0</td>\n",
       "      <td>0</td>\n",
       "      <td>1</td>\n",
       "      <td>1</td>\n",
       "      <td>2018-11-15 00:34:00</td>\n",
       "      <td>11</td>\n",
       "      <td>15</td>\n",
       "      <td>0</td>\n",
       "      <td>3</td>\n",
       "      <td>0</td>\n",
       "      <td>1</td>\n",
       "      <td>0</td>\n",
       "    </tr>\n",
       "    <tr>\n",
       "      <th>85</th>\n",
       "      <td>5f0f5e5f33945135b874349cfbed4fb9</td>\n",
       "      <td>75369</td>\n",
       "      <td>386</td>\n",
       "      <td>intermediate</td>\n",
       "      <td>1</td>\n",
       "      <td>0</td>\n",
       "      <td>1</td>\n",
       "      <td>1</td>\n",
       "      <td>2018-11-15 01:23:00</td>\n",
       "      <td>11</td>\n",
       "      <td>15</td>\n",
       "      <td>1</td>\n",
       "      <td>3</td>\n",
       "      <td>1</td>\n",
       "      <td>0</td>\n",
       "      <td>0</td>\n",
       "    </tr>\n",
       "    <tr>\n",
       "      <th>109</th>\n",
       "      <td>9232fe81225bcaef853ae32870a2b0fe</td>\n",
       "      <td>45894</td>\n",
       "      <td>386</td>\n",
       "      <td>latest</td>\n",
       "      <td>0</td>\n",
       "      <td>0</td>\n",
       "      <td>1</td>\n",
       "      <td>1</td>\n",
       "      <td>2018-11-15 02:19:00</td>\n",
       "      <td>11</td>\n",
       "      <td>15</td>\n",
       "      <td>2</td>\n",
       "      <td>3</td>\n",
       "      <td>0</td>\n",
       "      <td>1</td>\n",
       "      <td>0</td>\n",
       "    </tr>\n",
       "    <tr>\n",
       "      <th>116</th>\n",
       "      <td>31b3b31a1c2f8a370206f111127c0dbd</td>\n",
       "      <td>29344</td>\n",
       "      <td>386</td>\n",
       "      <td>intermediate</td>\n",
       "      <td>0</td>\n",
       "      <td>0</td>\n",
       "      <td>1</td>\n",
       "      <td>1</td>\n",
       "      <td>2018-11-15 02:37:00</td>\n",
       "      <td>11</td>\n",
       "      <td>15</td>\n",
       "      <td>2</td>\n",
       "      <td>3</td>\n",
       "      <td>1</td>\n",
       "      <td>0</td>\n",
       "      <td>0</td>\n",
       "    </tr>\n",
       "    <tr>\n",
       "      <th>122</th>\n",
       "      <td>d8700cbd38cc9f30cecb34f0c195b137</td>\n",
       "      <td>27949</td>\n",
       "      <td>386</td>\n",
       "      <td>latest</td>\n",
       "      <td>0</td>\n",
       "      <td>0</td>\n",
       "      <td>1</td>\n",
       "      <td>1</td>\n",
       "      <td>2018-11-15 03:00:00</td>\n",
       "      <td>11</td>\n",
       "      <td>15</td>\n",
       "      <td>3</td>\n",
       "      <td>3</td>\n",
       "      <td>0</td>\n",
       "      <td>1</td>\n",
       "      <td>0</td>\n",
       "    </tr>\n",
       "    <tr>\n",
       "      <th>168</th>\n",
       "      <td>eae27d77ca20db309e056e3d2dcd7d69</td>\n",
       "      <td>80712</td>\n",
       "      <td>386</td>\n",
       "      <td>latest</td>\n",
       "      <td>0</td>\n",
       "      <td>0</td>\n",
       "      <td>1</td>\n",
       "      <td>1</td>\n",
       "      <td>2018-11-15 00:15:00</td>\n",
       "      <td>11</td>\n",
       "      <td>15</td>\n",
       "      <td>0</td>\n",
       "      <td>3</td>\n",
       "      <td>0</td>\n",
       "      <td>1</td>\n",
       "      <td>0</td>\n",
       "    </tr>\n",
       "    <tr>\n",
       "      <th>169</th>\n",
       "      <td>979d472a84804b9f647bc185a877a8b5</td>\n",
       "      <td>73469</td>\n",
       "      <td>386</td>\n",
       "      <td>latest</td>\n",
       "      <td>0</td>\n",
       "      <td>0</td>\n",
       "      <td>1</td>\n",
       "      <td>1</td>\n",
       "      <td>2018-11-15 00:16:00</td>\n",
       "      <td>11</td>\n",
       "      <td>15</td>\n",
       "      <td>0</td>\n",
       "      <td>3</td>\n",
       "      <td>0</td>\n",
       "      <td>1</td>\n",
       "      <td>0</td>\n",
       "    </tr>\n",
       "    <tr>\n",
       "      <th>187</th>\n",
       "      <td>9be40cee5b0eee1462c82c6964087ff9</td>\n",
       "      <td>1246</td>\n",
       "      <td>386</td>\n",
       "      <td>intermediate</td>\n",
       "      <td>0</td>\n",
       "      <td>0</td>\n",
       "      <td>1</td>\n",
       "      <td>1</td>\n",
       "      <td>2018-11-15 00:31:00</td>\n",
       "      <td>11</td>\n",
       "      <td>15</td>\n",
       "      <td>0</td>\n",
       "      <td>3</td>\n",
       "      <td>1</td>\n",
       "      <td>0</td>\n",
       "      <td>0</td>\n",
       "    </tr>\n",
       "    <tr>\n",
       "      <th>194</th>\n",
       "      <td>e0c641195b27425bb056ac56f8953d24</td>\n",
       "      <td>88249</td>\n",
       "      <td>386</td>\n",
       "      <td>old</td>\n",
       "      <td>1</td>\n",
       "      <td>0</td>\n",
       "      <td>1</td>\n",
       "      <td>1</td>\n",
       "      <td>2018-11-15 00:38:00</td>\n",
       "      <td>11</td>\n",
       "      <td>15</td>\n",
       "      <td>0</td>\n",
       "      <td>3</td>\n",
       "      <td>0</td>\n",
       "      <td>0</td>\n",
       "      <td>1</td>\n",
       "    </tr>\n",
       "  </tbody>\n",
       "</table>\n",
       "</div>"
      ],
      "text/plain": [
       "                        impression_id  user_id  app_code    os_version  is_4G  \\\n",
       "8    fc490ca45c00b1249bbe3554a4fdf6fb    83318       386           old      0   \n",
       "47   70c639df5e30bdee440e4cdf599fec2b    14496       386        latest      0   \n",
       "85   5f0f5e5f33945135b874349cfbed4fb9    75369       386  intermediate      1   \n",
       "109  9232fe81225bcaef853ae32870a2b0fe    45894       386        latest      0   \n",
       "116  31b3b31a1c2f8a370206f111127c0dbd    29344       386  intermediate      0   \n",
       "122  d8700cbd38cc9f30cecb34f0c195b137    27949       386        latest      0   \n",
       "168  eae27d77ca20db309e056e3d2dcd7d69    80712       386        latest      0   \n",
       "169  979d472a84804b9f647bc185a877a8b5    73469       386        latest      0   \n",
       "187  9be40cee5b0eee1462c82c6964087ff9     1246       386  intermediate      0   \n",
       "194  e0c641195b27425bb056ac56f8953d24    88249       386           old      1   \n",
       "\n",
       "     is_click  ad_pri  ad_click impression_time_Timestamp  Month  Day  Hour  \\\n",
       "8           0       1         1       2018-11-15 00:05:00     11   15     0   \n",
       "47          0       1         1       2018-11-15 00:34:00     11   15     0   \n",
       "85          0       1         1       2018-11-15 01:23:00     11   15     1   \n",
       "109         0       1         1       2018-11-15 02:19:00     11   15     2   \n",
       "116         0       1         1       2018-11-15 02:37:00     11   15     2   \n",
       "122         0       1         1       2018-11-15 03:00:00     11   15     3   \n",
       "168         0       1         1       2018-11-15 00:15:00     11   15     0   \n",
       "169         0       1         1       2018-11-15 00:16:00     11   15     0   \n",
       "187         0       1         1       2018-11-15 00:31:00     11   15     0   \n",
       "194         0       1         1       2018-11-15 00:38:00     11   15     0   \n",
       "\n",
       "     Weekday  intermediate  latest  old  \n",
       "8          3             0       0    1  \n",
       "47         3             0       1    0  \n",
       "85         3             1       0    0  \n",
       "109        3             0       1    0  \n",
       "116        3             1       0    0  \n",
       "122        3             0       1    0  \n",
       "168        3             0       1    0  \n",
       "169        3             0       1    0  \n",
       "187        3             1       0    0  \n",
       "194        3             0       0    1  "
      ]
     },
     "execution_count": 216,
     "metadata": {},
     "output_type": "execute_result"
    }
   ],
   "source": [
    "train.query('app_code ==386').head(10)"
   ]
  },
  {
   "cell_type": "code",
   "execution_count": 41,
   "metadata": {},
   "outputs": [
    {
     "data": {
      "image/png": "[encoded data removed]",
      "text/plain": [
       "<Figure size 432x288 with 1 Axes>"
      ]
     },
     "metadata": {},
     "output_type": "display_data"
    }
   ],
   "source": [
    "n, bins, patches = plt.hist(item_data.product_type, 100, density = 1, facecolor='blue', alpha=0.75)\n",
    "plt.xlabel('product_type')\n",
    "plt.title('Histogram of product_type')\n",
    "plt.show();"
   ]
  },
  {
   "cell_type": "code",
   "execution_count": 215,
   "metadata": {},
   "outputs": [
    {
     "name": "stdout",
     "output_type": "stream",
     "text": [
      "207    0.142200\n",
      "386    0.129229\n",
      "190    0.073402\n",
      "127    0.045667\n",
      "371    0.039321\n",
      "3      0.037288\n",
      "296    0.031367\n",
      "129    0.029671\n",
      "385    0.029359\n",
      "32     0.025184\n",
      "5      0.022735\n",
      "249    0.021805\n",
      "469    0.021556\n",
      "283    0.019452\n",
      "244    0.018387\n",
      "44     0.018291\n",
      "242    0.015829\n",
      "145    0.015180\n",
      "213    0.011856\n",
      "463    0.010366\n",
      "359    0.010071\n",
      "231    0.009882\n",
      "465    0.009225\n",
      "151    0.009158\n",
      "318    0.009154\n",
      "202    0.008935\n",
      "508    0.007651\n",
      "163    0.006717\n",
      "38     0.006363\n",
      "37     0.006048\n",
      "         ...   \n",
      "437    0.000004\n",
      "284    0.000004\n",
      "52     0.000004\n",
      "105    0.000004\n",
      "429    0.000004\n",
      "65     0.000004\n",
      "149    0.000004\n",
      "21     0.000004\n",
      "332    0.000004\n",
      "267    0.000004\n",
      "418    0.000004\n",
      "140    0.000004\n",
      "109    0.000004\n",
      "13     0.000004\n",
      "269    0.000004\n",
      "162    0.000004\n",
      "301    0.000004\n",
      "205    0.000004\n",
      "459    0.000004\n",
      "404    0.000004\n",
      "417    0.000004\n",
      "73     0.000004\n",
      "72     0.000004\n",
      "71     0.000004\n",
      "376    0.000004\n",
      "70     0.000004\n",
      "401    0.000004\n",
      "147    0.000004\n",
      "66     0.000004\n",
      "233    0.000004\n",
      "Name: app_code, Length: 490, dtype: float64\n"
     ]
    },
    {
     "ename": "AttributeError",
     "evalue": "'NoneType' object has no attribute 'nlargest'",
     "output_type": "error",
     "traceback": [
      "\u001b[1;31m---------------------------------------------------------------------------\u001b[0m",
      "\u001b[1;31mAttributeError\u001b[0m                            Traceback (most recent call last)",
      "\u001b[1;32m<ipython-input-215-88fc9ea42adc>\u001b[0m in \u001b[0;36m<module>\u001b[1;34m()\u001b[0m\n\u001b[1;32m----> 1\u001b[1;33m \u001b[0mprint\u001b[0m\u001b[1;33m(\u001b[0m\u001b[0mtrain\u001b[0m\u001b[1;33m.\u001b[0m\u001b[0mapp_code\u001b[0m\u001b[1;33m.\u001b[0m\u001b[0mvalue_counts\u001b[0m\u001b[1;33m(\u001b[0m\u001b[1;33m)\u001b[0m\u001b[1;33m/\u001b[0m\u001b[0mlen\u001b[0m\u001b[1;33m(\u001b[0m\u001b[0mtrain\u001b[0m\u001b[1;33m)\u001b[0m\u001b[1;33m)\u001b[0m\u001b[1;33m.\u001b[0m\u001b[0mnlargest\u001b[0m\u001b[1;33m(\u001b[0m\u001b[1;36m5\u001b[0m\u001b[1;33m)\u001b[0m\u001b[1;33m\u001b[0m\u001b[0m\n\u001b[0m",
      "\u001b[1;31mAttributeError\u001b[0m: 'NoneType' object has no attribute 'nlargest'"
     ]
    }
   ],
   "source": [
    "print(train.app_code.value_counts()/len(train)).nlargest(5)"
   ]
  },
  {
   "cell_type": "code",
   "execution_count": 44,
   "metadata": {},
   "outputs": [
    {
     "data": {
      "text/plain": [
       "product_type\n",
       "2874     4261\n",
       "5622     1417\n",
       "5036     1262\n",
       "10412     990\n",
       "7791      980\n",
       "dtype: int64"
      ]
     },
     "execution_count": 44,
     "metadata": {},
     "output_type": "execute_result"
    }
   ],
   "source": [
    "item_data.groupby('product_type').size().nlargest(5)"
   ]
  },
  {
   "cell_type": "code",
   "execution_count": 45,
   "metadata": {},
   "outputs": [
    {
     "data": {
      "text/plain": [
       "app_code\n",
       "207    33788\n",
       "386    30706\n",
       "190    17441\n",
       "127    10851\n",
       "371     9343\n",
       "dtype: int64"
      ]
     },
     "execution_count": 45,
     "metadata": {},
     "output_type": "execute_result"
    }
   ],
   "source": [
    "train.groupby('app_code').size().nlargest(5)"
   ]
  },
  {
   "cell_type": "code",
   "execution_count": 78,
   "metadata": {},
   "outputs": [
    {
     "data": {
      "text/html": [
       "<div>\n",
       "<style scoped>\n",
       "    .dataframe tbody tr th:only-of-type {\n",
       "        vertical-align: middle;\n",
       "    }\n",
       "\n",
       "    .dataframe tbody tr th {\n",
       "        vertical-align: top;\n",
       "    }\n",
       "\n",
       "    .dataframe thead th {\n",
       "        text-align: right;\n",
       "    }\n",
       "</style>\n",
       "<table border=\"1\" class=\"dataframe\">\n",
       "  <thead>\n",
       "    <tr style=\"text-align: right;\">\n",
       "      <th></th>\n",
       "      <th>count</th>\n",
       "      <th>mean</th>\n",
       "      <th>std</th>\n",
       "      <th>min</th>\n",
       "      <th>25%</th>\n",
       "      <th>50%</th>\n",
       "      <th>75%</th>\n",
       "      <th>max</th>\n",
       "    </tr>\n",
       "    <tr>\n",
       "      <th>is_click</th>\n",
       "      <th></th>\n",
       "      <th></th>\n",
       "      <th></th>\n",
       "      <th></th>\n",
       "      <th></th>\n",
       "      <th></th>\n",
       "      <th></th>\n",
       "      <th></th>\n",
       "    </tr>\n",
       "  </thead>\n",
       "  <tbody>\n",
       "    <tr>\n",
       "      <th>0</th>\n",
       "      <td>226747.0</td>\n",
       "      <td>0.361676</td>\n",
       "      <td>0.480487</td>\n",
       "      <td>0.0</td>\n",
       "      <td>0.0</td>\n",
       "      <td>0.0</td>\n",
       "      <td>1.0</td>\n",
       "      <td>1.0</td>\n",
       "    </tr>\n",
       "    <tr>\n",
       "      <th>1</th>\n",
       "      <td>10862.0</td>\n",
       "      <td>0.353710</td>\n",
       "      <td>0.478143</td>\n",
       "      <td>0.0</td>\n",
       "      <td>0.0</td>\n",
       "      <td>0.0</td>\n",
       "      <td>1.0</td>\n",
       "      <td>1.0</td>\n",
       "    </tr>\n",
       "  </tbody>\n",
       "</table>\n",
       "</div>"
      ],
      "text/plain": [
       "             count      mean       std  min  25%  50%  75%  max\n",
       "is_click                                                       \n",
       "0         226747.0  0.361676  0.480487  0.0  0.0  0.0  1.0  1.0\n",
       "1          10862.0  0.353710  0.478143  0.0  0.0  0.0  1.0  1.0"
      ]
     },
     "execution_count": 78,
     "metadata": {},
     "output_type": "execute_result"
    }
   ],
   "source": [
    "train.groupby('is_click')['is_4G'].describe()"
   ]
  },
  {
   "cell_type": "code",
   "execution_count": 74,
   "metadata": {},
   "outputs": [
    {
     "data": {
      "text/plain": [
       "490"
      ]
     },
     "execution_count": 74,
     "metadata": {},
     "output_type": "execute_result"
    }
   ],
   "source": [
    "train['app_code'].nunique()"
   ]
  },
  {
   "cell_type": "code",
   "execution_count": 75,
   "metadata": {},
   "outputs": [
    {
     "data": {
      "text/plain": [
       "373"
      ]
     },
     "execution_count": 75,
     "metadata": {},
     "output_type": "execute_result"
    }
   ],
   "source": [
    "test['app_code'].nunique()"
   ]
  },
  {
   "cell_type": "code",
   "execution_count": 76,
   "metadata": {},
   "outputs": [
    {
     "data": {
      "text/plain": [
       "7959"
      ]
     },
     "execution_count": 76,
     "metadata": {},
     "output_type": "execute_result"
    }
   ],
   "source": [
    "item_data['product_type'].nunique()"
   ]
  },
  {
   "cell_type": "code",
   "execution_count": 66,
   "metadata": {},
   "outputs": [
    {
     "data": {
      "image/png": "[encoded data removed]",
      "text/plain": [
       "<Figure size 432x288 with 1 Axes>"
      ]
     },
     "metadata": {},
     "output_type": "display_data"
    },
    {
     "data": {
      "text/plain": [
       "0    226747\n",
       "1     10862\n",
       "Name: is_click, dtype: int64"
      ]
     },
     "execution_count": 66,
     "metadata": {},
     "output_type": "execute_result"
    }
   ],
   "source": [
    "sns.countplot(x='is_click',data=train, palette='hls')\n",
    "plt.show();\n",
    "train['is_click'].value_counts()"
   ]
  },
  {
   "cell_type": "code",
   "execution_count": 80,
   "metadata": {},
   "outputs": [
    {
     "data": {
      "text/plain": [
       "count                  237609\n",
       "unique                  36461\n",
       "top       2018-12-04 00:01:00\n",
       "freq                       46\n",
       "Name: impression_time, dtype: object"
      ]
     },
     "execution_count": 80,
     "metadata": {},
     "output_type": "execute_result"
    }
   ],
   "source": [
    "train.impression_time.describe()"
   ]
  },
  {
   "cell_type": "code",
   "execution_count": 88,
   "metadata": {},
   "outputs": [
    {
     "data": {
      "image/png": "[encoded data removed]",
      "text/plain": [
       "<Figure size 864x432 with 1 Axes>"
      ]
     },
     "metadata": {},
     "output_type": "display_data"
    }
   ],
   "source": [
    "train.groupby('Day').agg({'is_click':'sum'}).plot(figsize=(12,6))\n",
    "plt.ylabel('Number of clicks')\n",
    "plt.title('click trends by hour of day');"
   ]
  },
  {
   "cell_type": "code",
   "execution_count": 91,
   "metadata": {},
   "outputs": [
    {
     "data": {
      "image/png": "[encoded data removed]",
      "text/plain": [
       "<Figure size 864x432 with 1 Axes>"
      ]
     },
     "metadata": {},
     "output_type": "display_data"
    }
   ],
   "source": [
    "train.groupby('Weekday').agg({'is_click':'sum'}).plot(figsize=(12,6))\n",
    "plt.ylabel('Number of clicks')\n",
    "plt.title('Number of clicks by Hour');"
   ]
  },
  {
   "cell_type": "code",
   "execution_count": 87,
   "metadata": {},
   "outputs": [
    {
     "data": {
      "image/png": "[encoded data removed]",
      "text/plain": [
       "<Figure size 864x432 with 1 Axes>"
      ]
     },
     "metadata": {},
     "output_type": "display_data"
    }
   ],
   "source": [
    "train.groupby('Hour').agg({'is_click':'sum'}).plot(figsize=(12,6))\n",
    "plt.ylabel('Number of clicks')\n",
    "plt.title('Number of clicks by Hour');"
   ]
  },
  {
   "cell_type": "code",
   "execution_count": 218,
   "metadata": {},
   "outputs": [
    {
     "data": {
      "image/png": "[encoded data removed]",
      "text/plain": [
       "<Figure size 864x432 with 1 Axes>"
      ]
     },
     "metadata": {},
     "output_type": "display_data"
    }
   ],
   "source": [
    "train.groupby(['Weekday','is_click']).size().unstack().reindex().plot(kind='bar', title=\"Day of the Week\", figsize=(12,6))\n",
    "ticks = list(range(0, 7, 1)) # points on the x axis where you want the label to appear\n",
    "labels = \"Mon Tues Weds Thurs Fri Sat Sun\".split()\n",
    "plt.xticks(ticks, labels)\n",
    "plt.title('Impressions vs. clicks by day of week');"
   ]
  },
  {
   "cell_type": "code",
   "execution_count": 220,
   "metadata": {},
   "outputs": [
    {
     "data": {
      "image/png": "[encoded data removed]",
      "text/plain": [
       "<Figure size 864x432 with 1 Axes>"
      ]
     },
     "metadata": {},
     "output_type": "display_data"
    }
   ],
   "source": [
    "df_click = train[train['is_click'] == 1]\n",
    "df_dayofweek = train[['Weekday','is_click']].groupby(['Weekday']).count().reset_index()\n",
    "df_dayofweek = df_dayofweek.rename(columns={'is_click': 'impressions'})\n",
    "df_dayofweek['is_click'] = df_click[['Weekday','is_click']].groupby(['Weekday']).count().reset_index()['is_click']\n",
    "df_dayofweek['CTR'] = df_dayofweek['is_click']/df_dayofweek['impressions']*100\n",
    "plt.figure(figsize=(12,6))\n",
    "sns.barplot(y='CTR', x='Weekday', data=df_dayofweek, order=['Monday', 'Tuesday', 'Wednesday', 'Thursday', 'Friday', 'Saturday', 'Sunday'])\n",
    "plt.title('Day of week CTR');"
   ]
  },
  {
   "cell_type": "code",
   "execution_count": 86,
   "metadata": {},
   "outputs": [],
   "source": [
    "# Extract datetime variables using timestamp column\n",
    "train['impression_time_Timestamp'] = pd.to_datetime(train['impression_time']) \n",
    "# Converting timestamp column into datatime object in order to extract new features\n",
    "train['Month'] = train['impression_time_Timestamp'].dt.month \n",
    "# Creates a new column called Month\n",
    "train['Day'] = train['impression_time_Timestamp'].dt.day     \n",
    "# Creates a new column called Day\n",
    "train['Hour'] = train['impression_time_Timestamp'].dt.hour   \n",
    "# Creates a new column called Hour\n",
    "train[\"Weekday\"] = train['impression_time_Timestamp'].dt.dayofweek \n",
    "# Creates a new column called Weekday with sunday as 6 and monday as 0\n",
    "# Other way to create a weekday column\n",
    "#df['weekday'] = df['Timestamp'].apply(lambda x: x.weekday()) # Monday 0 .. sunday 6\n",
    "# Dropping timestamp column to avoid redundancy\n",
    "train = train.drop(['impression_time'], axis=1) # deleting timestamp"
   ]
  },
  {
   "cell_type": "code",
   "execution_count": 165,
   "metadata": {},
   "outputs": [],
   "source": [
    "# Extract datetime variables using timestamp column\n",
    "test['impression_time_Timestamp'] = pd.to_datetime(test['impression_time']) \n",
    "# Converting timestamp column into datatime object in order to extract new features\n",
    "test['Month'] = test['impression_time_Timestamp'].dt.month \n",
    "# Creates a new column called Month\n",
    "test['Day'] = test['impression_time_Timestamp'].dt.day     \n",
    "# Creates a new column called Day\n",
    "test['Hour'] = test['impression_time_Timestamp'].dt.hour   \n",
    "# Creates a new column called Hour\n",
    "test[\"Weekday\"] = test['impression_time_Timestamp'].dt.dayofweek \n",
    "# Creates a new column called Weekday with sunday as 6 and monday as 0\n",
    "# Other way to create a weekday column\n",
    "#df['weekday'] = df['Timestamp'].apply(lambda x: x.weekday()) # Monday 0 .. sunday 6\n",
    "# Dropping timestamp column to avoid redundancy\n",
    "test = test.drop(['impression_time'], axis=1) # deleting timestamp"
   ]
  },
  {
   "cell_type": "code",
   "execution_count": 89,
   "metadata": {},
   "outputs": [
    {
     "data": {
      "text/plain": [
       "<seaborn.axisgrid.PairGrid at 0x1d2208cb710>"
      ]
     },
     "execution_count": 89,
     "metadata": {},
     "output_type": "execute_result"
    },
    {
     "data": {
      "image/png": "[encoded data removed]",
      "text/plain": [
       "<Figure size 763.625x720 with 20 Axes>"
      ]
     },
     "metadata": {},
     "output_type": "display_data"
    }
   ],
   "source": [
    "# Creating a pairplot with hue defined by Clicked on Ad column\n",
    "sns.pairplot(train, hue = 'is_click', vars = ['os_version', 'is_4G', 'Weekday', 'Hour'], palette = 'husl')"
   ]
  },
  {
   "cell_type": "code",
   "execution_count": 313,
   "metadata": {},
   "outputs": [
    {
     "name": "stdout",
     "output_type": "stream",
     "text": [
      "(328284, 11)\n"
     ]
    },
    {
     "name": "stderr",
     "output_type": "stream",
     "text": [
      "C:\\ProgramData\\Anaconda3\\lib\\site-packages\\pandas\\core\\frame.py:6201: FutureWarning: Sorting because non-concatenation axis is not aligned. A future version\n",
      "of pandas will change to not sort by default.\n",
      "\n",
      "To accept the future behavior, pass 'sort=True'.\n",
      "\n",
      "To retain the current behavior and silence the warning, pass sort=False\n",
      "\n",
      "  sort=sort)\n"
     ]
    }
   ],
   "source": [
    "test['is_click'] = '0'\n",
    "df = train.append(test, ignore_index=True)\n",
    "print(df.shape)"
   ]
  },
  {
   "cell_type": "code",
   "execution_count": 166,
   "metadata": {},
   "outputs": [],
   "source": [
    "test['is_click'] = 0"
   ]
  },
  {
   "cell_type": "code",
   "execution_count": 167,
   "metadata": {},
   "outputs": [
    {
     "data": {
      "text/plain": [
       "(                      impression_id  user_id  app_code os_version  is_4G  \\\n",
       " 0  a9e7126a585a69a32bc7414e9d0c0ada    44754       127     latest      1   \n",
       " 1  caac14a5bf2ba283db7708bb34855760    29656        44     latest      0   \n",
       " 2  13f10ba306a19ce7bec2f3cae507b698    25234       296     latest      1   \n",
       " 3  39c4b4dc0e9701b55a0a4f072008fb3f    22988       207     latest      1   \n",
       " 4  bf5a572cca75f5fc67f4b14e58b11d70    35431       242     latest      1   \n",
       " \n",
       "    ad_count  ad_pri  click_sum  ad_click impression_time_Timestamp  Month  \\\n",
       " 0   10851.0     1.0      577.0       1.0       2018-12-13 07:44:00     12   \n",
       " 1    4346.0     1.0       27.0       0.0       2018-12-13 07:45:00     12   \n",
       " 2    7453.0     1.0      574.0       1.0       2018-12-13 07:46:00     12   \n",
       " 3   33788.0     1.0      482.0       1.0       2018-12-13 07:47:00     12   \n",
       " 4    3761.0     1.0      371.0       1.0       2018-12-13 07:48:00     12   \n",
       " \n",
       "    Day  Hour  Weekday  is_click  \n",
       " 0   13     7        3         0  \n",
       " 1   13     7        3         0  \n",
       " 2   13     7        3         0  \n",
       " 3   13     7        3         0  \n",
       " 4   13     7        3         0  , (90675, 15))"
      ]
     },
     "execution_count": 167,
     "metadata": {},
     "output_type": "execute_result"
    }
   ],
   "source": [
    "test.head(),test.shape,"
   ]
  },
  {
   "cell_type": "code",
   "execution_count": 170,
   "metadata": {},
   "outputs": [],
   "source": [
    "test['ad_pri']=test['ad_pri'].astype(int)"
   ]
  },
  {
   "cell_type": "code",
   "execution_count": 171,
   "metadata": {},
   "outputs": [],
   "source": [
    "test['ad_click']=test['ad_click'].astype(int)"
   ]
  },
  {
   "cell_type": "code",
   "execution_count": 33,
   "metadata": {},
   "outputs": [
    {
     "data": {
      "text/plain": [
       "0"
      ]
     },
     "execution_count": 33,
     "metadata": {},
     "output_type": "execute_result"
    }
   ],
   "source": [
    "test['ad_pri'].isnull().sum()"
   ]
  },
  {
   "cell_type": "code",
   "execution_count": 168,
   "metadata": {},
   "outputs": [],
   "source": [
    "test['ad_pri'].fillna(0, inplace=True)"
   ]
  },
  {
   "cell_type": "code",
   "execution_count": 169,
   "metadata": {},
   "outputs": [],
   "source": [
    "test['ad_click'].fillna(0, inplace=True)"
   ]
  },
  {
   "cell_type": "code",
   "execution_count": 172,
   "metadata": {},
   "outputs": [
    {
     "data": {
      "text/plain": [
       "0"
      ]
     },
     "execution_count": 172,
     "metadata": {},
     "output_type": "execute_result"
    }
   ],
   "source": [
    "test['ad_click'].isnull().sum()"
   ]
  },
  {
   "cell_type": "code",
   "execution_count": 173,
   "metadata": {},
   "outputs": [
    {
     "data": {
      "text/plain": [
       "((90675, 15),)"
      ]
     },
     "execution_count": 173,
     "metadata": {},
     "output_type": "execute_result"
    }
   ],
   "source": [
    "test.shape,"
   ]
  },
  {
   "cell_type": "code",
   "execution_count": 69,
   "metadata": {},
   "outputs": [
    {
     "data": {
      "text/html": [
       "<div>\n",
       "<style scoped>\n",
       "    .dataframe tbody tr th:only-of-type {\n",
       "        vertical-align: middle;\n",
       "    }\n",
       "\n",
       "    .dataframe tbody tr th {\n",
       "        vertical-align: top;\n",
       "    }\n",
       "\n",
       "    .dataframe thead th {\n",
       "        text-align: right;\n",
       "    }\n",
       "</style>\n",
       "<table border=\"1\" class=\"dataframe\">\n",
       "  <thead>\n",
       "    <tr style=\"text-align: right;\">\n",
       "      <th></th>\n",
       "      <th>impression_id</th>\n",
       "      <th>impression_time</th>\n",
       "      <th>user_id</th>\n",
       "      <th>app_code</th>\n",
       "      <th>os_version</th>\n",
       "      <th>is_4G</th>\n",
       "      <th>is_click</th>\n",
       "    </tr>\n",
       "  </thead>\n",
       "  <tbody>\n",
       "    <tr>\n",
       "      <th>0</th>\n",
       "      <td>c4ca4238a0b923820dcc509a6f75849b</td>\n",
       "      <td>2018-11-15 00:00:00</td>\n",
       "      <td>87862</td>\n",
       "      <td>422</td>\n",
       "      <td>old</td>\n",
       "      <td>0</td>\n",
       "      <td>0</td>\n",
       "    </tr>\n",
       "    <tr>\n",
       "      <th>1</th>\n",
       "      <td>45c48cce2e2d7fbdea1afc51c7c6ad26</td>\n",
       "      <td>2018-11-15 00:01:00</td>\n",
       "      <td>63410</td>\n",
       "      <td>467</td>\n",
       "      <td>latest</td>\n",
       "      <td>1</td>\n",
       "      <td>1</td>\n",
       "    </tr>\n",
       "    <tr>\n",
       "      <th>2</th>\n",
       "      <td>70efdf2ec9b086079795c442636b55fb</td>\n",
       "      <td>2018-11-15 00:02:00</td>\n",
       "      <td>71748</td>\n",
       "      <td>259</td>\n",
       "      <td>intermediate</td>\n",
       "      <td>1</td>\n",
       "      <td>0</td>\n",
       "    </tr>\n",
       "    <tr>\n",
       "      <th>3</th>\n",
       "      <td>8e296a067a37563370ded05f5a3bf3ec</td>\n",
       "      <td>2018-11-15 00:02:00</td>\n",
       "      <td>69209</td>\n",
       "      <td>244</td>\n",
       "      <td>latest</td>\n",
       "      <td>1</td>\n",
       "      <td>0</td>\n",
       "    </tr>\n",
       "    <tr>\n",
       "      <th>4</th>\n",
       "      <td>182be0c5cdcd5072bb1864cdee4d3d6e</td>\n",
       "      <td>2018-11-15 00:02:00</td>\n",
       "      <td>62873</td>\n",
       "      <td>473</td>\n",
       "      <td>latest</td>\n",
       "      <td>0</td>\n",
       "      <td>0</td>\n",
       "    </tr>\n",
       "  </tbody>\n",
       "</table>\n",
       "</div>"
      ],
      "text/plain": [
       "                      impression_id      impression_time  user_id  app_code  \\\n",
       "0  c4ca4238a0b923820dcc509a6f75849b  2018-11-15 00:00:00    87862       422   \n",
       "1  45c48cce2e2d7fbdea1afc51c7c6ad26  2018-11-15 00:01:00    63410       467   \n",
       "2  70efdf2ec9b086079795c442636b55fb  2018-11-15 00:02:00    71748       259   \n",
       "3  8e296a067a37563370ded05f5a3bf3ec  2018-11-15 00:02:00    69209       244   \n",
       "4  182be0c5cdcd5072bb1864cdee4d3d6e  2018-11-15 00:02:00    62873       473   \n",
       "\n",
       "     os_version  is_4G  is_click  \n",
       "0           old      0         0  \n",
       "1        latest      1         1  \n",
       "2  intermediate      1         0  \n",
       "3        latest      1         0  \n",
       "4        latest      0         0  "
      ]
     },
     "execution_count": 69,
     "metadata": {},
     "output_type": "execute_result"
    }
   ],
   "source": [
    "train1.head()"
   ]
  },
  {
   "cell_type": "code",
   "execution_count": 95,
   "metadata": {},
   "outputs": [
    {
     "data": {
      "text/html": [
       "<div>\n",
       "<style scoped>\n",
       "    .dataframe tbody tr th:only-of-type {\n",
       "        vertical-align: middle;\n",
       "    }\n",
       "\n",
       "    .dataframe tbody tr th {\n",
       "        vertical-align: top;\n",
       "    }\n",
       "\n",
       "    .dataframe thead th {\n",
       "        text-align: right;\n",
       "    }\n",
       "</style>\n",
       "<table border=\"1\" class=\"dataframe\">\n",
       "  <thead>\n",
       "    <tr style=\"text-align: right;\">\n",
       "      <th></th>\n",
       "      <th>total_interest</th>\n",
       "      <th>total_adclicks</th>\n",
       "      <th>app_part</th>\n",
       "      <th>hour_mean</th>\n",
       "      <th>hour_std</th>\n",
       "      <th>dayofweek_mean</th>\n",
       "      <th>dayofweek_std</th>\n",
       "      <th>user_id</th>\n",
       "    </tr>\n",
       "  </thead>\n",
       "  <tbody>\n",
       "    <tr>\n",
       "      <th>0</th>\n",
       "      <td>0</td>\n",
       "      <td>1</td>\n",
       "      <td>1</td>\n",
       "      <td>23.00</td>\n",
       "      <td>NaN</td>\n",
       "      <td>0.0</td>\n",
       "      <td>NaN</td>\n",
       "      <td>0</td>\n",
       "    </tr>\n",
       "    <tr>\n",
       "      <th>1</th>\n",
       "      <td>0</td>\n",
       "      <td>4</td>\n",
       "      <td>1</td>\n",
       "      <td>20.25</td>\n",
       "      <td>0.500000</td>\n",
       "      <td>1.0</td>\n",
       "      <td>0.816497</td>\n",
       "      <td>2</td>\n",
       "    </tr>\n",
       "    <tr>\n",
       "      <th>2</th>\n",
       "      <td>0</td>\n",
       "      <td>1</td>\n",
       "      <td>1</td>\n",
       "      <td>21.00</td>\n",
       "      <td>NaN</td>\n",
       "      <td>2.0</td>\n",
       "      <td>NaN</td>\n",
       "      <td>3</td>\n",
       "    </tr>\n",
       "    <tr>\n",
       "      <th>3</th>\n",
       "      <td>0</td>\n",
       "      <td>2</td>\n",
       "      <td>1</td>\n",
       "      <td>14.50</td>\n",
       "      <td>4.949747</td>\n",
       "      <td>1.0</td>\n",
       "      <td>0.000000</td>\n",
       "      <td>5</td>\n",
       "    </tr>\n",
       "    <tr>\n",
       "      <th>4</th>\n",
       "      <td>0</td>\n",
       "      <td>1</td>\n",
       "      <td>1</td>\n",
       "      <td>23.00</td>\n",
       "      <td>NaN</td>\n",
       "      <td>4.0</td>\n",
       "      <td>NaN</td>\n",
       "      <td>6</td>\n",
       "    </tr>\n",
       "  </tbody>\n",
       "</table>\n",
       "</div>"
      ],
      "text/plain": [
       "   total_interest  total_adclicks  app_part  hour_mean  hour_std  \\\n",
       "0               0               1         1      23.00       NaN   \n",
       "1               0               4         1      20.25  0.500000   \n",
       "2               0               1         1      21.00       NaN   \n",
       "3               0               2         1      14.50  4.949747   \n",
       "4               0               1         1      23.00       NaN   \n",
       "\n",
       "   dayofweek_mean  dayofweek_std  user_id  \n",
       "0             0.0            NaN        0  \n",
       "1             1.0       0.816497        2  \n",
       "2             2.0            NaN        3  \n",
       "3             1.0       0.000000        5  \n",
       "4             4.0            NaN        6  "
      ]
     },
     "execution_count": 95,
     "metadata": {},
     "output_type": "execute_result"
    }
   ],
   "source": [
    "usr_data = train.groupby(\"user_id\").agg({\"is_click\": [\"sum\", \"count\"], \"app_code\": \"nunique\", \n",
    "                                            \"Hour\": [\"mean\", \"std\"], \"Weekday\":[\"mean\", \"std\"]})\n",
    "usr_data.columns = [\"total_interest\", \"total_adclicks\", \"app_part\", \"hour_mean\", \"hour_std\",\n",
    "                   \"dayofweek_mean\", \"dayofweek_std\"]\n",
    "\n",
    "\n",
    "usr_data['user_id']=usr_data.index\n",
    "usr_data = usr_data.reset_index(drop=True)\n",
    "usr_data.head()"
   ]
  },
  {
   "cell_type": "code",
   "execution_count": 39,
   "metadata": {},
   "outputs": [
    {
     "data": {
      "text/plain": [
       "(0, 92586)"
      ]
     },
     "execution_count": 39,
     "metadata": {},
     "output_type": "execute_result"
    }
   ],
   "source": [
    "min(train['user_id']),max(train['user_id'])"
   ]
  },
  {
   "cell_type": "code",
   "execution_count": 96,
   "metadata": {},
   "outputs": [
    {
     "data": {
      "text/html": [
       "<div>\n",
       "<style scoped>\n",
       "    .dataframe tbody tr th:only-of-type {\n",
       "        vertical-align: middle;\n",
       "    }\n",
       "\n",
       "    .dataframe tbody tr th {\n",
       "        vertical-align: top;\n",
       "    }\n",
       "\n",
       "    .dataframe thead th {\n",
       "        text-align: right;\n",
       "    }\n",
       "</style>\n",
       "<table border=\"1\" class=\"dataframe\">\n",
       "  <thead>\n",
       "    <tr style=\"text-align: right;\">\n",
       "      <th></th>\n",
       "      <th>user_id</th>\n",
       "      <th>app_code</th>\n",
       "      <th>usr_app_interest</th>\n",
       "      <th>usr_app_adclicks</th>\n",
       "    </tr>\n",
       "  </thead>\n",
       "  <tbody>\n",
       "    <tr>\n",
       "      <th>0</th>\n",
       "      <td>0</td>\n",
       "      <td>207</td>\n",
       "      <td>0</td>\n",
       "      <td>1</td>\n",
       "    </tr>\n",
       "    <tr>\n",
       "      <th>1</th>\n",
       "      <td>2</td>\n",
       "      <td>190</td>\n",
       "      <td>0</td>\n",
       "      <td>4</td>\n",
       "    </tr>\n",
       "    <tr>\n",
       "      <th>2</th>\n",
       "      <td>3</td>\n",
       "      <td>371</td>\n",
       "      <td>0</td>\n",
       "      <td>1</td>\n",
       "    </tr>\n",
       "    <tr>\n",
       "      <th>3</th>\n",
       "      <td>5</td>\n",
       "      <td>127</td>\n",
       "      <td>0</td>\n",
       "      <td>2</td>\n",
       "    </tr>\n",
       "    <tr>\n",
       "      <th>4</th>\n",
       "      <td>6</td>\n",
       "      <td>249</td>\n",
       "      <td>0</td>\n",
       "      <td>1</td>\n",
       "    </tr>\n",
       "  </tbody>\n",
       "</table>\n",
       "</div>"
      ],
      "text/plain": [
       "   user_id  app_code  usr_app_interest  usr_app_adclicks\n",
       "0        0       207                 0                 1\n",
       "1        2       190                 0                 4\n",
       "2        3       371                 0                 1\n",
       "3        5       127                 0                 2\n",
       "4        6       249                 0                 1"
      ]
     },
     "execution_count": 96,
     "metadata": {},
     "output_type": "execute_result"
    }
   ],
   "source": [
    "usr_app_data = train.groupby([\"user_id\", \"app_code\"]).agg({\"is_click\": [\"sum\", \"count\"]})\n",
    "usr_app_data.columns = [\"usr_app_interest\", \"usr_app_adclicks\"]\n",
    "#usr_app_data['user_id']=usr_app_data.index\n",
    "usr_app_data = usr_app_data.reset_index(drop=False)\n",
    "usr_app_data.head()"
   ]
  },
  {
   "cell_type": "code",
   "execution_count": 97,
   "metadata": {},
   "outputs": [
    {
     "data": {
      "text/html": [
       "<div>\n",
       "<style scoped>\n",
       "    .dataframe tbody tr th:only-of-type {\n",
       "        vertical-align: middle;\n",
       "    }\n",
       "\n",
       "    .dataframe tbody tr th {\n",
       "        vertical-align: top;\n",
       "    }\n",
       "\n",
       "    .dataframe thead th {\n",
       "        text-align: right;\n",
       "    }\n",
       "</style>\n",
       "<table border=\"1\" class=\"dataframe\">\n",
       "  <thead>\n",
       "    <tr style=\"text-align: right;\">\n",
       "      <th></th>\n",
       "      <th>total_interest</th>\n",
       "      <th>total_adclicks</th>\n",
       "      <th>app_part</th>\n",
       "      <th>hour_mean</th>\n",
       "      <th>hour_std</th>\n",
       "      <th>dayofweek_mean</th>\n",
       "      <th>dayofweek_std</th>\n",
       "      <th>user_id</th>\n",
       "      <th>app_code</th>\n",
       "      <th>usr_app_interest</th>\n",
       "      <th>usr_app_adclicks</th>\n",
       "    </tr>\n",
       "  </thead>\n",
       "  <tbody>\n",
       "    <tr>\n",
       "      <th>0</th>\n",
       "      <td>0</td>\n",
       "      <td>1</td>\n",
       "      <td>1</td>\n",
       "      <td>23.00</td>\n",
       "      <td>NaN</td>\n",
       "      <td>0.0</td>\n",
       "      <td>NaN</td>\n",
       "      <td>0</td>\n",
       "      <td>207</td>\n",
       "      <td>0</td>\n",
       "      <td>1</td>\n",
       "    </tr>\n",
       "    <tr>\n",
       "      <th>1</th>\n",
       "      <td>0</td>\n",
       "      <td>4</td>\n",
       "      <td>1</td>\n",
       "      <td>20.25</td>\n",
       "      <td>0.500000</td>\n",
       "      <td>1.0</td>\n",
       "      <td>0.816497</td>\n",
       "      <td>2</td>\n",
       "      <td>190</td>\n",
       "      <td>0</td>\n",
       "      <td>4</td>\n",
       "    </tr>\n",
       "    <tr>\n",
       "      <th>2</th>\n",
       "      <td>0</td>\n",
       "      <td>1</td>\n",
       "      <td>1</td>\n",
       "      <td>21.00</td>\n",
       "      <td>NaN</td>\n",
       "      <td>2.0</td>\n",
       "      <td>NaN</td>\n",
       "      <td>3</td>\n",
       "      <td>371</td>\n",
       "      <td>0</td>\n",
       "      <td>1</td>\n",
       "    </tr>\n",
       "    <tr>\n",
       "      <th>3</th>\n",
       "      <td>0</td>\n",
       "      <td>2</td>\n",
       "      <td>1</td>\n",
       "      <td>14.50</td>\n",
       "      <td>4.949747</td>\n",
       "      <td>1.0</td>\n",
       "      <td>0.000000</td>\n",
       "      <td>5</td>\n",
       "      <td>127</td>\n",
       "      <td>0</td>\n",
       "      <td>2</td>\n",
       "    </tr>\n",
       "    <tr>\n",
       "      <th>4</th>\n",
       "      <td>0</td>\n",
       "      <td>1</td>\n",
       "      <td>1</td>\n",
       "      <td>23.00</td>\n",
       "      <td>NaN</td>\n",
       "      <td>4.0</td>\n",
       "      <td>NaN</td>\n",
       "      <td>6</td>\n",
       "      <td>249</td>\n",
       "      <td>0</td>\n",
       "      <td>1</td>\n",
       "    </tr>\n",
       "  </tbody>\n",
       "</table>\n",
       "</div>"
      ],
      "text/plain": [
       "   total_interest  total_adclicks  app_part  hour_mean  hour_std  \\\n",
       "0               0               1         1      23.00       NaN   \n",
       "1               0               4         1      20.25  0.500000   \n",
       "2               0               1         1      21.00       NaN   \n",
       "3               0               2         1      14.50  4.949747   \n",
       "4               0               1         1      23.00       NaN   \n",
       "\n",
       "   dayofweek_mean  dayofweek_std  user_id  app_code  usr_app_interest  \\\n",
       "0             0.0            NaN        0       207                 0   \n",
       "1             1.0       0.816497        2       190                 0   \n",
       "2             2.0            NaN        3       371                 0   \n",
       "3             1.0       0.000000        5       127                 0   \n",
       "4             4.0            NaN        6       249                 0   \n",
       "\n",
       "   usr_app_adclicks  \n",
       "0                 1  \n",
       "1                 4  \n",
       "2                 1  \n",
       "3                 2  \n",
       "4                 1  "
      ]
     },
     "execution_count": 97,
     "metadata": {},
     "output_type": "execute_result"
    }
   ],
   "source": [
    "all_data = pd.merge(usr_data, usr_app_data, on=[\"user_id\"], how=\"left\")\n",
    "all_data.head()"
   ]
  },
  {
   "cell_type": "code",
   "execution_count": 59,
   "metadata": {},
   "outputs": [
    {
     "data": {
      "text/html": [
       "<div>\n",
       "<style scoped>\n",
       "    .dataframe tbody tr th:only-of-type {\n",
       "        vertical-align: middle;\n",
       "    }\n",
       "\n",
       "    .dataframe tbody tr th {\n",
       "        vertical-align: top;\n",
       "    }\n",
       "\n",
       "    .dataframe thead th {\n",
       "        text-align: right;\n",
       "    }\n",
       "</style>\n",
       "<table border=\"1\" class=\"dataframe\">\n",
       "  <thead>\n",
       "    <tr style=\"text-align: right;\">\n",
       "      <th></th>\n",
       "      <th>total_interest</th>\n",
       "      <th>total_adclicks</th>\n",
       "      <th>app_part</th>\n",
       "      <th>hour_mean</th>\n",
       "      <th>hour_std</th>\n",
       "      <th>dayofweek_mean</th>\n",
       "      <th>dayofweek_std</th>\n",
       "      <th>user_id</th>\n",
       "      <th>app_code</th>\n",
       "      <th>usr_app_interest</th>\n",
       "      <th>usr_app_adclicks</th>\n",
       "      <th>interest_ratio</th>\n",
       "      <th>app_interest_ratio</th>\n",
       "    </tr>\n",
       "  </thead>\n",
       "  <tbody>\n",
       "    <tr>\n",
       "      <th>0</th>\n",
       "      <td>0</td>\n",
       "      <td>1</td>\n",
       "      <td>1</td>\n",
       "      <td>23.00</td>\n",
       "      <td>0.000000</td>\n",
       "      <td>0.0</td>\n",
       "      <td>0.000000</td>\n",
       "      <td>0</td>\n",
       "      <td>207</td>\n",
       "      <td>0</td>\n",
       "      <td>1</td>\n",
       "      <td>0.0</td>\n",
       "      <td>0.0</td>\n",
       "    </tr>\n",
       "    <tr>\n",
       "      <th>1</th>\n",
       "      <td>0</td>\n",
       "      <td>4</td>\n",
       "      <td>1</td>\n",
       "      <td>20.25</td>\n",
       "      <td>0.500000</td>\n",
       "      <td>1.0</td>\n",
       "      <td>0.816497</td>\n",
       "      <td>2</td>\n",
       "      <td>190</td>\n",
       "      <td>0</td>\n",
       "      <td>4</td>\n",
       "      <td>0.0</td>\n",
       "      <td>0.0</td>\n",
       "    </tr>\n",
       "    <tr>\n",
       "      <th>2</th>\n",
       "      <td>0</td>\n",
       "      <td>1</td>\n",
       "      <td>1</td>\n",
       "      <td>21.00</td>\n",
       "      <td>0.000000</td>\n",
       "      <td>2.0</td>\n",
       "      <td>0.000000</td>\n",
       "      <td>3</td>\n",
       "      <td>371</td>\n",
       "      <td>0</td>\n",
       "      <td>1</td>\n",
       "      <td>0.0</td>\n",
       "      <td>0.0</td>\n",
       "    </tr>\n",
       "    <tr>\n",
       "      <th>3</th>\n",
       "      <td>0</td>\n",
       "      <td>2</td>\n",
       "      <td>1</td>\n",
       "      <td>14.50</td>\n",
       "      <td>4.949747</td>\n",
       "      <td>1.0</td>\n",
       "      <td>0.000000</td>\n",
       "      <td>5</td>\n",
       "      <td>127</td>\n",
       "      <td>0</td>\n",
       "      <td>2</td>\n",
       "      <td>0.0</td>\n",
       "      <td>0.0</td>\n",
       "    </tr>\n",
       "    <tr>\n",
       "      <th>4</th>\n",
       "      <td>0</td>\n",
       "      <td>1</td>\n",
       "      <td>1</td>\n",
       "      <td>23.00</td>\n",
       "      <td>0.000000</td>\n",
       "      <td>4.0</td>\n",
       "      <td>0.000000</td>\n",
       "      <td>6</td>\n",
       "      <td>249</td>\n",
       "      <td>0</td>\n",
       "      <td>1</td>\n",
       "      <td>0.0</td>\n",
       "      <td>0.0</td>\n",
       "    </tr>\n",
       "  </tbody>\n",
       "</table>\n",
       "</div>"
      ],
      "text/plain": [
       "   total_interest  total_adclicks  app_part  hour_mean  hour_std  \\\n",
       "0               0               1         1      23.00  0.000000   \n",
       "1               0               4         1      20.25  0.500000   \n",
       "2               0               1         1      21.00  0.000000   \n",
       "3               0               2         1      14.50  4.949747   \n",
       "4               0               1         1      23.00  0.000000   \n",
       "\n",
       "   dayofweek_mean  dayofweek_std  user_id  app_code  usr_app_interest  \\\n",
       "0             0.0       0.000000        0       207                 0   \n",
       "1             1.0       0.816497        2       190                 0   \n",
       "2             2.0       0.000000        3       371                 0   \n",
       "3             1.0       0.000000        5       127                 0   \n",
       "4             4.0       0.000000        6       249                 0   \n",
       "\n",
       "   usr_app_adclicks  interest_ratio  app_interest_ratio  \n",
       "0                 1             0.0                 0.0  \n",
       "1                 4             0.0                 0.0  \n",
       "2                 1             0.0                 0.0  \n",
       "3                 2             0.0                 0.0  \n",
       "4                 1             0.0                 0.0  "
      ]
     },
     "execution_count": 59,
     "metadata": {},
     "output_type": "execute_result"
    }
   ],
   "source": [
    "all_data.head()"
   ]
  },
  {
   "cell_type": "code",
   "execution_count": 98,
   "metadata": {},
   "outputs": [],
   "source": [
    "all_data['dayofweek_std'].fillna(0, inplace=True)"
   ]
  },
  {
   "cell_type": "code",
   "execution_count": 99,
   "metadata": {},
   "outputs": [],
   "source": [
    "all_data['hour_std'].fillna(0, inplace=True)"
   ]
  },
  {
   "cell_type": "code",
   "execution_count": 100,
   "metadata": {},
   "outputs": [],
   "source": [
    "all_data[\"interest_ratio\"] = all_data[\"total_interest\"]/all_data[\"total_adclicks\"]\n",
    "all_data[\"app_interest_ratio\"] = all_data[\"usr_app_interest\"] / all_data[\"usr_app_adclicks\"]"
   ]
  },
  {
   "cell_type": "code",
   "execution_count": 101,
   "metadata": {},
   "outputs": [
    {
     "data": {
      "text/html": [
       "<div>\n",
       "<style scoped>\n",
       "    .dataframe tbody tr th:only-of-type {\n",
       "        vertical-align: middle;\n",
       "    }\n",
       "\n",
       "    .dataframe tbody tr th {\n",
       "        vertical-align: top;\n",
       "    }\n",
       "\n",
       "    .dataframe thead th {\n",
       "        text-align: right;\n",
       "    }\n",
       "</style>\n",
       "<table border=\"1\" class=\"dataframe\">\n",
       "  <thead>\n",
       "    <tr style=\"text-align: right;\">\n",
       "      <th></th>\n",
       "      <th>user_id</th>\n",
       "      <th>user_time_counts_mean</th>\n",
       "      <th>user_time_counts_std</th>\n",
       "      <th>user_time_counts_max</th>\n",
       "      <th>user_time_counts_median</th>\n",
       "      <th>user_time_counts_skew</th>\n",
       "    </tr>\n",
       "  </thead>\n",
       "  <tbody>\n",
       "    <tr>\n",
       "      <th>0</th>\n",
       "      <td>0</td>\n",
       "      <td>1.0</td>\n",
       "      <td>NaN</td>\n",
       "      <td>1</td>\n",
       "      <td>1.0</td>\n",
       "      <td>NaN</td>\n",
       "    </tr>\n",
       "    <tr>\n",
       "      <th>1</th>\n",
       "      <td>2</td>\n",
       "      <td>1.0</td>\n",
       "      <td>0.0</td>\n",
       "      <td>1</td>\n",
       "      <td>1.0</td>\n",
       "      <td>0.0</td>\n",
       "    </tr>\n",
       "    <tr>\n",
       "      <th>2</th>\n",
       "      <td>3</td>\n",
       "      <td>1.0</td>\n",
       "      <td>NaN</td>\n",
       "      <td>1</td>\n",
       "      <td>1.0</td>\n",
       "      <td>NaN</td>\n",
       "    </tr>\n",
       "    <tr>\n",
       "      <th>3</th>\n",
       "      <td>5</td>\n",
       "      <td>1.0</td>\n",
       "      <td>0.0</td>\n",
       "      <td>1</td>\n",
       "      <td>1.0</td>\n",
       "      <td>NaN</td>\n",
       "    </tr>\n",
       "    <tr>\n",
       "      <th>4</th>\n",
       "      <td>6</td>\n",
       "      <td>1.0</td>\n",
       "      <td>NaN</td>\n",
       "      <td>1</td>\n",
       "      <td>1.0</td>\n",
       "      <td>NaN</td>\n",
       "    </tr>\n",
       "  </tbody>\n",
       "</table>\n",
       "</div>"
      ],
      "text/plain": [
       "   user_id  user_time_counts_mean  user_time_counts_std  user_time_counts_max  \\\n",
       "0        0                    1.0                   NaN                     1   \n",
       "1        2                    1.0                   0.0                     1   \n",
       "2        3                    1.0                   NaN                     1   \n",
       "3        5                    1.0                   0.0                     1   \n",
       "4        6                    1.0                   NaN                     1   \n",
       "\n",
       "   user_time_counts_median  user_time_counts_skew  \n",
       "0                      1.0                    NaN  \n",
       "1                      1.0                    0.0  \n",
       "2                      1.0                    NaN  \n",
       "3                      1.0                    NaN  \n",
       "4                      1.0                    NaN  "
      ]
     },
     "execution_count": 101,
     "metadata": {},
     "output_type": "execute_result"
    }
   ],
   "source": [
    "user_time = train.groupby([\"user_id\", \"impression_time_Timestamp\"]).size()\n",
    "user_time.name = \"user_time_counts\"\n",
    "user_time = user_time.reset_index()\n",
    "user_time = user_time.groupby(\"user_id\").agg({\"user_time_counts\": [\"mean\", \"std\", \"max\", \"median\", \"skew\"]})\n",
    "user_time.columns = [\"user_time_counts_mean\", \"user_time_counts_std\", \"user_time_counts_max\",\n",
    "                     \"user_time_counts_median\", \"user_time_counts_skew\"]\n",
    "user_time = user_time.reset_index()\n",
    "user_time.head()"
   ]
  },
  {
   "cell_type": "code",
   "execution_count": 174,
   "metadata": {},
   "outputs": [
    {
     "data": {
      "text/html": [
       "<div>\n",
       "<style scoped>\n",
       "    .dataframe tbody tr th:only-of-type {\n",
       "        vertical-align: middle;\n",
       "    }\n",
       "\n",
       "    .dataframe tbody tr th {\n",
       "        vertical-align: top;\n",
       "    }\n",
       "\n",
       "    .dataframe thead th {\n",
       "        text-align: right;\n",
       "    }\n",
       "</style>\n",
       "<table border=\"1\" class=\"dataframe\">\n",
       "  <thead>\n",
       "    <tr style=\"text-align: right;\">\n",
       "      <th></th>\n",
       "      <th>user_id</th>\n",
       "      <th>user_time_counts_mean</th>\n",
       "      <th>user_time_counts_std</th>\n",
       "      <th>user_time_counts_max</th>\n",
       "      <th>user_time_counts_median</th>\n",
       "      <th>user_time_counts_skew</th>\n",
       "    </tr>\n",
       "  </thead>\n",
       "  <tbody>\n",
       "    <tr>\n",
       "      <th>0</th>\n",
       "      <td>1</td>\n",
       "      <td>1.0</td>\n",
       "      <td>NaN</td>\n",
       "      <td>1</td>\n",
       "      <td>1.0</td>\n",
       "      <td>NaN</td>\n",
       "    </tr>\n",
       "    <tr>\n",
       "      <th>1</th>\n",
       "      <td>4</td>\n",
       "      <td>1.0</td>\n",
       "      <td>0.0</td>\n",
       "      <td>1</td>\n",
       "      <td>1.0</td>\n",
       "      <td>NaN</td>\n",
       "    </tr>\n",
       "    <tr>\n",
       "      <th>2</th>\n",
       "      <td>7</td>\n",
       "      <td>1.0</td>\n",
       "      <td>NaN</td>\n",
       "      <td>1</td>\n",
       "      <td>1.0</td>\n",
       "      <td>NaN</td>\n",
       "    </tr>\n",
       "    <tr>\n",
       "      <th>3</th>\n",
       "      <td>8</td>\n",
       "      <td>1.0</td>\n",
       "      <td>NaN</td>\n",
       "      <td>1</td>\n",
       "      <td>1.0</td>\n",
       "      <td>NaN</td>\n",
       "    </tr>\n",
       "    <tr>\n",
       "      <th>4</th>\n",
       "      <td>11</td>\n",
       "      <td>1.0</td>\n",
       "      <td>0.0</td>\n",
       "      <td>1</td>\n",
       "      <td>1.0</td>\n",
       "      <td>NaN</td>\n",
       "    </tr>\n",
       "  </tbody>\n",
       "</table>\n",
       "</div>"
      ],
      "text/plain": [
       "   user_id  user_time_counts_mean  user_time_counts_std  user_time_counts_max  \\\n",
       "0        1                    1.0                   NaN                     1   \n",
       "1        4                    1.0                   0.0                     1   \n",
       "2        7                    1.0                   NaN                     1   \n",
       "3        8                    1.0                   NaN                     1   \n",
       "4       11                    1.0                   0.0                     1   \n",
       "\n",
       "   user_time_counts_median  user_time_counts_skew  \n",
       "0                      1.0                    NaN  \n",
       "1                      1.0                    NaN  \n",
       "2                      1.0                    NaN  \n",
       "3                      1.0                    NaN  \n",
       "4                      1.0                    NaN  "
      ]
     },
     "execution_count": 174,
     "metadata": {},
     "output_type": "execute_result"
    }
   ],
   "source": [
    "user_time_test = test.groupby([\"user_id\", \"impression_time_Timestamp\"]).size()\n",
    "user_time_test.name = \"user_time_counts\"\n",
    "user_time_test = user_time_test.reset_index()\n",
    "user_time_test = user_time_test.groupby(\"user_id\").agg({\"user_time_counts\": [\"mean\", \"std\", \"max\", \"median\", \"skew\"]})\n",
    "user_time_test.columns = [\"user_time_counts_mean\", \"user_time_counts_std\", \"user_time_counts_max\",\n",
    "                     \"user_time_counts_median\", \"user_time_counts_skew\"]\n",
    "user_time_test = user_time_test.reset_index()\n",
    "user_time_test.head()"
   ]
  },
  {
   "cell_type": "code",
   "execution_count": 176,
   "metadata": {},
   "outputs": [
    {
     "data": {
      "text/plain": [
       "(82788, 13)"
      ]
     },
     "execution_count": 176,
     "metadata": {},
     "output_type": "execute_result"
    }
   ],
   "source": [
    "all_data.shape"
   ]
  },
  {
   "cell_type": "code",
   "execution_count": 186,
   "metadata": {},
   "outputs": [
    {
     "data": {
      "text/html": [
       "<div>\n",
       "<style scoped>\n",
       "    .dataframe tbody tr th:only-of-type {\n",
       "        vertical-align: middle;\n",
       "    }\n",
       "\n",
       "    .dataframe tbody tr th {\n",
       "        vertical-align: top;\n",
       "    }\n",
       "\n",
       "    .dataframe thead th {\n",
       "        text-align: right;\n",
       "    }\n",
       "</style>\n",
       "<table border=\"1\" class=\"dataframe\">\n",
       "  <thead>\n",
       "    <tr style=\"text-align: right;\">\n",
       "      <th></th>\n",
       "      <th>impression_id</th>\n",
       "      <th>user_id</th>\n",
       "      <th>app_code_x</th>\n",
       "      <th>os_version</th>\n",
       "      <th>is_4G</th>\n",
       "      <th>ad_count</th>\n",
       "      <th>ad_pri</th>\n",
       "      <th>click_sum</th>\n",
       "      <th>ad_click</th>\n",
       "      <th>impression_time_Timestamp</th>\n",
       "      <th>...</th>\n",
       "      <th>app_part</th>\n",
       "      <th>hour_mean</th>\n",
       "      <th>hour_std</th>\n",
       "      <th>dayofweek_mean</th>\n",
       "      <th>dayofweek_std</th>\n",
       "      <th>app_code_y</th>\n",
       "      <th>usr_app_interest</th>\n",
       "      <th>usr_app_adclicks</th>\n",
       "      <th>interest_ratio</th>\n",
       "      <th>app_interest_ratio</th>\n",
       "    </tr>\n",
       "  </thead>\n",
       "  <tbody>\n",
       "    <tr>\n",
       "      <th>0</th>\n",
       "      <td>a9e7126a585a69a32bc7414e9d0c0ada</td>\n",
       "      <td>44754</td>\n",
       "      <td>127</td>\n",
       "      <td>latest</td>\n",
       "      <td>1</td>\n",
       "      <td>10851.0</td>\n",
       "      <td>1</td>\n",
       "      <td>577.0</td>\n",
       "      <td>1</td>\n",
       "      <td>2018-12-13 07:44:00</td>\n",
       "      <td>...</td>\n",
       "      <td>NaN</td>\n",
       "      <td>NaN</td>\n",
       "      <td>NaN</td>\n",
       "      <td>NaN</td>\n",
       "      <td>NaN</td>\n",
       "      <td>NaN</td>\n",
       "      <td>NaN</td>\n",
       "      <td>NaN</td>\n",
       "      <td>NaN</td>\n",
       "      <td>NaN</td>\n",
       "    </tr>\n",
       "    <tr>\n",
       "      <th>1</th>\n",
       "      <td>caac14a5bf2ba283db7708bb34855760</td>\n",
       "      <td>29656</td>\n",
       "      <td>44</td>\n",
       "      <td>latest</td>\n",
       "      <td>0</td>\n",
       "      <td>4346.0</td>\n",
       "      <td>1</td>\n",
       "      <td>27.0</td>\n",
       "      <td>0</td>\n",
       "      <td>2018-12-13 07:45:00</td>\n",
       "      <td>...</td>\n",
       "      <td>1.0</td>\n",
       "      <td>6.333333</td>\n",
       "      <td>3.881580</td>\n",
       "      <td>2.000000</td>\n",
       "      <td>1.549193</td>\n",
       "      <td>44.0</td>\n",
       "      <td>0.0</td>\n",
       "      <td>6.0</td>\n",
       "      <td>0.0</td>\n",
       "      <td>0.0</td>\n",
       "    </tr>\n",
       "    <tr>\n",
       "      <th>2</th>\n",
       "      <td>13f10ba306a19ce7bec2f3cae507b698</td>\n",
       "      <td>25234</td>\n",
       "      <td>296</td>\n",
       "      <td>latest</td>\n",
       "      <td>1</td>\n",
       "      <td>7453.0</td>\n",
       "      <td>1</td>\n",
       "      <td>574.0</td>\n",
       "      <td>1</td>\n",
       "      <td>2018-12-13 07:46:00</td>\n",
       "      <td>...</td>\n",
       "      <td>NaN</td>\n",
       "      <td>NaN</td>\n",
       "      <td>NaN</td>\n",
       "      <td>NaN</td>\n",
       "      <td>NaN</td>\n",
       "      <td>NaN</td>\n",
       "      <td>NaN</td>\n",
       "      <td>NaN</td>\n",
       "      <td>NaN</td>\n",
       "      <td>NaN</td>\n",
       "    </tr>\n",
       "    <tr>\n",
       "      <th>3</th>\n",
       "      <td>39c4b4dc0e9701b55a0a4f072008fb3f</td>\n",
       "      <td>22988</td>\n",
       "      <td>207</td>\n",
       "      <td>latest</td>\n",
       "      <td>1</td>\n",
       "      <td>33788.0</td>\n",
       "      <td>1</td>\n",
       "      <td>482.0</td>\n",
       "      <td>1</td>\n",
       "      <td>2018-12-13 07:47:00</td>\n",
       "      <td>...</td>\n",
       "      <td>1.0</td>\n",
       "      <td>14.142857</td>\n",
       "      <td>6.841749</td>\n",
       "      <td>1.714286</td>\n",
       "      <td>2.058663</td>\n",
       "      <td>207.0</td>\n",
       "      <td>0.0</td>\n",
       "      <td>7.0</td>\n",
       "      <td>0.0</td>\n",
       "      <td>0.0</td>\n",
       "    </tr>\n",
       "    <tr>\n",
       "      <th>4</th>\n",
       "      <td>bf5a572cca75f5fc67f4b14e58b11d70</td>\n",
       "      <td>35431</td>\n",
       "      <td>242</td>\n",
       "      <td>latest</td>\n",
       "      <td>1</td>\n",
       "      <td>3761.0</td>\n",
       "      <td>1</td>\n",
       "      <td>371.0</td>\n",
       "      <td>1</td>\n",
       "      <td>2018-12-13 07:48:00</td>\n",
       "      <td>...</td>\n",
       "      <td>1.0</td>\n",
       "      <td>12.200000</td>\n",
       "      <td>4.851478</td>\n",
       "      <td>2.650000</td>\n",
       "      <td>1.631112</td>\n",
       "      <td>242.0</td>\n",
       "      <td>4.0</td>\n",
       "      <td>20.0</td>\n",
       "      <td>0.2</td>\n",
       "      <td>0.2</td>\n",
       "    </tr>\n",
       "  </tbody>\n",
       "</table>\n",
       "<p>5 rows × 27 columns</p>\n",
       "</div>"
      ],
      "text/plain": [
       "                      impression_id  user_id  app_code_x os_version  is_4G  \\\n",
       "0  a9e7126a585a69a32bc7414e9d0c0ada    44754         127     latest      1   \n",
       "1  caac14a5bf2ba283db7708bb34855760    29656          44     latest      0   \n",
       "2  13f10ba306a19ce7bec2f3cae507b698    25234         296     latest      1   \n",
       "3  39c4b4dc0e9701b55a0a4f072008fb3f    22988         207     latest      1   \n",
       "4  bf5a572cca75f5fc67f4b14e58b11d70    35431         242     latest      1   \n",
       "\n",
       "   ad_count  ad_pri  click_sum  ad_click impression_time_Timestamp  ...  \\\n",
       "0   10851.0       1      577.0         1       2018-12-13 07:44:00  ...   \n",
       "1    4346.0       1       27.0         0       2018-12-13 07:45:00  ...   \n",
       "2    7453.0       1      574.0         1       2018-12-13 07:46:00  ...   \n",
       "3   33788.0       1      482.0         1       2018-12-13 07:47:00  ...   \n",
       "4    3761.0       1      371.0         1       2018-12-13 07:48:00  ...   \n",
       "\n",
       "   app_part  hour_mean  hour_std  dayofweek_mean  dayofweek_std  app_code_y  \\\n",
       "0       NaN        NaN       NaN             NaN            NaN         NaN   \n",
       "1       1.0   6.333333  3.881580        2.000000       1.549193        44.0   \n",
       "2       NaN        NaN       NaN             NaN            NaN         NaN   \n",
       "3       1.0  14.142857  6.841749        1.714286       2.058663       207.0   \n",
       "4       1.0  12.200000  4.851478        2.650000       1.631112       242.0   \n",
       "\n",
       "   usr_app_interest  usr_app_adclicks  interest_ratio  app_interest_ratio  \n",
       "0               NaN               NaN             NaN                 NaN  \n",
       "1               0.0               6.0             0.0                 0.0  \n",
       "2               NaN               NaN             NaN                 NaN  \n",
       "3               0.0               7.0             0.0                 0.0  \n",
       "4               4.0              20.0             0.2                 0.2  \n",
       "\n",
       "[5 rows x 27 columns]"
      ]
     },
     "execution_count": 186,
     "metadata": {},
     "output_type": "execute_result"
    }
   ],
   "source": [
    "test.head()"
   ]
  },
  {
   "cell_type": "code",
   "execution_count": 103,
   "metadata": {},
   "outputs": [],
   "source": [
    "train = pd.merge(train, all_data, on=[\"user_id\"], how=\"left\")"
   ]
  },
  {
   "cell_type": "code",
   "execution_count": 177,
   "metadata": {},
   "outputs": [],
   "source": [
    "test = pd.merge(test, all_data, left_on=\"user_id\", right_on=\"user_id\", how=\"left\")"
   ]
  },
  {
   "cell_type": "code",
   "execution_count": 179,
   "metadata": {},
   "outputs": [
    {
     "data": {
      "text/plain": [
       "(112163, 27)"
      ]
     },
     "execution_count": 179,
     "metadata": {},
     "output_type": "execute_result"
    }
   ],
   "source": [
    "test.shape"
   ]
  },
  {
   "cell_type": "code",
   "execution_count": 105,
   "metadata": {},
   "outputs": [],
   "source": [
    "train = pd.merge(train, user_time, on=[\"user_id\"], how=\"left\")"
   ]
  },
  {
   "cell_type": "code",
   "execution_count": 202,
   "metadata": {},
   "outputs": [],
   "source": [
    "test = pd.merge(test, user_time_test, left_on=\"user_id\", right_on=\"user_id\", how=\"left\")"
   ]
  },
  {
   "cell_type": "code",
   "execution_count": 209,
   "metadata": {},
   "outputs": [
    {
     "data": {
      "text/plain": [
       "(112163, 32)"
      ]
     },
     "execution_count": 209,
     "metadata": {},
     "output_type": "execute_result"
    }
   ],
   "source": [
    "test.shape"
   ]
  },
  {
   "cell_type": "code",
   "execution_count": 203,
   "metadata": {},
   "outputs": [],
   "source": [
    "Test_sample= test.drop_duplicates(subset=None, keep='first', inplace=True)"
   ]
  },
  {
   "cell_type": "code",
   "execution_count": 206,
   "metadata": {},
   "outputs": [],
   "source": [
    "Test_sample"
   ]
  },
  {
   "cell_type": "code",
   "execution_count": null,
   "metadata": {},
   "outputs": [],
   "source": []
  },
  {
   "cell_type": "code",
   "execution_count": 107,
   "metadata": {},
   "outputs": [
    {
     "data": {
      "text/html": [
       "<div>\n",
       "<style scoped>\n",
       "    .dataframe tbody tr th:only-of-type {\n",
       "        vertical-align: middle;\n",
       "    }\n",
       "\n",
       "    .dataframe tbody tr th {\n",
       "        vertical-align: top;\n",
       "    }\n",
       "\n",
       "    .dataframe thead th {\n",
       "        text-align: right;\n",
       "    }\n",
       "</style>\n",
       "<table border=\"1\" class=\"dataframe\">\n",
       "  <thead>\n",
       "    <tr style=\"text-align: right;\">\n",
       "      <th></th>\n",
       "      <th>server_time</th>\n",
       "      <th>device_type</th>\n",
       "      <th>session_id</th>\n",
       "      <th>user_id</th>\n",
       "      <th>item_id</th>\n",
       "      <th>item_price</th>\n",
       "      <th>category_1</th>\n",
       "      <th>category_2</th>\n",
       "      <th>category_3</th>\n",
       "      <th>product_type</th>\n",
       "    </tr>\n",
       "  </thead>\n",
       "  <tbody>\n",
       "    <tr>\n",
       "      <th>0</th>\n",
       "      <td>2018-10-15 08:58:00</td>\n",
       "      <td>android</td>\n",
       "      <td>112333</td>\n",
       "      <td>4557</td>\n",
       "      <td>32970</td>\n",
       "      <td>54685.0</td>\n",
       "      <td>16.0</td>\n",
       "      <td>56.0</td>\n",
       "      <td>253.0</td>\n",
       "      <td>3184.0</td>\n",
       "    </tr>\n",
       "    <tr>\n",
       "      <th>1</th>\n",
       "      <td>2018-10-15 08:58:00</td>\n",
       "      <td>android</td>\n",
       "      <td>503590</td>\n",
       "      <td>74788</td>\n",
       "      <td>7640</td>\n",
       "      <td>1376.0</td>\n",
       "      <td>7.0</td>\n",
       "      <td>71.0</td>\n",
       "      <td>228.0</td>\n",
       "      <td>545.0</td>\n",
       "    </tr>\n",
       "    <tr>\n",
       "      <th>2</th>\n",
       "      <td>2018-10-15 08:58:00</td>\n",
       "      <td>android</td>\n",
       "      <td>573960</td>\n",
       "      <td>23628</td>\n",
       "      <td>128855</td>\n",
       "      <td>4544.0</td>\n",
       "      <td>4.0</td>\n",
       "      <td>38.0</td>\n",
       "      <td>62.0</td>\n",
       "      <td>5609.0</td>\n",
       "    </tr>\n",
       "    <tr>\n",
       "      <th>3</th>\n",
       "      <td>2018-10-15 08:58:00</td>\n",
       "      <td>android</td>\n",
       "      <td>121691</td>\n",
       "      <td>2430</td>\n",
       "      <td>12774</td>\n",
       "      <td>904.0</td>\n",
       "      <td>17.0</td>\n",
       "      <td>39.0</td>\n",
       "      <td>252.0</td>\n",
       "      <td>2740.0</td>\n",
       "    </tr>\n",
       "    <tr>\n",
       "      <th>4</th>\n",
       "      <td>2018-10-15 08:58:00</td>\n",
       "      <td>android</td>\n",
       "      <td>218564</td>\n",
       "      <td>19227</td>\n",
       "      <td>28296</td>\n",
       "      <td>2304.0</td>\n",
       "      <td>12.0</td>\n",
       "      <td>57.0</td>\n",
       "      <td>54.0</td>\n",
       "      <td>7422.0</td>\n",
       "    </tr>\n",
       "  </tbody>\n",
       "</table>\n",
       "</div>"
      ],
      "text/plain": [
       "           server_time device_type  session_id  user_id  item_id  item_price  \\\n",
       "0  2018-10-15 08:58:00     android      112333     4557    32970     54685.0   \n",
       "1  2018-10-15 08:58:00     android      503590    74788     7640      1376.0   \n",
       "2  2018-10-15 08:58:00     android      573960    23628   128855      4544.0   \n",
       "3  2018-10-15 08:58:00     android      121691     2430    12774       904.0   \n",
       "4  2018-10-15 08:58:00     android      218564    19227    28296      2304.0   \n",
       "\n",
       "   category_1  category_2  category_3  product_type  \n",
       "0        16.0        56.0       253.0        3184.0  \n",
       "1         7.0        71.0       228.0         545.0  \n",
       "2         4.0        38.0        62.0        5609.0  \n",
       "3        17.0        39.0       252.0        2740.0  \n",
       "4        12.0        57.0        54.0        7422.0  "
      ]
     },
     "execution_count": 107,
     "metadata": {},
     "output_type": "execute_result"
    }
   ],
   "source": [
    "log_item_merge.head()"
   ]
  },
  {
   "cell_type": "code",
   "execution_count": null,
   "metadata": {},
   "outputs": [],
   "source": []
  },
  {
   "cell_type": "code",
   "execution_count": 154,
   "metadata": {},
   "outputs": [
    {
     "data": {
      "text/plain": [
       "(90675, 15)"
      ]
     },
     "execution_count": 154,
     "metadata": {},
     "output_type": "execute_result"
    }
   ],
   "source": [
    "train1.shape"
   ]
  },
  {
   "cell_type": "code",
   "execution_count": 153,
   "metadata": {},
   "outputs": [
    {
     "ename": "NameError",
     "evalue": "name 'test1' is not defined",
     "output_type": "error",
     "traceback": [
      "\u001b[1;31m---------------------------------------------------------------------------\u001b[0m",
      "\u001b[1;31mNameError\u001b[0m                                 Traceback (most recent call last)",
      "\u001b[1;32m<ipython-input-153-f981e26c1dc0>\u001b[0m in \u001b[0;36m<module>\u001b[1;34m\u001b[0m\n\u001b[1;32m----> 1\u001b[1;33m \u001b[0mtest1\u001b[0m\u001b[1;33m.\u001b[0m\u001b[0mshape\u001b[0m\u001b[1;33m\u001b[0m\u001b[1;33m\u001b[0m\u001b[0m\n\u001b[0m",
      "\u001b[1;31mNameError\u001b[0m: name 'test1' is not defined"
     ]
    }
   ],
   "source": [
    "test1.shape"
   ]
  },
  {
   "cell_type": "code",
   "execution_count": 114,
   "metadata": {},
   "outputs": [],
   "source": [
    "train['user_time_counts_std'].fillna(0, inplace=True)"
   ]
  },
  {
   "cell_type": "code",
   "execution_count": 115,
   "metadata": {},
   "outputs": [],
   "source": [
    "train['user_time_counts_skew'].fillna(0, inplace=True)"
   ]
  },
  {
   "cell_type": "code",
   "execution_count": 116,
   "metadata": {},
   "outputs": [],
   "source": [
    "test['user_time_counts_std'].fillna(0, inplace=True)"
   ]
  },
  {
   "cell_type": "code",
   "execution_count": 117,
   "metadata": {},
   "outputs": [],
   "source": [
    "test['user_time_counts_skew'].fillna(0, inplace=True)"
   ]
  },
  {
   "cell_type": "code",
   "execution_count": 147,
   "metadata": {},
   "outputs": [],
   "source": [
    "test=test.fillna(0)"
   ]
  },
  {
   "cell_type": "code",
   "execution_count": 148,
   "metadata": {},
   "outputs": [
    {
     "data": {
      "text/plain": [
       "impression_id                0\n",
       "user_id                      0\n",
       "app_code_x                   0\n",
       "os_version                   0\n",
       "is_4G                        0\n",
       "ad_count                     0\n",
       "ad_pri                       0\n",
       "click_sum                    0\n",
       "ad_click                     0\n",
       "impression_time_Timestamp    0\n",
       "Month                        0\n",
       "Day                          0\n",
       "Hour                         0\n",
       "Weekday                      0\n",
       "is_click                     0\n",
       "total_interest               0\n",
       "total_adclicks               0\n",
       "app_part                     0\n",
       "hour_mean                    0\n",
       "hour_std                     0\n",
       "dayofweek_mean               0\n",
       "dayofweek_std                0\n",
       "app_code_y                   0\n",
       "usr_app_interest             0\n",
       "usr_app_adclicks             0\n",
       "interest_ratio               0\n",
       "app_interest_ratio           0\n",
       "user_time_counts_mean        0\n",
       "user_time_counts_std         0\n",
       "user_time_counts_max         0\n",
       "user_time_counts_median      0\n",
       "user_time_counts_skew        0\n",
       "intermediate                 0\n",
       "latest                       0\n",
       "old                          0\n",
       "dtype: int64"
      ]
     },
     "execution_count": 148,
     "metadata": {},
     "output_type": "execute_result"
    }
   ],
   "source": [
    " test.drop_duplicates(subset=None, keep='first', inplace=False)"
   ]
  },
  {
   "cell_type": "code",
   "execution_count": 315,
   "metadata": {},
   "outputs": [
    {
     "data": {
      "text/html": [
       "<div>\n",
       "<style scoped>\n",
       "    .dataframe tbody tr th:only-of-type {\n",
       "        vertical-align: middle;\n",
       "    }\n",
       "\n",
       "    .dataframe tbody tr th {\n",
       "        vertical-align: top;\n",
       "    }\n",
       "\n",
       "    .dataframe thead th {\n",
       "        text-align: right;\n",
       "    }\n",
       "</style>\n",
       "<table border=\"1\" class=\"dataframe\">\n",
       "  <thead>\n",
       "    <tr style=\"text-align: right;\">\n",
       "      <th></th>\n",
       "      <th>Day</th>\n",
       "      <th>Hour</th>\n",
       "      <th>Month</th>\n",
       "      <th>Weekday</th>\n",
       "      <th>app_code</th>\n",
       "      <th>impression_id</th>\n",
       "      <th>impression_time_Timestamp</th>\n",
       "      <th>is_4G</th>\n",
       "      <th>is_click</th>\n",
       "      <th>os_version</th>\n",
       "      <th>user_id</th>\n",
       "    </tr>\n",
       "  </thead>\n",
       "  <tbody>\n",
       "  </tbody>\n",
       "</table>\n",
       "</div>"
      ],
      "text/plain": [
       "Empty DataFrame\n",
       "Columns: [Day, Hour, Month, Weekday, app_code, impression_id, impression_time_Timestamp, is_4G, is_click, os_version, user_id]\n",
       "Index: []"
      ]
     },
     "execution_count": 315,
     "metadata": {},
     "output_type": "execute_result"
    }
   ],
   "source": [
    "df[df['is_click']=='NA'].head()"
   ]
  },
  {
   "cell_type": "code",
   "execution_count": 118,
   "metadata": {},
   "outputs": [
    {
     "name": "stdout",
     "output_type": "stream",
     "text": [
      "(309793, 35)\n",
      "(112163, 35)\n"
     ]
    }
   ],
   "source": [
    "# One hot encoding for categorical variables\n",
    "temp = pd.get_dummies(train['os_version'])\n",
    "train = train.join(temp)\n",
    "print(train.shape)\n",
    "\n",
    "temp = pd.get_dummies(test['os_version'])\n",
    "test = test.join(temp)\n",
    "print(test.shape)\n"
   ]
  },
  {
   "cell_type": "code",
   "execution_count": 317,
   "metadata": {},
   "outputs": [],
   "source": [
    "# Droping loan_id, dates & other categorical variables \n",
    "df1 = df.drop(['impression_id','impression_time_Timestamp','os_version','user_id'],axis=1)"
   ]
  },
  {
   "cell_type": "code",
   "execution_count": 199,
   "metadata": {},
   "outputs": [],
   "source": [
    "sam=pd.read_csv('sample_submission - Copy.csv')"
   ]
  },
  {
   "cell_type": "code",
   "execution_count": 200,
   "metadata": {},
   "outputs": [
    {
     "data": {
      "text/plain": [
       "0    83499\n",
       "1     7176\n",
       "Name: is_click, dtype: int64"
      ]
     },
     "execution_count": 200,
     "metadata": {},
     "output_type": "execute_result"
    }
   ],
   "source": [
    "sam['is_click'].value_counts()"
   ]
  },
  {
   "cell_type": "code",
   "execution_count": 318,
   "metadata": {},
   "outputs": [],
   "source": [
    "cols=['Day', 'Hour', 'Month', 'Weekday', 'app_code', 'is_4G','intermediate', 'is_click','latest', 'old']"
   ]
  },
  {
   "cell_type": "code",
   "execution_count": 198,
   "metadata": {},
   "outputs": [
    {
     "data": {
      "text/html": [
       "<div>\n",
       "<style scoped>\n",
       "    .dataframe tbody tr th:only-of-type {\n",
       "        vertical-align: middle;\n",
       "    }\n",
       "\n",
       "    .dataframe tbody tr th {\n",
       "        vertical-align: top;\n",
       "    }\n",
       "\n",
       "    .dataframe thead th {\n",
       "        text-align: right;\n",
       "    }\n",
       "</style>\n",
       "<table border=\"1\" class=\"dataframe\">\n",
       "  <thead>\n",
       "    <tr style=\"text-align: right;\">\n",
       "      <th></th>\n",
       "      <th>impression_id</th>\n",
       "      <th>user_id</th>\n",
       "      <th>app_code_x</th>\n",
       "      <th>os_version</th>\n",
       "      <th>is_4G</th>\n",
       "      <th>ad_count</th>\n",
       "      <th>ad_pri</th>\n",
       "      <th>click_sum</th>\n",
       "      <th>ad_click</th>\n",
       "      <th>impression_time_Timestamp</th>\n",
       "      <th>...</th>\n",
       "      <th>app_part</th>\n",
       "      <th>hour_mean</th>\n",
       "      <th>hour_std</th>\n",
       "      <th>dayofweek_mean</th>\n",
       "      <th>dayofweek_std</th>\n",
       "      <th>app_code_y</th>\n",
       "      <th>usr_app_interest</th>\n",
       "      <th>usr_app_adclicks</th>\n",
       "      <th>interest_ratio</th>\n",
       "      <th>app_interest_ratio</th>\n",
       "    </tr>\n",
       "  </thead>\n",
       "  <tbody>\n",
       "    <tr>\n",
       "      <th>0</th>\n",
       "      <td>a9e7126a585a69a32bc7414e9d0c0ada</td>\n",
       "      <td>44754</td>\n",
       "      <td>127</td>\n",
       "      <td>latest</td>\n",
       "      <td>1</td>\n",
       "      <td>10851.0</td>\n",
       "      <td>1</td>\n",
       "      <td>577.0</td>\n",
       "      <td>1</td>\n",
       "      <td>2018-12-13 07:44:00</td>\n",
       "      <td>...</td>\n",
       "      <td>NaN</td>\n",
       "      <td>NaN</td>\n",
       "      <td>NaN</td>\n",
       "      <td>NaN</td>\n",
       "      <td>NaN</td>\n",
       "      <td>NaN</td>\n",
       "      <td>NaN</td>\n",
       "      <td>NaN</td>\n",
       "      <td>NaN</td>\n",
       "      <td>NaN</td>\n",
       "    </tr>\n",
       "    <tr>\n",
       "      <th>1</th>\n",
       "      <td>caac14a5bf2ba283db7708bb34855760</td>\n",
       "      <td>29656</td>\n",
       "      <td>44</td>\n",
       "      <td>latest</td>\n",
       "      <td>0</td>\n",
       "      <td>4346.0</td>\n",
       "      <td>1</td>\n",
       "      <td>27.0</td>\n",
       "      <td>0</td>\n",
       "      <td>2018-12-13 07:45:00</td>\n",
       "      <td>...</td>\n",
       "      <td>1.0</td>\n",
       "      <td>6.333333</td>\n",
       "      <td>3.881580</td>\n",
       "      <td>2.000000</td>\n",
       "      <td>1.549193</td>\n",
       "      <td>44.0</td>\n",
       "      <td>0.0</td>\n",
       "      <td>6.0</td>\n",
       "      <td>0.000000</td>\n",
       "      <td>0.000000</td>\n",
       "    </tr>\n",
       "    <tr>\n",
       "      <th>2</th>\n",
       "      <td>13f10ba306a19ce7bec2f3cae507b698</td>\n",
       "      <td>25234</td>\n",
       "      <td>296</td>\n",
       "      <td>latest</td>\n",
       "      <td>1</td>\n",
       "      <td>7453.0</td>\n",
       "      <td>1</td>\n",
       "      <td>574.0</td>\n",
       "      <td>1</td>\n",
       "      <td>2018-12-13 07:46:00</td>\n",
       "      <td>...</td>\n",
       "      <td>NaN</td>\n",
       "      <td>NaN</td>\n",
       "      <td>NaN</td>\n",
       "      <td>NaN</td>\n",
       "      <td>NaN</td>\n",
       "      <td>NaN</td>\n",
       "      <td>NaN</td>\n",
       "      <td>NaN</td>\n",
       "      <td>NaN</td>\n",
       "      <td>NaN</td>\n",
       "    </tr>\n",
       "    <tr>\n",
       "      <th>3</th>\n",
       "      <td>39c4b4dc0e9701b55a0a4f072008fb3f</td>\n",
       "      <td>22988</td>\n",
       "      <td>207</td>\n",
       "      <td>latest</td>\n",
       "      <td>1</td>\n",
       "      <td>33788.0</td>\n",
       "      <td>1</td>\n",
       "      <td>482.0</td>\n",
       "      <td>1</td>\n",
       "      <td>2018-12-13 07:47:00</td>\n",
       "      <td>...</td>\n",
       "      <td>1.0</td>\n",
       "      <td>14.142857</td>\n",
       "      <td>6.841749</td>\n",
       "      <td>1.714286</td>\n",
       "      <td>2.058663</td>\n",
       "      <td>207.0</td>\n",
       "      <td>0.0</td>\n",
       "      <td>7.0</td>\n",
       "      <td>0.000000</td>\n",
       "      <td>0.000000</td>\n",
       "    </tr>\n",
       "    <tr>\n",
       "      <th>4</th>\n",
       "      <td>bf5a572cca75f5fc67f4b14e58b11d70</td>\n",
       "      <td>35431</td>\n",
       "      <td>242</td>\n",
       "      <td>latest</td>\n",
       "      <td>1</td>\n",
       "      <td>3761.0</td>\n",
       "      <td>1</td>\n",
       "      <td>371.0</td>\n",
       "      <td>1</td>\n",
       "      <td>2018-12-13 07:48:00</td>\n",
       "      <td>...</td>\n",
       "      <td>1.0</td>\n",
       "      <td>12.200000</td>\n",
       "      <td>4.851478</td>\n",
       "      <td>2.650000</td>\n",
       "      <td>1.631112</td>\n",
       "      <td>242.0</td>\n",
       "      <td>4.0</td>\n",
       "      <td>20.0</td>\n",
       "      <td>0.200000</td>\n",
       "      <td>0.200000</td>\n",
       "    </tr>\n",
       "    <tr>\n",
       "      <th>5</th>\n",
       "      <td>ca09514449e304fee91456fb0918667a</td>\n",
       "      <td>489</td>\n",
       "      <td>207</td>\n",
       "      <td>latest</td>\n",
       "      <td>0</td>\n",
       "      <td>33788.0</td>\n",
       "      <td>1</td>\n",
       "      <td>482.0</td>\n",
       "      <td>1</td>\n",
       "      <td>2018-12-13 07:48:00</td>\n",
       "      <td>...</td>\n",
       "      <td>1.0</td>\n",
       "      <td>8.800000</td>\n",
       "      <td>8.043631</td>\n",
       "      <td>4.200000</td>\n",
       "      <td>2.167948</td>\n",
       "      <td>207.0</td>\n",
       "      <td>0.0</td>\n",
       "      <td>5.0</td>\n",
       "      <td>0.000000</td>\n",
       "      <td>0.000000</td>\n",
       "    </tr>\n",
       "    <tr>\n",
       "      <th>6</th>\n",
       "      <td>b8b35cb0ae1719aa9f0ba7a9f3785687</td>\n",
       "      <td>44684</td>\n",
       "      <td>296</td>\n",
       "      <td>old</td>\n",
       "      <td>0</td>\n",
       "      <td>7453.0</td>\n",
       "      <td>1</td>\n",
       "      <td>574.0</td>\n",
       "      <td>1</td>\n",
       "      <td>2018-12-13 07:49:00</td>\n",
       "      <td>...</td>\n",
       "      <td>1.0</td>\n",
       "      <td>7.000000</td>\n",
       "      <td>0.000000</td>\n",
       "      <td>1.000000</td>\n",
       "      <td>0.000000</td>\n",
       "      <td>296.0</td>\n",
       "      <td>0.0</td>\n",
       "      <td>1.0</td>\n",
       "      <td>0.000000</td>\n",
       "      <td>0.000000</td>\n",
       "    </tr>\n",
       "    <tr>\n",
       "      <th>7</th>\n",
       "      <td>33502d1e85818b9b3414c8c006c34e07</td>\n",
       "      <td>76502</td>\n",
       "      <td>207</td>\n",
       "      <td>intermediate</td>\n",
       "      <td>0</td>\n",
       "      <td>33788.0</td>\n",
       "      <td>1</td>\n",
       "      <td>482.0</td>\n",
       "      <td>1</td>\n",
       "      <td>2018-12-13 07:50:00</td>\n",
       "      <td>...</td>\n",
       "      <td>1.0</td>\n",
       "      <td>7.000000</td>\n",
       "      <td>0.000000</td>\n",
       "      <td>1.000000</td>\n",
       "      <td>0.000000</td>\n",
       "      <td>207.0</td>\n",
       "      <td>0.0</td>\n",
       "      <td>1.0</td>\n",
       "      <td>0.000000</td>\n",
       "      <td>0.000000</td>\n",
       "    </tr>\n",
       "    <tr>\n",
       "      <th>8</th>\n",
       "      <td>5314e09fb680c56b58eb5a3b5b7bce0c</td>\n",
       "      <td>2128</td>\n",
       "      <td>260</td>\n",
       "      <td>intermediate</td>\n",
       "      <td>1</td>\n",
       "      <td>160.0</td>\n",
       "      <td>0</td>\n",
       "      <td>15.0</td>\n",
       "      <td>0</td>\n",
       "      <td>2018-12-13 07:50:00</td>\n",
       "      <td>...</td>\n",
       "      <td>3.0</td>\n",
       "      <td>9.038462</td>\n",
       "      <td>5.194120</td>\n",
       "      <td>3.019231</td>\n",
       "      <td>2.090974</td>\n",
       "      <td>151.0</td>\n",
       "      <td>0.0</td>\n",
       "      <td>11.0</td>\n",
       "      <td>0.057692</td>\n",
       "      <td>0.000000</td>\n",
       "    </tr>\n",
       "    <tr>\n",
       "      <th>9</th>\n",
       "      <td>5314e09fb680c56b58eb5a3b5b7bce0c</td>\n",
       "      <td>2128</td>\n",
       "      <td>260</td>\n",
       "      <td>intermediate</td>\n",
       "      <td>1</td>\n",
       "      <td>160.0</td>\n",
       "      <td>0</td>\n",
       "      <td>15.0</td>\n",
       "      <td>0</td>\n",
       "      <td>2018-12-13 07:50:00</td>\n",
       "      <td>...</td>\n",
       "      <td>3.0</td>\n",
       "      <td>9.038462</td>\n",
       "      <td>5.194120</td>\n",
       "      <td>3.019231</td>\n",
       "      <td>2.090974</td>\n",
       "      <td>260.0</td>\n",
       "      <td>1.0</td>\n",
       "      <td>22.0</td>\n",
       "      <td>0.057692</td>\n",
       "      <td>0.045455</td>\n",
       "    </tr>\n",
       "    <tr>\n",
       "      <th>10</th>\n",
       "      <td>5314e09fb680c56b58eb5a3b5b7bce0c</td>\n",
       "      <td>2128</td>\n",
       "      <td>260</td>\n",
       "      <td>intermediate</td>\n",
       "      <td>1</td>\n",
       "      <td>160.0</td>\n",
       "      <td>0</td>\n",
       "      <td>15.0</td>\n",
       "      <td>0</td>\n",
       "      <td>2018-12-13 07:50:00</td>\n",
       "      <td>...</td>\n",
       "      <td>3.0</td>\n",
       "      <td>9.038462</td>\n",
       "      <td>5.194120</td>\n",
       "      <td>3.019231</td>\n",
       "      <td>2.090974</td>\n",
       "      <td>371.0</td>\n",
       "      <td>2.0</td>\n",
       "      <td>19.0</td>\n",
       "      <td>0.057692</td>\n",
       "      <td>0.105263</td>\n",
       "    </tr>\n",
       "    <tr>\n",
       "      <th>11</th>\n",
       "      <td>e1a8a26385f49a5a7e04d34a5823bff3</td>\n",
       "      <td>62337</td>\n",
       "      <td>207</td>\n",
       "      <td>old</td>\n",
       "      <td>1</td>\n",
       "      <td>33788.0</td>\n",
       "      <td>1</td>\n",
       "      <td>482.0</td>\n",
       "      <td>1</td>\n",
       "      <td>2018-12-13 07:51:00</td>\n",
       "      <td>...</td>\n",
       "      <td>1.0</td>\n",
       "      <td>13.000000</td>\n",
       "      <td>6.078847</td>\n",
       "      <td>2.500000</td>\n",
       "      <td>2.132515</td>\n",
       "      <td>207.0</td>\n",
       "      <td>0.0</td>\n",
       "      <td>22.0</td>\n",
       "      <td>0.000000</td>\n",
       "      <td>0.000000</td>\n",
       "    </tr>\n",
       "    <tr>\n",
       "      <th>12</th>\n",
       "      <td>0a2388627db42a15565ad1e47daa6025</td>\n",
       "      <td>4650</td>\n",
       "      <td>469</td>\n",
       "      <td>old</td>\n",
       "      <td>1</td>\n",
       "      <td>5122.0</td>\n",
       "      <td>1</td>\n",
       "      <td>410.0</td>\n",
       "      <td>1</td>\n",
       "      <td>2018-12-13 07:51:00</td>\n",
       "      <td>...</td>\n",
       "      <td>1.0</td>\n",
       "      <td>14.210526</td>\n",
       "      <td>7.360397</td>\n",
       "      <td>1.526316</td>\n",
       "      <td>1.576509</td>\n",
       "      <td>469.0</td>\n",
       "      <td>1.0</td>\n",
       "      <td>19.0</td>\n",
       "      <td>0.052632</td>\n",
       "      <td>0.052632</td>\n",
       "    </tr>\n",
       "    <tr>\n",
       "      <th>13</th>\n",
       "      <td>382193e62cbf57e49abf441063019542</td>\n",
       "      <td>10351</td>\n",
       "      <td>207</td>\n",
       "      <td>latest</td>\n",
       "      <td>0</td>\n",
       "      <td>33788.0</td>\n",
       "      <td>1</td>\n",
       "      <td>482.0</td>\n",
       "      <td>1</td>\n",
       "      <td>2018-12-13 07:52:00</td>\n",
       "      <td>...</td>\n",
       "      <td>1.0</td>\n",
       "      <td>7.000000</td>\n",
       "      <td>0.000000</td>\n",
       "      <td>0.500000</td>\n",
       "      <td>0.707107</td>\n",
       "      <td>207.0</td>\n",
       "      <td>0.0</td>\n",
       "      <td>2.0</td>\n",
       "      <td>0.000000</td>\n",
       "      <td>0.000000</td>\n",
       "    </tr>\n",
       "    <tr>\n",
       "      <th>14</th>\n",
       "      <td>27f17fd775ec9bf0e1abffe2c1206434</td>\n",
       "      <td>54611</td>\n",
       "      <td>371</td>\n",
       "      <td>latest</td>\n",
       "      <td>0</td>\n",
       "      <td>9343.0</td>\n",
       "      <td>1</td>\n",
       "      <td>687.0</td>\n",
       "      <td>1</td>\n",
       "      <td>2018-12-13 07:53:00</td>\n",
       "      <td>...</td>\n",
       "      <td>2.0</td>\n",
       "      <td>10.173913</td>\n",
       "      <td>5.012448</td>\n",
       "      <td>2.869565</td>\n",
       "      <td>1.984481</td>\n",
       "      <td>151.0</td>\n",
       "      <td>6.0</td>\n",
       "      <td>17.0</td>\n",
       "      <td>0.326087</td>\n",
       "      <td>0.352941</td>\n",
       "    </tr>\n",
       "    <tr>\n",
       "      <th>15</th>\n",
       "      <td>27f17fd775ec9bf0e1abffe2c1206434</td>\n",
       "      <td>54611</td>\n",
       "      <td>371</td>\n",
       "      <td>latest</td>\n",
       "      <td>0</td>\n",
       "      <td>9343.0</td>\n",
       "      <td>1</td>\n",
       "      <td>687.0</td>\n",
       "      <td>1</td>\n",
       "      <td>2018-12-13 07:53:00</td>\n",
       "      <td>...</td>\n",
       "      <td>2.0</td>\n",
       "      <td>10.173913</td>\n",
       "      <td>5.012448</td>\n",
       "      <td>2.869565</td>\n",
       "      <td>1.984481</td>\n",
       "      <td>371.0</td>\n",
       "      <td>9.0</td>\n",
       "      <td>29.0</td>\n",
       "      <td>0.326087</td>\n",
       "      <td>0.310345</td>\n",
       "    </tr>\n",
       "    <tr>\n",
       "      <th>16</th>\n",
       "      <td>41fe27ce246bd9772e005da454d6b0e1</td>\n",
       "      <td>52600</td>\n",
       "      <td>190</td>\n",
       "      <td>old</td>\n",
       "      <td>0</td>\n",
       "      <td>17441.0</td>\n",
       "      <td>1</td>\n",
       "      <td>741.0</td>\n",
       "      <td>1</td>\n",
       "      <td>2018-12-13 07:54:00</td>\n",
       "      <td>...</td>\n",
       "      <td>1.0</td>\n",
       "      <td>7.733333</td>\n",
       "      <td>7.025125</td>\n",
       "      <td>2.400000</td>\n",
       "      <td>2.197401</td>\n",
       "      <td>190.0</td>\n",
       "      <td>0.0</td>\n",
       "      <td>15.0</td>\n",
       "      <td>0.000000</td>\n",
       "      <td>0.000000</td>\n",
       "    </tr>\n",
       "    <tr>\n",
       "      <th>17</th>\n",
       "      <td>85b73c10a8fba7060054d48d542279d6</td>\n",
       "      <td>66927</td>\n",
       "      <td>318</td>\n",
       "      <td>latest</td>\n",
       "      <td>0</td>\n",
       "      <td>2175.0</td>\n",
       "      <td>1</td>\n",
       "      <td>45.0</td>\n",
       "      <td>0</td>\n",
       "      <td>2018-12-13 07:55:00</td>\n",
       "      <td>...</td>\n",
       "      <td>5.0</td>\n",
       "      <td>6.041667</td>\n",
       "      <td>6.656015</td>\n",
       "      <td>3.125000</td>\n",
       "      <td>2.028332</td>\n",
       "      <td>3.0</td>\n",
       "      <td>1.0</td>\n",
       "      <td>10.0</td>\n",
       "      <td>0.041667</td>\n",
       "      <td>0.100000</td>\n",
       "    </tr>\n",
       "    <tr>\n",
       "      <th>18</th>\n",
       "      <td>85b73c10a8fba7060054d48d542279d6</td>\n",
       "      <td>66927</td>\n",
       "      <td>318</td>\n",
       "      <td>latest</td>\n",
       "      <td>0</td>\n",
       "      <td>2175.0</td>\n",
       "      <td>1</td>\n",
       "      <td>45.0</td>\n",
       "      <td>0</td>\n",
       "      <td>2018-12-13 07:55:00</td>\n",
       "      <td>...</td>\n",
       "      <td>5.0</td>\n",
       "      <td>6.041667</td>\n",
       "      <td>6.656015</td>\n",
       "      <td>3.125000</td>\n",
       "      <td>2.028332</td>\n",
       "      <td>317.0</td>\n",
       "      <td>0.0</td>\n",
       "      <td>1.0</td>\n",
       "      <td>0.041667</td>\n",
       "      <td>0.000000</td>\n",
       "    </tr>\n",
       "    <tr>\n",
       "      <th>19</th>\n",
       "      <td>85b73c10a8fba7060054d48d542279d6</td>\n",
       "      <td>66927</td>\n",
       "      <td>318</td>\n",
       "      <td>latest</td>\n",
       "      <td>0</td>\n",
       "      <td>2175.0</td>\n",
       "      <td>1</td>\n",
       "      <td>45.0</td>\n",
       "      <td>0</td>\n",
       "      <td>2018-12-13 07:55:00</td>\n",
       "      <td>...</td>\n",
       "      <td>5.0</td>\n",
       "      <td>6.041667</td>\n",
       "      <td>6.656015</td>\n",
       "      <td>3.125000</td>\n",
       "      <td>2.028332</td>\n",
       "      <td>318.0</td>\n",
       "      <td>0.0</td>\n",
       "      <td>10.0</td>\n",
       "      <td>0.041667</td>\n",
       "      <td>0.000000</td>\n",
       "    </tr>\n",
       "    <tr>\n",
       "      <th>20</th>\n",
       "      <td>85b73c10a8fba7060054d48d542279d6</td>\n",
       "      <td>66927</td>\n",
       "      <td>318</td>\n",
       "      <td>latest</td>\n",
       "      <td>0</td>\n",
       "      <td>2175.0</td>\n",
       "      <td>1</td>\n",
       "      <td>45.0</td>\n",
       "      <td>0</td>\n",
       "      <td>2018-12-13 07:55:00</td>\n",
       "      <td>...</td>\n",
       "      <td>5.0</td>\n",
       "      <td>6.041667</td>\n",
       "      <td>6.656015</td>\n",
       "      <td>3.125000</td>\n",
       "      <td>2.028332</td>\n",
       "      <td>319.0</td>\n",
       "      <td>0.0</td>\n",
       "      <td>2.0</td>\n",
       "      <td>0.041667</td>\n",
       "      <td>0.000000</td>\n",
       "    </tr>\n",
       "    <tr>\n",
       "      <th>21</th>\n",
       "      <td>85b73c10a8fba7060054d48d542279d6</td>\n",
       "      <td>66927</td>\n",
       "      <td>318</td>\n",
       "      <td>latest</td>\n",
       "      <td>0</td>\n",
       "      <td>2175.0</td>\n",
       "      <td>1</td>\n",
       "      <td>45.0</td>\n",
       "      <td>0</td>\n",
       "      <td>2018-12-13 07:55:00</td>\n",
       "      <td>...</td>\n",
       "      <td>5.0</td>\n",
       "      <td>6.041667</td>\n",
       "      <td>6.656015</td>\n",
       "      <td>3.125000</td>\n",
       "      <td>2.028332</td>\n",
       "      <td>320.0</td>\n",
       "      <td>0.0</td>\n",
       "      <td>1.0</td>\n",
       "      <td>0.041667</td>\n",
       "      <td>0.000000</td>\n",
       "    </tr>\n",
       "    <tr>\n",
       "      <th>22</th>\n",
       "      <td>e22fabe59530363b97507c7294bca996</td>\n",
       "      <td>72979</td>\n",
       "      <td>465</td>\n",
       "      <td>latest</td>\n",
       "      <td>0</td>\n",
       "      <td>2192.0</td>\n",
       "      <td>1</td>\n",
       "      <td>129.0</td>\n",
       "      <td>1</td>\n",
       "      <td>2018-12-13 07:55:00</td>\n",
       "      <td>...</td>\n",
       "      <td>1.0</td>\n",
       "      <td>17.500000</td>\n",
       "      <td>0.707107</td>\n",
       "      <td>4.000000</td>\n",
       "      <td>1.414214</td>\n",
       "      <td>465.0</td>\n",
       "      <td>1.0</td>\n",
       "      <td>2.0</td>\n",
       "      <td>0.500000</td>\n",
       "      <td>0.500000</td>\n",
       "    </tr>\n",
       "    <tr>\n",
       "      <th>23</th>\n",
       "      <td>e48379e1edcf90e9cfc6bcac30d84151</td>\n",
       "      <td>57286</td>\n",
       "      <td>504</td>\n",
       "      <td>latest</td>\n",
       "      <td>0</td>\n",
       "      <td>326.0</td>\n",
       "      <td>0</td>\n",
       "      <td>47.0</td>\n",
       "      <td>0</td>\n",
       "      <td>2018-12-12 20:39:00</td>\n",
       "      <td>...</td>\n",
       "      <td>NaN</td>\n",
       "      <td>NaN</td>\n",
       "      <td>NaN</td>\n",
       "      <td>NaN</td>\n",
       "      <td>NaN</td>\n",
       "      <td>NaN</td>\n",
       "      <td>NaN</td>\n",
       "      <td>NaN</td>\n",
       "      <td>NaN</td>\n",
       "      <td>NaN</td>\n",
       "    </tr>\n",
       "    <tr>\n",
       "      <th>24</th>\n",
       "      <td>f145cff1f3e70e0f6556911504369a3d</td>\n",
       "      <td>81215</td>\n",
       "      <td>151</td>\n",
       "      <td>latest</td>\n",
       "      <td>1</td>\n",
       "      <td>2176.0</td>\n",
       "      <td>1</td>\n",
       "      <td>116.0</td>\n",
       "      <td>1</td>\n",
       "      <td>2018-12-12 20:39:00</td>\n",
       "      <td>...</td>\n",
       "      <td>1.0</td>\n",
       "      <td>11.500000</td>\n",
       "      <td>9.044010</td>\n",
       "      <td>3.611111</td>\n",
       "      <td>1.944491</td>\n",
       "      <td>151.0</td>\n",
       "      <td>1.0</td>\n",
       "      <td>18.0</td>\n",
       "      <td>0.055556</td>\n",
       "      <td>0.055556</td>\n",
       "    </tr>\n",
       "  </tbody>\n",
       "</table>\n",
       "<p>25 rows × 27 columns</p>\n",
       "</div>"
      ],
      "text/plain": [
       "                       impression_id  user_id  app_code_x    os_version  \\\n",
       "0   a9e7126a585a69a32bc7414e9d0c0ada    44754         127        latest   \n",
       "1   caac14a5bf2ba283db7708bb34855760    29656          44        latest   \n",
       "2   13f10ba306a19ce7bec2f3cae507b698    25234         296        latest   \n",
       "3   39c4b4dc0e9701b55a0a4f072008fb3f    22988         207        latest   \n",
       "4   bf5a572cca75f5fc67f4b14e58b11d70    35431         242        latest   \n",
       "5   ca09514449e304fee91456fb0918667a      489         207        latest   \n",
       "6   b8b35cb0ae1719aa9f0ba7a9f3785687    44684         296           old   \n",
       "7   33502d1e85818b9b3414c8c006c34e07    76502         207  intermediate   \n",
       "8   5314e09fb680c56b58eb5a3b5b7bce0c     2128         260  intermediate   \n",
       "9   5314e09fb680c56b58eb5a3b5b7bce0c     2128         260  intermediate   \n",
       "10  5314e09fb680c56b58eb5a3b5b7bce0c     2128         260  intermediate   \n",
       "11  e1a8a26385f49a5a7e04d34a5823bff3    62337         207           old   \n",
       "12  0a2388627db42a15565ad1e47daa6025     4650         469           old   \n",
       "13  382193e62cbf57e49abf441063019542    10351         207        latest   \n",
       "14  27f17fd775ec9bf0e1abffe2c1206434    54611         371        latest   \n",
       "15  27f17fd775ec9bf0e1abffe2c1206434    54611         371        latest   \n",
       "16  41fe27ce246bd9772e005da454d6b0e1    52600         190           old   \n",
       "17  85b73c10a8fba7060054d48d542279d6    66927         318        latest   \n",
       "18  85b73c10a8fba7060054d48d542279d6    66927         318        latest   \n",
       "19  85b73c10a8fba7060054d48d542279d6    66927         318        latest   \n",
       "20  85b73c10a8fba7060054d48d542279d6    66927         318        latest   \n",
       "21  85b73c10a8fba7060054d48d542279d6    66927         318        latest   \n",
       "22  e22fabe59530363b97507c7294bca996    72979         465        latest   \n",
       "23  e48379e1edcf90e9cfc6bcac30d84151    57286         504        latest   \n",
       "24  f145cff1f3e70e0f6556911504369a3d    81215         151        latest   \n",
       "\n",
       "    is_4G  ad_count  ad_pri  click_sum  ad_click impression_time_Timestamp  \\\n",
       "0       1   10851.0       1      577.0         1       2018-12-13 07:44:00   \n",
       "1       0    4346.0       1       27.0         0       2018-12-13 07:45:00   \n",
       "2       1    7453.0       1      574.0         1       2018-12-13 07:46:00   \n",
       "3       1   33788.0       1      482.0         1       2018-12-13 07:47:00   \n",
       "4       1    3761.0       1      371.0         1       2018-12-13 07:48:00   \n",
       "5       0   33788.0       1      482.0         1       2018-12-13 07:48:00   \n",
       "6       0    7453.0       1      574.0         1       2018-12-13 07:49:00   \n",
       "7       0   33788.0       1      482.0         1       2018-12-13 07:50:00   \n",
       "8       1     160.0       0       15.0         0       2018-12-13 07:50:00   \n",
       "9       1     160.0       0       15.0         0       2018-12-13 07:50:00   \n",
       "10      1     160.0       0       15.0         0       2018-12-13 07:50:00   \n",
       "11      1   33788.0       1      482.0         1       2018-12-13 07:51:00   \n",
       "12      1    5122.0       1      410.0         1       2018-12-13 07:51:00   \n",
       "13      0   33788.0       1      482.0         1       2018-12-13 07:52:00   \n",
       "14      0    9343.0       1      687.0         1       2018-12-13 07:53:00   \n",
       "15      0    9343.0       1      687.0         1       2018-12-13 07:53:00   \n",
       "16      0   17441.0       1      741.0         1       2018-12-13 07:54:00   \n",
       "17      0    2175.0       1       45.0         0       2018-12-13 07:55:00   \n",
       "18      0    2175.0       1       45.0         0       2018-12-13 07:55:00   \n",
       "19      0    2175.0       1       45.0         0       2018-12-13 07:55:00   \n",
       "20      0    2175.0       1       45.0         0       2018-12-13 07:55:00   \n",
       "21      0    2175.0       1       45.0         0       2018-12-13 07:55:00   \n",
       "22      0    2192.0       1      129.0         1       2018-12-13 07:55:00   \n",
       "23      0     326.0       0       47.0         0       2018-12-12 20:39:00   \n",
       "24      1    2176.0       1      116.0         1       2018-12-12 20:39:00   \n",
       "\n",
       "    ...  app_part  hour_mean  hour_std  dayofweek_mean  dayofweek_std  \\\n",
       "0   ...       NaN        NaN       NaN             NaN            NaN   \n",
       "1   ...       1.0   6.333333  3.881580        2.000000       1.549193   \n",
       "2   ...       NaN        NaN       NaN             NaN            NaN   \n",
       "3   ...       1.0  14.142857  6.841749        1.714286       2.058663   \n",
       "4   ...       1.0  12.200000  4.851478        2.650000       1.631112   \n",
       "5   ...       1.0   8.800000  8.043631        4.200000       2.167948   \n",
       "6   ...       1.0   7.000000  0.000000        1.000000       0.000000   \n",
       "7   ...       1.0   7.000000  0.000000        1.000000       0.000000   \n",
       "8   ...       3.0   9.038462  5.194120        3.019231       2.090974   \n",
       "9   ...       3.0   9.038462  5.194120        3.019231       2.090974   \n",
       "10  ...       3.0   9.038462  5.194120        3.019231       2.090974   \n",
       "11  ...       1.0  13.000000  6.078847        2.500000       2.132515   \n",
       "12  ...       1.0  14.210526  7.360397        1.526316       1.576509   \n",
       "13  ...       1.0   7.000000  0.000000        0.500000       0.707107   \n",
       "14  ...       2.0  10.173913  5.012448        2.869565       1.984481   \n",
       "15  ...       2.0  10.173913  5.012448        2.869565       1.984481   \n",
       "16  ...       1.0   7.733333  7.025125        2.400000       2.197401   \n",
       "17  ...       5.0   6.041667  6.656015        3.125000       2.028332   \n",
       "18  ...       5.0   6.041667  6.656015        3.125000       2.028332   \n",
       "19  ...       5.0   6.041667  6.656015        3.125000       2.028332   \n",
       "20  ...       5.0   6.041667  6.656015        3.125000       2.028332   \n",
       "21  ...       5.0   6.041667  6.656015        3.125000       2.028332   \n",
       "22  ...       1.0  17.500000  0.707107        4.000000       1.414214   \n",
       "23  ...       NaN        NaN       NaN             NaN            NaN   \n",
       "24  ...       1.0  11.500000  9.044010        3.611111       1.944491   \n",
       "\n",
       "    app_code_y  usr_app_interest  usr_app_adclicks  interest_ratio  \\\n",
       "0          NaN               NaN               NaN             NaN   \n",
       "1         44.0               0.0               6.0        0.000000   \n",
       "2          NaN               NaN               NaN             NaN   \n",
       "3        207.0               0.0               7.0        0.000000   \n",
       "4        242.0               4.0              20.0        0.200000   \n",
       "5        207.0               0.0               5.0        0.000000   \n",
       "6        296.0               0.0               1.0        0.000000   \n",
       "7        207.0               0.0               1.0        0.000000   \n",
       "8        151.0               0.0              11.0        0.057692   \n",
       "9        260.0               1.0              22.0        0.057692   \n",
       "10       371.0               2.0              19.0        0.057692   \n",
       "11       207.0               0.0              22.0        0.000000   \n",
       "12       469.0               1.0              19.0        0.052632   \n",
       "13       207.0               0.0               2.0        0.000000   \n",
       "14       151.0               6.0              17.0        0.326087   \n",
       "15       371.0               9.0              29.0        0.326087   \n",
       "16       190.0               0.0              15.0        0.000000   \n",
       "17         3.0               1.0              10.0        0.041667   \n",
       "18       317.0               0.0               1.0        0.041667   \n",
       "19       318.0               0.0              10.0        0.041667   \n",
       "20       319.0               0.0               2.0        0.041667   \n",
       "21       320.0               0.0               1.0        0.041667   \n",
       "22       465.0               1.0               2.0        0.500000   \n",
       "23         NaN               NaN               NaN             NaN   \n",
       "24       151.0               1.0              18.0        0.055556   \n",
       "\n",
       "    app_interest_ratio  \n",
       "0                  NaN  \n",
       "1             0.000000  \n",
       "2                  NaN  \n",
       "3             0.000000  \n",
       "4             0.200000  \n",
       "5             0.000000  \n",
       "6             0.000000  \n",
       "7             0.000000  \n",
       "8             0.000000  \n",
       "9             0.045455  \n",
       "10            0.105263  \n",
       "11            0.000000  \n",
       "12            0.052632  \n",
       "13            0.000000  \n",
       "14            0.352941  \n",
       "15            0.310345  \n",
       "16            0.000000  \n",
       "17            0.100000  \n",
       "18            0.000000  \n",
       "19            0.000000  \n",
       "20            0.000000  \n",
       "21            0.000000  \n",
       "22            0.500000  \n",
       "23                 NaN  \n",
       "24            0.055556  \n",
       "\n",
       "[25 rows x 27 columns]"
      ]
     },
     "execution_count": 198,
     "metadata": {},
     "output_type": "execute_result"
    }
   ],
   "source": [
    "test.head(25)"
   ]
  },
  {
   "cell_type": "code",
   "execution_count": 319,
   "metadata": {},
   "outputs": [],
   "source": [
    "train = df1.iloc[:237609,:][cols]\n",
    "test = df1.iloc[237609:,:][cols]"
   ]
  },
  {
   "cell_type": "code",
   "execution_count": 128,
   "metadata": {},
   "outputs": [
    {
     "data": {
      "text/plain": [
       "((309793, 35), (112163, 35))"
      ]
     },
     "execution_count": 128,
     "metadata": {},
     "output_type": "execute_result"
    }
   ],
   "source": [
    "train.shape,test.shape"
   ]
  },
  {
   "cell_type": "code",
   "execution_count": 133,
   "metadata": {},
   "outputs": [],
   "source": [
    "\n",
    "from sklearn.preprocessing import MinMaxScaler\n",
    "\n",
    "# Fit on training data and scale test data\n",
    "scaler = MinMaxScaler()\n",
    "traindf = scaler.fit_transform(train.drop(columns = ['impression_id', 'user_id','os_version','impression_time_Timestamp'],axis=0))\n",
    "testdf = scaler.transform(test.drop(columns = ['impression_id', 'user_id','os_version','impression_time_Timestamp'],axis=0))\n",
    "\n"
   ]
  },
  {
   "cell_type": "code",
   "execution_count": 134,
   "metadata": {},
   "outputs": [],
   "source": [
    "traindf = pd.DataFrame(traindf, columns=['app_code_x','is_4G','is_click', 'ad_count', 'ad_pri', 'click_sum', 'ad_click','Month', 'Day', 'Hour', 'Weekday','total_interest', 'total_adclicks', 'app_part', 'hour_mean', 'hour_std','dayofweek_mean', 'dayofweek_std', 'app_code_y', 'usr_app_interest','usr_app_adclicks', 'interest_ratio', 'app_interest_ratio','user_time_counts_mean', 'user_time_counts_std', 'user_time_counts_max','user_time_counts_median', 'user_time_counts_skew', 'intermediate','latest', 'old'])\n",
    "testdf = pd.DataFrame(testdf, columns=['app_code_x', 'is_4G','is_click', 'ad_count', 'ad_pri', 'click_sum', 'ad_click','Month', 'Day', 'Hour', 'Weekday','total_interest', 'total_adclicks', 'app_part', 'hour_mean', 'hour_std','dayofweek_mean', 'dayofweek_std', 'app_code_y', 'usr_app_interest','usr_app_adclicks', 'interest_ratio', 'app_interest_ratio','user_time_counts_mean', 'user_time_counts_std', 'user_time_counts_max','user_time_counts_median', 'user_time_counts_skew', 'intermediate','latest', 'old'])"
   ]
  },
  {
   "cell_type": "code",
   "execution_count": 135,
   "metadata": {},
   "outputs": [
    {
     "name": "stdout",
     "output_type": "stream",
     "text": [
      "numeric_features:  (309793, 31) Index(['app_code_x', 'is_4G', 'is_click', 'ad_count', 'ad_pri', 'click_sum',\n",
      "       'ad_click', 'Month', 'Day', 'Hour', 'Weekday', 'total_interest',\n",
      "       'total_adclicks', 'app_part', 'hour_mean', 'hour_std', 'dayofweek_mean',\n",
      "       'dayofweek_std', 'app_code_y', 'usr_app_interest', 'usr_app_adclicks',\n",
      "       'interest_ratio', 'app_interest_ratio', 'user_time_counts_mean',\n",
      "       'user_time_counts_std', 'user_time_counts_max',\n",
      "       'user_time_counts_median', 'user_time_counts_skew', 'intermediate',\n",
      "       'latest', 'old'],\n",
      "      dtype='object')\n",
      "categorical_features:  (309793, 0) Index([], dtype='object')\n"
     ]
    }
   ],
   "source": [
    "numerical_features = traindf.select_dtypes(include=np.number)\n",
    "categorical_features = traindf.select_dtypes(include=np.object)\n",
    "print(\"numeric_features: \", numerical_features.shape, numerical_features.columns)\n",
    "print(\"categorical_features: \", categorical_features.shape, categorical_features.columns)"
   ]
  },
  {
   "cell_type": "code",
   "execution_count": 136,
   "metadata": {},
   "outputs": [],
   "source": [
    "X=traindf.drop(columns=['is_click'],axis=0)\n",
    "y=traindf.is_click"
   ]
  },
  {
   "cell_type": "code",
   "execution_count": 137,
   "metadata": {},
   "outputs": [],
   "source": [
    "def simple_model(alg):\n",
    "\n",
    "    # splitting data into training and validation set\n",
    "    xtrain, xtest, ytrain, ytest = train_test_split(X,y, random_state=42, test_size=0.2)\n",
    "    model = alg\n",
    "    model.fit(xtrain, ytrain) # training the model\n",
    "#     prediction = model.predict_proba(xtest) # predicting on the validation set\n",
    "#     prediction_int = prediction[:,1] >= 0.3 # if prediction is greater than or equal to 0.3 than 1 else 0\n",
    "#     prediction_int = prediction_int.astype(np.int)\n",
    "\n",
    "    print(\"f1_score:\",f1_score(ytest, model.predict(xtest))) # calculating f1 score\n",
    "    #print(\"AUC:\",(ytest, model.predict(xtest))) # calculating f1 score\n",
    "    print(\"Accuracy on train data:\",model.score(xtrain,ytrain))\n",
    "    print(\"Accuracy on test data:\",model.score(xtest,ytest))"
   ]
  },
  {
   "cell_type": "code",
   "execution_count": 138,
   "metadata": {},
   "outputs": [
    {
     "name": "stdout",
     "output_type": "stream",
     "text": [
      "LR\n",
      "f1_score: 0.4085603112840467\n",
      "Accuracy on train data: 0.9612159752092126\n",
      "Accuracy on test data: 0.9607482367371972\n",
      "DTC\n",
      "f1_score: 0.42457689477557026\n",
      "Accuracy on train data: 0.992386032586328\n",
      "Accuracy on test data: 0.9495150018560661\n",
      "RFC\n",
      "f1_score: 0.30603060306030605\n",
      "Accuracy on train data: 0.9884842273457234\n",
      "Accuracy on test data: 0.9502251488887813\n",
      "ETC\n",
      "f1_score: 0.31726739312657165\n",
      "Accuracy on train data: 0.992386032586328\n",
      "Accuracy on test data: 0.9474168401684985\n",
      "ABC\n",
      "f1_score: 0.35102266445550023\n",
      "Accuracy on train data: 0.9620633165748042\n",
      "Accuracy on test data: 0.9621039719814716\n",
      "GBC\n",
      "f1_score: 0.3688853247794707\n",
      "Accuracy on train data: 0.96251926692867\n",
      "Accuracy on test data: 0.9618941558127149\n"
     ]
    }
   ],
   "source": [
    "algs = [LogisticRegression(),DecisionTreeClassifier(),RandomForestClassifier(),ExtraTreesClassifier(),AdaBoostClassifier(),GradientBoostingClassifier()]\n",
    "algs_lst = ['LR','DTC','RFC','ETC','ABC','GBC']\n",
    "for alg,l in zip(algs,algs_lst):\n",
    "    print(l)\n",
    "    simple_model(alg=alg)"
   ]
  },
  {
   "cell_type": "code",
   "execution_count": 139,
   "metadata": {},
   "outputs": [
    {
     "name": "stdout",
     "output_type": "stream",
     "text": [
      "[[57692  1542]\n",
      " [ 1562  1163]]\n"
     ]
    }
   ],
   "source": [
    "# Confusion Matrix (on AdaBoostClassifier)\n",
    "from sklearn.metrics import confusion_matrix\n",
    "xtrain, xtest, ytrain, ytest = train_test_split(X,y, random_state=42, test_size=0.2)\n",
    "model = DecisionTreeClassifier()\n",
    "model.fit(xtrain, ytrain)\n",
    "ypred = model.predict(xtest)\n",
    "confusion_matrix = confusion_matrix(ytest,ypred)\n",
    "print(confusion_matrix)"
   ]
  },
  {
   "cell_type": "code",
   "execution_count": 140,
   "metadata": {},
   "outputs": [
    {
     "name": "stdout",
     "output_type": "stream",
     "text": [
      "              precision    recall  f1-score   support\n",
      "\n",
      "         0.0       0.97      0.97      0.97     59234\n",
      "         1.0       0.43      0.43      0.43      2725\n",
      "\n",
      "   micro avg       0.95      0.95      0.95     61959\n",
      "   macro avg       0.70      0.70      0.70     61959\n",
      "weighted avg       0.95      0.95      0.95     61959\n",
      "\n"
     ]
    }
   ],
   "source": [
    "from sklearn.metrics import classification_report\n",
    "print(classification_report(ytest,ypred))"
   ]
  },
  {
   "cell_type": "code",
   "execution_count": 141,
   "metadata": {},
   "outputs": [
    {
     "data": {
      "image/png": "[encoded data removed]",
      "text/plain": [
       "<Figure size 432x288 with 1 Axes>"
      ]
     },
     "metadata": {
      "needs_background": "light"
     },
     "output_type": "display_data"
    }
   ],
   "source": [
    "from sklearn.metrics import roc_auc_score, roc_curve\n",
    "\n",
    "auc = roc_auc_score(ytest, ypred)\n",
    "fpr, tpr, thresholds = roc_curve(ytest, ypred)\n",
    "plt.figure()\n",
    "plt.plot(fpr, tpr, label='RF Classifier (area = %0.2f)' % auc)\n",
    "plt.plot([0, 1], [0, 1],'r--')\n",
    "plt.xlim([0.0, 1.0])\n",
    "plt.ylim([0.0, 1.05])\n",
    "plt.xlabel('False Positive Rate'), plt.ylabel('True Positive Rate'), plt.title('Receiver operating characteristic')\n",
    "plt.legend(loc=\"lower right\")\n",
    "# plt.savefig('Log_ROC')\n",
    "plt.show()"
   ]
  },
  {
   "cell_type": "code",
   "execution_count": null,
   "metadata": {},
   "outputs": [],
   "source": []
  },
  {
   "cell_type": "code",
   "execution_count": 142,
   "metadata": {},
   "outputs": [],
   "source": [
    "model = DecisionTreeClassifier(random_state=10)\n",
    "model.fit(X, y)\n",
    "ypred = model.predict(xtest)"
   ]
  },
  {
   "cell_type": "code",
   "execution_count": 143,
   "metadata": {},
   "outputs": [],
   "source": [
    "train_pred=model.predict(train.drop(columns=['impression_id','impression_time_Timestamp','os_version','user_id','is_click'],axis=0))"
   ]
  },
  {
   "cell_type": "code",
   "execution_count": 149,
   "metadata": {},
   "outputs": [],
   "source": [
    "test_pred=model.predict(test.drop(columns=['impression_id','impression_time_Timestamp','os_version','user_id','is_click'],axis=0))"
   ]
  },
  {
   "cell_type": "code",
   "execution_count": 190,
   "metadata": {},
   "outputs": [],
   "source": [
    "final=test[['impression_id','is_click']]"
   ]
  },
  {
   "cell_type": "code",
   "execution_count": 192,
   "metadata": {},
   "outputs": [
    {
     "data": {
      "text/plain": [
       "(112163, 2)"
      ]
     },
     "execution_count": 192,
     "metadata": {},
     "output_type": "execute_result"
    }
   ],
   "source": [
    "final.shape"
   ]
  },
  {
   "cell_type": "code",
   "execution_count": 150,
   "metadata": {},
   "outputs": [],
   "source": [
    "sample_submission1=sample_submission"
   ]
  },
  {
   "cell_type": "code",
   "execution_count": 194,
   "metadata": {},
   "outputs": [],
   "source": [
    "final1=final"
   ]
  },
  {
   "cell_type": "code",
   "execution_count": 195,
   "metadata": {},
   "outputs": [],
   "source": [
    "final=test[['impression_id','is_click']]\n",
    "final1[\"is_click\"]=test_pred.astype(int)"
   ]
  },
  {
   "cell_type": "code",
   "execution_count": 196,
   "metadata": {},
   "outputs": [
    {
     "data": {
      "text/plain": [
       "0    102082\n",
       "1     10081\n",
       "Name: is_click, dtype: int64"
      ]
     },
     "execution_count": 196,
     "metadata": {},
     "output_type": "execute_result"
    }
   ],
   "source": [
    "final1['is_click'].value_counts()"
   ]
  },
  {
   "cell_type": "code",
   "execution_count": 147,
   "metadata": {},
   "outputs": [],
   "source": [
    "sample_submission1.to_csv(\"sample_submissiondt1.csv\",index=False)"
   ]
  },
  {
   "cell_type": "code",
   "execution_count": 197,
   "metadata": {},
   "outputs": [],
   "source": [
    "final1.to_csv(\"final1.csv\",index=False)"
   ]
  },
  {
   "cell_type": "code",
   "execution_count": 449,
   "metadata": {},
   "outputs": [
    {
     "name": "stdout",
     "output_type": "stream",
     "text": [
      "(190087, 9)\n"
     ]
    },
    {
     "data": {
      "text/plain": [
       "GridSearchCV(cv=None, error_score='raise',\n",
       "       estimator=LogisticRegression(C=1.0, class_weight=None, dual=False, fit_intercept=True,\n",
       "          intercept_scaling=1, max_iter=100, multi_class='ovr', n_jobs=1,\n",
       "          penalty='l2', random_state=None, solver='liblinear', tol=0.0001,\n",
       "          verbose=0, warm_start=False),\n",
       "       fit_params=None, iid=True, n_jobs=8,\n",
       "       param_grid={'C': [0.001, 0.01, 0.1, 1, 5, 10], 'penalty': ['l1', 'l2'], 'class_weight': ['balanced']},\n",
       "       pre_dispatch='2*n_jobs', refit=True, return_train_score='warn',\n",
       "       scoring='f1_macro', verbose=0)"
      ]
     },
     "execution_count": 449,
     "metadata": {},
     "output_type": "execute_result"
    }
   ],
   "source": [
    "\n",
    "# using gridsearch & cross validation, hypertune best parameters of Logistic Regression\n",
    "from sklearn.model_selection import GridSearchCV, RandomizedSearchCV\n",
    "xtrain, xtest, ytrain, ytest = train_test_split(X,y, random_state=42, test_size=0.2)\n",
    "print(xtrain.shape)\n",
    "model = LogisticRegression()\n",
    "grid = {'C':[0.001,0.01,0.1,1,5,10],\n",
    "       'penalty':['l1','l2'],\n",
    "        'class_weight':['balanced']}\n",
    "# cv = KFold(n_splits = 10, shuffle=True, random_state = 7)\n",
    "clf = GridSearchCV(model, grid, n_jobs=8, cv=None,scoring='f1_macro')\n",
    "clf.fit(xtrain, ytrain)"
   ]
  },
  {
   "cell_type": "code",
   "execution_count": 450,
   "metadata": {},
   "outputs": [
    {
     "data": {
      "text/plain": [
       "(0.39331771463041715, {'C': 0.1, 'class_weight': 'balanced', 'penalty': 'l1'})"
      ]
     },
     "execution_count": 450,
     "metadata": {},
     "output_type": "execute_result"
    }
   ],
   "source": [
    "clf.best_score_, clf.best_params_"
   ]
  },
  {
   "cell_type": "code",
   "execution_count": 155,
   "metadata": {},
   "outputs": [
    {
     "name": "stdout",
     "output_type": "stream",
     "text": [
      "f1_score: 0.3946780962585945\n",
      "Accuracy on train data: 0.8794233236763317\n",
      "Accuracy on test data: 0.8779354088994334\n"
     ]
    }
   ],
   "source": [
    "model = LogisticRegression(C= 0.1, class_weight= 'balanced', penalty= 'l1')\n",
    "model.fit(xtrain, ytrain)\n",
    "# ypred = model.predict(xtest)\n",
    "prediction = model.predict_proba(xtest) # predicting on the validation set\n",
    "prediction_int = prediction[:,1] >= 0.55 # if prediction is greater than or equal to 0.3 than 1 else 0\n",
    "ypred = prediction_int.astype(np.int)\n",
    "\n",
    "print(\"f1_score:\",f1_score(ytest, ypred)) # calculating f1 score\n",
    "print(\"Accuracy on train data:\",model.score(xtrain,ytrain))\n",
    "print(\"Accuracy on test data:\",model.score(xtest,ytest))"
   ]
  },
  {
   "cell_type": "code",
   "execution_count": 156,
   "metadata": {},
   "outputs": [
    {
     "data": {
      "text/html": [
       "<div>\n",
       "<style scoped>\n",
       "    .dataframe tbody tr th:only-of-type {\n",
       "        vertical-align: middle;\n",
       "    }\n",
       "\n",
       "    .dataframe tbody tr th {\n",
       "        vertical-align: top;\n",
       "    }\n",
       "\n",
       "    .dataframe thead th {\n",
       "        text-align: right;\n",
       "    }\n",
       "</style>\n",
       "<table border=\"1\" class=\"dataframe\">\n",
       "  <thead>\n",
       "    <tr style=\"text-align: right;\">\n",
       "      <th>is_click</th>\n",
       "      <th>0.0</th>\n",
       "      <th>1.0</th>\n",
       "    </tr>\n",
       "    <tr>\n",
       "      <th>row_0</th>\n",
       "      <th></th>\n",
       "      <th></th>\n",
       "    </tr>\n",
       "  </thead>\n",
       "  <tbody>\n",
       "    <tr>\n",
       "      <th>0</th>\n",
       "      <td>52970</td>\n",
       "      <td>515</td>\n",
       "    </tr>\n",
       "    <tr>\n",
       "      <th>1</th>\n",
       "      <td>6264</td>\n",
       "      <td>2210</td>\n",
       "    </tr>\n",
       "  </tbody>\n",
       "</table>\n",
       "</div>"
      ],
      "text/plain": [
       "is_click    0.0   1.0\n",
       "row_0                \n",
       "0         52970   515\n",
       "1          6264  2210"
      ]
     },
     "execution_count": 156,
     "metadata": {},
     "output_type": "execute_result"
    }
   ],
   "source": [
    "pd.crosstab(ypred,ytest)"
   ]
  },
  {
   "cell_type": "code",
   "execution_count": 157,
   "metadata": {},
   "outputs": [
    {
     "name": "stdout",
     "output_type": "stream",
     "text": [
      "              precision    recall  f1-score   support\n",
      "\n",
      "         0.0       0.99      0.89      0.94     59234\n",
      "         1.0       0.26      0.81      0.39      2725\n",
      "\n",
      "   micro avg       0.89      0.89      0.89     61959\n",
      "   macro avg       0.63      0.85      0.67     61959\n",
      "weighted avg       0.96      0.89      0.92     61959\n",
      "\n"
     ]
    }
   ],
   "source": [
    "print(classification_report(ytest,ypred))"
   ]
  },
  {
   "cell_type": "code",
   "execution_count": 201,
   "metadata": {},
   "outputs": [
    {
     "data": {
      "image/png": "[encoded data removed]",
      "text/plain": [
       "<Figure size 432x288 with 1 Axes>"
      ]
     },
     "metadata": {
      "needs_background": "light"
     },
     "output_type": "display_data"
    }
   ],
   "source": [
    "from sklearn.metrics import roc_auc_score, roc_curve\n",
    "\n",
    "auc = roc_auc_score(ytest, ypred)\n",
    "fpr, tpr, thresholds = roc_curve(ytest, ypred)\n",
    "plt.figure()\n",
    "plt.plot(fpr, tpr, label='Logistic Classifier (area = %0.2f)' % auc)\n",
    "plt.plot([0, 1], [0, 1],'r--')\n",
    "plt.xlim([0.0, 1.0])\n",
    "plt.ylim([0.0, 1.05])\n",
    "plt.xlabel('False Positive Rate'), plt.ylabel('True Positive Rate'), plt.title('Receiver operating characteristic')\n",
    "plt.legend(loc=\"lower right\")\n",
    "# plt.savefig('Log_ROC')\n",
    "plt.show()"
   ]
  },
  {
   "cell_type": "code",
   "execution_count": 208,
   "metadata": {},
   "outputs": [],
   "source": [
    "model = LogisticRegression(C= 0.1, class_weight='balanced' penalty= 'l1')\n",
    "model.fit(X, y)\n",
    "ypred = model.predict(xtest)"
   ]
  },
  {
   "cell_type": "code",
   "execution_count": 209,
   "metadata": {},
   "outputs": [],
   "source": [
    "train_pred=model.predict(train.drop(columns=['is_click'],axis=0))"
   ]
  },
  {
   "cell_type": "code",
   "execution_count": 210,
   "metadata": {},
   "outputs": [],
   "source": [
    "test_pred=model.predict(test.drop(columns=['is_click'],axis=0))"
   ]
  },
  {
   "cell_type": "code",
   "execution_count": 212,
   "metadata": {},
   "outputs": [],
   "source": [
    "sample_submission1[\"is_click\"]=test_pred.astype(int)"
   ]
  },
  {
   "cell_type": "code",
   "execution_count": 211,
   "metadata": {},
   "outputs": [],
   "source": [
    "sample_submission1=sample_submission"
   ]
  },
  {
   "cell_type": "code",
   "execution_count": 213,
   "metadata": {},
   "outputs": [
    {
     "data": {
      "text/plain": [
       "1    90675\n",
       "Name: is_click, dtype: int64"
      ]
     },
     "execution_count": 213,
     "metadata": {},
     "output_type": "execute_result"
    }
   ],
   "source": [
    "sample_submission1['is_click'].value_counts()"
   ]
  },
  {
   "cell_type": "code",
   "execution_count": 207,
   "metadata": {},
   "outputs": [],
   "source": [
    "sample_submission1.to_csv(\"sample_submissionlg4.csv\",index=False)"
   ]
  },
  {
   "cell_type": "code",
   "execution_count": null,
   "metadata": {},
   "outputs": [],
   "source": []
  },
  {
   "cell_type": "code",
   "execution_count": null,
   "metadata": {},
   "outputs": [],
   "source": [
    "#Grid Search and Random search for RF"
   ]
  },
  {
   "cell_type": "code",
   "execution_count": null,
   "metadata": {},
   "outputs": [
    {
     "name": "stdout",
     "output_type": "stream",
     "text": [
      "Fitting 3 folds for each of 1980 candidates, totalling 5940 fits\n"
     ]
    },
    {
     "name": "stderr",
     "output_type": "stream",
     "text": [
      "[Parallel(n_jobs=8)]: Done  25 tasks      | elapsed:  2.3min\n",
      "[Parallel(n_jobs=8)]: Done 146 tasks      | elapsed:  5.3min\n"
     ]
    }
   ],
   "source": [
    "from sklearn.model_selection import GridSearchCV, RandomizedSearchCV\n",
    "xtrain, xtest, ytrain, ytest = train_test_split(X, y, random_state=42, test_size=0.2)\n",
    "model = RandomForestClassifier()\n",
    "grid = {'n_estimators': [10,20,30,50,100],\n",
    "        #'learning_rate':[0.4,0.5,0.6,0.7],\n",
    "        'max_features' : ['auto', 'sqrt'],\n",
    "        'max_depth' : [int(x) for x in np.linspace(10, 110, num = 11)],\n",
    "        'min_samples_split' : [2, 5, 10],\n",
    "        'min_samples_leaf' : [1, 2, 4],\n",
    "        'bootstrap' : [True, False],\n",
    "        \n",
    "       }\n",
    "#         'learning_rate' : [0.5,0.52,0.54,0.56,0.58,0.6,0.62,0.64,0.66,0.68,0.7]}\n",
    "# cv = KFold(n_splits = 10, shuffle=True, random_state = 7)\n",
    "clf = GridSearchCV(model, grid, n_jobs=8, cv=None,scoring='f1_macro',verbose=2)\n",
    "clf.fit(xtrain, ytrain)"
   ]
  },
  {
   "cell_type": "code",
   "execution_count": 463,
   "metadata": {},
   "outputs": [
    {
     "data": {
      "text/plain": [
       "(0.48825683133663805, {'learning_rate': 0.4, 'n_estimators': 10})"
      ]
     },
     "execution_count": 463,
     "metadata": {},
     "output_type": "execute_result"
    }
   ],
   "source": [
    "\n",
    "clf.best_score_, clf.best_params_"
   ]
  },
  {
   "cell_type": "code",
   "execution_count": 464,
   "metadata": {},
   "outputs": [
    {
     "name": "stdout",
     "output_type": "stream",
     "text": [
      "0.48825683133663805 8.941877859154185e-08 {'learning_rate': 0.4, 'n_estimators': 10}\n",
      "0.48825683133663805 8.941877859154185e-08 {'learning_rate': 0.4, 'n_estimators': 20}\n",
      "0.48825683133663805 8.941877859154185e-08 {'learning_rate': 0.4, 'n_estimators': 30}\n",
      "0.48825683133663805 8.941877859154185e-08 {'learning_rate': 0.4, 'n_estimators': 50}\n",
      "0.48825683133663805 8.941877859154185e-08 {'learning_rate': 0.4, 'n_estimators': 100}\n",
      "0.48825683133663805 8.941877859154185e-08 {'learning_rate': 0.5, 'n_estimators': 10}\n",
      "0.48825683133663805 8.941877859154185e-08 {'learning_rate': 0.5, 'n_estimators': 20}\n",
      "0.48825683133663805 8.941877859154185e-08 {'learning_rate': 0.5, 'n_estimators': 30}\n",
      "0.48825683133663805 8.941877859154185e-08 {'learning_rate': 0.5, 'n_estimators': 50}\n",
      "0.48825683133663805 8.941877859154185e-08 {'learning_rate': 0.5, 'n_estimators': 100}\n",
      "0.48825683133663805 8.941877859154185e-08 {'learning_rate': 0.6, 'n_estimators': 10}\n",
      "0.48825683133663805 8.941877859154185e-08 {'learning_rate': 0.6, 'n_estimators': 20}\n",
      "0.48825683133663805 8.941877859154185e-08 {'learning_rate': 0.6, 'n_estimators': 30}\n",
      "0.48825683133663805 8.941877859154185e-08 {'learning_rate': 0.6, 'n_estimators': 50}\n",
      "0.48825683133663805 8.941877859154185e-08 {'learning_rate': 0.6, 'n_estimators': 100}\n",
      "0.48825683133663805 8.941877859154185e-08 {'learning_rate': 0.7, 'n_estimators': 10}\n",
      "0.48825683133663805 8.941877859154185e-08 {'learning_rate': 0.7, 'n_estimators': 20}\n",
      "0.48825683133663805 8.941877859154185e-08 {'learning_rate': 0.7, 'n_estimators': 30}\n",
      "0.48825683133663805 8.941877859154185e-08 {'learning_rate': 0.7, 'n_estimators': 50}\n",
      "0.48825683133663805 8.941877859154185e-08 {'learning_rate': 0.7, 'n_estimators': 100}\n"
     ]
    }
   ],
   "source": [
    "means = clf.cv_results_['mean_test_score']\n",
    "stds = clf.cv_results_['std_test_score']\n",
    "params = clf.cv_results_['params']\n",
    "for m,s,p in zip(means,stds,params):\n",
    "    print(m,s,p)"
   ]
  },
  {
   "cell_type": "code",
   "execution_count": 169,
   "metadata": {},
   "outputs": [
    {
     "name": "stdout",
     "output_type": "stream",
     "text": [
      "f1_score: 0.05567765567765567\n",
      "Accuracy on train data: 0.965847217326803\n",
      "Accuracy on test data: 0.9432683809603973\n"
     ]
    }
   ],
   "source": [
    "model = RandomForestClassifier()\n",
    "model.fit(xtrain, ytrain)\n",
    "# ypred = model.predict(xtest)\n",
    "prediction = model.predict_proba(xtest) # predicting on the validation set\n",
    "prediction_int = prediction[:,1] >= 0.56 # if prediction is greater than or equal to 0.3 than 1 else 0\n",
    "ypred = prediction_int.astype(np.int)\n",
    "\n",
    "print(\"f1_score:\",f1_score(ytest, ypred)) # calculating f1 score\n",
    "print(\"Accuracy on train data:\",model.score(xtrain,ytrain))\n",
    "print(\"Accuracy on test data:\",model.score(xtest,ytest))"
   ]
  },
  {
   "cell_type": "code",
   "execution_count": 182,
   "metadata": {},
   "outputs": [
    {
     "name": "stderr",
     "output_type": "stream",
     "text": [
      "C:\\ProgramData\\Anaconda3\\lib\\site-packages\\sklearn\\preprocessing\\label.py:151: DeprecationWarning: The truth value of an empty array is ambiguous. Returning False, but in future this will result in an error. Use `array.size > 0` to check that an array is not empty.\n",
      "  if diff:\n"
     ]
    },
    {
     "data": {
      "text/html": [
       "<div>\n",
       "<style scoped>\n",
       "    .dataframe tbody tr th:only-of-type {\n",
       "        vertical-align: middle;\n",
       "    }\n",
       "\n",
       "    .dataframe tbody tr th {\n",
       "        vertical-align: top;\n",
       "    }\n",
       "\n",
       "    .dataframe thead th {\n",
       "        text-align: right;\n",
       "    }\n",
       "</style>\n",
       "<table border=\"1\" class=\"dataframe\">\n",
       "  <thead>\n",
       "    <tr style=\"text-align: right;\">\n",
       "      <th>col_0</th>\n",
       "      <th>0.0</th>\n",
       "      <th>1.0</th>\n",
       "    </tr>\n",
       "    <tr>\n",
       "      <th>is_click</th>\n",
       "      <th></th>\n",
       "      <th></th>\n",
       "    </tr>\n",
       "  </thead>\n",
       "  <tbody>\n",
       "    <tr>\n",
       "      <th>0.0</th>\n",
       "      <td>45339</td>\n",
       "      <td>45</td>\n",
       "    </tr>\n",
       "    <tr>\n",
       "      <th>1.0</th>\n",
       "      <td>2127</td>\n",
       "      <td>11</td>\n",
       "    </tr>\n",
       "  </tbody>\n",
       "</table>\n",
       "</div>"
      ],
      "text/plain": [
       "col_0       0.0  1.0\n",
       "is_click            \n",
       "0.0       45339   45\n",
       "1.0        2127   11"
      ]
     },
     "execution_count": 182,
     "metadata": {},
     "output_type": "execute_result"
    }
   ],
   "source": [
    "import xgboost as xgb\n",
    "model_xg = xgb.XGBClassifier( learning_rate = 0.9,\n",
    "           max_depth = 8,\n",
    "          gamma = 1.1,\n",
    "          alpha = 10,\n",
    "          n_estimators = 200,objective = 'multi:softmax',num_class = 2,eval_metric ='merror',colsample_bytree = 0.7,n_jobs =-1)\n",
    "model_xg.fit(xtrain,ytrain)\n",
    "predict_xg = model_xg.predict(xtest)\n",
    "pd.crosstab(ytest,predict_xg)\n",
    "#predict_xg_t = model_xg.predict(train)"
   ]
  },
  {
   "cell_type": "code",
   "execution_count": 183,
   "metadata": {},
   "outputs": [
    {
     "name": "stdout",
     "output_type": "stream",
     "text": [
      "             precision    recall  f1-score   support\n",
      "\n",
      "        0.0       0.96      1.00      0.98     45384\n",
      "        1.0       0.20      0.01      0.01      2138\n",
      "\n",
      "avg / total       0.92      0.95      0.93     47522\n",
      "\n"
     ]
    }
   ],
   "source": [
    "print (classification_report(ytest,predict_xg))"
   ]
  },
  {
   "cell_type": "code",
   "execution_count": 185,
   "metadata": {},
   "outputs": [
    {
     "ename": "ModuleNotFoundError",
     "evalue": "No module named 'catboost'",
     "output_type": "error",
     "traceback": [
      "\u001b[1;31m---------------------------------------------------------------------------\u001b[0m",
      "\u001b[1;31mModuleNotFoundError\u001b[0m                       Traceback (most recent call last)",
      "\u001b[1;32m<ipython-input-185-4ab83942259b>\u001b[0m in \u001b[0;36m<module>\u001b[1;34m()\u001b[0m\n\u001b[0;32m      1\u001b[0m \u001b[1;31m# cat boost model\u001b[0m\u001b[1;33m\u001b[0m\u001b[1;33m\u001b[0m\u001b[0m\n\u001b[1;32m----> 2\u001b[1;33m \u001b[1;32mfrom\u001b[0m \u001b[0mcatboost\u001b[0m \u001b[1;32mimport\u001b[0m \u001b[0mCatBoostClassifier\u001b[0m\u001b[1;33m\u001b[0m\u001b[0m\n\u001b[0m\u001b[0;32m      3\u001b[0m \u001b[0mmodel_cb\u001b[0m \u001b[1;33m=\u001b[0m \u001b[0mCatBoostClassifier\u001b[0m\u001b[1;33m(\u001b[0m\u001b[0mlearning_rate\u001b[0m \u001b[1;33m=\u001b[0m \u001b[1;36m0.01\u001b[0m\u001b[1;33m,\u001b[0m\u001b[0miterations\u001b[0m \u001b[1;33m=\u001b[0m \u001b[1;36m800\u001b[0m\u001b[1;33m,\u001b[0m\u001b[0mdepth\u001b[0m \u001b[1;33m=\u001b[0m\u001b[1;36m7\u001b[0m\u001b[1;33m,\u001b[0m \u001b[0meval_metric\u001b[0m \u001b[1;33m=\u001b[0m \u001b[1;34m'F1'\u001b[0m\u001b[1;33m)\u001b[0m\u001b[1;33m.\u001b[0m\u001b[0mfit\u001b[0m\u001b[1;33m(\u001b[0m\u001b[0mxtrain\u001b[0m\u001b[1;33m,\u001b[0m\u001b[0mytrain\u001b[0m\u001b[1;33m)\u001b[0m\u001b[1;33m\u001b[0m\u001b[0m\n\u001b[0;32m      4\u001b[0m \u001b[0mpredict_cb\u001b[0m \u001b[1;33m=\u001b[0m \u001b[0mmodel_cb\u001b[0m\u001b[1;33m.\u001b[0m\u001b[0mpredict\u001b[0m\u001b[1;33m(\u001b[0m\u001b[0mxtest\u001b[0m\u001b[1;33m)\u001b[0m\u001b[1;33m\u001b[0m\u001b[0m\n\u001b[0;32m      5\u001b[0m \u001b[0mpredict_cb\u001b[0m \u001b[1;33m=\u001b[0m \u001b[0mpredict_cb\u001b[0m\u001b[1;33m.\u001b[0m\u001b[0mflatten\u001b[0m\u001b[1;33m(\u001b[0m\u001b[1;33m)\u001b[0m\u001b[1;33m\u001b[0m\u001b[0m\n",
      "\u001b[1;31mModuleNotFoundError\u001b[0m: No module named 'catboost'"
     ]
    }
   ],
   "source": [
    "# cat boost model\n",
    "from catboost import CatBoostClassifier\n",
    "model_cb = CatBoostClassifier(learning_rate = 0.01,iterations = 800,depth =7, eval_metric = 'F1').fit(xtrain,ytrain)\n",
    "predict_cb = model_cb.predict(xtest)\n",
    "predict_cb = predict_cb.flatten()\n",
    "pd.crosstab(ytest,predict_cb)"
   ]
  },
  {
   "cell_type": "code",
   "execution_count": null,
   "metadata": {},
   "outputs": [],
   "source": []
  },
  {
   "cell_type": "code",
   "execution_count": 170,
   "metadata": {},
   "outputs": [
    {
     "data": {
      "text/html": [
       "<div>\n",
       "<style scoped>\n",
       "    .dataframe tbody tr th:only-of-type {\n",
       "        vertical-align: middle;\n",
       "    }\n",
       "\n",
       "    .dataframe tbody tr th {\n",
       "        vertical-align: top;\n",
       "    }\n",
       "\n",
       "    .dataframe thead th {\n",
       "        text-align: right;\n",
       "    }\n",
       "</style>\n",
       "<table border=\"1\" class=\"dataframe\">\n",
       "  <thead>\n",
       "    <tr style=\"text-align: right;\">\n",
       "      <th>is_click</th>\n",
       "      <th>0.0</th>\n",
       "      <th>1.0</th>\n",
       "    </tr>\n",
       "    <tr>\n",
       "      <th>row_0</th>\n",
       "      <th></th>\n",
       "      <th></th>\n",
       "    </tr>\n",
       "  </thead>\n",
       "  <tbody>\n",
       "    <tr>\n",
       "      <th>0</th>\n",
       "      <td>44868</td>\n",
       "      <td>2062</td>\n",
       "    </tr>\n",
       "    <tr>\n",
       "      <th>1</th>\n",
       "      <td>516</td>\n",
       "      <td>76</td>\n",
       "    </tr>\n",
       "  </tbody>\n",
       "</table>\n",
       "</div>"
      ],
      "text/plain": [
       "is_click    0.0   1.0\n",
       "row_0                \n",
       "0         44868  2062\n",
       "1           516    76"
      ]
     },
     "execution_count": 170,
     "metadata": {},
     "output_type": "execute_result"
    }
   ],
   "source": [
    "\n",
    "pd.crosstab(ypred,ytest)"
   ]
  },
  {
   "cell_type": "code",
   "execution_count": 171,
   "metadata": {},
   "outputs": [
    {
     "name": "stdout",
     "output_type": "stream",
     "text": [
      "             precision    recall  f1-score   support\n",
      "\n",
      "        0.0       0.96      0.99      0.97     45384\n",
      "        1.0       0.13      0.04      0.06      2138\n",
      "\n",
      "avg / total       0.92      0.95      0.93     47522\n",
      "\n"
     ]
    }
   ],
   "source": [
    "from sklearn.metrics import classification_report\n",
    "print(classification_report(ytest,ypred))"
   ]
  },
  {
   "cell_type": "code",
   "execution_count": 172,
   "metadata": {},
   "outputs": [
    {
     "name": "stdout",
     "output_type": "stream",
     "text": [
      "             precision    recall  f1-score   support\n",
      "\n",
      "        0.0       0.96      0.99      0.97     45384\n",
      "        1.0       0.13      0.04      0.06      2138\n",
      "\n",
      "avg / total       0.92      0.95      0.93     47522\n",
      "\n"
     ]
    }
   ],
   "source": [
    "print(classification_report(ytest,ypred))"
   ]
  },
  {
   "cell_type": "code",
   "execution_count": 173,
   "metadata": {},
   "outputs": [],
   "source": [
    "model = RandomForestClassifier()\n",
    "model.fit(X, y)\n",
    "ypred = model.predict(xtest)"
   ]
  },
  {
   "cell_type": "code",
   "execution_count": 174,
   "metadata": {},
   "outputs": [],
   "source": [
    "train_pred=model.predict(train.drop(columns=['impression_id','impression_time_Timestamp','os_version','user_id','is_click'],axis=0))"
   ]
  },
  {
   "cell_type": "code",
   "execution_count": 175,
   "metadata": {},
   "outputs": [],
   "source": [
    "test_pred=model.predict(test.drop(columns=['impression_id','impression_time_Timestamp','os_version','user_id','is_click'],axis=0))"
   ]
  },
  {
   "cell_type": "code",
   "execution_count": 177,
   "metadata": {},
   "outputs": [],
   "source": [
    "sample_submission1[\"is_click\"]=test_pred.astype(int)"
   ]
  },
  {
   "cell_type": "code",
   "execution_count": 176,
   "metadata": {},
   "outputs": [],
   "source": [
    "sample_submission1=sample_submission"
   ]
  },
  {
   "cell_type": "code",
   "execution_count": 178,
   "metadata": {},
   "outputs": [
    {
     "data": {
      "text/plain": [
       "0    90675\n",
       "Name: is_click, dtype: int64"
      ]
     },
     "execution_count": 178,
     "metadata": {},
     "output_type": "execute_result"
    }
   ],
   "source": [
    "sample_submission1['is_click'].value_counts()"
   ]
  },
  {
   "cell_type": "code",
   "execution_count": 112,
   "metadata": {},
   "outputs": [],
   "source": [
    "sample_submission1.to_csv(\"sample_submissionDT1.csv\",index=False)"
   ]
  },
  {
   "cell_type": "code",
   "execution_count": null,
   "metadata": {},
   "outputs": [],
   "source": [
    "#Light GBM "
   ]
  },
  {
   "cell_type": "code",
   "execution_count": 211,
   "metadata": {},
   "outputs": [],
   "source": [
    "import lightgbm as lgb"
   ]
  },
  {
   "cell_type": "code",
   "execution_count": 212,
   "metadata": {},
   "outputs": [],
   "source": [
    "params = {\n",
    "    'task': 'train',\n",
    "    'boosting_type': 'gbdt',\n",
    "    'objective': 'binary',\n",
    "    'metric': { 'binary_logloss'},\n",
    "    'num_leaves': 31, # defauly leaves(31) amount for each tree\n",
    "    'learning_rate': 0.08,\n",
    "    'feature_fraction': 0.7, # will select 70% features before training each tree\n",
    "    'bagging_fraction': 0.3, #feature_fraction, but this will random select part of data\n",
    "    'bagging_freq': 5, #  perform bagging at every 5 iteration\n",
    "    'verbose': 0\n",
    "}"
   ]
  },
  {
   "cell_type": "code",
   "execution_count": 213,
   "metadata": {},
   "outputs": [],
   "source": [
    "#X_train = train.loc[:, train.columns != 'click']\n",
    "#y_target = train.click.values\n",
    "#create lightgbm dataset\n",
    "msk = np.random.rand(len(xtrain)) < 0.8\n",
    "lgb_train = lgb.Dataset(xtrain[msk], ytrain[msk])\n",
    "lgb_eval = lgb.Dataset(xtrain[~msk], ytrain[~msk], reference=lgb_train)"
   ]
  },
  {
   "cell_type": "code",
   "execution_count": 214,
   "metadata": {},
   "outputs": [
    {
     "name": "stdout",
     "output_type": "stream",
     "text": [
      "Start training...\n",
      "[1]\tvalid_0's binary_logloss: 0.156002\n",
      "Training until validation scores don't improve for 500 rounds.\n",
      "[2]\tvalid_0's binary_logloss: 0.146458\n",
      "[3]\tvalid_0's binary_logloss: 0.139265\n",
      "[4]\tvalid_0's binary_logloss: 0.133646\n",
      "[5]\tvalid_0's binary_logloss: 0.129137\n",
      "[6]\tvalid_0's binary_logloss: 0.12608\n",
      "[7]\tvalid_0's binary_logloss: 0.122847\n",
      "[8]\tvalid_0's binary_logloss: 0.12003\n",
      "[9]\tvalid_0's binary_logloss: 0.117608\n",
      "[10]\tvalid_0's binary_logloss: 0.115413\n",
      "[11]\tvalid_0's binary_logloss: 0.113376\n",
      "[12]\tvalid_0's binary_logloss: 0.11199\n",
      "[13]\tvalid_0's binary_logloss: 0.110333\n",
      "[14]\tvalid_0's binary_logloss: 0.108919\n",
      "[15]\tvalid_0's binary_logloss: 0.107559\n",
      "[16]\tvalid_0's binary_logloss: 0.106376\n",
      "[17]\tvalid_0's binary_logloss: 0.105318\n",
      "[18]\tvalid_0's binary_logloss: 0.104387\n",
      "[19]\tvalid_0's binary_logloss: 0.103521\n",
      "[20]\tvalid_0's binary_logloss: 0.102735\n",
      "[21]\tvalid_0's binary_logloss: 0.102044\n",
      "[22]\tvalid_0's binary_logloss: 0.101418\n",
      "[23]\tvalid_0's binary_logloss: 0.100835\n",
      "[24]\tvalid_0's binary_logloss: 0.10029\n",
      "[25]\tvalid_0's binary_logloss: 0.0997887\n",
      "[26]\tvalid_0's binary_logloss: 0.0993792\n",
      "[27]\tvalid_0's binary_logloss: 0.0990629\n",
      "[28]\tvalid_0's binary_logloss: 0.0986549\n",
      "[29]\tvalid_0's binary_logloss: 0.09833\n",
      "[30]\tvalid_0's binary_logloss: 0.0979811\n",
      "[31]\tvalid_0's binary_logloss: 0.097659\n",
      "[32]\tvalid_0's binary_logloss: 0.0973958\n",
      "[33]\tvalid_0's binary_logloss: 0.0971643\n",
      "[34]\tvalid_0's binary_logloss: 0.0969176\n",
      "[35]\tvalid_0's binary_logloss: 0.0967287\n",
      "[36]\tvalid_0's binary_logloss: 0.0965879\n",
      "[37]\tvalid_0's binary_logloss: 0.0964892\n",
      "[38]\tvalid_0's binary_logloss: 0.0963344\n",
      "[39]\tvalid_0's binary_logloss: 0.0961935\n",
      "[40]\tvalid_0's binary_logloss: 0.0960933\n",
      "[41]\tvalid_0's binary_logloss: 0.0960712\n",
      "[42]\tvalid_0's binary_logloss: 0.0959323\n",
      "[43]\tvalid_0's binary_logloss: 0.0959672\n",
      "[44]\tvalid_0's binary_logloss: 0.0958258\n",
      "[45]\tvalid_0's binary_logloss: 0.0957551\n",
      "[46]\tvalid_0's binary_logloss: 0.0956043\n",
      "[47]\tvalid_0's binary_logloss: 0.0955269\n",
      "[48]\tvalid_0's binary_logloss: 0.0954472\n",
      "[49]\tvalid_0's binary_logloss: 0.0953603\n",
      "[50]\tvalid_0's binary_logloss: 0.095272\n",
      "[51]\tvalid_0's binary_logloss: 0.0952145\n",
      "[52]\tvalid_0's binary_logloss: 0.0951852\n",
      "[53]\tvalid_0's binary_logloss: 0.0951132\n",
      "[54]\tvalid_0's binary_logloss: 0.0951215\n",
      "[55]\tvalid_0's binary_logloss: 0.0950575\n",
      "[56]\tvalid_0's binary_logloss: 0.0950416\n",
      "[57]\tvalid_0's binary_logloss: 0.0950173\n",
      "[58]\tvalid_0's binary_logloss: 0.0949598\n",
      "[59]\tvalid_0's binary_logloss: 0.0948895\n",
      "[60]\tvalid_0's binary_logloss: 0.0948684\n",
      "[61]\tvalid_0's binary_logloss: 0.0948208\n",
      "[62]\tvalid_0's binary_logloss: 0.0947947\n",
      "[63]\tvalid_0's binary_logloss: 0.0947717\n",
      "[64]\tvalid_0's binary_logloss: 0.0947215\n",
      "[65]\tvalid_0's binary_logloss: 0.0947146\n",
      "[66]\tvalid_0's binary_logloss: 0.0947018\n",
      "[67]\tvalid_0's binary_logloss: 0.0946758\n",
      "[68]\tvalid_0's binary_logloss: 0.0946667\n",
      "[69]\tvalid_0's binary_logloss: 0.0946511\n",
      "[70]\tvalid_0's binary_logloss: 0.0946442\n",
      "[71]\tvalid_0's binary_logloss: 0.0946486\n",
      "[72]\tvalid_0's binary_logloss: 0.0946352\n",
      "[73]\tvalid_0's binary_logloss: 0.0946929\n",
      "[74]\tvalid_0's binary_logloss: 0.094707\n",
      "[75]\tvalid_0's binary_logloss: 0.0947136\n",
      "[76]\tvalid_0's binary_logloss: 0.0947517\n",
      "[77]\tvalid_0's binary_logloss: 0.0947506\n",
      "[78]\tvalid_0's binary_logloss: 0.0947607\n",
      "[79]\tvalid_0's binary_logloss: 0.0948339\n",
      "[80]\tvalid_0's binary_logloss: 0.0948663\n",
      "[81]\tvalid_0's binary_logloss: 0.0948876\n",
      "[82]\tvalid_0's binary_logloss: 0.0949082\n",
      "[83]\tvalid_0's binary_logloss: 0.0948963\n",
      "[84]\tvalid_0's binary_logloss: 0.0948446\n",
      "[85]\tvalid_0's binary_logloss: 0.0948979\n",
      "[86]\tvalid_0's binary_logloss: 0.0949275\n",
      "[87]\tvalid_0's binary_logloss: 0.0948949\n",
      "[88]\tvalid_0's binary_logloss: 0.0948637\n",
      "[89]\tvalid_0's binary_logloss: 0.094911\n",
      "[90]\tvalid_0's binary_logloss: 0.0948933\n",
      "[91]\tvalid_0's binary_logloss: 0.0948846\n",
      "[92]\tvalid_0's binary_logloss: 0.0949137\n",
      "[93]\tvalid_0's binary_logloss: 0.0949211\n",
      "[94]\tvalid_0's binary_logloss: 0.0949501\n",
      "[95]\tvalid_0's binary_logloss: 0.0949671\n",
      "[96]\tvalid_0's binary_logloss: 0.0950059\n",
      "[97]\tvalid_0's binary_logloss: 0.0949679\n",
      "[98]\tvalid_0's binary_logloss: 0.0950286\n",
      "[99]\tvalid_0's binary_logloss: 0.0950006\n",
      "[100]\tvalid_0's binary_logloss: 0.0950103\n",
      "[101]\tvalid_0's binary_logloss: 0.0950222\n",
      "[102]\tvalid_0's binary_logloss: 0.0950154\n",
      "[103]\tvalid_0's binary_logloss: 0.0950648\n",
      "[104]\tvalid_0's binary_logloss: 0.0950641\n",
      "[105]\tvalid_0's binary_logloss: 0.0950924\n",
      "[106]\tvalid_0's binary_logloss: 0.0951096\n",
      "[107]\tvalid_0's binary_logloss: 0.0951378\n",
      "[108]\tvalid_0's binary_logloss: 0.0951294\n",
      "[109]\tvalid_0's binary_logloss: 0.0951535\n",
      "[110]\tvalid_0's binary_logloss: 0.0951471\n",
      "[111]\tvalid_0's binary_logloss: 0.0961201\n",
      "[112]\tvalid_0's binary_logloss: 0.0954904\n",
      "[113]\tvalid_0's binary_logloss: 0.0954869\n",
      "[114]\tvalid_0's binary_logloss: 0.0955248\n",
      "[115]\tvalid_0's binary_logloss: 0.0955028\n",
      "[116]\tvalid_0's binary_logloss: 0.0954955\n",
      "[117]\tvalid_0's binary_logloss: 0.0954294\n",
      "[118]\tvalid_0's binary_logloss: 0.0954326\n",
      "[119]\tvalid_0's binary_logloss: 0.0953867\n",
      "[120]\tvalid_0's binary_logloss: 0.0954079\n",
      "[121]\tvalid_0's binary_logloss: 0.0954169\n",
      "[122]\tvalid_0's binary_logloss: 0.0953639\n",
      "[123]\tvalid_0's binary_logloss: 0.0953188\n",
      "[124]\tvalid_0's binary_logloss: 0.0953573\n",
      "[125]\tvalid_0's binary_logloss: 0.0953747\n",
      "[126]\tvalid_0's binary_logloss: 0.0953642\n",
      "[127]\tvalid_0's binary_logloss: 0.0953495\n",
      "[128]\tvalid_0's binary_logloss: 0.0953689\n",
      "[129]\tvalid_0's binary_logloss: 0.0953247\n",
      "[130]\tvalid_0's binary_logloss: 0.0953616\n",
      "[131]\tvalid_0's binary_logloss: 0.0953885\n",
      "[132]\tvalid_0's binary_logloss: 0.0954126\n",
      "[133]\tvalid_0's binary_logloss: 0.0954543\n",
      "[134]\tvalid_0's binary_logloss: 0.0954288\n",
      "[135]\tvalid_0's binary_logloss: 0.0954687\n",
      "[136]\tvalid_0's binary_logloss: 0.095495\n",
      "[137]\tvalid_0's binary_logloss: 0.0954999\n",
      "[138]\tvalid_0's binary_logloss: 0.0955383\n",
      "[139]\tvalid_0's binary_logloss: 0.0955147\n",
      "[140]\tvalid_0's binary_logloss: 0.0955304\n",
      "[141]\tvalid_0's binary_logloss: 0.095549\n",
      "[142]\tvalid_0's binary_logloss: 0.0955896\n",
      "[143]\tvalid_0's binary_logloss: 0.095627\n",
      "[144]\tvalid_0's binary_logloss: 0.0956308\n",
      "[145]\tvalid_0's binary_logloss: 0.0956607\n",
      "[146]\tvalid_0's binary_logloss: 0.0956744\n",
      "[147]\tvalid_0's binary_logloss: 0.0956642\n",
      "[148]\tvalid_0's binary_logloss: 0.0956503\n",
      "[149]\tvalid_0's binary_logloss: 0.0956946\n",
      "[150]\tvalid_0's binary_logloss: 0.0957051\n",
      "[151]\tvalid_0's binary_logloss: 0.0957397\n",
      "[152]\tvalid_0's binary_logloss: 0.0957554\n",
      "[153]\tvalid_0's binary_logloss: 0.095778\n",
      "[154]\tvalid_0's binary_logloss: 0.0958052\n",
      "[155]\tvalid_0's binary_logloss: 0.0958143\n",
      "[156]\tvalid_0's binary_logloss: 0.0958038\n",
      "[157]\tvalid_0's binary_logloss: 0.0958215\n",
      "[158]\tvalid_0's binary_logloss: 0.0958063\n",
      "[159]\tvalid_0's binary_logloss: 0.0958219\n",
      "[160]\tvalid_0's binary_logloss: 0.0958514\n",
      "[161]\tvalid_0's binary_logloss: 0.0958388\n",
      "[162]\tvalid_0's binary_logloss: 0.0958426\n",
      "[163]\tvalid_0's binary_logloss: 0.0958874\n",
      "[164]\tvalid_0's binary_logloss: 0.0959253\n",
      "[165]\tvalid_0's binary_logloss: 0.0959372\n",
      "[166]\tvalid_0's binary_logloss: 0.0959271\n",
      "[167]\tvalid_0's binary_logloss: 0.0958845\n",
      "[168]\tvalid_0's binary_logloss: 0.0958854\n",
      "[169]\tvalid_0's binary_logloss: 0.0959155\n",
      "[170]\tvalid_0's binary_logloss: 0.0959241\n",
      "[171]\tvalid_0's binary_logloss: 0.0959247\n",
      "[172]\tvalid_0's binary_logloss: 0.0959266\n",
      "[173]\tvalid_0's binary_logloss: 0.0959573\n",
      "[174]\tvalid_0's binary_logloss: 0.0959748\n",
      "[175]\tvalid_0's binary_logloss: 0.0960073\n",
      "[176]\tvalid_0's binary_logloss: 0.0960381\n",
      "[177]\tvalid_0's binary_logloss: 0.0960426\n",
      "[178]\tvalid_0's binary_logloss: 0.0961073\n",
      "[179]\tvalid_0's binary_logloss: 0.0960987\n",
      "[180]\tvalid_0's binary_logloss: 0.0961284\n",
      "[181]\tvalid_0's binary_logloss: 0.0961317\n",
      "[182]\tvalid_0's binary_logloss: 0.0961282\n",
      "[183]\tvalid_0's binary_logloss: 0.0961037\n",
      "[184]\tvalid_0's binary_logloss: 0.0961284\n",
      "[185]\tvalid_0's binary_logloss: 0.0961635\n",
      "[186]\tvalid_0's binary_logloss: 0.0961678\n",
      "[187]\tvalid_0's binary_logloss: 0.0961809\n",
      "[188]\tvalid_0's binary_logloss: 0.0962063\n",
      "[189]\tvalid_0's binary_logloss: 0.0962694\n",
      "[190]\tvalid_0's binary_logloss: 0.0963069\n",
      "[191]\tvalid_0's binary_logloss: 0.0963382\n",
      "[192]\tvalid_0's binary_logloss: 0.0963719\n",
      "[193]\tvalid_0's binary_logloss: 0.0964053\n",
      "[194]\tvalid_0's binary_logloss: 0.0964393\n",
      "[195]\tvalid_0's binary_logloss: 0.0965\n",
      "[196]\tvalid_0's binary_logloss: 0.0965375\n"
     ]
    },
    {
     "name": "stdout",
     "output_type": "stream",
     "text": [
      "[197]\tvalid_0's binary_logloss: 0.0965628\n",
      "[198]\tvalid_0's binary_logloss: 0.0965602\n",
      "[199]\tvalid_0's binary_logloss: 0.0965989\n",
      "[200]\tvalid_0's binary_logloss: 0.0966313\n",
      "[201]\tvalid_0's binary_logloss: 0.0966393\n",
      "[202]\tvalid_0's binary_logloss: 0.0966515\n",
      "[203]\tvalid_0's binary_logloss: 0.0966131\n",
      "[204]\tvalid_0's binary_logloss: 0.096568\n",
      "[205]\tvalid_0's binary_logloss: 0.096614\n",
      "[206]\tvalid_0's binary_logloss: 0.0965849\n",
      "[207]\tvalid_0's binary_logloss: 0.0965895\n",
      "[208]\tvalid_0's binary_logloss: 0.0965836\n",
      "[209]\tvalid_0's binary_logloss: 0.250387\n",
      "[210]\tvalid_0's binary_logloss: 0.0966031\n",
      "[211]\tvalid_0's binary_logloss: 0.0966393\n",
      "[212]\tvalid_0's binary_logloss: 0.0966161\n",
      "[213]\tvalid_0's binary_logloss: 0.0966605\n",
      "[214]\tvalid_0's binary_logloss: 0.0966294\n",
      "[215]\tvalid_0's binary_logloss: 0.0966607\n",
      "[216]\tvalid_0's binary_logloss: 0.0966021\n",
      "[217]\tvalid_0's binary_logloss: 0.0966274\n",
      "[218]\tvalid_0's binary_logloss: 0.109192\n",
      "[219]\tvalid_0's binary_logloss: 0.0966841\n",
      "[220]\tvalid_0's binary_logloss: 0.0967249\n",
      "[221]\tvalid_0's binary_logloss: 0.0967343\n",
      "[222]\tvalid_0's binary_logloss: 0.0967681\n",
      "[223]\tvalid_0's binary_logloss: 0.0967036\n",
      "[224]\tvalid_0's binary_logloss: 0.0967678\n",
      "[225]\tvalid_0's binary_logloss: 0.096824\n",
      "[226]\tvalid_0's binary_logloss: 0.0968451\n",
      "[227]\tvalid_0's binary_logloss: 0.0968405\n",
      "[228]\tvalid_0's binary_logloss: 0.0968672\n",
      "[229]\tvalid_0's binary_logloss: 0.0968661\n",
      "[230]\tvalid_0's binary_logloss: 0.096859\n",
      "[231]\tvalid_0's binary_logloss: 0.0968606\n",
      "[232]\tvalid_0's binary_logloss: 0.0968609\n",
      "[233]\tvalid_0's binary_logloss: 0.096852\n",
      "[234]\tvalid_0's binary_logloss: 0.0969165\n",
      "[235]\tvalid_0's binary_logloss: 0.0968883\n",
      "[236]\tvalid_0's binary_logloss: 0.115718\n",
      "[237]\tvalid_0's binary_logloss: 0.0973253\n",
      "[238]\tvalid_0's binary_logloss: 0.225633\n",
      "[239]\tvalid_0's binary_logloss: 0.0972604\n",
      "[240]\tvalid_0's binary_logloss: 0.0972087\n",
      "[241]\tvalid_0's binary_logloss: 0.0971908\n",
      "[242]\tvalid_0's binary_logloss: 0.0971786\n",
      "[243]\tvalid_0's binary_logloss: 0.0971236\n",
      "[244]\tvalid_0's binary_logloss: 0.0971655\n",
      "[245]\tvalid_0's binary_logloss: 0.0971162\n",
      "[246]\tvalid_0's binary_logloss: 0.101603\n",
      "[247]\tvalid_0's binary_logloss: 0.0980725\n",
      "[248]\tvalid_0's binary_logloss: 0.749469\n",
      "[249]\tvalid_0's binary_logloss: 0.0980832\n",
      "[250]\tvalid_0's binary_logloss: 0.0981772\n",
      "[251]\tvalid_0's binary_logloss: 0.0981746\n",
      "[252]\tvalid_0's binary_logloss: 0.0975997\n",
      "[253]\tvalid_0's binary_logloss: 0.097601\n",
      "[254]\tvalid_0's binary_logloss: 0.0976195\n",
      "[255]\tvalid_0's binary_logloss: 0.0976332\n",
      "[256]\tvalid_0's binary_logloss: 0.11828\n",
      "[257]\tvalid_0's binary_logloss: 0.0985897\n",
      "[258]\tvalid_0's binary_logloss: 0.0982987\n",
      "[259]\tvalid_0's binary_logloss: 0.0982107\n",
      "[260]\tvalid_0's binary_logloss: 0.0981307\n",
      "[261]\tvalid_0's binary_logloss: 0.0980831\n",
      "[262]\tvalid_0's binary_logloss: 0.0980733\n",
      "[263]\tvalid_0's binary_logloss: 0.0980567\n",
      "[264]\tvalid_0's binary_logloss: 0.0980685\n",
      "[265]\tvalid_0's binary_logloss: 0.0980601\n",
      "[266]\tvalid_0's binary_logloss: 0.0980644\n",
      "[267]\tvalid_0's binary_logloss: 0.0980941\n",
      "[268]\tvalid_0's binary_logloss: 0.0980951\n",
      "[269]\tvalid_0's binary_logloss: 0.0980728\n",
      "[270]\tvalid_0's binary_logloss: 0.0980441\n",
      "[271]\tvalid_0's binary_logloss: 0.0979943\n",
      "[272]\tvalid_0's binary_logloss: 0.0979704\n",
      "[273]\tvalid_0's binary_logloss: 0.0980121\n",
      "[274]\tvalid_0's binary_logloss: 0.0980496\n",
      "[275]\tvalid_0's binary_logloss: 0.0980187\n",
      "[276]\tvalid_0's binary_logloss: 0.0980301\n",
      "[277]\tvalid_0's binary_logloss: 0.0980167\n",
      "[278]\tvalid_0's binary_logloss: 0.0980104\n",
      "[279]\tvalid_0's binary_logloss: 0.0976963\n",
      "[280]\tvalid_0's binary_logloss: 0.0976739\n",
      "[281]\tvalid_0's binary_logloss: 0.0976105\n",
      "[282]\tvalid_0's binary_logloss: 0.0976892\n",
      "[283]\tvalid_0's binary_logloss: 0.0976479\n",
      "[284]\tvalid_0's binary_logloss: 0.0976398\n",
      "[285]\tvalid_0's binary_logloss: 0.0976841\n",
      "[286]\tvalid_0's binary_logloss: 0.425459\n",
      "[287]\tvalid_0's binary_logloss: 0.0976998\n",
      "[288]\tvalid_0's binary_logloss: 0.09766\n",
      "[289]\tvalid_0's binary_logloss: 0.0977127\n",
      "[290]\tvalid_0's binary_logloss: 0.0978016\n",
      "[291]\tvalid_0's binary_logloss: 0.0977942\n",
      "[292]\tvalid_0's binary_logloss: 0.0978145\n",
      "[293]\tvalid_0's binary_logloss: 0.0978417\n",
      "[294]\tvalid_0's binary_logloss: 0.097858\n",
      "[295]\tvalid_0's binary_logloss: 0.0978924\n",
      "[296]\tvalid_0's binary_logloss: 0.0978889\n",
      "[297]\tvalid_0's binary_logloss: 0.0979275\n",
      "[298]\tvalid_0's binary_logloss: 0.0979392\n",
      "[299]\tvalid_0's binary_logloss: 0.0979787\n",
      "[300]\tvalid_0's binary_logloss: 0.0979939\n",
      "[301]\tvalid_0's binary_logloss: 0.0980086\n",
      "[302]\tvalid_0's binary_logloss: 0.0980038\n",
      "[303]\tvalid_0's binary_logloss: 0.0979846\n",
      "[304]\tvalid_0's binary_logloss: 0.0979746\n",
      "[305]\tvalid_0's binary_logloss: 0.0979771\n",
      "[306]\tvalid_0's binary_logloss: 0.0979835\n",
      "[307]\tvalid_0's binary_logloss: 0.0979801\n",
      "[308]\tvalid_0's binary_logloss: 0.0979902\n",
      "[309]\tvalid_0's binary_logloss: 0.0980562\n",
      "[310]\tvalid_0's binary_logloss: 0.0980738\n",
      "[311]\tvalid_0's binary_logloss: 0.0980285\n",
      "[312]\tvalid_0's binary_logloss: 0.0979839\n",
      "[313]\tvalid_0's binary_logloss: 0.0979864\n",
      "[314]\tvalid_0's binary_logloss: 0.0979815\n",
      "[315]\tvalid_0's binary_logloss: 0.097993\n",
      "[316]\tvalid_0's binary_logloss: 0.772334\n",
      "[317]\tvalid_0's binary_logloss: 0.0979999\n",
      "[318]\tvalid_0's binary_logloss: 0.0979974\n",
      "[319]\tvalid_0's binary_logloss: 0.0980455\n",
      "[320]\tvalid_0's binary_logloss: 0.09807\n",
      "[321]\tvalid_0's binary_logloss: 0.0981188\n",
      "[322]\tvalid_0's binary_logloss: 0.098161\n",
      "[323]\tvalid_0's binary_logloss: 0.0981838\n",
      "[324]\tvalid_0's binary_logloss: 0.0981958\n",
      "[325]\tvalid_0's binary_logloss: 0.0982174\n",
      "[326]\tvalid_0's binary_logloss: 0.0989297\n",
      "[327]\tvalid_0's binary_logloss: 0.0989456\n",
      "[328]\tvalid_0's binary_logloss: 0.0990324\n",
      "[329]\tvalid_0's binary_logloss: 0.0990504\n",
      "[330]\tvalid_0's binary_logloss: 0.099043\n",
      "[331]\tvalid_0's binary_logloss: 0.0990258\n",
      "[332]\tvalid_0's binary_logloss: 0.0990447\n",
      "[333]\tvalid_0's binary_logloss: 0.0990397\n",
      "[334]\tvalid_0's binary_logloss: 0.0990135\n",
      "[335]\tvalid_0's binary_logloss: 0.099031\n",
      "[336]\tvalid_0's binary_logloss: 0.0990501\n",
      "[337]\tvalid_0's binary_logloss: 0.0984015\n",
      "[338]\tvalid_0's binary_logloss: 0.0983877\n",
      "[339]\tvalid_0's binary_logloss: 0.098412\n",
      "[340]\tvalid_0's binary_logloss: 0.0984788\n",
      "[341]\tvalid_0's binary_logloss: 0.0985438\n",
      "[342]\tvalid_0's binary_logloss: 0.098559\n",
      "[343]\tvalid_0's binary_logloss: 0.0985711\n",
      "[344]\tvalid_0's binary_logloss: 0.0985706\n",
      "[345]\tvalid_0's binary_logloss: 0.098566\n",
      "[346]\tvalid_0's binary_logloss: 0.0985834\n",
      "[347]\tvalid_0's binary_logloss: 0.0985798\n",
      "[348]\tvalid_0's binary_logloss: 0.098598\n",
      "[349]\tvalid_0's binary_logloss: 0.0986197\n",
      "[350]\tvalid_0's binary_logloss: 0.0986041\n",
      "[351]\tvalid_0's binary_logloss: 0.0986362\n",
      "[352]\tvalid_0's binary_logloss: 0.0986349\n",
      "[353]\tvalid_0's binary_logloss: 0.0986642\n",
      "[354]\tvalid_0's binary_logloss: 0.0986716\n",
      "[355]\tvalid_0's binary_logloss: 0.0986562\n",
      "[356]\tvalid_0's binary_logloss: 0.0986728\n",
      "[357]\tvalid_0's binary_logloss: 0.098698\n",
      "[358]\tvalid_0's binary_logloss: 0.0986723\n",
      "[359]\tvalid_0's binary_logloss: 0.0987205\n",
      "[360]\tvalid_0's binary_logloss: 0.0989587\n",
      "[361]\tvalid_0's binary_logloss: 0.098918\n",
      "[362]\tvalid_0's binary_logloss: 0.0988676\n",
      "[363]\tvalid_0's binary_logloss: 0.0988739\n",
      "[364]\tvalid_0's binary_logloss: 0.0988549\n",
      "[365]\tvalid_0's binary_logloss: 0.098835\n",
      "[366]\tvalid_0's binary_logloss: 1.32063\n",
      "[367]\tvalid_0's binary_logloss: 0.103414\n",
      "[368]\tvalid_0's binary_logloss: 0.489103\n",
      "[369]\tvalid_0's binary_logloss: 0.104501\n",
      "[370]\tvalid_0's binary_logloss: 0.11479\n",
      "[371]\tvalid_0's binary_logloss: 0.102214\n",
      "[372]\tvalid_0's binary_logloss: 0.0998167\n",
      "[373]\tvalid_0's binary_logloss: 0.0997853\n",
      "[374]\tvalid_0's binary_logloss: 0.0997876\n",
      "[375]\tvalid_0's binary_logloss: 0.0997978\n",
      "[376]\tvalid_0's binary_logloss: 0.0998073\n",
      "[377]\tvalid_0's binary_logloss: 0.0997841\n",
      "[378]\tvalid_0's binary_logloss: 0.0998072\n",
      "[379]\tvalid_0's binary_logloss: 0.0997854\n",
      "[380]\tvalid_0's binary_logloss: 0.0997702\n",
      "[381]\tvalid_0's binary_logloss: 0.0997915\n",
      "[382]\tvalid_0's binary_logloss: 0.0998128\n",
      "[383]\tvalid_0's binary_logloss: 0.0997937\n",
      "[384]\tvalid_0's binary_logloss: 0.100099\n",
      "[385]\tvalid_0's binary_logloss: 0.10016\n",
      "[386]\tvalid_0's binary_logloss: 0.100168\n",
      "[387]\tvalid_0's binary_logloss: 0.131389\n",
      "[388]\tvalid_0's binary_logloss: 0.102394\n",
      "[389]\tvalid_0's binary_logloss: 0.102423\n",
      "[390]\tvalid_0's binary_logloss: 0.0999504\n",
      "[391]\tvalid_0's binary_logloss: 0.0997671\n",
      "[392]\tvalid_0's binary_logloss: 0.106755\n",
      "[393]\tvalid_0's binary_logloss: 0.100308\n"
     ]
    },
    {
     "name": "stdout",
     "output_type": "stream",
     "text": [
      "[394]\tvalid_0's binary_logloss: 0.100294\n",
      "[395]\tvalid_0's binary_logloss: 0.0999943\n",
      "[396]\tvalid_0's binary_logloss: 0.1\n",
      "[397]\tvalid_0's binary_logloss: 0.100006\n",
      "[398]\tvalid_0's binary_logloss: 0.100014\n",
      "[399]\tvalid_0's binary_logloss: 0.100028\n",
      "[400]\tvalid_0's binary_logloss: 0.100028\n",
      "[401]\tvalid_0's binary_logloss: 0.0999278\n",
      "[402]\tvalid_0's binary_logloss: 0.0999473\n",
      "[403]\tvalid_0's binary_logloss: 0.0999409\n",
      "[404]\tvalid_0's binary_logloss: 0.0999381\n",
      "[405]\tvalid_0's binary_logloss: 0.0999403\n",
      "[406]\tvalid_0's binary_logloss: 0.0999629\n",
      "[407]\tvalid_0's binary_logloss: 0.0999377\n",
      "[408]\tvalid_0's binary_logloss: 0.0999182\n",
      "[409]\tvalid_0's binary_logloss: 0.0999716\n",
      "[410]\tvalid_0's binary_logloss: 0.0999383\n",
      "[411]\tvalid_0's binary_logloss: 0.0999219\n",
      "[412]\tvalid_0's binary_logloss: 0.0998674\n",
      "[413]\tvalid_0's binary_logloss: 0.0998348\n",
      "[414]\tvalid_0's binary_logloss: 0.0998186\n",
      "[415]\tvalid_0's binary_logloss: 0.0998159\n",
      "[416]\tvalid_0's binary_logloss: 0.10384\n",
      "[417]\tvalid_0's binary_logloss: 0.09912\n",
      "[418]\tvalid_0's binary_logloss: 0.0991581\n",
      "[419]\tvalid_0's binary_logloss: 0.0993116\n",
      "[420]\tvalid_0's binary_logloss: 0.0993219\n",
      "[421]\tvalid_0's binary_logloss: 0.0993091\n",
      "[422]\tvalid_0's binary_logloss: 0.099324\n",
      "[423]\tvalid_0's binary_logloss: 0.0993011\n",
      "[424]\tvalid_0's binary_logloss: 0.0992862\n",
      "[425]\tvalid_0's binary_logloss: 0.0992959\n",
      "[426]\tvalid_0's binary_logloss: 0.105976\n",
      "[427]\tvalid_0's binary_logloss: 0.102456\n",
      "[428]\tvalid_0's binary_logloss: 0.102431\n",
      "[429]\tvalid_0's binary_logloss: 0.102379\n",
      "[430]\tvalid_0's binary_logloss: 0.102368\n",
      "[431]\tvalid_0's binary_logloss: 0.100929\n",
      "[432]\tvalid_0's binary_logloss: 0.100939\n",
      "[433]\tvalid_0's binary_logloss: 0.100959\n",
      "[434]\tvalid_0's binary_logloss: 0.100978\n",
      "[435]\tvalid_0's binary_logloss: 0.100987\n",
      "[436]\tvalid_0's binary_logloss: 0.100971\n",
      "[437]\tvalid_0's binary_logloss: 0.100984\n",
      "[438]\tvalid_0's binary_logloss: 0.100958\n",
      "[439]\tvalid_0's binary_logloss: 0.100959\n",
      "[440]\tvalid_0's binary_logloss: 0.100964\n",
      "[441]\tvalid_0's binary_logloss: 0.100935\n",
      "[442]\tvalid_0's binary_logloss: 0.100815\n",
      "[443]\tvalid_0's binary_logloss: 0.100813\n",
      "[444]\tvalid_0's binary_logloss: 0.100754\n",
      "[445]\tvalid_0's binary_logloss: 0.100729\n",
      "[446]\tvalid_0's binary_logloss: 0.100772\n",
      "[447]\tvalid_0's binary_logloss: 0.100677\n",
      "[448]\tvalid_0's binary_logloss: 0.100709\n",
      "[449]\tvalid_0's binary_logloss: 0.100738\n",
      "[450]\tvalid_0's binary_logloss: 0.100994\n",
      "[451]\tvalid_0's binary_logloss: 0.10085\n",
      "[452]\tvalid_0's binary_logloss: 0.100865\n",
      "[453]\tvalid_0's binary_logloss: 0.100857\n",
      "[454]\tvalid_0's binary_logloss: 0.100838\n",
      "[455]\tvalid_0's binary_logloss: 0.100837\n",
      "[456]\tvalid_0's binary_logloss: 0.101631\n",
      "[457]\tvalid_0's binary_logloss: 0.103083\n",
      "[458]\tvalid_0's binary_logloss: 0.103065\n",
      "[459]\tvalid_0's binary_logloss: 0.103108\n",
      "[460]\tvalid_0's binary_logloss: 0.103087\n",
      "[461]\tvalid_0's binary_logloss: 0.103107\n",
      "[462]\tvalid_0's binary_logloss: 0.10222\n",
      "[463]\tvalid_0's binary_logloss: 0.108923\n",
      "[464]\tvalid_0's binary_logloss: 0.102677\n",
      "[465]\tvalid_0's binary_logloss: 0.102924\n",
      "[466]\tvalid_0's binary_logloss: 0.102676\n",
      "[467]\tvalid_0's binary_logloss: 0.102652\n",
      "[468]\tvalid_0's binary_logloss: 0.102033\n",
      "[469]\tvalid_0's binary_logloss: 0.102038\n",
      "[470]\tvalid_0's binary_logloss: 0.102049\n",
      "[471]\tvalid_0's binary_logloss: 0.104959\n",
      "[472]\tvalid_0's binary_logloss: 0.103713\n",
      "[473]\tvalid_0's binary_logloss: 0.103543\n",
      "[474]\tvalid_0's binary_logloss: 0.103383\n",
      "[475]\tvalid_0's binary_logloss: 0.103366\n",
      "[476]\tvalid_0's binary_logloss: 0.106696\n",
      "[477]\tvalid_0's binary_logloss: 0.104814\n",
      "[478]\tvalid_0's binary_logloss: 0.104307\n",
      "[479]\tvalid_0's binary_logloss: 0.104308\n",
      "[480]\tvalid_0's binary_logloss: 0.105615\n",
      "[481]\tvalid_0's binary_logloss: 0.107056\n",
      "[482]\tvalid_0's binary_logloss: 0.109784\n",
      "[483]\tvalid_0's binary_logloss: 0.109259\n",
      "[484]\tvalid_0's binary_logloss: 0.109237\n",
      "[485]\tvalid_0's binary_logloss: 0.108454\n",
      "[486]\tvalid_0's binary_logloss: 0.106608\n",
      "[487]\tvalid_0's binary_logloss: 0.106597\n",
      "[488]\tvalid_0's binary_logloss: 0.106926\n",
      "[489]\tvalid_0's binary_logloss: 0.109428\n",
      "[490]\tvalid_0's binary_logloss: 0.108512\n",
      "[491]\tvalid_0's binary_logloss: 0.107249\n",
      "[492]\tvalid_0's binary_logloss: 0.105103\n",
      "[493]\tvalid_0's binary_logloss: 0.107121\n",
      "[494]\tvalid_0's binary_logloss: 0.107739\n",
      "[495]\tvalid_0's binary_logloss: 0.107766\n",
      "[496]\tvalid_0's binary_logloss: 0.10559\n",
      "[497]\tvalid_0's binary_logloss: 0.104527\n",
      "[498]\tvalid_0's binary_logloss: 0.104622\n",
      "[499]\tvalid_0's binary_logloss: 0.104597\n",
      "[500]\tvalid_0's binary_logloss: 0.106283\n",
      "[501]\tvalid_0's binary_logloss: 0.104995\n",
      "[502]\tvalid_0's binary_logloss: 0.104382\n",
      "[503]\tvalid_0's binary_logloss: 0.104331\n",
      "[504]\tvalid_0's binary_logloss: 0.1043\n",
      "[505]\tvalid_0's binary_logloss: 0.104255\n",
      "[506]\tvalid_0's binary_logloss: 0.103456\n",
      "[507]\tvalid_0's binary_logloss: 0.103377\n",
      "[508]\tvalid_0's binary_logloss: 0.103258\n",
      "[509]\tvalid_0's binary_logloss: 0.103889\n",
      "[510]\tvalid_0's binary_logloss: 0.103895\n",
      "[511]\tvalid_0's binary_logloss: 0.103878\n",
      "[512]\tvalid_0's binary_logloss: 0.107394\n",
      "[513]\tvalid_0's binary_logloss: 0.109218\n",
      "[514]\tvalid_0's binary_logloss: 0.105824\n",
      "[515]\tvalid_0's binary_logloss: 0.105145\n",
      "[516]\tvalid_0's binary_logloss: 0.109183\n",
      "[517]\tvalid_0's binary_logloss: 0.11165\n",
      "[518]\tvalid_0's binary_logloss: 0.110314\n",
      "[519]\tvalid_0's binary_logloss: 0.109521\n",
      "[520]\tvalid_0's binary_logloss: 0.109424\n",
      "[521]\tvalid_0's binary_logloss: 0.109387\n",
      "[522]\tvalid_0's binary_logloss: 0.108712\n",
      "[523]\tvalid_0's binary_logloss: 0.11004\n",
      "[524]\tvalid_0's binary_logloss: 0.111719\n",
      "[525]\tvalid_0's binary_logloss: 0.111745\n",
      "[526]\tvalid_0's binary_logloss: 0.113157\n",
      "[527]\tvalid_0's binary_logloss: 0.111273\n",
      "[528]\tvalid_0's binary_logloss: 0.10602\n",
      "[529]\tvalid_0's binary_logloss: 0.106022\n",
      "[530]\tvalid_0's binary_logloss: 0.107402\n",
      "[531]\tvalid_0's binary_logloss: 0.107348\n",
      "[532]\tvalid_0's binary_logloss: 0.107401\n",
      "[533]\tvalid_0's binary_logloss: 0.107394\n",
      "[534]\tvalid_0's binary_logloss: 0.107387\n",
      "[535]\tvalid_0's binary_logloss: 0.107398\n",
      "[536]\tvalid_0's binary_logloss: 0.107352\n",
      "[537]\tvalid_0's binary_logloss: 0.107651\n",
      "[538]\tvalid_0's binary_logloss: 0.110215\n",
      "[539]\tvalid_0's binary_logloss: 0.110873\n",
      "[540]\tvalid_0's binary_logloss: 0.109968\n",
      "[541]\tvalid_0's binary_logloss: 0.111567\n",
      "[542]\tvalid_0's binary_logloss: 0.110636\n",
      "[543]\tvalid_0's binary_logloss: 0.109415\n",
      "[544]\tvalid_0's binary_logloss: 0.10935\n",
      "[545]\tvalid_0's binary_logloss: 0.106737\n",
      "[546]\tvalid_0's binary_logloss: 0.117552\n",
      "[547]\tvalid_0's binary_logloss: 0.114926\n",
      "[548]\tvalid_0's binary_logloss: 0.110112\n",
      "[549]\tvalid_0's binary_logloss: 0.110146\n",
      "[550]\tvalid_0's binary_logloss: 0.112606\n",
      "[551]\tvalid_0's binary_logloss: 0.109626\n",
      "[552]\tvalid_0's binary_logloss: 0.113073\n",
      "[553]\tvalid_0's binary_logloss: 0.111945\n",
      "[554]\tvalid_0's binary_logloss: 0.112024\n",
      "[555]\tvalid_0's binary_logloss: 0.115965\n",
      "[556]\tvalid_0's binary_logloss: 0.115454\n",
      "[557]\tvalid_0's binary_logloss: 0.11191\n",
      "[558]\tvalid_0's binary_logloss: 0.109808\n",
      "[559]\tvalid_0's binary_logloss: 0.109754\n",
      "[560]\tvalid_0's binary_logloss: 0.109173\n",
      "[561]\tvalid_0's binary_logloss: 0.109353\n",
      "[562]\tvalid_0's binary_logloss: 0.109345\n",
      "[563]\tvalid_0's binary_logloss: 0.109671\n",
      "[564]\tvalid_0's binary_logloss: 0.113166\n",
      "[565]\tvalid_0's binary_logloss: 0.113038\n",
      "[566]\tvalid_0's binary_logloss: 0.113116\n",
      "[567]\tvalid_0's binary_logloss: 0.113291\n",
      "[568]\tvalid_0's binary_logloss: 0.113283\n",
      "[569]\tvalid_0's binary_logloss: 0.113308\n",
      "[570]\tvalid_0's binary_logloss: 0.113429\n",
      "[571]\tvalid_0's binary_logloss: 0.114326\n",
      "[572]\tvalid_0's binary_logloss: 0.114349\n",
      "Early stopping, best iteration is:\n",
      "[72]\tvalid_0's binary_logloss: 0.0946352\n"
     ]
    }
   ],
   "source": [
    "print('Start training...')\n",
    "# train\n",
    "gbm = lgb.train(params,\n",
    "                lgb_train,\n",
    "                num_boost_round=4000,\n",
    "                valid_sets=lgb_eval,\n",
    "                early_stopping_rounds=500)"
   ]
  },
  {
   "cell_type": "code",
   "execution_count": 215,
   "metadata": {},
   "outputs": [
    {
     "name": "stdout",
     "output_type": "stream",
     "text": [
      "defaultdict(<class 'dict'>, {'valid_0': {'binary_logloss': 0.0946351905623844}})\n",
      "72\n"
     ]
    }
   ],
   "source": [
    "print(gbm.best_score)\n",
    "print(gbm.best_iteration)"
   ]
  },
  {
   "cell_type": "code",
   "execution_count": 216,
   "metadata": {},
   "outputs": [
    {
     "name": "stdout",
     "output_type": "stream",
     "text": [
      "Overall AUC: 0.957\n"
     ]
    }
   ],
   "source": [
    "y_pred_train = gbm.predict(xtrain)\n",
    "score = roc_auc_score(ytrain, y_pred_train)\n",
    "print(\"Overall AUC: {:.3f}\" .format(score))"
   ]
  },
  {
   "cell_type": "code",
   "execution_count": 217,
   "metadata": {},
   "outputs": [
    {
     "name": "stdout",
     "output_type": "stream",
     "text": [
      "Overall AUC: 0.948\n"
     ]
    }
   ],
   "source": [
    "ypred = gbm.predict(xtest)\n",
    "score = roc_auc_score(ytest, ypred)\n",
    "print(\"Overall AUC: {:.3f}\" .format(score))"
   ]
  },
  {
   "cell_type": "code",
   "execution_count": 218,
   "metadata": {},
   "outputs": [
    {
     "data": {
      "image/png": "[encoded data removed]",
      "text/plain": [
       "<Figure size 432x288 with 1 Axes>"
      ]
     },
     "metadata": {
      "needs_background": "light"
     },
     "output_type": "display_data"
    }
   ],
   "source": [
    "from sklearn.metrics import roc_auc_score, roc_curve\n",
    "\n",
    "auc = roc_auc_score(ytest, ypred)\n",
    "fpr, tpr, thresholds = roc_curve(ytest, ypred)\n",
    "plt.figure()\n",
    "plt.plot(fpr, tpr, label='LGBM (area = %0.2f)' % auc)\n",
    "plt.plot([0, 1], [0, 1],'r--')\n",
    "plt.xlim([0.0, 1.0])\n",
    "plt.ylim([0.0, 1.05])\n",
    "plt.xlabel('False Positive Rate'), plt.ylabel('True Positive Rate'), plt.title('Receiver operating characteristic')\n",
    "plt.legend(loc=\"lower right\")\n",
    "# plt.savefig('Log_ROC')\n",
    "plt.show()"
   ]
  },
  {
   "cell_type": "code",
   "execution_count": 219,
   "metadata": {},
   "outputs": [],
   "source": [
    "train_pred=gbm.predict(traindf.drop(columns=['is_click'],axis=0))"
   ]
  },
  {
   "cell_type": "code",
   "execution_count": 220,
   "metadata": {},
   "outputs": [],
   "source": [
    "sub_pred = gbm.predict(testdf.drop(columns=['is_click'],axis=0))"
   ]
  },
  {
   "cell_type": "code",
   "execution_count": 221,
   "metadata": {},
   "outputs": [
    {
     "name": "stdout",
     "output_type": "stream",
     "text": [
      "[1.79798144e-04 1.81480422e-04 1.79798144e-04 ... 1.77460700e-04\n",
      " 6.51170961e-01 8.16983779e-01]\n"
     ]
    }
   ],
   "source": [
    "print(sub_pred)"
   ]
  },
  {
   "cell_type": "code",
   "execution_count": 222,
   "metadata": {},
   "outputs": [],
   "source": [
    "sub_pred = np.clip(sub_pred, 0, 1)"
   ]
  },
  {
   "cell_type": "code",
   "execution_count": 223,
   "metadata": {},
   "outputs": [
    {
     "data": {
      "text/plain": [
       "(0.0001522387194129194, 0.9957381756032374)"
      ]
     },
     "execution_count": 223,
     "metadata": {},
     "output_type": "execute_result"
    }
   ],
   "source": [
    "sub_pred.min(), sub_pred.max()"
   ]
  },
  {
   "cell_type": "code",
   "execution_count": 321,
   "metadata": {},
   "outputs": [],
   "source": [
    "sample_submission1=sample_submission\n",
    "sample_submission1.to_csv('subm_lgbm_auc{:.8f}.csv'.format(score), index=False, float_format='%.8f')\n",
    "sample_submission1['is_click']=sub_pred\n",
    "sample_submission1['is_click'] = sample_submission1.is_click.map( lambda x: 1 if x > 0.5 else 0)"
   ]
  },
  {
   "cell_type": "code",
   "execution_count": 245,
   "metadata": {},
   "outputs": [],
   "source": [
    "final=test[['impression_id','is_click']]"
   ]
  },
  {
   "cell_type": "code",
   "execution_count": 265,
   "metadata": {},
   "outputs": [],
   "source": [
    "final1=test[['impression_id','is_click']]\n",
    "final1.to_csv('subm_lgbm_auc{:.8f}.csv'.format(score), index=False, float_format='%.8f')\n",
    "final1['is_click']=sub_pred\n",
    "final1['is_click'] = final1.is_click.map( lambda x: 1 if x > 0.02 else 0)"
   ]
  },
  {
   "cell_type": "code",
   "execution_count": 266,
   "metadata": {},
   "outputs": [
    {
     "data": {
      "text/html": [
       "<div>\n",
       "<style scoped>\n",
       "    .dataframe tbody tr th:only-of-type {\n",
       "        vertical-align: middle;\n",
       "    }\n",
       "\n",
       "    .dataframe tbody tr th {\n",
       "        vertical-align: top;\n",
       "    }\n",
       "\n",
       "    .dataframe thead th {\n",
       "        text-align: right;\n",
       "    }\n",
       "</style>\n",
       "<table border=\"1\" class=\"dataframe\">\n",
       "  <thead>\n",
       "    <tr style=\"text-align: right;\">\n",
       "      <th></th>\n",
       "      <th>impression_id</th>\n",
       "      <th>is_click</th>\n",
       "    </tr>\n",
       "  </thead>\n",
       "  <tbody>\n",
       "    <tr>\n",
       "      <th>0</th>\n",
       "      <td>a9e7126a585a69a32bc7414e9d0c0ada</td>\n",
       "      <td>0</td>\n",
       "    </tr>\n",
       "    <tr>\n",
       "      <th>1</th>\n",
       "      <td>caac14a5bf2ba283db7708bb34855760</td>\n",
       "      <td>0</td>\n",
       "    </tr>\n",
       "    <tr>\n",
       "      <th>2</th>\n",
       "      <td>13f10ba306a19ce7bec2f3cae507b698</td>\n",
       "      <td>0</td>\n",
       "    </tr>\n",
       "    <tr>\n",
       "      <th>3</th>\n",
       "      <td>39c4b4dc0e9701b55a0a4f072008fb3f</td>\n",
       "      <td>0</td>\n",
       "    </tr>\n",
       "    <tr>\n",
       "      <th>4</th>\n",
       "      <td>bf5a572cca75f5fc67f4b14e58b11d70</td>\n",
       "      <td>1</td>\n",
       "    </tr>\n",
       "  </tbody>\n",
       "</table>\n",
       "</div>"
      ],
      "text/plain": [
       "                      impression_id  is_click\n",
       "0  a9e7126a585a69a32bc7414e9d0c0ada         0\n",
       "1  caac14a5bf2ba283db7708bb34855760         0\n",
       "2  13f10ba306a19ce7bec2f3cae507b698         0\n",
       "3  39c4b4dc0e9701b55a0a4f072008fb3f         0\n",
       "4  bf5a572cca75f5fc67f4b14e58b11d70         1"
      ]
     },
     "execution_count": 266,
     "metadata": {},
     "output_type": "execute_result"
    }
   ],
   "source": [
    "final1.head()"
   ]
  },
  {
   "cell_type": "code",
   "execution_count": 269,
   "metadata": {},
   "outputs": [
    {
     "data": {
      "text/plain": [
       "0    73990\n",
       "1    16685\n",
       "Name: is_click, dtype: int64"
      ]
     },
     "execution_count": 269,
     "metadata": {},
     "output_type": "execute_result"
    }
   ],
   "source": [
    "final1['is_click'].value_counts()"
   ]
  },
  {
   "cell_type": "code",
   "execution_count": 268,
   "metadata": {},
   "outputs": [],
   "source": [
    "final1.drop_duplicates(subset =\"impression_id\",keep = 'first', inplace = True)"
   ]
  },
  {
   "cell_type": "code",
   "execution_count": 270,
   "metadata": {},
   "outputs": [],
   "source": [
    "final1.to_csv(\"finallgbm.csv\",index=False)"
   ]
  },
  {
   "cell_type": "code",
   "execution_count": 258,
   "metadata": {},
   "outputs": [
    {
     "data": {
      "text/plain": [
       "(112163, 32)"
      ]
     },
     "execution_count": 258,
     "metadata": {},
     "output_type": "execute_result"
    }
   ],
   "source": [
    "test.shape"
   ]
  },
  {
   "cell_type": "code",
   "execution_count": null,
   "metadata": {},
   "outputs": [],
   "source": []
  },
  {
   "cell_type": "code",
   "execution_count": null,
   "metadata": {},
   "outputs": [],
   "source": [
    "#Adaboost with logistic regression method"
   ]
  },
  {
   "cell_type": "code",
   "execution_count": 271,
   "metadata": {},
   "outputs": [],
   "source": [
    "# Adaboost Classifier\n",
    "from sklearn.tree import DecisionTreeRegressor\n",
    "from sklearn.ensemble import RandomForestClassifier\n",
    "from sklearn.ensemble import AdaBoostClassifier\n",
    "#dtree = DecisionTreeClassifier(criterion='entropy',max_depth=2,random_state=42)\n",
    "\n",
    "dtree = RandomForestClassifier(bootstrap=True, class_weight=None, criterion='gini',\n",
    "            max_depth=10, max_features='sqrt', max_leaf_nodes=None,\n",
    "            min_impurity_decrease=0.0, min_impurity_split=None,\n",
    "            min_samples_leaf=1, min_samples_split=5,\n",
    "            min_weight_fraction_leaf=0.0, n_estimators=500, n_jobs=1,\n",
    "            oob_score=False, random_state=42, verbose=0,\n",
    "            warm_start=False)\n",
    "\"\"\"dtree=LogisticRegression(C= 0.2, class_weight= 'balanced', penalty= 'l1')\"\"\"\n",
    "\n",
    "adabst_fit = AdaBoostClassifier(base_estimator= dtree,\n",
    "        n_estimators=500,random_state = 42)"
   ]
  },
  {
   "cell_type": "code",
   "execution_count": null,
   "metadata": {},
   "outputs": [],
   "source": [
    "adabst_fit.fit(xtrain, ytrain)"
   ]
  },
  {
   "cell_type": "code",
   "execution_count": 118,
   "metadata": {},
   "outputs": [],
   "source": [
    "\n",
    "y_pred_train = dtree.predict(xtrain)"
   ]
  },
  {
   "cell_type": "code",
   "execution_count": 119,
   "metadata": {},
   "outputs": [
    {
     "data": {
      "text/plain": [
       "array([[95184, 86179],\n",
       "       [ 3825,  4899]], dtype=int64)"
      ]
     },
     "execution_count": 119,
     "metadata": {},
     "output_type": "execute_result"
    }
   ],
   "source": [
    "from sklearn import metrics\n",
    "metrics.confusion_matrix(ytrain,y_pred_train)"
   ]
  },
  {
   "cell_type": "code",
   "execution_count": 120,
   "metadata": {},
   "outputs": [],
   "source": [
    "\n",
    "ypred = dtree.predict(xtest)"
   ]
  },
  {
   "cell_type": "code",
   "execution_count": 121,
   "metadata": {},
   "outputs": [
    {
     "data": {
      "text/plain": [
       "0.09603289791969037"
      ]
     },
     "execution_count": 121,
     "metadata": {},
     "output_type": "execute_result"
    }
   ],
   "source": [
    "metrics.f1_score(ytest,ypred)"
   ]
  },
  {
   "cell_type": "code",
   "execution_count": 66,
   "metadata": {},
   "outputs": [
    {
     "name": "stdout",
     "output_type": "stream",
     "text": [
      "f1_score: 0.020725388601036267\n",
      "Accuracy on train data: 0.9642847748662454\n",
      "Accuracy on test data: 0.965426539287067\n"
     ]
    }
   ],
   "source": [
    "print(\"f1_score:\",f1_score(ytest, ypred)) # calculating f1 score\n",
    "print(\"Accuracy on train data:\",model.score(xtrain,ytrain))\n",
    "print(\"Accuracy on test data:\",model.score(xtest,ytest))"
   ]
  },
  {
   "cell_type": "code",
   "execution_count": 122,
   "metadata": {},
   "outputs": [
    {
     "data": {
      "text/plain": [
       "LogisticRegression(C=0.2, class_weight='balanced', dual=False,\n",
       "          fit_intercept=True, intercept_scaling=1, max_iter=100,\n",
       "          multi_class='ovr', n_jobs=1, penalty='l1', random_state=None,\n",
       "          solver='liblinear', tol=0.0001, verbose=0, warm_start=False)"
      ]
     },
     "execution_count": 122,
     "metadata": {},
     "output_type": "execute_result"
    }
   ],
   "source": [
    "dtree.fit(X, y)"
   ]
  },
  {
   "cell_type": "code",
   "execution_count": 123,
   "metadata": {},
   "outputs": [],
   "source": [
    "train_pred=dtree.predict(train.drop(columns=['impression_id','impression_time_Timestamp','os_version','user_id','is_click'],axis=0))"
   ]
  },
  {
   "cell_type": "code",
   "execution_count": 124,
   "metadata": {},
   "outputs": [],
   "source": [
    "test_pred=dtree.predict(test.drop(columns=['impression_id','impression_time_Timestamp','os_version','user_id','is_click'],axis=0))"
   ]
  },
  {
   "cell_type": "code",
   "execution_count": 125,
   "metadata": {},
   "outputs": [],
   "source": [
    "sample_submission1=sample_submission"
   ]
  },
  {
   "cell_type": "code",
   "execution_count": 126,
   "metadata": {},
   "outputs": [],
   "source": [
    "sample_submission1[\"is_click\"]=test_pred.astype(int)"
   ]
  },
  {
   "cell_type": "code",
   "execution_count": 127,
   "metadata": {},
   "outputs": [
    {
     "data": {
      "text/plain": [
       "0    52776\n",
       "1    37899\n",
       "Name: is_click, dtype: int64"
      ]
     },
     "execution_count": 127,
     "metadata": {},
     "output_type": "execute_result"
    }
   ],
   "source": [
    "sample_submission1['is_click'].value_counts()"
   ]
  },
  {
   "cell_type": "code",
   "execution_count": 128,
   "metadata": {},
   "outputs": [],
   "source": [
    "sample_submission1.to_csv(\"sample_submissionLFg.csv\",index=False)"
   ]
  },
  {
   "cell_type": "code",
   "execution_count": 74,
   "metadata": {},
   "outputs": [
    {
     "name": "stdout",
     "output_type": "stream",
     "text": [
      "Parameters currently in use:\n",
      "\n",
      "{'bootstrap': True,\n",
      " 'class_weight': None,\n",
      " 'criterion': 'gini',\n",
      " 'max_depth': None,\n",
      " 'max_features': 'auto',\n",
      " 'max_leaf_nodes': None,\n",
      " 'min_impurity_decrease': 0.0,\n",
      " 'min_impurity_split': None,\n",
      " 'min_samples_leaf': 1,\n",
      " 'min_samples_split': 2,\n",
      " 'min_weight_fraction_leaf': 0.0,\n",
      " 'n_estimators': 10,\n",
      " 'n_jobs': 1,\n",
      " 'oob_score': False,\n",
      " 'random_state': 42,\n",
      " 'verbose': 0,\n",
      " 'warm_start': False}\n"
     ]
    }
   ],
   "source": [
    "from sklearn.ensemble import RandomForestClassifier\n",
    "rf = RandomForestClassifier(random_state = 42)\n",
    "from pprint import pprint\n",
    "# Look at parameters used by our current forest\n",
    "print('Parameters currently in use:\\n')\n",
    "pprint(rf.get_params())"
   ]
  },
  {
   "cell_type": "code",
   "execution_count": 75,
   "metadata": {},
   "outputs": [
    {
     "name": "stdout",
     "output_type": "stream",
     "text": [
      "{'bootstrap': [True, False],\n",
      " 'max_depth': [10, 20, 30, 40, 50, 60, 70, 80, 90, 100, 110, None],\n",
      " 'max_features': ['auto', 'sqrt'],\n",
      " 'min_samples_leaf': [1, 2, 4],\n",
      " 'min_samples_split': [2, 5, 10],\n",
      " 'n_estimators': [100, 144, 188, 233, 277, 322, 366, 411, 455, 500]}\n"
     ]
    }
   ],
   "source": [
    "from sklearn.model_selection import RandomizedSearchCV\n",
    "# Number of trees in random forest\n",
    "n_estimators = [int(x) for x in np.linspace(start = 100, stop = 500, num = 10)]\n",
    "# Number of features to consider at every split\n",
    "max_features = ['auto', 'sqrt']\n",
    "# Maximum number of levels in tree\n",
    "max_depth = [int(x) for x in np.linspace(10, 110, num = 11)]\n",
    "max_depth.append(None)\n",
    "# Minimum number of samples required to split a node\n",
    "min_samples_split = [2, 5, 10]\n",
    "# Minimum number of samples required at each leaf node\n",
    "min_samples_leaf = [1, 2, 4]\n",
    "# Method of selecting samples for training each tree\n",
    "bootstrap = [True, False]\n",
    "# Create the random grid\n",
    "random_grid = {'n_estimators': n_estimators,\n",
    "               'max_features': max_features,\n",
    "               'max_depth': max_depth,\n",
    "               'min_samples_split': min_samples_split,\n",
    "               'min_samples_leaf': min_samples_leaf,\n",
    "               'bootstrap': bootstrap}\n",
    "pprint(random_grid)"
   ]
  },
  {
   "cell_type": "code",
   "execution_count": 76,
   "metadata": {},
   "outputs": [
    {
     "name": "stdout",
     "output_type": "stream",
     "text": [
      "Fitting 3 folds for each of 100 candidates, totalling 300 fits\n"
     ]
    },
    {
     "name": "stderr",
     "output_type": "stream",
     "text": [
      "[Parallel(n_jobs=-1)]: Done  33 tasks      | elapsed: 10.8min\n",
      "[Parallel(n_jobs=-1)]: Done 154 tasks      | elapsed: 40.5min\n",
      "[Parallel(n_jobs=-1)]: Done 300 out of 300 | elapsed: 76.2min finished\n"
     ]
    },
    {
     "data": {
      "text/plain": [
       "RandomizedSearchCV(cv=3, error_score='raise',\n",
       "          estimator=RandomForestClassifier(bootstrap=True, class_weight=None, criterion='gini',\n",
       "            max_depth=None, max_features='auto', max_leaf_nodes=None,\n",
       "            min_impurity_decrease=0.0, min_impurity_split=None,\n",
       "            min_samples_leaf=1, min_samples_split=2,\n",
       "            min_weight_fraction_leaf=0.0, n_estimators=10, n_jobs=1,\n",
       "            oob_score=False, random_state=None, verbose=0,\n",
       "            warm_start=False),\n",
       "          fit_params=None, iid=True, n_iter=100, n_jobs=-1,\n",
       "          param_distributions={'n_estimators': [100, 144, 188, 233, 277, 322, 366, 411, 455, 500], 'max_features': ['auto', 'sqrt'], 'max_depth': [10, 20, 30, 40, 50, 60, 70, 80, 90, 100, 110, None], 'min_samples_split': [2, 5, 10], 'min_samples_leaf': [1, 2, 4], 'bootstrap': [True, False]},\n",
       "          pre_dispatch='2*n_jobs', random_state=42, refit=True,\n",
       "          return_train_score='warn', scoring=None, verbose=2)"
      ]
     },
     "execution_count": 76,
     "metadata": {},
     "output_type": "execute_result"
    }
   ],
   "source": [
    "\n",
    "# Use the random grid to search for best hyperparameters\n",
    "# First create the base model to tune\n",
    "rf = RandomForestClassifier()\n",
    "# Random search of parameters, using 3 fold cross validation, \n",
    "# search across 100 different combinations, and use all available cores\n",
    "rf_random = RandomizedSearchCV(estimator = rf, param_distributions = random_grid, n_iter = 100, cv = 3, verbose=2, random_state=42, n_jobs = -1)\n",
    "# Fit the random search model\n",
    "rf_random.fit(X,y)"
   ]
  },
  {
   "cell_type": "code",
   "execution_count": 77,
   "metadata": {},
   "outputs": [
    {
     "data": {
      "text/plain": [
       "{'n_estimators': 500,\n",
       " 'min_samples_split': 5,\n",
       " 'min_samples_leaf': 1,\n",
       " 'max_features': 'sqrt',\n",
       " 'max_depth': 10,\n",
       " 'bootstrap': True}"
      ]
     },
     "execution_count": 77,
     "metadata": {},
     "output_type": "execute_result"
    }
   ],
   "source": [
    "rf_random.best_params_"
   ]
  },
  {
   "cell_type": "code",
   "execution_count": null,
   "metadata": {},
   "outputs": [],
   "source": []
  },
  {
   "cell_type": "code",
   "execution_count": null,
   "metadata": {},
   "outputs": [],
   "source": []
  }
 ],
 "metadata": {
  "kernelspec": {
   "display_name": "Python 3",
   "language": "python",
   "name": "python3"
  },
  "language_info": {
   "codemirror_mode": {
    "name": "ipython",
    "version": 3
   },
   "file_extension": ".py",
   "mimetype": "text/x-python",
   "name": "python",
   "nbconvert_exporter": "python",
   "pygments_lexer": "ipython3",
   "version": "3.6.8"
  }
 },
 "nbformat": 4,
 "nbformat_minor": 2
}
