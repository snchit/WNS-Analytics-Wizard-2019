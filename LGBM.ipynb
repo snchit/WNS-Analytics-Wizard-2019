{
 "cells": [
  {
   "cell_type": "code",
   "execution_count": 1,
   "metadata": {},
   "outputs": [
    {
     "ename": "ModuleNotFoundError",
     "evalue": "No module named 'imblearn'",
     "output_type": "error",
     "traceback": [
      "\u001b[1;31m---------------------------------------------------------------------------\u001b[0m",
      "\u001b[1;31mModuleNotFoundError\u001b[0m                       Traceback (most recent call last)",
      "\u001b[1;32m<ipython-input-1-76187ad3fc63>\u001b[0m in \u001b[0;36m<module>\u001b[1;34m()\u001b[0m\n\u001b[0;32m     19\u001b[0m \u001b[1;32mfrom\u001b[0m \u001b[0msklearn\u001b[0m\u001b[1;33m.\u001b[0m\u001b[0mmetrics\u001b[0m \u001b[1;32mimport\u001b[0m \u001b[0mclassification_report\u001b[0m\u001b[1;33m,\u001b[0m \u001b[0mconfusion_matrix\u001b[0m\u001b[1;33m,\u001b[0m \u001b[0mroc_auc_score\u001b[0m\u001b[1;33m,\u001b[0m \u001b[0mroc_curve\u001b[0m\u001b[1;33m\u001b[0m\u001b[0m\n\u001b[0;32m     20\u001b[0m \u001b[1;32mfrom\u001b[0m \u001b[0msklearn\u001b[0m\u001b[1;33m.\u001b[0m\u001b[0mmodel_selection\u001b[0m \u001b[1;32mimport\u001b[0m \u001b[0mcross_val_score\u001b[0m\u001b[1;33m,\u001b[0m \u001b[0mKFold\u001b[0m\u001b[1;33m\u001b[0m\u001b[0m\n\u001b[1;32m---> 21\u001b[1;33m \u001b[1;32mfrom\u001b[0m \u001b[0mimblearn\u001b[0m\u001b[1;33m.\u001b[0m\u001b[0mover_sampling\u001b[0m \u001b[1;32mimport\u001b[0m \u001b[0mSMOTE\u001b[0m\u001b[1;33m\u001b[0m\u001b[0m\n\u001b[0m\u001b[0;32m     22\u001b[0m \u001b[1;32mfrom\u001b[0m \u001b[0msklearn\u001b[0m\u001b[1;33m.\u001b[0m\u001b[0mutils\u001b[0m \u001b[1;32mimport\u001b[0m \u001b[0mresample\u001b[0m\u001b[1;33m\u001b[0m\u001b[0m\n\u001b[0;32m     23\u001b[0m \u001b[1;32mfrom\u001b[0m \u001b[0msklearn\u001b[0m\u001b[1;33m.\u001b[0m\u001b[0mmodel_selection\u001b[0m \u001b[1;32mimport\u001b[0m \u001b[0mGridSearchCV\u001b[0m\u001b[1;33m,\u001b[0m \u001b[0mRandomizedSearchCV\u001b[0m\u001b[1;33m\u001b[0m\u001b[0m\n",
      "\u001b[1;31mModuleNotFoundError\u001b[0m: No module named 'imblearn'"
     ]
    }
   ],
   "source": [
    "\n",
    "# import libraries\n",
    "\n",
    "import pandas as pd\n",
    "import numpy as np\n",
    "import matplotlib.pyplot as plt\n",
    "import seaborn as sns\n",
    "%matplotlib inline\n",
    "\n",
    "from statsmodels.stats.outliers_influence import variance_inflation_factor\n",
    "from sklearn.feature_selection import RFE, RFECV\n",
    "from sklearn.metrics import f1_score\n",
    "from sklearn.model_selection import train_test_split\n",
    "from sklearn.linear_model import LogisticRegression\n",
    "from sklearn.neighbors import NearestNeighbors\n",
    "from sklearn.tree import DecisionTreeClassifier\n",
    "from sklearn.svm import SVC\n",
    "from sklearn.ensemble import RandomForestClassifier,AdaBoostClassifier, ExtraTreesClassifier,GradientBoostingClassifier\n",
    "from sklearn.metrics import classification_report, confusion_matrix, roc_auc_score, roc_curve\n",
    "from sklearn.model_selection import cross_val_score, KFold\n",
    "from imblearn.over_sampling import SMOTE\n",
    "from sklearn.utils import resample\n",
    "from sklearn.model_selection import GridSearchCV, RandomizedSearchCV\n",
    "\n",
    "import warnings\n",
    "warnings.filterwarnings(\"ignore\")\n"
   ]
  },
  {
   "cell_type": "markdown",
   "metadata": {},
   "source": [
    "https://towardsdatascience.com/machine-learning-model-for-predicting-click-through-in-hotel-online-ranking-d55fc18c8516\n",
    "https://www.kaggle.com/konchada/logistic-vs-random-forest-model-for-ad-click\n",
    "https://becominghuman.ai/predicting-click-probabilities-on-a-leading-advertising-platform-7582633e6e78\n",
    "https://towardsdatascience.com/mobile-ads-click-through-rate-ctr-prediction-44fdac40c6ff"
   ]
  },
  {
   "cell_type": "code",
   "execution_count": 2,
   "metadata": {},
   "outputs": [],
   "source": [
    "item_data=pd.read_csv(\"item_data.csv\")\n",
    "train = pd.read_csv(\"train.csv\")\n",
    "view_log = pd.read_csv(\"view_log.csv\")\n",
    "test=pd.read_csv(\"test.csv\")\n",
    "sample_submission = pd.read_csv(\"sample_submission.csv\")"
   ]
  },
  {
   "cell_type": "code",
   "execution_count": 236,
   "metadata": {},
   "outputs": [
    {
     "data": {
      "text/plain": [
       "((132761, 6),)"
      ]
     },
     "execution_count": 236,
     "metadata": {},
     "output_type": "execute_result"
    }
   ],
   "source": [
    "item_data.shape,\n"
   ]
  },
  {
   "cell_type": "code",
   "execution_count": 237,
   "metadata": {},
   "outputs": [
    {
     "data": {
      "text/plain": [
       "((237609, 7),)"
      ]
     },
     "execution_count": 237,
     "metadata": {},
     "output_type": "execute_result"
    }
   ],
   "source": [
    "train.shape,\n"
   ]
  },
  {
   "cell_type": "code",
   "execution_count": 238,
   "metadata": {},
   "outputs": [
    {
     "data": {
      "text/plain": [
       "(3118622, 5)"
      ]
     },
     "execution_count": 238,
     "metadata": {},
     "output_type": "execute_result"
    }
   ],
   "source": [
    "view_log.shape\n"
   ]
  },
  {
   "cell_type": "code",
   "execution_count": 239,
   "metadata": {},
   "outputs": [
    {
     "data": {
      "text/plain": [
       "((90675, 6),)"
      ]
     },
     "execution_count": 239,
     "metadata": {},
     "output_type": "execute_result"
    }
   ],
   "source": [
    "test.shape,\n"
   ]
  },
  {
   "cell_type": "code",
   "execution_count": 12,
   "metadata": {},
   "outputs": [
    {
     "data": {
      "text/plain": [
       "(90675, 2)"
      ]
     },
     "execution_count": 12,
     "metadata": {},
     "output_type": "execute_result"
    }
   ],
   "source": [
    "sample_submission.shape"
   ]
  },
  {
   "cell_type": "code",
   "execution_count": 13,
   "metadata": {},
   "outputs": [
    {
     "data": {
      "text/html": [
       "<div>\n",
       "<style scoped>\n",
       "    .dataframe tbody tr th:only-of-type {\n",
       "        vertical-align: middle;\n",
       "    }\n",
       "\n",
       "    .dataframe tbody tr th {\n",
       "        vertical-align: top;\n",
       "    }\n",
       "\n",
       "    .dataframe thead th {\n",
       "        text-align: right;\n",
       "    }\n",
       "</style>\n",
       "<table border=\"1\" class=\"dataframe\">\n",
       "  <thead>\n",
       "    <tr style=\"text-align: right;\">\n",
       "      <th></th>\n",
       "      <th>item_id</th>\n",
       "      <th>item_price</th>\n",
       "      <th>category_1</th>\n",
       "      <th>category_2</th>\n",
       "      <th>category_3</th>\n",
       "      <th>product_type</th>\n",
       "    </tr>\n",
       "  </thead>\n",
       "  <tbody>\n",
       "    <tr>\n",
       "      <th>0</th>\n",
       "      <td>26880</td>\n",
       "      <td>4602</td>\n",
       "      <td>11</td>\n",
       "      <td>35</td>\n",
       "      <td>20</td>\n",
       "      <td>3040</td>\n",
       "    </tr>\n",
       "    <tr>\n",
       "      <th>1</th>\n",
       "      <td>54939</td>\n",
       "      <td>3513</td>\n",
       "      <td>12</td>\n",
       "      <td>57</td>\n",
       "      <td>85</td>\n",
       "      <td>6822</td>\n",
       "    </tr>\n",
       "    <tr>\n",
       "      <th>2</th>\n",
       "      <td>40383</td>\n",
       "      <td>825</td>\n",
       "      <td>17</td>\n",
       "      <td>8</td>\n",
       "      <td>279</td>\n",
       "      <td>1619</td>\n",
       "    </tr>\n",
       "    <tr>\n",
       "      <th>3</th>\n",
       "      <td>8777</td>\n",
       "      <td>2355</td>\n",
       "      <td>13</td>\n",
       "      <td>58</td>\n",
       "      <td>189</td>\n",
       "      <td>5264</td>\n",
       "    </tr>\n",
       "    <tr>\n",
       "      <th>4</th>\n",
       "      <td>113705</td>\n",
       "      <td>1267</td>\n",
       "      <td>17</td>\n",
       "      <td>39</td>\n",
       "      <td>151</td>\n",
       "      <td>10239</td>\n",
       "    </tr>\n",
       "  </tbody>\n",
       "</table>\n",
       "</div>"
      ],
      "text/plain": [
       "   item_id  item_price  category_1  category_2  category_3  product_type\n",
       "0    26880        4602          11          35          20          3040\n",
       "1    54939        3513          12          57          85          6822\n",
       "2    40383         825          17           8         279          1619\n",
       "3     8777        2355          13          58         189          5264\n",
       "4   113705        1267          17          39         151         10239"
      ]
     },
     "execution_count": 13,
     "metadata": {},
     "output_type": "execute_result"
    }
   ],
   "source": [
    "item_data.head()"
   ]
  },
  {
   "cell_type": "code",
   "execution_count": 3,
   "metadata": {},
   "outputs": [
    {
     "data": {
      "text/html": [
       "<div>\n",
       "<style scoped>\n",
       "    .dataframe tbody tr th:only-of-type {\n",
       "        vertical-align: middle;\n",
       "    }\n",
       "\n",
       "    .dataframe tbody tr th {\n",
       "        vertical-align: top;\n",
       "    }\n",
       "\n",
       "    .dataframe thead th {\n",
       "        text-align: right;\n",
       "    }\n",
       "</style>\n",
       "<table border=\"1\" class=\"dataframe\">\n",
       "  <thead>\n",
       "    <tr style=\"text-align: right;\">\n",
       "      <th></th>\n",
       "      <th>impression_id</th>\n",
       "      <th>impression_time</th>\n",
       "      <th>user_id</th>\n",
       "      <th>app_code</th>\n",
       "      <th>os_version</th>\n",
       "      <th>is_4G</th>\n",
       "      <th>is_click</th>\n",
       "    </tr>\n",
       "  </thead>\n",
       "  <tbody>\n",
       "    <tr>\n",
       "      <th>0</th>\n",
       "      <td>c4ca4238a0b923820dcc509a6f75849b</td>\n",
       "      <td>2018-11-15 00:00:00</td>\n",
       "      <td>87862</td>\n",
       "      <td>422</td>\n",
       "      <td>old</td>\n",
       "      <td>0</td>\n",
       "      <td>0</td>\n",
       "    </tr>\n",
       "    <tr>\n",
       "      <th>1</th>\n",
       "      <td>45c48cce2e2d7fbdea1afc51c7c6ad26</td>\n",
       "      <td>2018-11-15 00:01:00</td>\n",
       "      <td>63410</td>\n",
       "      <td>467</td>\n",
       "      <td>latest</td>\n",
       "      <td>1</td>\n",
       "      <td>1</td>\n",
       "    </tr>\n",
       "    <tr>\n",
       "      <th>2</th>\n",
       "      <td>70efdf2ec9b086079795c442636b55fb</td>\n",
       "      <td>2018-11-15 00:02:00</td>\n",
       "      <td>71748</td>\n",
       "      <td>259</td>\n",
       "      <td>intermediate</td>\n",
       "      <td>1</td>\n",
       "      <td>0</td>\n",
       "    </tr>\n",
       "    <tr>\n",
       "      <th>3</th>\n",
       "      <td>8e296a067a37563370ded05f5a3bf3ec</td>\n",
       "      <td>2018-11-15 00:02:00</td>\n",
       "      <td>69209</td>\n",
       "      <td>244</td>\n",
       "      <td>latest</td>\n",
       "      <td>1</td>\n",
       "      <td>0</td>\n",
       "    </tr>\n",
       "    <tr>\n",
       "      <th>4</th>\n",
       "      <td>182be0c5cdcd5072bb1864cdee4d3d6e</td>\n",
       "      <td>2018-11-15 00:02:00</td>\n",
       "      <td>62873</td>\n",
       "      <td>473</td>\n",
       "      <td>latest</td>\n",
       "      <td>0</td>\n",
       "      <td>0</td>\n",
       "    </tr>\n",
       "  </tbody>\n",
       "</table>\n",
       "</div>"
      ],
      "text/plain": [
       "                      impression_id      impression_time  user_id  app_code  \\\n",
       "0  c4ca4238a0b923820dcc509a6f75849b  2018-11-15 00:00:00    87862       422   \n",
       "1  45c48cce2e2d7fbdea1afc51c7c6ad26  2018-11-15 00:01:00    63410       467   \n",
       "2  70efdf2ec9b086079795c442636b55fb  2018-11-15 00:02:00    71748       259   \n",
       "3  8e296a067a37563370ded05f5a3bf3ec  2018-11-15 00:02:00    69209       244   \n",
       "4  182be0c5cdcd5072bb1864cdee4d3d6e  2018-11-15 00:02:00    62873       473   \n",
       "\n",
       "     os_version  is_4G  is_click  \n",
       "0           old      0         0  \n",
       "1        latest      1         1  \n",
       "2  intermediate      1         0  \n",
       "3        latest      1         0  \n",
       "4        latest      0         0  "
      ]
     },
     "execution_count": 3,
     "metadata": {},
     "output_type": "execute_result"
    }
   ],
   "source": [
    "train.head()"
   ]
  },
  {
   "cell_type": "code",
   "execution_count": 134,
   "metadata": {},
   "outputs": [],
   "source": [
    "train = train.drop(['ad_count','app_code1','click_sum','app_code2'], axis=1)"
   ]
  },
  {
   "cell_type": "code",
   "execution_count": 15,
   "metadata": {},
   "outputs": [
    {
     "data": {
      "text/html": [
       "<div>\n",
       "<style scoped>\n",
       "    .dataframe tbody tr th:only-of-type {\n",
       "        vertical-align: middle;\n",
       "    }\n",
       "\n",
       "    .dataframe tbody tr th {\n",
       "        vertical-align: top;\n",
       "    }\n",
       "\n",
       "    .dataframe thead th {\n",
       "        text-align: right;\n",
       "    }\n",
       "</style>\n",
       "<table border=\"1\" class=\"dataframe\">\n",
       "  <thead>\n",
       "    <tr style=\"text-align: right;\">\n",
       "      <th></th>\n",
       "      <th>server_time</th>\n",
       "      <th>device_type</th>\n",
       "      <th>session_id</th>\n",
       "      <th>user_id</th>\n",
       "      <th>item_id</th>\n",
       "    </tr>\n",
       "  </thead>\n",
       "  <tbody>\n",
       "    <tr>\n",
       "      <th>0</th>\n",
       "      <td>2018-10-15 08:58:00</td>\n",
       "      <td>android</td>\n",
       "      <td>112333</td>\n",
       "      <td>4557</td>\n",
       "      <td>32970</td>\n",
       "    </tr>\n",
       "    <tr>\n",
       "      <th>1</th>\n",
       "      <td>2018-10-15 08:58:00</td>\n",
       "      <td>android</td>\n",
       "      <td>503590</td>\n",
       "      <td>74788</td>\n",
       "      <td>7640</td>\n",
       "    </tr>\n",
       "    <tr>\n",
       "      <th>2</th>\n",
       "      <td>2018-10-15 08:58:00</td>\n",
       "      <td>android</td>\n",
       "      <td>573960</td>\n",
       "      <td>23628</td>\n",
       "      <td>128855</td>\n",
       "    </tr>\n",
       "    <tr>\n",
       "      <th>3</th>\n",
       "      <td>2018-10-15 08:58:00</td>\n",
       "      <td>android</td>\n",
       "      <td>121691</td>\n",
       "      <td>2430</td>\n",
       "      <td>12774</td>\n",
       "    </tr>\n",
       "    <tr>\n",
       "      <th>4</th>\n",
       "      <td>2018-10-15 08:58:00</td>\n",
       "      <td>android</td>\n",
       "      <td>218564</td>\n",
       "      <td>19227</td>\n",
       "      <td>28296</td>\n",
       "    </tr>\n",
       "  </tbody>\n",
       "</table>\n",
       "</div>"
      ],
      "text/plain": [
       "           server_time device_type  session_id  user_id  item_id\n",
       "0  2018-10-15 08:58:00     android      112333     4557    32970\n",
       "1  2018-10-15 08:58:00     android      503590    74788     7640\n",
       "2  2018-10-15 08:58:00     android      573960    23628   128855\n",
       "3  2018-10-15 08:58:00     android      121691     2430    12774\n",
       "4  2018-10-15 08:58:00     android      218564    19227    28296"
      ]
     },
     "execution_count": 15,
     "metadata": {},
     "output_type": "execute_result"
    }
   ],
   "source": [
    "view_log.head()"
   ]
  },
  {
   "cell_type": "code",
   "execution_count": 16,
   "metadata": {},
   "outputs": [
    {
     "data": {
      "text/html": [
       "<div>\n",
       "<style scoped>\n",
       "    .dataframe tbody tr th:only-of-type {\n",
       "        vertical-align: middle;\n",
       "    }\n",
       "\n",
       "    .dataframe tbody tr th {\n",
       "        vertical-align: top;\n",
       "    }\n",
       "\n",
       "    .dataframe thead th {\n",
       "        text-align: right;\n",
       "    }\n",
       "</style>\n",
       "<table border=\"1\" class=\"dataframe\">\n",
       "  <thead>\n",
       "    <tr style=\"text-align: right;\">\n",
       "      <th></th>\n",
       "      <th>impression_id</th>\n",
       "      <th>impression_time</th>\n",
       "      <th>user_id</th>\n",
       "      <th>app_code</th>\n",
       "      <th>os_version</th>\n",
       "      <th>is_4G</th>\n",
       "    </tr>\n",
       "  </thead>\n",
       "  <tbody>\n",
       "    <tr>\n",
       "      <th>0</th>\n",
       "      <td>a9e7126a585a69a32bc7414e9d0c0ada</td>\n",
       "      <td>2018-12-13 07:44:00</td>\n",
       "      <td>44754</td>\n",
       "      <td>127</td>\n",
       "      <td>latest</td>\n",
       "      <td>1</td>\n",
       "    </tr>\n",
       "    <tr>\n",
       "      <th>1</th>\n",
       "      <td>caac14a5bf2ba283db7708bb34855760</td>\n",
       "      <td>2018-12-13 07:45:00</td>\n",
       "      <td>29656</td>\n",
       "      <td>44</td>\n",
       "      <td>latest</td>\n",
       "      <td>0</td>\n",
       "    </tr>\n",
       "    <tr>\n",
       "      <th>2</th>\n",
       "      <td>13f10ba306a19ce7bec2f3cae507b698</td>\n",
       "      <td>2018-12-13 07:46:00</td>\n",
       "      <td>25234</td>\n",
       "      <td>296</td>\n",
       "      <td>latest</td>\n",
       "      <td>1</td>\n",
       "    </tr>\n",
       "    <tr>\n",
       "      <th>3</th>\n",
       "      <td>39c4b4dc0e9701b55a0a4f072008fb3f</td>\n",
       "      <td>2018-12-13 07:47:00</td>\n",
       "      <td>22988</td>\n",
       "      <td>207</td>\n",
       "      <td>latest</td>\n",
       "      <td>1</td>\n",
       "    </tr>\n",
       "    <tr>\n",
       "      <th>4</th>\n",
       "      <td>bf5a572cca75f5fc67f4b14e58b11d70</td>\n",
       "      <td>2018-12-13 07:48:00</td>\n",
       "      <td>35431</td>\n",
       "      <td>242</td>\n",
       "      <td>latest</td>\n",
       "      <td>1</td>\n",
       "    </tr>\n",
       "  </tbody>\n",
       "</table>\n",
       "</div>"
      ],
      "text/plain": [
       "                      impression_id      impression_time  user_id  app_code  \\\n",
       "0  a9e7126a585a69a32bc7414e9d0c0ada  2018-12-13 07:44:00    44754       127   \n",
       "1  caac14a5bf2ba283db7708bb34855760  2018-12-13 07:45:00    29656        44   \n",
       "2  13f10ba306a19ce7bec2f3cae507b698  2018-12-13 07:46:00    25234       296   \n",
       "3  39c4b4dc0e9701b55a0a4f072008fb3f  2018-12-13 07:47:00    22988       207   \n",
       "4  bf5a572cca75f5fc67f4b14e58b11d70  2018-12-13 07:48:00    35431       242   \n",
       "\n",
       "  os_version  is_4G  \n",
       "0     latest      1  \n",
       "1     latest      0  \n",
       "2     latest      1  \n",
       "3     latest      1  \n",
       "4     latest      1  "
      ]
     },
     "execution_count": 16,
     "metadata": {},
     "output_type": "execute_result"
    }
   ],
   "source": [
    "test.head()"
   ]
  },
  {
   "cell_type": "code",
   "execution_count": 17,
   "metadata": {},
   "outputs": [
    {
     "data": {
      "text/html": [
       "<div>\n",
       "<style scoped>\n",
       "    .dataframe tbody tr th:only-of-type {\n",
       "        vertical-align: middle;\n",
       "    }\n",
       "\n",
       "    .dataframe tbody tr th {\n",
       "        vertical-align: top;\n",
       "    }\n",
       "\n",
       "    .dataframe thead th {\n",
       "        text-align: right;\n",
       "    }\n",
       "</style>\n",
       "<table border=\"1\" class=\"dataframe\">\n",
       "  <thead>\n",
       "    <tr style=\"text-align: right;\">\n",
       "      <th></th>\n",
       "      <th>impression_id</th>\n",
       "      <th>is_click</th>\n",
       "    </tr>\n",
       "  </thead>\n",
       "  <tbody>\n",
       "    <tr>\n",
       "      <th>0</th>\n",
       "      <td>a9e7126a585a69a32bc7414e9d0c0ada</td>\n",
       "      <td>0</td>\n",
       "    </tr>\n",
       "    <tr>\n",
       "      <th>1</th>\n",
       "      <td>caac14a5bf2ba283db7708bb34855760</td>\n",
       "      <td>0</td>\n",
       "    </tr>\n",
       "    <tr>\n",
       "      <th>2</th>\n",
       "      <td>13f10ba306a19ce7bec2f3cae507b698</td>\n",
       "      <td>0</td>\n",
       "    </tr>\n",
       "    <tr>\n",
       "      <th>3</th>\n",
       "      <td>39c4b4dc0e9701b55a0a4f072008fb3f</td>\n",
       "      <td>0</td>\n",
       "    </tr>\n",
       "    <tr>\n",
       "      <th>4</th>\n",
       "      <td>bf5a572cca75f5fc67f4b14e58b11d70</td>\n",
       "      <td>0</td>\n",
       "    </tr>\n",
       "  </tbody>\n",
       "</table>\n",
       "</div>"
      ],
      "text/plain": [
       "                      impression_id  is_click\n",
       "0  a9e7126a585a69a32bc7414e9d0c0ada         0\n",
       "1  caac14a5bf2ba283db7708bb34855760         0\n",
       "2  13f10ba306a19ce7bec2f3cae507b698         0\n",
       "3  39c4b4dc0e9701b55a0a4f072008fb3f         0\n",
       "4  bf5a572cca75f5fc67f4b14e58b11d70         0"
      ]
     },
     "execution_count": 17,
     "metadata": {},
     "output_type": "execute_result"
    }
   ],
   "source": [
    "sample_submission.head()"
   ]
  },
  {
   "cell_type": "code",
   "execution_count": 4,
   "metadata": {},
   "outputs": [],
   "source": [
    "log_item_merge =pd.merge(view_log,item_data,on='item_id',how ='left' )"
   ]
  },
  {
   "cell_type": "code",
   "execution_count": 4,
   "metadata": {},
   "outputs": [
    {
     "data": {
      "text/html": [
       "<div>\n",
       "<style scoped>\n",
       "    .dataframe tbody tr th:only-of-type {\n",
       "        vertical-align: middle;\n",
       "    }\n",
       "\n",
       "    .dataframe tbody tr th {\n",
       "        vertical-align: top;\n",
       "    }\n",
       "\n",
       "    .dataframe thead th {\n",
       "        text-align: right;\n",
       "    }\n",
       "</style>\n",
       "<table border=\"1\" class=\"dataframe\">\n",
       "  <thead>\n",
       "    <tr style=\"text-align: right;\">\n",
       "      <th></th>\n",
       "      <th>server_time</th>\n",
       "      <th>device_type</th>\n",
       "      <th>session_id</th>\n",
       "      <th>user_id</th>\n",
       "      <th>item_id</th>\n",
       "      <th>item_price</th>\n",
       "      <th>category_1</th>\n",
       "      <th>category_2</th>\n",
       "      <th>category_3</th>\n",
       "      <th>product_type</th>\n",
       "    </tr>\n",
       "  </thead>\n",
       "  <tbody>\n",
       "    <tr>\n",
       "      <th>0</th>\n",
       "      <td>2018-10-15 08:58:00</td>\n",
       "      <td>android</td>\n",
       "      <td>112333</td>\n",
       "      <td>4557</td>\n",
       "      <td>32970</td>\n",
       "      <td>54685.0</td>\n",
       "      <td>16.0</td>\n",
       "      <td>56.0</td>\n",
       "      <td>253.0</td>\n",
       "      <td>3184.0</td>\n",
       "    </tr>\n",
       "    <tr>\n",
       "      <th>1</th>\n",
       "      <td>2018-10-15 08:58:00</td>\n",
       "      <td>android</td>\n",
       "      <td>503590</td>\n",
       "      <td>74788</td>\n",
       "      <td>7640</td>\n",
       "      <td>1376.0</td>\n",
       "      <td>7.0</td>\n",
       "      <td>71.0</td>\n",
       "      <td>228.0</td>\n",
       "      <td>545.0</td>\n",
       "    </tr>\n",
       "    <tr>\n",
       "      <th>2</th>\n",
       "      <td>2018-10-15 08:58:00</td>\n",
       "      <td>android</td>\n",
       "      <td>573960</td>\n",
       "      <td>23628</td>\n",
       "      <td>128855</td>\n",
       "      <td>4544.0</td>\n",
       "      <td>4.0</td>\n",
       "      <td>38.0</td>\n",
       "      <td>62.0</td>\n",
       "      <td>5609.0</td>\n",
       "    </tr>\n",
       "    <tr>\n",
       "      <th>3</th>\n",
       "      <td>2018-10-15 08:58:00</td>\n",
       "      <td>android</td>\n",
       "      <td>121691</td>\n",
       "      <td>2430</td>\n",
       "      <td>12774</td>\n",
       "      <td>904.0</td>\n",
       "      <td>17.0</td>\n",
       "      <td>39.0</td>\n",
       "      <td>252.0</td>\n",
       "      <td>2740.0</td>\n",
       "    </tr>\n",
       "    <tr>\n",
       "      <th>4</th>\n",
       "      <td>2018-10-15 08:58:00</td>\n",
       "      <td>android</td>\n",
       "      <td>218564</td>\n",
       "      <td>19227</td>\n",
       "      <td>28296</td>\n",
       "      <td>2304.0</td>\n",
       "      <td>12.0</td>\n",
       "      <td>57.0</td>\n",
       "      <td>54.0</td>\n",
       "      <td>7422.0</td>\n",
       "    </tr>\n",
       "  </tbody>\n",
       "</table>\n",
       "</div>"
      ],
      "text/plain": [
       "           server_time device_type  session_id  user_id  item_id  item_price  \\\n",
       "0  2018-10-15 08:58:00     android      112333     4557    32970     54685.0   \n",
       "1  2018-10-15 08:58:00     android      503590    74788     7640      1376.0   \n",
       "2  2018-10-15 08:58:00     android      573960    23628   128855      4544.0   \n",
       "3  2018-10-15 08:58:00     android      121691     2430    12774       904.0   \n",
       "4  2018-10-15 08:58:00     android      218564    19227    28296      2304.0   \n",
       "\n",
       "   category_1  category_2  category_3  product_type  \n",
       "0        16.0        56.0       253.0        3184.0  \n",
       "1         7.0        71.0       228.0         545.0  \n",
       "2         4.0        38.0        62.0        5609.0  \n",
       "3        17.0        39.0       252.0        2740.0  \n",
       "4        12.0        57.0        54.0        7422.0  "
      ]
     },
     "execution_count": 4,
     "metadata": {},
     "output_type": "execute_result"
    }
   ],
   "source": [
    "log_item_merge.head()"
   ]
  },
  {
   "cell_type": "code",
   "execution_count": 5,
   "metadata": {},
   "outputs": [],
   "source": [
    "#High no of ad's(app_code) count given to app priorities by (High, Medium, low)\n",
    "\n",
    "#app_ad_cnt=train.groupby(['app_code'])['is_click'].count()#.nlargest().reset_index()\n",
    "#app_ad_cnt=train.groupby('app_code').agg({\"is_click\": \"count\"}).reset_index(drop=False)\n",
    "#app_ad_cnt=train.groupby(['app_code'], as_index=True)[['is_click']].count()\n",
    "#app_ad_cnt= train.loc[:,['app_code','is_click']]\n",
    "#app_ad_cnt['ad_count']=train.groupby(['app_code'])['is_click'].count()\n",
    "\n",
    "app_ad_cnt=train.groupby('app_code').agg({\"is_click\": \"count\"})\n",
    "app_ad_cnt.rename(columns={\"is_click\":\"ad_count\"},inplace=True)\n",
    "app_ad_cnt['app_code']=app_ad_cnt.index"
   ]
  },
  {
   "cell_type": "code",
   "execution_count": 6,
   "metadata": {},
   "outputs": [],
   "source": [
    "app_ad_cnt.rename(columns={\"app_code\":\"app_code1\"},inplace=True)"
   ]
  },
  {
   "cell_type": "code",
   "execution_count": 76,
   "metadata": {},
   "outputs": [
    {
     "data": {
      "text/plain": [
       "(1, 33788, 484.91632653061225)"
      ]
     },
     "execution_count": 76,
     "metadata": {},
     "output_type": "execute_result"
    }
   ],
   "source": [
    "min(app_ad_cnt['ad_count']),max(app_ad_cnt['ad_count']),np.mean(app_ad_cnt['ad_count'])"
   ]
  },
  {
   "cell_type": "code",
   "execution_count": 7,
   "metadata": {},
   "outputs": [],
   "source": [
    "app_ad_cnt['ad_pri'] = np.where( (app_ad_cnt['ad_count'] > 2000), 1, 0)"
   ]
  },
  {
   "cell_type": "code",
   "execution_count": 8,
   "metadata": {},
   "outputs": [
    {
     "data": {
      "text/plain": [
       "0    464\n",
       "1     26\n",
       "Name: ad_pri, dtype: int64"
      ]
     },
     "execution_count": 8,
     "metadata": {},
     "output_type": "execute_result"
    }
   ],
   "source": [
    "app_ad_cnt['ad_pri'].value_counts()"
   ]
  },
  {
   "cell_type": "code",
   "execution_count": 116,
   "metadata": {},
   "outputs": [
    {
     "data": {
      "text/html": [
       "<div>\n",
       "<style scoped>\n",
       "    .dataframe tbody tr th:only-of-type {\n",
       "        vertical-align: middle;\n",
       "    }\n",
       "\n",
       "    .dataframe tbody tr th {\n",
       "        vertical-align: top;\n",
       "    }\n",
       "\n",
       "    .dataframe thead th {\n",
       "        text-align: right;\n",
       "    }\n",
       "</style>\n",
       "<table border=\"1\" class=\"dataframe\">\n",
       "  <thead>\n",
       "    <tr style=\"text-align: right;\">\n",
       "      <th></th>\n",
       "      <th>ad_count</th>\n",
       "      <th>app_code1</th>\n",
       "      <th>ad_pri</th>\n",
       "    </tr>\n",
       "    <tr>\n",
       "      <th>app_code</th>\n",
       "      <th></th>\n",
       "      <th></th>\n",
       "      <th></th>\n",
       "    </tr>\n",
       "  </thead>\n",
       "  <tbody>\n",
       "    <tr>\n",
       "      <th>0</th>\n",
       "      <td>73</td>\n",
       "      <td>0</td>\n",
       "      <td>0</td>\n",
       "    </tr>\n",
       "    <tr>\n",
       "      <th>1</th>\n",
       "      <td>35</td>\n",
       "      <td>1</td>\n",
       "      <td>0</td>\n",
       "    </tr>\n",
       "    <tr>\n",
       "      <th>2</th>\n",
       "      <td>134</td>\n",
       "      <td>2</td>\n",
       "      <td>0</td>\n",
       "    </tr>\n",
       "    <tr>\n",
       "      <th>3</th>\n",
       "      <td>8860</td>\n",
       "      <td>3</td>\n",
       "      <td>1</td>\n",
       "    </tr>\n",
       "    <tr>\n",
       "      <th>4</th>\n",
       "      <td>2</td>\n",
       "      <td>4</td>\n",
       "      <td>0</td>\n",
       "    </tr>\n",
       "  </tbody>\n",
       "</table>\n",
       "</div>"
      ],
      "text/plain": [
       "          ad_count  app_code1  ad_pri\n",
       "app_code                             \n",
       "0               73          0       0\n",
       "1               35          1       0\n",
       "2              134          2       0\n",
       "3             8860          3       1\n",
       "4                2          4       0"
      ]
     },
     "execution_count": 116,
     "metadata": {},
     "output_type": "execute_result"
    }
   ],
   "source": [
    "app_ad_cnt.head()"
   ]
  },
  {
   "cell_type": "code",
   "execution_count": 9,
   "metadata": {},
   "outputs": [],
   "source": [
    "app_ad_cli=train.groupby('app_code').agg({\"is_click\": \"sum\"})\n",
    "app_ad_cli.rename(columns={\"is_click\":\"click_sum\"},inplace=True)\n",
    "app_ad_cli['app_code']=app_ad_cli.index"
   ]
  },
  {
   "cell_type": "code",
   "execution_count": 10,
   "metadata": {},
   "outputs": [],
   "source": [
    "app_ad_cli.rename(columns={\"app_code\":\"app_code2\"},inplace=True)"
   ]
  },
  {
   "cell_type": "code",
   "execution_count": 11,
   "metadata": {},
   "outputs": [],
   "source": [
    "app_ad_cli['ad_click'] = np.where( (app_ad_cli['click_sum'] > 100), 1, 0)"
   ]
  },
  {
   "cell_type": "code",
   "execution_count": 118,
   "metadata": {},
   "outputs": [
    {
     "data": {
      "text/html": [
       "<div>\n",
       "<style scoped>\n",
       "    .dataframe tbody tr th:only-of-type {\n",
       "        vertical-align: middle;\n",
       "    }\n",
       "\n",
       "    .dataframe tbody tr th {\n",
       "        vertical-align: top;\n",
       "    }\n",
       "\n",
       "    .dataframe thead th {\n",
       "        text-align: right;\n",
       "    }\n",
       "</style>\n",
       "<table border=\"1\" class=\"dataframe\">\n",
       "  <thead>\n",
       "    <tr style=\"text-align: right;\">\n",
       "      <th></th>\n",
       "      <th>click_sum</th>\n",
       "      <th>app_code2</th>\n",
       "      <th>ad_click</th>\n",
       "    </tr>\n",
       "    <tr>\n",
       "      <th>app_code</th>\n",
       "      <th></th>\n",
       "      <th></th>\n",
       "      <th></th>\n",
       "    </tr>\n",
       "  </thead>\n",
       "  <tbody>\n",
       "    <tr>\n",
       "      <th>0</th>\n",
       "      <td>6</td>\n",
       "      <td>0</td>\n",
       "      <td>0</td>\n",
       "    </tr>\n",
       "    <tr>\n",
       "      <th>1</th>\n",
       "      <td>3</td>\n",
       "      <td>1</td>\n",
       "      <td>0</td>\n",
       "    </tr>\n",
       "    <tr>\n",
       "      <th>2</th>\n",
       "      <td>9</td>\n",
       "      <td>2</td>\n",
       "      <td>0</td>\n",
       "    </tr>\n",
       "    <tr>\n",
       "      <th>3</th>\n",
       "      <td>305</td>\n",
       "      <td>3</td>\n",
       "      <td>1</td>\n",
       "    </tr>\n",
       "    <tr>\n",
       "      <th>4</th>\n",
       "      <td>0</td>\n",
       "      <td>4</td>\n",
       "      <td>0</td>\n",
       "    </tr>\n",
       "  </tbody>\n",
       "</table>\n",
       "</div>"
      ],
      "text/plain": [
       "          click_sum  app_code2  ad_click\n",
       "app_code                                \n",
       "0                 6          0         0\n",
       "1                 3          1         0\n",
       "2                 9          2         0\n",
       "3               305          3         1\n",
       "4                 0          4         0"
      ]
     },
     "execution_count": 118,
     "metadata": {},
     "output_type": "execute_result"
    }
   ],
   "source": [
    "app_ad_cli.head()"
   ]
  },
  {
   "cell_type": "code",
   "execution_count": 104,
   "metadata": {},
   "outputs": [
    {
     "data": {
      "text/html": [
       "<div>\n",
       "<style scoped>\n",
       "    .dataframe tbody tr th:only-of-type {\n",
       "        vertical-align: middle;\n",
       "    }\n",
       "\n",
       "    .dataframe tbody tr th {\n",
       "        vertical-align: top;\n",
       "    }\n",
       "\n",
       "    .dataframe thead th {\n",
       "        text-align: right;\n",
       "    }\n",
       "</style>\n",
       "<table border=\"1\" class=\"dataframe\">\n",
       "  <thead>\n",
       "    <tr style=\"text-align: right;\">\n",
       "      <th></th>\n",
       "      <th>app_code</th>\n",
       "      <th>is_click</th>\n",
       "    </tr>\n",
       "  </thead>\n",
       "  <tbody>\n",
       "    <tr>\n",
       "      <th>0</th>\n",
       "      <td>207</td>\n",
       "      <td>33788</td>\n",
       "    </tr>\n",
       "    <tr>\n",
       "      <th>1</th>\n",
       "      <td>386</td>\n",
       "      <td>30706</td>\n",
       "    </tr>\n",
       "    <tr>\n",
       "      <th>2</th>\n",
       "      <td>190</td>\n",
       "      <td>17441</td>\n",
       "    </tr>\n",
       "    <tr>\n",
       "      <th>3</th>\n",
       "      <td>127</td>\n",
       "      <td>10851</td>\n",
       "    </tr>\n",
       "    <tr>\n",
       "      <th>4</th>\n",
       "      <td>371</td>\n",
       "      <td>9343</td>\n",
       "    </tr>\n",
       "  </tbody>\n",
       "</table>\n",
       "</div>"
      ],
      "text/plain": [
       "   app_code  is_click\n",
       "0       207     33788\n",
       "1       386     30706\n",
       "2       190     17441\n",
       "3       127     10851\n",
       "4       371      9343"
      ]
     },
     "execution_count": 104,
     "metadata": {},
     "output_type": "execute_result"
    }
   ],
   "source": [
    "train.groupby(['app_code'])['is_click'].count().nlargest(5).reset_index()"
   ]
  },
  {
   "cell_type": "code",
   "execution_count": 12,
   "metadata": {},
   "outputs": [],
   "source": [
    "train1=train"
   ]
  },
  {
   "cell_type": "code",
   "execution_count": 13,
   "metadata": {},
   "outputs": [],
   "source": [
    "train2=train"
   ]
  },
  {
   "cell_type": "code",
   "execution_count": 14,
   "metadata": {},
   "outputs": [],
   "source": [
    "train =pd.merge(train1,app_ad_cnt,left_on=\"app_code\", right_on=\"app_code1\",how ='left' )\n"
   ]
  },
  {
   "cell_type": "code",
   "execution_count": 15,
   "metadata": {},
   "outputs": [],
   "source": [
    "train =pd.merge(train,app_ad_cli,left_on=\"app_code\", right_on=\"app_code2\",how ='left' )\n"
   ]
  },
  {
   "cell_type": "code",
   "execution_count": 16,
   "metadata": {},
   "outputs": [],
   "source": [
    "train = train.drop(['ad_count','app_code1','click_sum','app_code2'], axis=1)"
   ]
  },
  {
   "cell_type": "code",
   "execution_count": 352,
   "metadata": {},
   "outputs": [
    {
     "data": {
      "text/html": [
       "<div>\n",
       "<style scoped>\n",
       "    .dataframe tbody tr th:only-of-type {\n",
       "        vertical-align: middle;\n",
       "    }\n",
       "\n",
       "    .dataframe tbody tr th {\n",
       "        vertical-align: top;\n",
       "    }\n",
       "\n",
       "    .dataframe thead th {\n",
       "        text-align: right;\n",
       "    }\n",
       "</style>\n",
       "<table border=\"1\" class=\"dataframe\">\n",
       "  <thead>\n",
       "    <tr style=\"text-align: right;\">\n",
       "      <th></th>\n",
       "      <th>impression_id</th>\n",
       "      <th>user_id</th>\n",
       "      <th>app_code</th>\n",
       "      <th>os_version</th>\n",
       "      <th>is_4G</th>\n",
       "      <th>ad_pri</th>\n",
       "      <th>ad_click</th>\n",
       "      <th>impression_time_Timestamp</th>\n",
       "      <th>Month</th>\n",
       "      <th>Day</th>\n",
       "      <th>Hour</th>\n",
       "      <th>Weekday</th>\n",
       "      <th>is_click</th>\n",
       "      <th>intermediate</th>\n",
       "      <th>latest</th>\n",
       "      <th>old</th>\n",
       "    </tr>\n",
       "  </thead>\n",
       "  <tbody>\n",
       "    <tr>\n",
       "      <th>0</th>\n",
       "      <td>a9e7126a585a69a32bc7414e9d0c0ada</td>\n",
       "      <td>44754</td>\n",
       "      <td>127</td>\n",
       "      <td>latest</td>\n",
       "      <td>1</td>\n",
       "      <td>1</td>\n",
       "      <td>1</td>\n",
       "      <td>2018-12-13 07:44:00</td>\n",
       "      <td>12</td>\n",
       "      <td>13</td>\n",
       "      <td>7</td>\n",
       "      <td>3</td>\n",
       "      <td>0</td>\n",
       "      <td>0</td>\n",
       "      <td>1</td>\n",
       "      <td>0</td>\n",
       "    </tr>\n",
       "    <tr>\n",
       "      <th>1</th>\n",
       "      <td>caac14a5bf2ba283db7708bb34855760</td>\n",
       "      <td>29656</td>\n",
       "      <td>44</td>\n",
       "      <td>latest</td>\n",
       "      <td>0</td>\n",
       "      <td>1</td>\n",
       "      <td>0</td>\n",
       "      <td>2018-12-13 07:45:00</td>\n",
       "      <td>12</td>\n",
       "      <td>13</td>\n",
       "      <td>7</td>\n",
       "      <td>3</td>\n",
       "      <td>0</td>\n",
       "      <td>0</td>\n",
       "      <td>1</td>\n",
       "      <td>0</td>\n",
       "    </tr>\n",
       "    <tr>\n",
       "      <th>2</th>\n",
       "      <td>13f10ba306a19ce7bec2f3cae507b698</td>\n",
       "      <td>25234</td>\n",
       "      <td>296</td>\n",
       "      <td>latest</td>\n",
       "      <td>1</td>\n",
       "      <td>1</td>\n",
       "      <td>1</td>\n",
       "      <td>2018-12-13 07:46:00</td>\n",
       "      <td>12</td>\n",
       "      <td>13</td>\n",
       "      <td>7</td>\n",
       "      <td>3</td>\n",
       "      <td>0</td>\n",
       "      <td>0</td>\n",
       "      <td>1</td>\n",
       "      <td>0</td>\n",
       "    </tr>\n",
       "    <tr>\n",
       "      <th>3</th>\n",
       "      <td>39c4b4dc0e9701b55a0a4f072008fb3f</td>\n",
       "      <td>22988</td>\n",
       "      <td>207</td>\n",
       "      <td>latest</td>\n",
       "      <td>1</td>\n",
       "      <td>1</td>\n",
       "      <td>1</td>\n",
       "      <td>2018-12-13 07:47:00</td>\n",
       "      <td>12</td>\n",
       "      <td>13</td>\n",
       "      <td>7</td>\n",
       "      <td>3</td>\n",
       "      <td>0</td>\n",
       "      <td>0</td>\n",
       "      <td>1</td>\n",
       "      <td>0</td>\n",
       "    </tr>\n",
       "    <tr>\n",
       "      <th>4</th>\n",
       "      <td>bf5a572cca75f5fc67f4b14e58b11d70</td>\n",
       "      <td>35431</td>\n",
       "      <td>242</td>\n",
       "      <td>latest</td>\n",
       "      <td>1</td>\n",
       "      <td>1</td>\n",
       "      <td>1</td>\n",
       "      <td>2018-12-13 07:48:00</td>\n",
       "      <td>12</td>\n",
       "      <td>13</td>\n",
       "      <td>7</td>\n",
       "      <td>3</td>\n",
       "      <td>0</td>\n",
       "      <td>0</td>\n",
       "      <td>1</td>\n",
       "      <td>0</td>\n",
       "    </tr>\n",
       "  </tbody>\n",
       "</table>\n",
       "</div>"
      ],
      "text/plain": [
       "                      impression_id  user_id  app_code os_version  is_4G  \\\n",
       "0  a9e7126a585a69a32bc7414e9d0c0ada    44754       127     latest      1   \n",
       "1  caac14a5bf2ba283db7708bb34855760    29656        44     latest      0   \n",
       "2  13f10ba306a19ce7bec2f3cae507b698    25234       296     latest      1   \n",
       "3  39c4b4dc0e9701b55a0a4f072008fb3f    22988       207     latest      1   \n",
       "4  bf5a572cca75f5fc67f4b14e58b11d70    35431       242     latest      1   \n",
       "\n",
       "   ad_pri  ad_click impression_time_Timestamp  Month  Day  Hour  Weekday  \\\n",
       "0       1         1       2018-12-13 07:44:00     12   13     7        3   \n",
       "1       1         0       2018-12-13 07:45:00     12   13     7        3   \n",
       "2       1         1       2018-12-13 07:46:00     12   13     7        3   \n",
       "3       1         1       2018-12-13 07:47:00     12   13     7        3   \n",
       "4       1         1       2018-12-13 07:48:00     12   13     7        3   \n",
       "\n",
       "   is_click  intermediate  latest  old  \n",
       "0         0             0       1    0  \n",
       "1         0             0       1    0  \n",
       "2         0             0       1    0  \n",
       "3         0             0       1    0  \n",
       "4         0             0       1    0  "
      ]
     },
     "execution_count": 352,
     "metadata": {},
     "output_type": "execute_result"
    }
   ],
   "source": [
    "test.head()"
   ]
  },
  {
   "cell_type": "code",
   "execution_count": 17,
   "metadata": {},
   "outputs": [],
   "source": [
    "test =pd.merge(test,app_ad_cnt,left_on=\"app_code\", right_on=\"app_code1\",how ='left' )\n"
   ]
  },
  {
   "cell_type": "code",
   "execution_count": 18,
   "metadata": {},
   "outputs": [],
   "source": [
    "test =pd.merge(test,app_ad_cli,left_on=\"app_code\", right_on=\"app_code2\",how ='left' )"
   ]
  },
  {
   "cell_type": "code",
   "execution_count": 19,
   "metadata": {},
   "outputs": [],
   "source": [
    "test = test.drop(['ad_count','app_code1','click_sum','app_code2'], axis=1)"
   ]
  },
  {
   "cell_type": "code",
   "execution_count": 135,
   "metadata": {},
   "outputs": [
    {
     "name": "stdout",
     "output_type": "stream",
     "text": [
      "is_click       0     1\n",
      "ad_pri                \n",
      "0          41400  2660\n",
      "1         185347  8202\n"
     ]
    }
   ],
   "source": [
    "print(pd.crosstab(train['ad_pri'],train['is_click']))"
   ]
  },
  {
   "cell_type": "code",
   "execution_count": 136,
   "metadata": {},
   "outputs": [
    {
     "name": "stdout",
     "output_type": "stream",
     "text": [
      "is_click       0     1\n",
      "ad_click              \n",
      "0          49602  2580\n",
      "1         177145  8282\n"
     ]
    }
   ],
   "source": [
    "print(pd.crosstab(train['ad_click'],train['is_click']))"
   ]
  },
  {
   "cell_type": "code",
   "execution_count": 67,
   "metadata": {},
   "outputs": [
    {
     "data": {
      "text/plain": [
       "android    3117737\n",
       "iphone         861\n",
       "web             24\n",
       "Name: device_type, dtype: int64"
      ]
     },
     "execution_count": 67,
     "metadata": {},
     "output_type": "execute_result"
    }
   ],
   "source": [
    "view_log['device_type'].value_counts()"
   ]
  },
  {
   "cell_type": "code",
   "execution_count": 68,
   "metadata": {},
   "outputs": [
    {
     "data": {
      "text/plain": [
       "latest          129216\n",
       "intermediate     55543\n",
       "old              52850\n",
       "Name: os_version, dtype: int64"
      ]
     },
     "execution_count": 68,
     "metadata": {},
     "output_type": "execute_result"
    }
   ],
   "source": [
    "train['os_version'].value_counts()"
   ]
  },
  {
   "cell_type": "code",
   "execution_count": 110,
   "metadata": {},
   "outputs": [
    {
     "data": {
      "text/plain": [
       "0    226747\n",
       "1     10862\n",
       "Name: is_click, dtype: int64"
      ]
     },
     "execution_count": 110,
     "metadata": {},
     "output_type": "execute_result"
    }
   ],
   "source": [
    "train['is_click'].value_counts()"
   ]
  },
  {
   "cell_type": "code",
   "execution_count": 70,
   "metadata": {},
   "outputs": [
    {
     "name": "stdout",
     "output_type": "stream",
     "text": [
      "is_click       0     1\n",
      "is_4G                 \n",
      "0         144738  7020\n",
      "1          82009  3842\n"
     ]
    }
   ],
   "source": [
    "print(pd.crosstab(train['is_4G'],train['is_click']))"
   ]
  },
  {
   "cell_type": "code",
   "execution_count": 125,
   "metadata": {},
   "outputs": [],
   "source": [
    "userclick1=train.groupby('user_id')['is_click'].sum()#>'0'"
   ]
  },
  {
   "cell_type": "code",
   "execution_count": 161,
   "metadata": {},
   "outputs": [
    {
     "data": {
      "text/plain": [
       "user_id\n",
       "784      15\n",
       "54611    15\n",
       "84559    15\n",
       "8121     14\n",
       "79033    13\n",
       "Name: is_click, dtype: int64"
      ]
     },
     "execution_count": 161,
     "metadata": {},
     "output_type": "execute_result"
    }
   ],
   "source": [
    "train.groupby('user_id')['is_click'].sum().nlargest(5)"
   ]
  },
  {
   "cell_type": "code",
   "execution_count": 172,
   "metadata": {},
   "outputs": [
    {
     "data": {
      "text/plain": [
       "user_id\n",
       "71457    73\n",
       "29947    70\n",
       "59007    70\n",
       "52082    67\n",
       "68540    64\n",
       "Name: is_click, dtype: int64"
      ]
     },
     "execution_count": 172,
     "metadata": {},
     "output_type": "execute_result"
    }
   ],
   "source": [
    "train.groupby('user_id')['is_click'].count().nlargest(5)"
   ]
  },
  {
   "cell_type": "code",
   "execution_count": 56,
   "metadata": {},
   "outputs": [],
   "source": [
    "userclick1=train.groupby('user_id').agg({\"is_click\": \"count\"})"
   ]
  },
  {
   "cell_type": "code",
   "execution_count": 57,
   "metadata": {},
   "outputs": [],
   "source": [
    "userclick1.rename(columns={\"is_click\":\"is_click_count\"},inplace=True)"
   ]
  },
  {
   "cell_type": "code",
   "execution_count": 63,
   "metadata": {},
   "outputs": [],
   "source": [
    "userclick1['user_id']=userclick1.index"
   ]
  },
  {
   "cell_type": "code",
   "execution_count": 64,
   "metadata": {},
   "outputs": [
    {
     "data": {
      "text/html": [
       "<div>\n",
       "<style scoped>\n",
       "    .dataframe tbody tr th:only-of-type {\n",
       "        vertical-align: middle;\n",
       "    }\n",
       "\n",
       "    .dataframe tbody tr th {\n",
       "        vertical-align: top;\n",
       "    }\n",
       "\n",
       "    .dataframe thead th {\n",
       "        text-align: right;\n",
       "    }\n",
       "</style>\n",
       "<table border=\"1\" class=\"dataframe\">\n",
       "  <thead>\n",
       "    <tr style=\"text-align: right;\">\n",
       "      <th></th>\n",
       "      <th>is_click_count</th>\n",
       "      <th>user_id</th>\n",
       "    </tr>\n",
       "    <tr>\n",
       "      <th>user_id</th>\n",
       "      <th></th>\n",
       "      <th></th>\n",
       "    </tr>\n",
       "  </thead>\n",
       "  <tbody>\n",
       "    <tr>\n",
       "      <th>71457</th>\n",
       "      <td>73</td>\n",
       "      <td>71457</td>\n",
       "    </tr>\n",
       "  </tbody>\n",
       "</table>\n",
       "</div>"
      ],
      "text/plain": [
       "         is_click_count  user_id\n",
       "user_id                         \n",
       "71457                73    71457"
      ]
     },
     "execution_count": 64,
     "metadata": {},
     "output_type": "execute_result"
    }
   ],
   "source": [
    "userclick1[userclick1['is_click_count']==73]"
   ]
  },
  {
   "cell_type": "code",
   "execution_count": 193,
   "metadata": {},
   "outputs": [],
   "source": [
    "userclick2.rename(columns={\"is_click\":\"is_click_sum\"},inplace=True)"
   ]
  },
  {
   "cell_type": "code",
   "execution_count": 194,
   "metadata": {},
   "outputs": [
    {
     "data": {
      "text/html": [
       "<div>\n",
       "<style scoped>\n",
       "    .dataframe tbody tr th:only-of-type {\n",
       "        vertical-align: middle;\n",
       "    }\n",
       "\n",
       "    .dataframe tbody tr th {\n",
       "        vertical-align: top;\n",
       "    }\n",
       "\n",
       "    .dataframe thead th {\n",
       "        text-align: right;\n",
       "    }\n",
       "</style>\n",
       "<table border=\"1\" class=\"dataframe\">\n",
       "  <thead>\n",
       "    <tr style=\"text-align: right;\">\n",
       "      <th></th>\n",
       "      <th>is_click_sum</th>\n",
       "    </tr>\n",
       "    <tr>\n",
       "      <th>user_id</th>\n",
       "      <th></th>\n",
       "    </tr>\n",
       "  </thead>\n",
       "  <tbody>\n",
       "    <tr>\n",
       "      <th>784</th>\n",
       "      <td>15</td>\n",
       "    </tr>\n",
       "    <tr>\n",
       "      <th>3364</th>\n",
       "      <td>10</td>\n",
       "    </tr>\n",
       "    <tr>\n",
       "      <th>8121</th>\n",
       "      <td>14</td>\n",
       "    </tr>\n",
       "    <tr>\n",
       "      <th>35126</th>\n",
       "      <td>11</td>\n",
       "    </tr>\n",
       "    <tr>\n",
       "      <th>37747</th>\n",
       "      <td>10</td>\n",
       "    </tr>\n",
       "    <tr>\n",
       "      <th>52485</th>\n",
       "      <td>11</td>\n",
       "    </tr>\n",
       "    <tr>\n",
       "      <th>52737</th>\n",
       "      <td>10</td>\n",
       "    </tr>\n",
       "    <tr>\n",
       "      <th>54611</th>\n",
       "      <td>15</td>\n",
       "    </tr>\n",
       "    <tr>\n",
       "      <th>55183</th>\n",
       "      <td>12</td>\n",
       "    </tr>\n",
       "    <tr>\n",
       "      <th>58641</th>\n",
       "      <td>11</td>\n",
       "    </tr>\n",
       "    <tr>\n",
       "      <th>64389</th>\n",
       "      <td>10</td>\n",
       "    </tr>\n",
       "    <tr>\n",
       "      <th>69062</th>\n",
       "      <td>11</td>\n",
       "    </tr>\n",
       "    <tr>\n",
       "      <th>79033</th>\n",
       "      <td>13</td>\n",
       "    </tr>\n",
       "    <tr>\n",
       "      <th>84064</th>\n",
       "      <td>11</td>\n",
       "    </tr>\n",
       "    <tr>\n",
       "      <th>84559</th>\n",
       "      <td>15</td>\n",
       "    </tr>\n",
       "    <tr>\n",
       "      <th>84717</th>\n",
       "      <td>11</td>\n",
       "    </tr>\n",
       "    <tr>\n",
       "      <th>87805</th>\n",
       "      <td>12</td>\n",
       "    </tr>\n",
       "    <tr>\n",
       "      <th>90953</th>\n",
       "      <td>10</td>\n",
       "    </tr>\n",
       "    <tr>\n",
       "      <th>91986</th>\n",
       "      <td>12</td>\n",
       "    </tr>\n",
       "  </tbody>\n",
       "</table>\n",
       "</div>"
      ],
      "text/plain": [
       "         is_click_sum\n",
       "user_id              \n",
       "784                15\n",
       "3364               10\n",
       "8121               14\n",
       "35126              11\n",
       "37747              10\n",
       "52485              11\n",
       "52737              10\n",
       "54611              15\n",
       "55183              12\n",
       "58641              11\n",
       "64389              10\n",
       "69062              11\n",
       "79033              13\n",
       "84064              11\n",
       "84559              15\n",
       "84717              11\n",
       "87805              12\n",
       "90953              10\n",
       "91986              12"
      ]
     },
     "execution_count": 194,
     "metadata": {},
     "output_type": "execute_result"
    }
   ],
   "source": [
    "userclick2[userclick2['is_click_sum']>=10]"
   ]
  },
  {
   "cell_type": "code",
   "execution_count": 192,
   "metadata": {},
   "outputs": [
    {
     "data": {
      "text/html": [
       "<div>\n",
       "<style scoped>\n",
       "    .dataframe tbody tr th:only-of-type {\n",
       "        vertical-align: middle;\n",
       "    }\n",
       "\n",
       "    .dataframe tbody tr th {\n",
       "        vertical-align: top;\n",
       "    }\n",
       "\n",
       "    .dataframe thead th {\n",
       "        text-align: right;\n",
       "    }\n",
       "</style>\n",
       "<table border=\"1\" class=\"dataframe\">\n",
       "  <thead>\n",
       "    <tr style=\"text-align: right;\">\n",
       "      <th></th>\n",
       "      <th>is_click_count</th>\n",
       "    </tr>\n",
       "    <tr>\n",
       "      <th>user_id</th>\n",
       "      <th></th>\n",
       "    </tr>\n",
       "  </thead>\n",
       "  <tbody>\n",
       "    <tr>\n",
       "      <th>29947</th>\n",
       "      <td>70</td>\n",
       "    </tr>\n",
       "    <tr>\n",
       "      <th>59007</th>\n",
       "      <td>70</td>\n",
       "    </tr>\n",
       "    <tr>\n",
       "      <th>71457</th>\n",
       "      <td>73</td>\n",
       "    </tr>\n",
       "  </tbody>\n",
       "</table>\n",
       "</div>"
      ],
      "text/plain": [
       "         is_click_count\n",
       "user_id                \n",
       "29947                70\n",
       "59007                70\n",
       "71457                73"
      ]
     },
     "execution_count": 192,
     "metadata": {},
     "output_type": "execute_result"
    }
   ],
   "source": [
    "userclick1[userclick1['is_click_count']>=70]"
   ]
  },
  {
   "cell_type": "code",
   "execution_count": 189,
   "metadata": {},
   "outputs": [
    {
     "data": {
      "text/plain": [
       "impression_id                9\n",
       "user_id                      9\n",
       "app_code                     9\n",
       "os_version                   9\n",
       "is_4G                        9\n",
       "is_click                     9\n",
       "impression_time_Timestamp    9\n",
       "Month                        9\n",
       "Day                          9\n",
       "Hour                         9\n",
       "Weekday                      9\n",
       "dtype: int64"
      ]
     },
     "execution_count": 189,
     "metadata": {},
     "output_type": "execute_result"
    }
   ],
   "source": [
    "train.query('user_id==68540 and is_click ==1').count()"
   ]
  },
  {
   "cell_type": "code",
   "execution_count": 72,
   "metadata": {},
   "outputs": [
    {
     "name": "stdout",
     "output_type": "stream",
     "text": [
      "is_click     0    1\n",
      "app_code           \n",
      "0           67    6\n",
      "1           32    3\n",
      "2          125    9\n",
      "3         8555  305\n",
      "4            2    0\n",
      "5         5006  396\n",
      "6            1    0\n",
      "7          726   45\n",
      "8           27    5\n",
      "9          675   46\n",
      "12           2    0\n",
      "13           1    0\n",
      "14          80   17\n",
      "15           2    0\n",
      "16         103   13\n",
      "17          59    2\n",
      "19          22    2\n",
      "20          26    2\n",
      "21           1    0\n",
      "22          10    2\n",
      "23           6    0\n",
      "24          28    0\n",
      "25           8    0\n",
      "26           1    0\n",
      "27          17    1\n",
      "28           1    1\n",
      "29          44    8\n",
      "30           5    0\n",
      "31         106    3\n",
      "32        5718  266\n",
      "...        ...  ...\n",
      "489         68    2\n",
      "491        421   16\n",
      "492         79    6\n",
      "493         17    5\n",
      "495        167    6\n",
      "496         90    1\n",
      "497          1    0\n",
      "498         19    0\n",
      "499         62    3\n",
      "500         20    1\n",
      "502          1    0\n",
      "503         73    5\n",
      "504        279   47\n",
      "505        145    4\n",
      "506          9    0\n",
      "507        399   14\n",
      "508       1686  132\n",
      "509        865   27\n",
      "510          3    0\n",
      "512        301   23\n",
      "513         45    3\n",
      "514         83    4\n",
      "515         10    0\n",
      "516          1    0\n",
      "517          3    1\n",
      "518          5    0\n",
      "519         38    1\n",
      "520          2    1\n",
      "521         26    2\n",
      "522        120    6\n",
      "\n",
      "[490 rows x 2 columns]\n"
     ]
    },
    {
     "ename": "AttributeError",
     "evalue": "'NoneType' object has no attribute 'size'",
     "output_type": "error",
     "traceback": [
      "\u001b[1;31m---------------------------------------------------------------------------\u001b[0m",
      "\u001b[1;31mAttributeError\u001b[0m                            Traceback (most recent call last)",
      "\u001b[1;32m<ipython-input-72-0ad9a4f8b5c7>\u001b[0m in \u001b[0;36m<module>\u001b[1;34m()\u001b[0m\n\u001b[1;32m----> 1\u001b[1;33m \u001b[0mprint\u001b[0m\u001b[1;33m(\u001b[0m\u001b[0mpd\u001b[0m\u001b[1;33m.\u001b[0m\u001b[0mcrosstab\u001b[0m\u001b[1;33m(\u001b[0m\u001b[0mtrain\u001b[0m\u001b[1;33m[\u001b[0m\u001b[1;34m'app_code'\u001b[0m\u001b[1;33m]\u001b[0m\u001b[1;33m,\u001b[0m\u001b[0mtrain\u001b[0m\u001b[1;33m[\u001b[0m\u001b[1;34m'is_click'\u001b[0m\u001b[1;33m]\u001b[0m\u001b[1;33m)\u001b[0m\u001b[1;33m)\u001b[0m\u001b[1;33m.\u001b[0m\u001b[0msize\u001b[0m\u001b[1;33m(\u001b[0m\u001b[1;33m)\u001b[0m\u001b[1;33m.\u001b[0m\u001b[0mnlargest\u001b[0m\u001b[1;33m(\u001b[0m\u001b[1;36m5\u001b[0m\u001b[1;33m)\u001b[0m\u001b[1;33m\u001b[0m\u001b[0m\n\u001b[0m",
      "\u001b[1;31mAttributeError\u001b[0m: 'NoneType' object has no attribute 'size'"
     ]
    }
   ],
   "source": [
    "print(pd.crosstab(train['app_code'],train['is_click'])).size().nlargest(5)"
   ]
  },
  {
   "cell_type": "code",
   "execution_count": 73,
   "metadata": {},
   "outputs": [
    {
     "name": "stdout",
     "output_type": "stream",
     "text": [
      "is_click           0     1\n",
      "os_version                \n",
      "intermediate   52668  2875\n",
      "latest        123834  5382\n",
      "old            50245  2605\n"
     ]
    }
   ],
   "source": [
    "print(pd.crosstab(train['os_version'],train['is_click']))\n"
   ]
  },
  {
   "cell_type": "code",
   "execution_count": 26,
   "metadata": {
    "scrolled": true
   },
   "outputs": [
    {
     "data": {
      "text/html": [
       "<div>\n",
       "<style scoped>\n",
       "    .dataframe tbody tr th:only-of-type {\n",
       "        vertical-align: middle;\n",
       "    }\n",
       "\n",
       "    .dataframe tbody tr th {\n",
       "        vertical-align: top;\n",
       "    }\n",
       "\n",
       "    .dataframe thead th {\n",
       "        text-align: right;\n",
       "    }\n",
       "</style>\n",
       "<table border=\"1\" class=\"dataframe\">\n",
       "  <thead>\n",
       "    <tr style=\"text-align: right;\">\n",
       "      <th></th>\n",
       "      <th>server_time</th>\n",
       "      <th>device_type</th>\n",
       "      <th>session_id</th>\n",
       "      <th>user_id</th>\n",
       "      <th>item_id</th>\n",
       "    </tr>\n",
       "  </thead>\n",
       "  <tbody>\n",
       "    <tr>\n",
       "      <th>221309</th>\n",
       "      <td>2018-10-19 18:11:00</td>\n",
       "      <td>android</td>\n",
       "      <td>190710</td>\n",
       "      <td>87862</td>\n",
       "      <td>43886</td>\n",
       "    </tr>\n",
       "  </tbody>\n",
       "</table>\n",
       "</div>"
      ],
      "text/plain": [
       "                server_time device_type  session_id  user_id  item_id\n",
       "221309  2018-10-19 18:11:00     android      190710    87862    43886"
      ]
     },
     "execution_count": 26,
     "metadata": {},
     "output_type": "execute_result"
    }
   ],
   "source": [
    "#Analysing user base train recored\n",
    "view_log.query('user_id==87862')"
   ]
  },
  {
   "cell_type": "code",
   "execution_count": 27,
   "metadata": {
    "scrolled": true
   },
   "outputs": [
    {
     "data": {
      "text/html": [
       "<div>\n",
       "<style scoped>\n",
       "    .dataframe tbody tr th:only-of-type {\n",
       "        vertical-align: middle;\n",
       "    }\n",
       "\n",
       "    .dataframe tbody tr th {\n",
       "        vertical-align: top;\n",
       "    }\n",
       "\n",
       "    .dataframe thead th {\n",
       "        text-align: right;\n",
       "    }\n",
       "</style>\n",
       "<table border=\"1\" class=\"dataframe\">\n",
       "  <thead>\n",
       "    <tr style=\"text-align: right;\">\n",
       "      <th></th>\n",
       "      <th>item_id</th>\n",
       "      <th>item_price</th>\n",
       "      <th>category_1</th>\n",
       "      <th>category_2</th>\n",
       "      <th>category_3</th>\n",
       "      <th>product_type</th>\n",
       "    </tr>\n",
       "  </thead>\n",
       "  <tbody>\n",
       "    <tr>\n",
       "      <th>115593</th>\n",
       "      <td>43886</td>\n",
       "      <td>2350</td>\n",
       "      <td>11</td>\n",
       "      <td>35</td>\n",
       "      <td>20</td>\n",
       "      <td>5622</td>\n",
       "    </tr>\n",
       "  </tbody>\n",
       "</table>\n",
       "</div>"
      ],
      "text/plain": [
       "        item_id  item_price  category_1  category_2  category_3  product_type\n",
       "115593    43886        2350          11          35          20          5622"
      ]
     },
     "execution_count": 27,
     "metadata": {},
     "output_type": "execute_result"
    }
   ],
   "source": [
    "item_data.query('item_id==43886')"
   ]
  },
  {
   "cell_type": "code",
   "execution_count": 28,
   "metadata": {},
   "outputs": [
    {
     "data": {
      "text/html": [
       "<div>\n",
       "<style scoped>\n",
       "    .dataframe tbody tr th:only-of-type {\n",
       "        vertical-align: middle;\n",
       "    }\n",
       "\n",
       "    .dataframe tbody tr th {\n",
       "        vertical-align: top;\n",
       "    }\n",
       "\n",
       "    .dataframe thead th {\n",
       "        text-align: right;\n",
       "    }\n",
       "</style>\n",
       "<table border=\"1\" class=\"dataframe\">\n",
       "  <thead>\n",
       "    <tr style=\"text-align: right;\">\n",
       "      <th></th>\n",
       "      <th>impression_id</th>\n",
       "      <th>impression_time</th>\n",
       "      <th>user_id</th>\n",
       "      <th>app_code</th>\n",
       "      <th>os_version</th>\n",
       "      <th>is_4G</th>\n",
       "      <th>is_click</th>\n",
       "    </tr>\n",
       "  </thead>\n",
       "  <tbody>\n",
       "    <tr>\n",
       "      <th>0</th>\n",
       "      <td>c4ca4238a0b923820dcc509a6f75849b</td>\n",
       "      <td>2018-11-15 00:00:00</td>\n",
       "      <td>87862</td>\n",
       "      <td>422</td>\n",
       "      <td>old</td>\n",
       "      <td>0</td>\n",
       "      <td>0</td>\n",
       "    </tr>\n",
       "    <tr>\n",
       "      <th>616</th>\n",
       "      <td>621bf66ddb7c962aa0d22ac97d69b793</td>\n",
       "      <td>2018-11-15 00:19:00</td>\n",
       "      <td>87862</td>\n",
       "      <td>422</td>\n",
       "      <td>old</td>\n",
       "      <td>0</td>\n",
       "      <td>0</td>\n",
       "    </tr>\n",
       "    <tr>\n",
       "      <th>5936</th>\n",
       "      <td>ab394288aed46588bdc90bf4b541ec0d</td>\n",
       "      <td>2018-11-16 17:29:00</td>\n",
       "      <td>87862</td>\n",
       "      <td>422</td>\n",
       "      <td>old</td>\n",
       "      <td>0</td>\n",
       "      <td>0</td>\n",
       "    </tr>\n",
       "  </tbody>\n",
       "</table>\n",
       "</div>"
      ],
      "text/plain": [
       "                         impression_id      impression_time  user_id  \\\n",
       "0     c4ca4238a0b923820dcc509a6f75849b  2018-11-15 00:00:00    87862   \n",
       "616   621bf66ddb7c962aa0d22ac97d69b793  2018-11-15 00:19:00    87862   \n",
       "5936  ab394288aed46588bdc90bf4b541ec0d  2018-11-16 17:29:00    87862   \n",
       "\n",
       "      app_code os_version  is_4G  is_click  \n",
       "0          422        old      0         0  \n",
       "616        422        old      0         0  \n",
       "5936       422        old      0         0  "
      ]
     },
     "execution_count": 28,
     "metadata": {},
     "output_type": "execute_result"
    }
   ],
   "source": [
    "train.query('user_id ==87862')"
   ]
  },
  {
   "cell_type": "code",
   "execution_count": 30,
   "metadata": {},
   "outputs": [
    {
     "data": {
      "text/html": [
       "<div>\n",
       "<style scoped>\n",
       "    .dataframe tbody tr th:only-of-type {\n",
       "        vertical-align: middle;\n",
       "    }\n",
       "\n",
       "    .dataframe tbody tr th {\n",
       "        vertical-align: top;\n",
       "    }\n",
       "\n",
       "    .dataframe thead th {\n",
       "        text-align: right;\n",
       "    }\n",
       "</style>\n",
       "<table border=\"1\" class=\"dataframe\">\n",
       "  <thead>\n",
       "    <tr style=\"text-align: right;\">\n",
       "      <th></th>\n",
       "      <th>server_time</th>\n",
       "      <th>device_type</th>\n",
       "      <th>session_id</th>\n",
       "      <th>user_id</th>\n",
       "      <th>item_id</th>\n",
       "    </tr>\n",
       "  </thead>\n",
       "  <tbody>\n",
       "    <tr>\n",
       "      <th>284024</th>\n",
       "      <td>2018-10-21 06:13:00</td>\n",
       "      <td>android</td>\n",
       "      <td>356854</td>\n",
       "      <td>63410</td>\n",
       "      <td>43209</td>\n",
       "    </tr>\n",
       "    <tr>\n",
       "      <th>284028</th>\n",
       "      <td>2018-10-21 06:13:00</td>\n",
       "      <td>android</td>\n",
       "      <td>356854</td>\n",
       "      <td>63410</td>\n",
       "      <td>66370</td>\n",
       "    </tr>\n",
       "    <tr>\n",
       "      <th>309046</th>\n",
       "      <td>2018-10-21 17:01:00</td>\n",
       "      <td>android</td>\n",
       "      <td>345289</td>\n",
       "      <td>63410</td>\n",
       "      <td>43209</td>\n",
       "    </tr>\n",
       "    <tr>\n",
       "      <th>339224</th>\n",
       "      <td>2018-10-22 09:54:00</td>\n",
       "      <td>android</td>\n",
       "      <td>406658</td>\n",
       "      <td>63410</td>\n",
       "      <td>43209</td>\n",
       "    </tr>\n",
       "    <tr>\n",
       "      <th>449354</th>\n",
       "      <td>2018-10-24 11:14:00</td>\n",
       "      <td>android</td>\n",
       "      <td>15568</td>\n",
       "      <td>63410</td>\n",
       "      <td>71877</td>\n",
       "    </tr>\n",
       "    <tr>\n",
       "      <th>486317</th>\n",
       "      <td>2018-10-25 05:00:00</td>\n",
       "      <td>android</td>\n",
       "      <td>343558</td>\n",
       "      <td>63410</td>\n",
       "      <td>43209</td>\n",
       "    </tr>\n",
       "    <tr>\n",
       "      <th>486325</th>\n",
       "      <td>2018-10-25 05:03:00</td>\n",
       "      <td>android</td>\n",
       "      <td>343558</td>\n",
       "      <td>63410</td>\n",
       "      <td>43209</td>\n",
       "    </tr>\n",
       "    <tr>\n",
       "      <th>2115995</th>\n",
       "      <td>2018-11-24 05:29:00</td>\n",
       "      <td>android</td>\n",
       "      <td>983607</td>\n",
       "      <td>63410</td>\n",
       "      <td>97274</td>\n",
       "    </tr>\n",
       "    <tr>\n",
       "      <th>3028698</th>\n",
       "      <td>2018-12-10 19:48:00</td>\n",
       "      <td>android</td>\n",
       "      <td>135003</td>\n",
       "      <td>63410</td>\n",
       "      <td>109074</td>\n",
       "    </tr>\n",
       "    <tr>\n",
       "      <th>3028895</th>\n",
       "      <td>2018-12-10 19:51:00</td>\n",
       "      <td>android</td>\n",
       "      <td>135003</td>\n",
       "      <td>63410</td>\n",
       "      <td>58018</td>\n",
       "    </tr>\n",
       "    <tr>\n",
       "      <th>3029399</th>\n",
       "      <td>2018-12-10 19:59:00</td>\n",
       "      <td>android</td>\n",
       "      <td>135003</td>\n",
       "      <td>63410</td>\n",
       "      <td>109074</td>\n",
       "    </tr>\n",
       "    <tr>\n",
       "      <th>3029745</th>\n",
       "      <td>2018-12-10 20:03:00</td>\n",
       "      <td>android</td>\n",
       "      <td>135003</td>\n",
       "      <td>63410</td>\n",
       "      <td>22064</td>\n",
       "    </tr>\n",
       "  </tbody>\n",
       "</table>\n",
       "</div>"
      ],
      "text/plain": [
       "                 server_time device_type  session_id  user_id  item_id\n",
       "284024   2018-10-21 06:13:00     android      356854    63410    43209\n",
       "284028   2018-10-21 06:13:00     android      356854    63410    66370\n",
       "309046   2018-10-21 17:01:00     android      345289    63410    43209\n",
       "339224   2018-10-22 09:54:00     android      406658    63410    43209\n",
       "449354   2018-10-24 11:14:00     android       15568    63410    71877\n",
       "486317   2018-10-25 05:00:00     android      343558    63410    43209\n",
       "486325   2018-10-25 05:03:00     android      343558    63410    43209\n",
       "2115995  2018-11-24 05:29:00     android      983607    63410    97274\n",
       "3028698  2018-12-10 19:48:00     android      135003    63410   109074\n",
       "3028895  2018-12-10 19:51:00     android      135003    63410    58018\n",
       "3029399  2018-12-10 19:59:00     android      135003    63410   109074\n",
       "3029745  2018-12-10 20:03:00     android      135003    63410    22064"
      ]
     },
     "execution_count": 30,
     "metadata": {},
     "output_type": "execute_result"
    }
   ],
   "source": [
    "\n",
    "view_log.query('user_id==63410')"
   ]
  },
  {
   "cell_type": "code",
   "execution_count": 39,
   "metadata": {},
   "outputs": [
    {
     "data": {
      "text/html": [
       "<div>\n",
       "<style scoped>\n",
       "    .dataframe tbody tr th:only-of-type {\n",
       "        vertical-align: middle;\n",
       "    }\n",
       "\n",
       "    .dataframe tbody tr th {\n",
       "        vertical-align: top;\n",
       "    }\n",
       "\n",
       "    .dataframe thead th {\n",
       "        text-align: right;\n",
       "    }\n",
       "</style>\n",
       "<table border=\"1\" class=\"dataframe\">\n",
       "  <thead>\n",
       "    <tr style=\"text-align: right;\">\n",
       "      <th></th>\n",
       "      <th>item_id</th>\n",
       "      <th>item_price</th>\n",
       "      <th>category_1</th>\n",
       "      <th>category_2</th>\n",
       "      <th>category_3</th>\n",
       "      <th>product_type</th>\n",
       "    </tr>\n",
       "  </thead>\n",
       "  <tbody>\n",
       "    <tr>\n",
       "      <th>52</th>\n",
       "      <td>109074</td>\n",
       "      <td>6330</td>\n",
       "      <td>10</td>\n",
       "      <td>63</td>\n",
       "      <td>295</td>\n",
       "      <td>9337</td>\n",
       "    </tr>\n",
       "    <tr>\n",
       "      <th>10689</th>\n",
       "      <td>71877</td>\n",
       "      <td>3961</td>\n",
       "      <td>10</td>\n",
       "      <td>63</td>\n",
       "      <td>295</td>\n",
       "      <td>2270</td>\n",
       "    </tr>\n",
       "    <tr>\n",
       "      <th>50221</th>\n",
       "      <td>22064</td>\n",
       "      <td>1024</td>\n",
       "      <td>11</td>\n",
       "      <td>76</td>\n",
       "      <td>67</td>\n",
       "      <td>8411</td>\n",
       "    </tr>\n",
       "    <tr>\n",
       "      <th>55749</th>\n",
       "      <td>58018</td>\n",
       "      <td>1888</td>\n",
       "      <td>13</td>\n",
       "      <td>52</td>\n",
       "      <td>163</td>\n",
       "      <td>2734</td>\n",
       "    </tr>\n",
       "    <tr>\n",
       "      <th>60403</th>\n",
       "      <td>43209</td>\n",
       "      <td>3421</td>\n",
       "      <td>4</td>\n",
       "      <td>74</td>\n",
       "      <td>292</td>\n",
       "      <td>577</td>\n",
       "    </tr>\n",
       "    <tr>\n",
       "      <th>96448</th>\n",
       "      <td>97274</td>\n",
       "      <td>2630</td>\n",
       "      <td>10</td>\n",
       "      <td>43</td>\n",
       "      <td>223</td>\n",
       "      <td>3055</td>\n",
       "    </tr>\n",
       "    <tr>\n",
       "      <th>117273</th>\n",
       "      <td>66370</td>\n",
       "      <td>14166</td>\n",
       "      <td>4</td>\n",
       "      <td>74</td>\n",
       "      <td>292</td>\n",
       "      <td>3399</td>\n",
       "    </tr>\n",
       "  </tbody>\n",
       "</table>\n",
       "</div>"
      ],
      "text/plain": [
       "        item_id  item_price  category_1  category_2  category_3  product_type\n",
       "52       109074        6330          10          63         295          9337\n",
       "10689     71877        3961          10          63         295          2270\n",
       "50221     22064        1024          11          76          67          8411\n",
       "55749     58018        1888          13          52         163          2734\n",
       "60403     43209        3421           4          74         292           577\n",
       "96448     97274        2630          10          43         223          3055\n",
       "117273    66370       14166           4          74         292          3399"
      ]
     },
     "execution_count": 39,
     "metadata": {},
     "output_type": "execute_result"
    }
   ],
   "source": [
    "item_data.query('item_id==43209 or item_id==66370 or item_id ==71877 or item_id ==97274 or item_id ==109074 or item_id ==58018 or item_id ==22064')"
   ]
  },
  {
   "cell_type": "code",
   "execution_count": 47,
   "metadata": {},
   "outputs": [
    {
     "data": {
      "text/html": [
       "<div>\n",
       "<style scoped>\n",
       "    .dataframe tbody tr th:only-of-type {\n",
       "        vertical-align: middle;\n",
       "    }\n",
       "\n",
       "    .dataframe tbody tr th {\n",
       "        vertical-align: top;\n",
       "    }\n",
       "\n",
       "    .dataframe thead th {\n",
       "        text-align: right;\n",
       "    }\n",
       "</style>\n",
       "<table border=\"1\" class=\"dataframe\">\n",
       "  <thead>\n",
       "    <tr style=\"text-align: right;\">\n",
       "      <th></th>\n",
       "      <th>item_id</th>\n",
       "      <th>item_price</th>\n",
       "      <th>category_1</th>\n",
       "      <th>category_2</th>\n",
       "      <th>category_3</th>\n",
       "      <th>product_type</th>\n",
       "    </tr>\n",
       "  </thead>\n",
       "  <tbody>\n",
       "    <tr>\n",
       "      <th>88047</th>\n",
       "      <td>25430</td>\n",
       "      <td>300</td>\n",
       "      <td>15</td>\n",
       "      <td>0</td>\n",
       "      <td>214</td>\n",
       "      <td>386</td>\n",
       "    </tr>\n",
       "  </tbody>\n",
       "</table>\n",
       "</div>"
      ],
      "text/plain": [
       "       item_id  item_price  category_1  category_2  category_3  product_type\n",
       "88047    25430         300          15           0         214           386"
      ]
     },
     "execution_count": 47,
     "metadata": {},
     "output_type": "execute_result"
    }
   ],
   "source": [
    "item_data.query('product_type == 386')"
   ]
  },
  {
   "cell_type": "code",
   "execution_count": 216,
   "metadata": {},
   "outputs": [
    {
     "data": {
      "text/html": [
       "<div>\n",
       "<style scoped>\n",
       "    .dataframe tbody tr th:only-of-type {\n",
       "        vertical-align: middle;\n",
       "    }\n",
       "\n",
       "    .dataframe tbody tr th {\n",
       "        vertical-align: top;\n",
       "    }\n",
       "\n",
       "    .dataframe thead th {\n",
       "        text-align: right;\n",
       "    }\n",
       "</style>\n",
       "<table border=\"1\" class=\"dataframe\">\n",
       "  <thead>\n",
       "    <tr style=\"text-align: right;\">\n",
       "      <th></th>\n",
       "      <th>impression_id</th>\n",
       "      <th>user_id</th>\n",
       "      <th>app_code</th>\n",
       "      <th>os_version</th>\n",
       "      <th>is_4G</th>\n",
       "      <th>is_click</th>\n",
       "      <th>ad_pri</th>\n",
       "      <th>ad_click</th>\n",
       "      <th>impression_time_Timestamp</th>\n",
       "      <th>Month</th>\n",
       "      <th>Day</th>\n",
       "      <th>Hour</th>\n",
       "      <th>Weekday</th>\n",
       "      <th>intermediate</th>\n",
       "      <th>latest</th>\n",
       "      <th>old</th>\n",
       "    </tr>\n",
       "  </thead>\n",
       "  <tbody>\n",
       "    <tr>\n",
       "      <th>8</th>\n",
       "      <td>fc490ca45c00b1249bbe3554a4fdf6fb</td>\n",
       "      <td>83318</td>\n",
       "      <td>386</td>\n",
       "      <td>old</td>\n",
       "      <td>0</td>\n",
       "      <td>0</td>\n",
       "      <td>1</td>\n",
       "      <td>1</td>\n",
       "      <td>2018-11-15 00:05:00</td>\n",
       "      <td>11</td>\n",
       "      <td>15</td>\n",
       "      <td>0</td>\n",
       "      <td>3</td>\n",
       "      <td>0</td>\n",
       "      <td>0</td>\n",
       "      <td>1</td>\n",
       "    </tr>\n",
       "    <tr>\n",
       "      <th>47</th>\n",
       "      <td>70c639df5e30bdee440e4cdf599fec2b</td>\n",
       "      <td>14496</td>\n",
       "      <td>386</td>\n",
       "      <td>latest</td>\n",
       "      <td>0</td>\n",
       "      <td>0</td>\n",
       "      <td>1</td>\n",
       "      <td>1</td>\n",
       "      <td>2018-11-15 00:34:00</td>\n",
       "      <td>11</td>\n",
       "      <td>15</td>\n",
       "      <td>0</td>\n",
       "      <td>3</td>\n",
       "      <td>0</td>\n",
       "      <td>1</td>\n",
       "      <td>0</td>\n",
       "    </tr>\n",
       "    <tr>\n",
       "      <th>85</th>\n",
       "      <td>5f0f5e5f33945135b874349cfbed4fb9</td>\n",
       "      <td>75369</td>\n",
       "      <td>386</td>\n",
       "      <td>intermediate</td>\n",
       "      <td>1</td>\n",
       "      <td>0</td>\n",
       "      <td>1</td>\n",
       "      <td>1</td>\n",
       "      <td>2018-11-15 01:23:00</td>\n",
       "      <td>11</td>\n",
       "      <td>15</td>\n",
       "      <td>1</td>\n",
       "      <td>3</td>\n",
       "      <td>1</td>\n",
       "      <td>0</td>\n",
       "      <td>0</td>\n",
       "    </tr>\n",
       "    <tr>\n",
       "      <th>109</th>\n",
       "      <td>9232fe81225bcaef853ae32870a2b0fe</td>\n",
       "      <td>45894</td>\n",
       "      <td>386</td>\n",
       "      <td>latest</td>\n",
       "      <td>0</td>\n",
       "      <td>0</td>\n",
       "      <td>1</td>\n",
       "      <td>1</td>\n",
       "      <td>2018-11-15 02:19:00</td>\n",
       "      <td>11</td>\n",
       "      <td>15</td>\n",
       "      <td>2</td>\n",
       "      <td>3</td>\n",
       "      <td>0</td>\n",
       "      <td>1</td>\n",
       "      <td>0</td>\n",
       "    </tr>\n",
       "    <tr>\n",
       "      <th>116</th>\n",
       "      <td>31b3b31a1c2f8a370206f111127c0dbd</td>\n",
       "      <td>29344</td>\n",
       "      <td>386</td>\n",
       "      <td>intermediate</td>\n",
       "      <td>0</td>\n",
       "      <td>0</td>\n",
       "      <td>1</td>\n",
       "      <td>1</td>\n",
       "      <td>2018-11-15 02:37:00</td>\n",
       "      <td>11</td>\n",
       "      <td>15</td>\n",
       "      <td>2</td>\n",
       "      <td>3</td>\n",
       "      <td>1</td>\n",
       "      <td>0</td>\n",
       "      <td>0</td>\n",
       "    </tr>\n",
       "    <tr>\n",
       "      <th>122</th>\n",
       "      <td>d8700cbd38cc9f30cecb34f0c195b137</td>\n",
       "      <td>27949</td>\n",
       "      <td>386</td>\n",
       "      <td>latest</td>\n",
       "      <td>0</td>\n",
       "      <td>0</td>\n",
       "      <td>1</td>\n",
       "      <td>1</td>\n",
       "      <td>2018-11-15 03:00:00</td>\n",
       "      <td>11</td>\n",
       "      <td>15</td>\n",
       "      <td>3</td>\n",
       "      <td>3</td>\n",
       "      <td>0</td>\n",
       "      <td>1</td>\n",
       "      <td>0</td>\n",
       "    </tr>\n",
       "    <tr>\n",
       "      <th>168</th>\n",
       "      <td>eae27d77ca20db309e056e3d2dcd7d69</td>\n",
       "      <td>80712</td>\n",
       "      <td>386</td>\n",
       "      <td>latest</td>\n",
       "      <td>0</td>\n",
       "      <td>0</td>\n",
       "      <td>1</td>\n",
       "      <td>1</td>\n",
       "      <td>2018-11-15 00:15:00</td>\n",
       "      <td>11</td>\n",
       "      <td>15</td>\n",
       "      <td>0</td>\n",
       "      <td>3</td>\n",
       "      <td>0</td>\n",
       "      <td>1</td>\n",
       "      <td>0</td>\n",
       "    </tr>\n",
       "    <tr>\n",
       "      <th>169</th>\n",
       "      <td>979d472a84804b9f647bc185a877a8b5</td>\n",
       "      <td>73469</td>\n",
       "      <td>386</td>\n",
       "      <td>latest</td>\n",
       "      <td>0</td>\n",
       "      <td>0</td>\n",
       "      <td>1</td>\n",
       "      <td>1</td>\n",
       "      <td>2018-11-15 00:16:00</td>\n",
       "      <td>11</td>\n",
       "      <td>15</td>\n",
       "      <td>0</td>\n",
       "      <td>3</td>\n",
       "      <td>0</td>\n",
       "      <td>1</td>\n",
       "      <td>0</td>\n",
       "    </tr>\n",
       "    <tr>\n",
       "      <th>187</th>\n",
       "      <td>9be40cee5b0eee1462c82c6964087ff9</td>\n",
       "      <td>1246</td>\n",
       "      <td>386</td>\n",
       "      <td>intermediate</td>\n",
       "      <td>0</td>\n",
       "      <td>0</td>\n",
       "      <td>1</td>\n",
       "      <td>1</td>\n",
       "      <td>2018-11-15 00:31:00</td>\n",
       "      <td>11</td>\n",
       "      <td>15</td>\n",
       "      <td>0</td>\n",
       "      <td>3</td>\n",
       "      <td>1</td>\n",
       "      <td>0</td>\n",
       "      <td>0</td>\n",
       "    </tr>\n",
       "    <tr>\n",
       "      <th>194</th>\n",
       "      <td>e0c641195b27425bb056ac56f8953d24</td>\n",
       "      <td>88249</td>\n",
       "      <td>386</td>\n",
       "      <td>old</td>\n",
       "      <td>1</td>\n",
       "      <td>0</td>\n",
       "      <td>1</td>\n",
       "      <td>1</td>\n",
       "      <td>2018-11-15 00:38:00</td>\n",
       "      <td>11</td>\n",
       "      <td>15</td>\n",
       "      <td>0</td>\n",
       "      <td>3</td>\n",
       "      <td>0</td>\n",
       "      <td>0</td>\n",
       "      <td>1</td>\n",
       "    </tr>\n",
       "  </tbody>\n",
       "</table>\n",
       "</div>"
      ],
      "text/plain": [
       "                        impression_id  user_id  app_code    os_version  is_4G  \\\n",
       "8    fc490ca45c00b1249bbe3554a4fdf6fb    83318       386           old      0   \n",
       "47   70c639df5e30bdee440e4cdf599fec2b    14496       386        latest      0   \n",
       "85   5f0f5e5f33945135b874349cfbed4fb9    75369       386  intermediate      1   \n",
       "109  9232fe81225bcaef853ae32870a2b0fe    45894       386        latest      0   \n",
       "116  31b3b31a1c2f8a370206f111127c0dbd    29344       386  intermediate      0   \n",
       "122  d8700cbd38cc9f30cecb34f0c195b137    27949       386        latest      0   \n",
       "168  eae27d77ca20db309e056e3d2dcd7d69    80712       386        latest      0   \n",
       "169  979d472a84804b9f647bc185a877a8b5    73469       386        latest      0   \n",
       "187  9be40cee5b0eee1462c82c6964087ff9     1246       386  intermediate      0   \n",
       "194  e0c641195b27425bb056ac56f8953d24    88249       386           old      1   \n",
       "\n",
       "     is_click  ad_pri  ad_click impression_time_Timestamp  Month  Day  Hour  \\\n",
       "8           0       1         1       2018-11-15 00:05:00     11   15     0   \n",
       "47          0       1         1       2018-11-15 00:34:00     11   15     0   \n",
       "85          0       1         1       2018-11-15 01:23:00     11   15     1   \n",
       "109         0       1         1       2018-11-15 02:19:00     11   15     2   \n",
       "116         0       1         1       2018-11-15 02:37:00     11   15     2   \n",
       "122         0       1         1       2018-11-15 03:00:00     11   15     3   \n",
       "168         0       1         1       2018-11-15 00:15:00     11   15     0   \n",
       "169         0       1         1       2018-11-15 00:16:00     11   15     0   \n",
       "187         0       1         1       2018-11-15 00:31:00     11   15     0   \n",
       "194         0       1         1       2018-11-15 00:38:00     11   15     0   \n",
       "\n",
       "     Weekday  intermediate  latest  old  \n",
       "8          3             0       0    1  \n",
       "47         3             0       1    0  \n",
       "85         3             1       0    0  \n",
       "109        3             0       1    0  \n",
       "116        3             1       0    0  \n",
       "122        3             0       1    0  \n",
       "168        3             0       1    0  \n",
       "169        3             0       1    0  \n",
       "187        3             1       0    0  \n",
       "194        3             0       0    1  "
      ]
     },
     "execution_count": 216,
     "metadata": {},
     "output_type": "execute_result"
    }
   ],
   "source": [
    "train.query('app_code ==386').head(10)"
   ]
  },
  {
   "cell_type": "code",
   "execution_count": 41,
   "metadata": {},
   "outputs": [
    {
     "data": {
      "image/png": "[encoded data removed]",
      "text/plain": [
       "<Figure size 432x288 with 1 Axes>"
      ]
     },
     "metadata": {},
     "output_type": "display_data"
    }
   ],
   "source": [
    "n, bins, patches = plt.hist(item_data.product_type, 100, density = 1, facecolor='blue', alpha=0.75)\n",
    "plt.xlabel('product_type')\n",
    "plt.title('Histogram of product_type')\n",
    "plt.show();"
   ]
  },
  {
   "cell_type": "code",
   "execution_count": 215,
   "metadata": {},
   "outputs": [
    {
     "name": "stdout",
     "output_type": "stream",
     "text": [
      "207    0.142200\n",
      "386    0.129229\n",
      "190    0.073402\n",
      "127    0.045667\n",
      "371    0.039321\n",
      "3      0.037288\n",
      "296    0.031367\n",
      "129    0.029671\n",
      "385    0.029359\n",
      "32     0.025184\n",
      "5      0.022735\n",
      "249    0.021805\n",
      "469    0.021556\n",
      "283    0.019452\n",
      "244    0.018387\n",
      "44     0.018291\n",
      "242    0.015829\n",
      "145    0.015180\n",
      "213    0.011856\n",
      "463    0.010366\n",
      "359    0.010071\n",
      "231    0.009882\n",
      "465    0.009225\n",
      "151    0.009158\n",
      "318    0.009154\n",
      "202    0.008935\n",
      "508    0.007651\n",
      "163    0.006717\n",
      "38     0.006363\n",
      "37     0.006048\n",
      "         ...   \n",
      "437    0.000004\n",
      "284    0.000004\n",
      "52     0.000004\n",
      "105    0.000004\n",
      "429    0.000004\n",
      "65     0.000004\n",
      "149    0.000004\n",
      "21     0.000004\n",
      "332    0.000004\n",
      "267    0.000004\n",
      "418    0.000004\n",
      "140    0.000004\n",
      "109    0.000004\n",
      "13     0.000004\n",
      "269    0.000004\n",
      "162    0.000004\n",
      "301    0.000004\n",
      "205    0.000004\n",
      "459    0.000004\n",
      "404    0.000004\n",
      "417    0.000004\n",
      "73     0.000004\n",
      "72     0.000004\n",
      "71     0.000004\n",
      "376    0.000004\n",
      "70     0.000004\n",
      "401    0.000004\n",
      "147    0.000004\n",
      "66     0.000004\n",
      "233    0.000004\n",
      "Name: app_code, Length: 490, dtype: float64\n"
     ]
    },
    {
     "ename": "AttributeError",
     "evalue": "'NoneType' object has no attribute 'nlargest'",
     "output_type": "error",
     "traceback": [
      "\u001b[1;31m---------------------------------------------------------------------------\u001b[0m",
      "\u001b[1;31mAttributeError\u001b[0m                            Traceback (most recent call last)",
      "\u001b[1;32m<ipython-input-215-88fc9ea42adc>\u001b[0m in \u001b[0;36m<module>\u001b[1;34m()\u001b[0m\n\u001b[1;32m----> 1\u001b[1;33m \u001b[0mprint\u001b[0m\u001b[1;33m(\u001b[0m\u001b[0mtrain\u001b[0m\u001b[1;33m.\u001b[0m\u001b[0mapp_code\u001b[0m\u001b[1;33m.\u001b[0m\u001b[0mvalue_counts\u001b[0m\u001b[1;33m(\u001b[0m\u001b[1;33m)\u001b[0m\u001b[1;33m/\u001b[0m\u001b[0mlen\u001b[0m\u001b[1;33m(\u001b[0m\u001b[0mtrain\u001b[0m\u001b[1;33m)\u001b[0m\u001b[1;33m)\u001b[0m\u001b[1;33m.\u001b[0m\u001b[0mnlargest\u001b[0m\u001b[1;33m(\u001b[0m\u001b[1;36m5\u001b[0m\u001b[1;33m)\u001b[0m\u001b[1;33m\u001b[0m\u001b[0m\n\u001b[0m",
      "\u001b[1;31mAttributeError\u001b[0m: 'NoneType' object has no attribute 'nlargest'"
     ]
    }
   ],
   "source": [
    "print(train.app_code.value_counts()/len(train)).nlargest(5)"
   ]
  },
  {
   "cell_type": "code",
   "execution_count": 44,
   "metadata": {},
   "outputs": [
    {
     "data": {
      "text/plain": [
       "product_type\n",
       "2874     4261\n",
       "5622     1417\n",
       "5036     1262\n",
       "10412     990\n",
       "7791      980\n",
       "dtype: int64"
      ]
     },
     "execution_count": 44,
     "metadata": {},
     "output_type": "execute_result"
    }
   ],
   "source": [
    "item_data.groupby('product_type').size().nlargest(5)"
   ]
  },
  {
   "cell_type": "code",
   "execution_count": 45,
   "metadata": {},
   "outputs": [
    {
     "data": {
      "text/plain": [
       "app_code\n",
       "207    33788\n",
       "386    30706\n",
       "190    17441\n",
       "127    10851\n",
       "371     9343\n",
       "dtype: int64"
      ]
     },
     "execution_count": 45,
     "metadata": {},
     "output_type": "execute_result"
    }
   ],
   "source": [
    "train.groupby('app_code').size().nlargest(5)"
   ]
  },
  {
   "cell_type": "code",
   "execution_count": 78,
   "metadata": {},
   "outputs": [
    {
     "data": {
      "text/html": [
       "<div>\n",
       "<style scoped>\n",
       "    .dataframe tbody tr th:only-of-type {\n",
       "        vertical-align: middle;\n",
       "    }\n",
       "\n",
       "    .dataframe tbody tr th {\n",
       "        vertical-align: top;\n",
       "    }\n",
       "\n",
       "    .dataframe thead th {\n",
       "        text-align: right;\n",
       "    }\n",
       "</style>\n",
       "<table border=\"1\" class=\"dataframe\">\n",
       "  <thead>\n",
       "    <tr style=\"text-align: right;\">\n",
       "      <th></th>\n",
       "      <th>count</th>\n",
       "      <th>mean</th>\n",
       "      <th>std</th>\n",
       "      <th>min</th>\n",
       "      <th>25%</th>\n",
       "      <th>50%</th>\n",
       "      <th>75%</th>\n",
       "      <th>max</th>\n",
       "    </tr>\n",
       "    <tr>\n",
       "      <th>is_click</th>\n",
       "      <th></th>\n",
       "      <th></th>\n",
       "      <th></th>\n",
       "      <th></th>\n",
       "      <th></th>\n",
       "      <th></th>\n",
       "      <th></th>\n",
       "      <th></th>\n",
       "    </tr>\n",
       "  </thead>\n",
       "  <tbody>\n",
       "    <tr>\n",
       "      <th>0</th>\n",
       "      <td>226747.0</td>\n",
       "      <td>0.361676</td>\n",
       "      <td>0.480487</td>\n",
       "      <td>0.0</td>\n",
       "      <td>0.0</td>\n",
       "      <td>0.0</td>\n",
       "      <td>1.0</td>\n",
       "      <td>1.0</td>\n",
       "    </tr>\n",
       "    <tr>\n",
       "      <th>1</th>\n",
       "      <td>10862.0</td>\n",
       "      <td>0.353710</td>\n",
       "      <td>0.478143</td>\n",
       "      <td>0.0</td>\n",
       "      <td>0.0</td>\n",
       "      <td>0.0</td>\n",
       "      <td>1.0</td>\n",
       "      <td>1.0</td>\n",
       "    </tr>\n",
       "  </tbody>\n",
       "</table>\n",
       "</div>"
      ],
      "text/plain": [
       "             count      mean       std  min  25%  50%  75%  max\n",
       "is_click                                                       \n",
       "0         226747.0  0.361676  0.480487  0.0  0.0  0.0  1.0  1.0\n",
       "1          10862.0  0.353710  0.478143  0.0  0.0  0.0  1.0  1.0"
      ]
     },
     "execution_count": 78,
     "metadata": {},
     "output_type": "execute_result"
    }
   ],
   "source": [
    "train.groupby('is_click')['is_4G'].describe()"
   ]
  },
  {
   "cell_type": "code",
   "execution_count": 74,
   "metadata": {},
   "outputs": [
    {
     "data": {
      "text/plain": [
       "490"
      ]
     },
     "execution_count": 74,
     "metadata": {},
     "output_type": "execute_result"
    }
   ],
   "source": [
    "train['app_code'].nunique()"
   ]
  },
  {
   "cell_type": "code",
   "execution_count": 75,
   "metadata": {},
   "outputs": [
    {
     "data": {
      "text/plain": [
       "373"
      ]
     },
     "execution_count": 75,
     "metadata": {},
     "output_type": "execute_result"
    }
   ],
   "source": [
    "test['app_code'].nunique()"
   ]
  },
  {
   "cell_type": "code",
   "execution_count": 76,
   "metadata": {},
   "outputs": [
    {
     "data": {
      "text/plain": [
       "7959"
      ]
     },
     "execution_count": 76,
     "metadata": {},
     "output_type": "execute_result"
    }
   ],
   "source": [
    "item_data['product_type'].nunique()"
   ]
  },
  {
   "cell_type": "code",
   "execution_count": 66,
   "metadata": {},
   "outputs": [
    {
     "data": {
      "image/png": "[encoded data removed]",
      "text/plain": [
       "<Figure size 432x288 with 1 Axes>"
      ]
     },
     "metadata": {},
     "output_type": "display_data"
    },
    {
     "data": {
      "text/plain": [
       "0    226747\n",
       "1     10862\n",
       "Name: is_click, dtype: int64"
      ]
     },
     "execution_count": 66,
     "metadata": {},
     "output_type": "execute_result"
    }
   ],
   "source": [
    "sns.countplot(x='is_click',data=train, palette='hls')\n",
    "plt.show();\n",
    "train['is_click'].value_counts()"
   ]
  },
  {
   "cell_type": "code",
   "execution_count": 80,
   "metadata": {},
   "outputs": [
    {
     "data": {
      "text/plain": [
       "count                  237609\n",
       "unique                  36461\n",
       "top       2018-12-04 00:01:00\n",
       "freq                       46\n",
       "Name: impression_time, dtype: object"
      ]
     },
     "execution_count": 80,
     "metadata": {},
     "output_type": "execute_result"
    }
   ],
   "source": [
    "train.impression_time.describe()"
   ]
  },
  {
   "cell_type": "code",
   "execution_count": 88,
   "metadata": {},
   "outputs": [
    {
     "data": {
      "image/png": "[encoded data removed]",
      "text/plain": [
       "<Figure size 864x432 with 1 Axes>"
      ]
     },
     "metadata": {},
     "output_type": "display_data"
    }
   ],
   "source": [
    "train.groupby('Day').agg({'is_click':'sum'}).plot(figsize=(12,6))\n",
    "plt.ylabel('Number of clicks')\n",
    "plt.title('click trends by hour of day');"
   ]
  },
  {
   "cell_type": "code",
   "execution_count": 91,
   "metadata": {},
   "outputs": [
    {
     "data": {
      "image/png": "[encoded data removed]",
      "text/plain": [
       "<Figure size 864x432 with 1 Axes>"
      ]
     },
     "metadata": {},
     "output_type": "display_data"
    }
   ],
   "source": [
    "train.groupby('Weekday').agg({'is_click':'sum'}).plot(figsize=(12,6))\n",
    "plt.ylabel('Number of clicks')\n",
    "plt.title('Number of clicks by Hour');"
   ]
  },
  {
   "cell_type": "code",
   "execution_count": 87,
   "metadata": {},
   "outputs": [
    {
     "data": {
      "image/png": "[encoded data removed]",
      "text/plain": [
       "<Figure size 864x432 with 1 Axes>"
      ]
     },
     "metadata": {},
     "output_type": "display_data"
    }
   ],
   "source": [
    "train.groupby('Hour').agg({'is_click':'sum'}).plot(figsize=(12,6))\n",
    "plt.ylabel('Number of clicks')\n",
    "plt.title('Number of clicks by Hour');"
   ]
  },
  {
   "cell_type": "code",
   "execution_count": 218,
   "metadata": {},
   "outputs": [
    {
     "data": {
      "image/png": "[encoded data removed]",
      "text/plain": [
       "<Figure size 864x432 with 1 Axes>"
      ]
     },
     "metadata": {},
     "output_type": "display_data"
    }
   ],
   "source": [
    "train.groupby(['Weekday','is_click']).size().unstack().reindex().plot(kind='bar', title=\"Day of the Week\", figsize=(12,6))\n",
    "ticks = list(range(0, 7, 1)) # points on the x axis where you want the label to appear\n",
    "labels = \"Mon Tues Weds Thurs Fri Sat Sun\".split()\n",
    "plt.xticks(ticks, labels)\n",
    "plt.title('Impressions vs. clicks by day of week');"
   ]
  },
  {
   "cell_type": "code",
   "execution_count": 220,
   "metadata": {},
   "outputs": [
    {
     "data": {
      "image/png": "[encoded data removed]",
      "text/plain": [
       "<Figure size 864x432 with 1 Axes>"
      ]
     },
     "metadata": {},
     "output_type": "display_data"
    }
   ],
   "source": [
    "df_click = train[train['is_click'] == 1]\n",
    "df_dayofweek = train[['Weekday','is_click']].groupby(['Weekday']).count().reset_index()\n",
    "df_dayofweek = df_dayofweek.rename(columns={'is_click': 'impressions'})\n",
    "df_dayofweek['is_click'] = df_click[['Weekday','is_click']].groupby(['Weekday']).count().reset_index()['is_click']\n",
    "df_dayofweek['CTR'] = df_dayofweek['is_click']/df_dayofweek['impressions']*100\n",
    "plt.figure(figsize=(12,6))\n",
    "sns.barplot(y='CTR', x='Weekday', data=df_dayofweek, order=['Monday', 'Tuesday', 'Wednesday', 'Thursday', 'Friday', 'Saturday', 'Sunday'])\n",
    "plt.title('Day of week CTR');"
   ]
  },
  {
   "cell_type": "code",
   "execution_count": 20,
   "metadata": {},
   "outputs": [],
   "source": [
    "# Extract datetime variables using timestamp column\n",
    "train['impression_time_Timestamp'] = pd.to_datetime(train['impression_time']) \n",
    "# Converting timestamp column into datatime object in order to extract new features\n",
    "train['Month'] = train['impression_time_Timestamp'].dt.month \n",
    "# Creates a new column called Month\n",
    "train['Day'] = train['impression_time_Timestamp'].dt.day     \n",
    "# Creates a new column called Day\n",
    "train['Hour'] = train['impression_time_Timestamp'].dt.hour   \n",
    "# Creates a new column called Hour\n",
    "train[\"Weekday\"] = train['impression_time_Timestamp'].dt.dayofweek \n",
    "# Creates a new column called Weekday with sunday as 6 and monday as 0\n",
    "# Other way to create a weekday column\n",
    "#df['weekday'] = df['Timestamp'].apply(lambda x: x.weekday()) # Monday 0 .. sunday 6\n",
    "# Dropping timestamp column to avoid redundancy\n",
    "train = train.drop(['impression_time'], axis=1) # deleting timestamp"
   ]
  },
  {
   "cell_type": "code",
   "execution_count": 21,
   "metadata": {},
   "outputs": [],
   "source": [
    "# Extract datetime variables using timestamp column\n",
    "test['impression_time_Timestamp'] = pd.to_datetime(test['impression_time']) \n",
    "# Converting timestamp column into datatime object in order to extract new features\n",
    "test['Month'] = test['impression_time_Timestamp'].dt.month \n",
    "# Creates a new column called Month\n",
    "test['Day'] = test['impression_time_Timestamp'].dt.day     \n",
    "# Creates a new column called Day\n",
    "test['Hour'] = test['impression_time_Timestamp'].dt.hour   \n",
    "# Creates a new column called Hour\n",
    "test[\"Weekday\"] = test['impression_time_Timestamp'].dt.dayofweek \n",
    "# Creates a new column called Weekday with sunday as 6 and monday as 0\n",
    "# Other way to create a weekday column\n",
    "#df['weekday'] = df['Timestamp'].apply(lambda x: x.weekday()) # Monday 0 .. sunday 6\n",
    "# Dropping timestamp column to avoid redundancy\n",
    "test = test.drop(['impression_time'], axis=1) # deleting timestamp"
   ]
  },
  {
   "cell_type": "code",
   "execution_count": 89,
   "metadata": {},
   "outputs": [
    {
     "data": {
      "text/plain": [
       "<seaborn.axisgrid.PairGrid at 0x1d2208cb710>"
      ]
     },
     "execution_count": 89,
     "metadata": {},
     "output_type": "execute_result"
    },
    {
     "data": {
      "image/png": "[encoded data removed]",
      "text/plain": [
       "<Figure size 763.625x720 with 20 Axes>"
      ]
     },
     "metadata": {},
     "output_type": "display_data"
    }
   ],
   "source": [
    "# Creating a pairplot with hue defined by Clicked on Ad column\n",
    "sns.pairplot(train, hue = 'is_click', vars = ['os_version', 'is_4G', 'Weekday', 'Hour'], palette = 'husl')"
   ]
  },
  {
   "cell_type": "code",
   "execution_count": 313,
   "metadata": {},
   "outputs": [
    {
     "name": "stdout",
     "output_type": "stream",
     "text": [
      "(328284, 11)\n"
     ]
    },
    {
     "name": "stderr",
     "output_type": "stream",
     "text": [
      "C:\\ProgramData\\Anaconda3\\lib\\site-packages\\pandas\\core\\frame.py:6201: FutureWarning: Sorting because non-concatenation axis is not aligned. A future version\n",
      "of pandas will change to not sort by default.\n",
      "\n",
      "To accept the future behavior, pass 'sort=True'.\n",
      "\n",
      "To retain the current behavior and silence the warning, pass sort=False\n",
      "\n",
      "  sort=sort)\n"
     ]
    }
   ],
   "source": [
    "test['is_click'] = '0'\n",
    "df = train.append(test, ignore_index=True)\n",
    "print(df.shape)"
   ]
  },
  {
   "cell_type": "code",
   "execution_count": 22,
   "metadata": {},
   "outputs": [],
   "source": [
    "test['is_click'] = 0"
   ]
  },
  {
   "cell_type": "code",
   "execution_count": 146,
   "metadata": {},
   "outputs": [
    {
     "data": {
      "text/html": [
       "<div>\n",
       "<style scoped>\n",
       "    .dataframe tbody tr th:only-of-type {\n",
       "        vertical-align: middle;\n",
       "    }\n",
       "\n",
       "    .dataframe tbody tr th {\n",
       "        vertical-align: top;\n",
       "    }\n",
       "\n",
       "    .dataframe thead th {\n",
       "        text-align: right;\n",
       "    }\n",
       "</style>\n",
       "<table border=\"1\" class=\"dataframe\">\n",
       "  <thead>\n",
       "    <tr style=\"text-align: right;\">\n",
       "      <th></th>\n",
       "      <th>impression_id</th>\n",
       "      <th>user_id</th>\n",
       "      <th>app_code</th>\n",
       "      <th>os_version</th>\n",
       "      <th>is_4G</th>\n",
       "      <th>impression_time_Timestamp</th>\n",
       "      <th>Month</th>\n",
       "      <th>Day</th>\n",
       "      <th>Hour</th>\n",
       "      <th>Weekday</th>\n",
       "      <th>is_click</th>\n",
       "      <th>intermediate</th>\n",
       "      <th>latest</th>\n",
       "      <th>old</th>\n",
       "      <th>ad_pri</th>\n",
       "      <th>ad_click</th>\n",
       "    </tr>\n",
       "  </thead>\n",
       "  <tbody>\n",
       "    <tr>\n",
       "      <th>0</th>\n",
       "      <td>a9e7126a585a69a32bc7414e9d0c0ada</td>\n",
       "      <td>44754</td>\n",
       "      <td>127</td>\n",
       "      <td>latest</td>\n",
       "      <td>1</td>\n",
       "      <td>2018-12-13 07:44:00</td>\n",
       "      <td>12</td>\n",
       "      <td>13</td>\n",
       "      <td>7</td>\n",
       "      <td>3</td>\n",
       "      <td>0</td>\n",
       "      <td>0</td>\n",
       "      <td>1</td>\n",
       "      <td>0</td>\n",
       "      <td>1.0</td>\n",
       "      <td>1.0</td>\n",
       "    </tr>\n",
       "    <tr>\n",
       "      <th>1</th>\n",
       "      <td>caac14a5bf2ba283db7708bb34855760</td>\n",
       "      <td>29656</td>\n",
       "      <td>44</td>\n",
       "      <td>latest</td>\n",
       "      <td>0</td>\n",
       "      <td>2018-12-13 07:45:00</td>\n",
       "      <td>12</td>\n",
       "      <td>13</td>\n",
       "      <td>7</td>\n",
       "      <td>3</td>\n",
       "      <td>0</td>\n",
       "      <td>0</td>\n",
       "      <td>1</td>\n",
       "      <td>0</td>\n",
       "      <td>1.0</td>\n",
       "      <td>0.0</td>\n",
       "    </tr>\n",
       "    <tr>\n",
       "      <th>2</th>\n",
       "      <td>13f10ba306a19ce7bec2f3cae507b698</td>\n",
       "      <td>25234</td>\n",
       "      <td>296</td>\n",
       "      <td>latest</td>\n",
       "      <td>1</td>\n",
       "      <td>2018-12-13 07:46:00</td>\n",
       "      <td>12</td>\n",
       "      <td>13</td>\n",
       "      <td>7</td>\n",
       "      <td>3</td>\n",
       "      <td>0</td>\n",
       "      <td>0</td>\n",
       "      <td>1</td>\n",
       "      <td>0</td>\n",
       "      <td>1.0</td>\n",
       "      <td>1.0</td>\n",
       "    </tr>\n",
       "    <tr>\n",
       "      <th>3</th>\n",
       "      <td>39c4b4dc0e9701b55a0a4f072008fb3f</td>\n",
       "      <td>22988</td>\n",
       "      <td>207</td>\n",
       "      <td>latest</td>\n",
       "      <td>1</td>\n",
       "      <td>2018-12-13 07:47:00</td>\n",
       "      <td>12</td>\n",
       "      <td>13</td>\n",
       "      <td>7</td>\n",
       "      <td>3</td>\n",
       "      <td>0</td>\n",
       "      <td>0</td>\n",
       "      <td>1</td>\n",
       "      <td>0</td>\n",
       "      <td>1.0</td>\n",
       "      <td>1.0</td>\n",
       "    </tr>\n",
       "    <tr>\n",
       "      <th>4</th>\n",
       "      <td>bf5a572cca75f5fc67f4b14e58b11d70</td>\n",
       "      <td>35431</td>\n",
       "      <td>242</td>\n",
       "      <td>latest</td>\n",
       "      <td>1</td>\n",
       "      <td>2018-12-13 07:48:00</td>\n",
       "      <td>12</td>\n",
       "      <td>13</td>\n",
       "      <td>7</td>\n",
       "      <td>3</td>\n",
       "      <td>0</td>\n",
       "      <td>0</td>\n",
       "      <td>1</td>\n",
       "      <td>0</td>\n",
       "      <td>1.0</td>\n",
       "      <td>1.0</td>\n",
       "    </tr>\n",
       "  </tbody>\n",
       "</table>\n",
       "</div>"
      ],
      "text/plain": [
       "                      impression_id  user_id  app_code os_version  is_4G  \\\n",
       "0  a9e7126a585a69a32bc7414e9d0c0ada    44754       127     latest      1   \n",
       "1  caac14a5bf2ba283db7708bb34855760    29656        44     latest      0   \n",
       "2  13f10ba306a19ce7bec2f3cae507b698    25234       296     latest      1   \n",
       "3  39c4b4dc0e9701b55a0a4f072008fb3f    22988       207     latest      1   \n",
       "4  bf5a572cca75f5fc67f4b14e58b11d70    35431       242     latest      1   \n",
       "\n",
       "  impression_time_Timestamp  Month  Day  Hour  Weekday  is_click  \\\n",
       "0       2018-12-13 07:44:00     12   13     7        3         0   \n",
       "1       2018-12-13 07:45:00     12   13     7        3         0   \n",
       "2       2018-12-13 07:46:00     12   13     7        3         0   \n",
       "3       2018-12-13 07:47:00     12   13     7        3         0   \n",
       "4       2018-12-13 07:48:00     12   13     7        3         0   \n",
       "\n",
       "   intermediate  latest  old  ad_pri  ad_click  \n",
       "0             0       1    0     1.0       1.0  \n",
       "1             0       1    0     1.0       0.0  \n",
       "2             0       1    0     1.0       1.0  \n",
       "3             0       1    0     1.0       1.0  \n",
       "4             0       1    0     1.0       1.0  "
      ]
     },
     "execution_count": 146,
     "metadata": {},
     "output_type": "execute_result"
    }
   ],
   "source": [
    "test.head()"
   ]
  },
  {
   "cell_type": "code",
   "execution_count": 28,
   "metadata": {},
   "outputs": [],
   "source": [
    "test['ad_pri']=test['ad_pri'].astype(int)"
   ]
  },
  {
   "cell_type": "code",
   "execution_count": 29,
   "metadata": {},
   "outputs": [],
   "source": [
    "test['ad_click']=test['ad_click'].astype(int)"
   ]
  },
  {
   "cell_type": "code",
   "execution_count": 31,
   "metadata": {},
   "outputs": [
    {
     "data": {
      "text/plain": [
       "0"
      ]
     },
     "execution_count": 31,
     "metadata": {},
     "output_type": "execute_result"
    }
   ],
   "source": [
    "test['ad_pri'].isnull().sum()"
   ]
  },
  {
   "cell_type": "code",
   "execution_count": 26,
   "metadata": {},
   "outputs": [],
   "source": [
    "test['ad_pri'].fillna(0, inplace=True)"
   ]
  },
  {
   "cell_type": "code",
   "execution_count": 27,
   "metadata": {},
   "outputs": [],
   "source": [
    "test['ad_click'].fillna(0, inplace=True)"
   ]
  },
  {
   "cell_type": "code",
   "execution_count": 30,
   "metadata": {},
   "outputs": [
    {
     "data": {
      "text/plain": [
       "0"
      ]
     },
     "execution_count": 30,
     "metadata": {},
     "output_type": "execute_result"
    }
   ],
   "source": [
    "test['ad_click'].isnull().sum()"
   ]
  },
  {
   "cell_type": "code",
   "execution_count": 315,
   "metadata": {},
   "outputs": [
    {
     "data": {
      "text/html": [
       "<div>\n",
       "<style scoped>\n",
       "    .dataframe tbody tr th:only-of-type {\n",
       "        vertical-align: middle;\n",
       "    }\n",
       "\n",
       "    .dataframe tbody tr th {\n",
       "        vertical-align: top;\n",
       "    }\n",
       "\n",
       "    .dataframe thead th {\n",
       "        text-align: right;\n",
       "    }\n",
       "</style>\n",
       "<table border=\"1\" class=\"dataframe\">\n",
       "  <thead>\n",
       "    <tr style=\"text-align: right;\">\n",
       "      <th></th>\n",
       "      <th>Day</th>\n",
       "      <th>Hour</th>\n",
       "      <th>Month</th>\n",
       "      <th>Weekday</th>\n",
       "      <th>app_code</th>\n",
       "      <th>impression_id</th>\n",
       "      <th>impression_time_Timestamp</th>\n",
       "      <th>is_4G</th>\n",
       "      <th>is_click</th>\n",
       "      <th>os_version</th>\n",
       "      <th>user_id</th>\n",
       "    </tr>\n",
       "  </thead>\n",
       "  <tbody>\n",
       "  </tbody>\n",
       "</table>\n",
       "</div>"
      ],
      "text/plain": [
       "Empty DataFrame\n",
       "Columns: [Day, Hour, Month, Weekday, app_code, impression_id, impression_time_Timestamp, is_4G, is_click, os_version, user_id]\n",
       "Index: []"
      ]
     },
     "execution_count": 315,
     "metadata": {},
     "output_type": "execute_result"
    }
   ],
   "source": [
    "df[df['is_click']=='NA'].head()"
   ]
  },
  {
   "cell_type": "code",
   "execution_count": 32,
   "metadata": {},
   "outputs": [
    {
     "name": "stdout",
     "output_type": "stream",
     "text": [
      "(237609, 16)\n",
      "(90675, 16)\n"
     ]
    }
   ],
   "source": [
    "# One hot encoding for categorical variables\n",
    "temp = pd.get_dummies(train['os_version'])\n",
    "train = train.join(temp)\n",
    "print(train.shape)\n",
    "\n",
    "temp = pd.get_dummies(test['os_version'])\n",
    "test = test.join(temp)\n",
    "print(test.shape)\n"
   ]
  },
  {
   "cell_type": "code",
   "execution_count": 317,
   "metadata": {},
   "outputs": [],
   "source": [
    "# Droping loan_id, dates & other categorical variables \n",
    "df1 = df.drop(['impression_id','impression_time_Timestamp','os_version','user_id'],axis=1)"
   ]
  },
  {
   "cell_type": "code",
   "execution_count": 306,
   "metadata": {},
   "outputs": [
    {
     "data": {
      "text/html": [
       "<div>\n",
       "<style scoped>\n",
       "    .dataframe tbody tr th:only-of-type {\n",
       "        vertical-align: middle;\n",
       "    }\n",
       "\n",
       "    .dataframe tbody tr th {\n",
       "        vertical-align: top;\n",
       "    }\n",
       "\n",
       "    .dataframe thead th {\n",
       "        text-align: right;\n",
       "    }\n",
       "</style>\n",
       "<table border=\"1\" class=\"dataframe\">\n",
       "  <thead>\n",
       "    <tr style=\"text-align: right;\">\n",
       "      <th></th>\n",
       "      <th>Day</th>\n",
       "      <th>Hour</th>\n",
       "      <th>Month</th>\n",
       "      <th>Weekday</th>\n",
       "      <th>app_code</th>\n",
       "      <th>is_4G</th>\n",
       "      <th>is_click</th>\n",
       "      <th>intermediate</th>\n",
       "      <th>latest</th>\n",
       "      <th>old</th>\n",
       "    </tr>\n",
       "  </thead>\n",
       "  <tbody>\n",
       "    <tr>\n",
       "      <th>0</th>\n",
       "      <td>15</td>\n",
       "      <td>0</td>\n",
       "      <td>11</td>\n",
       "      <td>3</td>\n",
       "      <td>422</td>\n",
       "      <td>0</td>\n",
       "      <td>0</td>\n",
       "      <td>0</td>\n",
       "      <td>0</td>\n",
       "      <td>1</td>\n",
       "    </tr>\n",
       "    <tr>\n",
       "      <th>1</th>\n",
       "      <td>15</td>\n",
       "      <td>0</td>\n",
       "      <td>11</td>\n",
       "      <td>3</td>\n",
       "      <td>467</td>\n",
       "      <td>1</td>\n",
       "      <td>1</td>\n",
       "      <td>0</td>\n",
       "      <td>1</td>\n",
       "      <td>0</td>\n",
       "    </tr>\n",
       "    <tr>\n",
       "      <th>2</th>\n",
       "      <td>15</td>\n",
       "      <td>0</td>\n",
       "      <td>11</td>\n",
       "      <td>3</td>\n",
       "      <td>259</td>\n",
       "      <td>1</td>\n",
       "      <td>0</td>\n",
       "      <td>1</td>\n",
       "      <td>0</td>\n",
       "      <td>0</td>\n",
       "    </tr>\n",
       "    <tr>\n",
       "      <th>3</th>\n",
       "      <td>15</td>\n",
       "      <td>0</td>\n",
       "      <td>11</td>\n",
       "      <td>3</td>\n",
       "      <td>244</td>\n",
       "      <td>1</td>\n",
       "      <td>0</td>\n",
       "      <td>0</td>\n",
       "      <td>1</td>\n",
       "      <td>0</td>\n",
       "    </tr>\n",
       "    <tr>\n",
       "      <th>4</th>\n",
       "      <td>15</td>\n",
       "      <td>0</td>\n",
       "      <td>11</td>\n",
       "      <td>3</td>\n",
       "      <td>473</td>\n",
       "      <td>0</td>\n",
       "      <td>0</td>\n",
       "      <td>0</td>\n",
       "      <td>1</td>\n",
       "      <td>0</td>\n",
       "    </tr>\n",
       "  </tbody>\n",
       "</table>\n",
       "</div>"
      ],
      "text/plain": [
       "   Day  Hour  Month  Weekday  app_code  is_4G is_click  intermediate  latest  \\\n",
       "0   15     0     11        3       422      0        0             0       0   \n",
       "1   15     0     11        3       467      1        1             0       1   \n",
       "2   15     0     11        3       259      1        0             1       0   \n",
       "3   15     0     11        3       244      1        0             0       1   \n",
       "4   15     0     11        3       473      0        0             0       1   \n",
       "\n",
       "   old  \n",
       "0    1  \n",
       "1    0  \n",
       "2    0  \n",
       "3    0  \n",
       "4    0  "
      ]
     },
     "execution_count": 306,
     "metadata": {},
     "output_type": "execute_result"
    }
   ],
   "source": [
    "df1.head()"
   ]
  },
  {
   "cell_type": "code",
   "execution_count": 318,
   "metadata": {},
   "outputs": [],
   "source": [
    "cols=['Day', 'Hour', 'Month', 'Weekday', 'app_code', 'is_4G','intermediate', 'is_click','latest', 'old']"
   ]
  },
  {
   "cell_type": "code",
   "execution_count": 287,
   "metadata": {},
   "outputs": [
    {
     "data": {
      "text/html": [
       "<div>\n",
       "<style scoped>\n",
       "    .dataframe tbody tr th:only-of-type {\n",
       "        vertical-align: middle;\n",
       "    }\n",
       "\n",
       "    .dataframe tbody tr th {\n",
       "        vertical-align: top;\n",
       "    }\n",
       "\n",
       "    .dataframe thead th {\n",
       "        text-align: right;\n",
       "    }\n",
       "</style>\n",
       "<table border=\"1\" class=\"dataframe\">\n",
       "  <thead>\n",
       "    <tr style=\"text-align: right;\">\n",
       "      <th></th>\n",
       "      <th>impression_id</th>\n",
       "      <th>user_id</th>\n",
       "      <th>app_code</th>\n",
       "      <th>os_version</th>\n",
       "      <th>is_4G</th>\n",
       "      <th>is_click</th>\n",
       "      <th>impression_time_Timestamp</th>\n",
       "      <th>Month</th>\n",
       "      <th>Day</th>\n",
       "      <th>Hour</th>\n",
       "      <th>Weekday</th>\n",
       "    </tr>\n",
       "  </thead>\n",
       "  <tbody>\n",
       "    <tr>\n",
       "      <th>0</th>\n",
       "      <td>c4ca4238a0b923820dcc509a6f75849b</td>\n",
       "      <td>87862</td>\n",
       "      <td>422</td>\n",
       "      <td>old</td>\n",
       "      <td>0</td>\n",
       "      <td>0</td>\n",
       "      <td>2018-11-15 00:00:00</td>\n",
       "      <td>11</td>\n",
       "      <td>15</td>\n",
       "      <td>0</td>\n",
       "      <td>3</td>\n",
       "    </tr>\n",
       "    <tr>\n",
       "      <th>1</th>\n",
       "      <td>45c48cce2e2d7fbdea1afc51c7c6ad26</td>\n",
       "      <td>63410</td>\n",
       "      <td>467</td>\n",
       "      <td>latest</td>\n",
       "      <td>1</td>\n",
       "      <td>1</td>\n",
       "      <td>2018-11-15 00:01:00</td>\n",
       "      <td>11</td>\n",
       "      <td>15</td>\n",
       "      <td>0</td>\n",
       "      <td>3</td>\n",
       "    </tr>\n",
       "    <tr>\n",
       "      <th>2</th>\n",
       "      <td>70efdf2ec9b086079795c442636b55fb</td>\n",
       "      <td>71748</td>\n",
       "      <td>259</td>\n",
       "      <td>intermediate</td>\n",
       "      <td>1</td>\n",
       "      <td>0</td>\n",
       "      <td>2018-11-15 00:02:00</td>\n",
       "      <td>11</td>\n",
       "      <td>15</td>\n",
       "      <td>0</td>\n",
       "      <td>3</td>\n",
       "    </tr>\n",
       "    <tr>\n",
       "      <th>3</th>\n",
       "      <td>8e296a067a37563370ded05f5a3bf3ec</td>\n",
       "      <td>69209</td>\n",
       "      <td>244</td>\n",
       "      <td>latest</td>\n",
       "      <td>1</td>\n",
       "      <td>0</td>\n",
       "      <td>2018-11-15 00:02:00</td>\n",
       "      <td>11</td>\n",
       "      <td>15</td>\n",
       "      <td>0</td>\n",
       "      <td>3</td>\n",
       "    </tr>\n",
       "    <tr>\n",
       "      <th>4</th>\n",
       "      <td>182be0c5cdcd5072bb1864cdee4d3d6e</td>\n",
       "      <td>62873</td>\n",
       "      <td>473</td>\n",
       "      <td>latest</td>\n",
       "      <td>0</td>\n",
       "      <td>0</td>\n",
       "      <td>2018-11-15 00:02:00</td>\n",
       "      <td>11</td>\n",
       "      <td>15</td>\n",
       "      <td>0</td>\n",
       "      <td>3</td>\n",
       "    </tr>\n",
       "  </tbody>\n",
       "</table>\n",
       "</div>"
      ],
      "text/plain": [
       "                      impression_id  user_id  app_code    os_version  is_4G  \\\n",
       "0  c4ca4238a0b923820dcc509a6f75849b    87862       422           old      0   \n",
       "1  45c48cce2e2d7fbdea1afc51c7c6ad26    63410       467        latest      1   \n",
       "2  70efdf2ec9b086079795c442636b55fb    71748       259  intermediate      1   \n",
       "3  8e296a067a37563370ded05f5a3bf3ec    69209       244        latest      1   \n",
       "4  182be0c5cdcd5072bb1864cdee4d3d6e    62873       473        latest      0   \n",
       "\n",
       "   is_click impression_time_Timestamp  Month  Day  Hour  Weekday  \n",
       "0         0       2018-11-15 00:00:00     11   15     0        3  \n",
       "1         1       2018-11-15 00:01:00     11   15     0        3  \n",
       "2         0       2018-11-15 00:02:00     11   15     0        3  \n",
       "3         0       2018-11-15 00:02:00     11   15     0        3  \n",
       "4         0       2018-11-15 00:02:00     11   15     0        3  "
      ]
     },
     "execution_count": 287,
     "metadata": {},
     "output_type": "execute_result"
    }
   ],
   "source": [
    "train.head()"
   ]
  },
  {
   "cell_type": "code",
   "execution_count": 319,
   "metadata": {},
   "outputs": [],
   "source": [
    "train = df1.iloc[:237609,:][cols]\n",
    "test = df1.iloc[237609:,:][cols]"
   ]
  },
  {
   "cell_type": "code",
   "execution_count": 129,
   "metadata": {},
   "outputs": [
    {
     "data": {
      "text/plain": [
       "(Index(['impression_id', 'user_id', 'app_code', 'os_version', 'is_4G',\n",
       "        'is_click', 'ad_pri', 'ad_click', 'impression_time_Timestamp', 'Month',\n",
       "        'Day', 'Hour', 'Weekday', 'intermediate', 'latest', 'old'],\n",
       "       dtype='object'),\n",
       " Index(['impression_id', 'user_id', 'app_code', 'os_version', 'is_4G', 'ad_pri',\n",
       "        'ad_click', 'impression_time_Timestamp', 'Month', 'Day', 'Hour',\n",
       "        'Weekday', 'is_click', 'intermediate', 'latest', 'old'],\n",
       "       dtype='object'))"
      ]
     },
     "execution_count": 129,
     "metadata": {},
     "output_type": "execute_result"
    }
   ],
   "source": [
    "train.columns,test.columns"
   ]
  },
  {
   "cell_type": "code",
   "execution_count": 130,
   "metadata": {},
   "outputs": [],
   "source": [
    "\n",
    "from sklearn.preprocessing import MinMaxScaler\n",
    "\n",
    "# Fit on training data and scale test data\n",
    "scaler = MinMaxScaler()\n",
    "traindf = scaler.fit_transform(train.drop(columns = ['impression_id', 'user_id','os_version','impression_time_Timestamp'],axis=0))\n",
    "testdf = scaler.transform(test.drop(columns = ['impression_id', 'user_id','os_version','impression_time_Timestamp'],axis=0))\n",
    "\n",
    "traindf = pd.DataFrame(traindf, columns=['app_code','is_4G','is_click', 'ad_pri', 'ad_click','Month','Day','Hour','Weekday','intermediate','latest','old'])\n",
    "testdf = pd.DataFrame(testdf, columns=['app_code','is_4G','is_click', 'ad_pri', 'ad_click','Month','Day','Hour','Weekday','intermediate','latest','old'])"
   ]
  },
  {
   "cell_type": "code",
   "execution_count": 131,
   "metadata": {},
   "outputs": [
    {
     "name": "stdout",
     "output_type": "stream",
     "text": [
      "numeric_features:  (237609, 12) Index(['app_code', 'is_4G', 'is_click', 'ad_pri', 'ad_click', 'Month', 'Day',\n",
      "       'Hour', 'Weekday', 'intermediate', 'latest', 'old'],\n",
      "      dtype='object')\n",
      "categorical_features:  (237609, 0) Index([], dtype='object')\n"
     ]
    }
   ],
   "source": [
    "numerical_features = traindf.select_dtypes(include=np.number)\n",
    "categorical_features = traindf.select_dtypes(include=np.object)\n",
    "print(\"numeric_features: \", numerical_features.shape, numerical_features.columns)\n",
    "print(\"categorical_features: \", categorical_features.shape, categorical_features.columns)"
   ]
  },
  {
   "cell_type": "code",
   "execution_count": 133,
   "metadata": {},
   "outputs": [],
   "source": [
    "X=traindf.drop(columns=['is_click'],axis=0)\n",
    "y=traindf.is_click"
   ]
  },
  {
   "cell_type": "code",
   "execution_count": 134,
   "metadata": {},
   "outputs": [],
   "source": [
    "def simple_model(alg):\n",
    "\n",
    "    # splitting data into training and validation set\n",
    "    xtrain, xtest, ytrain, ytest = train_test_split(X,y, random_state=42, test_size=0.2)\n",
    "    model = alg\n",
    "    model.fit(xtrain, ytrain) # training the model\n",
    "#     prediction = model.predict_proba(xtest) # predicting on the validation set\n",
    "#     prediction_int = prediction[:,1] >= 0.3 # if prediction is greater than or equal to 0.3 than 1 else 0\n",
    "#     prediction_int = prediction_int.astype(np.int)\n",
    "\n",
    "    print(\"f1_score:\",f1_score(ytest, model.predict(xtest))) # calculating f1 score\n",
    "    #print(\"AUC:\",(ytest, model.predict(xtest))) # calculating f1 score\n",
    "    print(\"Accuracy on train data:\",model.score(xtrain,ytrain))\n",
    "    print(\"Accuracy on test data:\",model.score(xtest,ytest))"
   ]
  },
  {
   "cell_type": "code",
   "execution_count": 135,
   "metadata": {},
   "outputs": [
    {
     "name": "stdout",
     "output_type": "stream",
     "text": [
      "LR\n"
     ]
    },
    {
     "name": "stderr",
     "output_type": "stream",
     "text": [
      "C:\\ProgramData\\Anaconda3\\lib\\site-packages\\sklearn\\metrics\\classification.py:1135: UndefinedMetricWarning: F-score is ill-defined and being set to 0.0 due to no predicted samples.\n",
      "  'precision', 'predicted', average, warn_for)\n"
     ]
    },
    {
     "name": "stdout",
     "output_type": "stream",
     "text": [
      "f1_score: 0.0\n",
      "Accuracy on train data: 0.9541052255020069\n",
      "Accuracy on test data: 0.9550103110138463\n",
      "DTC\n",
      "f1_score: 0.08563619799574855\n",
      "Accuracy on train data: 0.9690457527342743\n",
      "Accuracy on test data: 0.9366398720592568\n",
      "RFC\n",
      "f1_score: 0.05577126720790681\n",
      "Accuracy on train data: 0.9657209593501923\n",
      "Accuracy on test data: 0.9437102815538067\n",
      "ETC\n",
      "f1_score: 0.05872072701852499\n",
      "Accuracy on train data: 0.9690457527342743\n",
      "Accuracy on test data: 0.9433315096165986\n",
      "ABC\n"
     ]
    },
    {
     "name": "stderr",
     "output_type": "stream",
     "text": [
      "C:\\ProgramData\\Anaconda3\\lib\\site-packages\\sklearn\\metrics\\classification.py:1135: UndefinedMetricWarning: F-score is ill-defined and being set to 0.0 due to no predicted samples.\n",
      "  'precision', 'predicted', average, warn_for)\n"
     ]
    },
    {
     "name": "stdout",
     "output_type": "stream",
     "text": [
      "f1_score: 0.0\n",
      "Accuracy on train data: 0.9541052255020069\n",
      "Accuracy on test data: 0.9550103110138463\n",
      "GBC\n"
     ]
    },
    {
     "name": "stderr",
     "output_type": "stream",
     "text": [
      "C:\\ProgramData\\Anaconda3\\lib\\site-packages\\sklearn\\metrics\\classification.py:1135: UndefinedMetricWarning: F-score is ill-defined and being set to 0.0 due to no predicted samples.\n",
      "  'precision', 'predicted', average, warn_for)\n"
     ]
    },
    {
     "name": "stdout",
     "output_type": "stream",
     "text": [
      "f1_score: 0.0\n",
      "Accuracy on train data: 0.9541104862510325\n",
      "Accuracy on test data: 0.9550103110138463\n"
     ]
    }
   ],
   "source": [
    "algs = [LogisticRegression(),DecisionTreeClassifier(),RandomForestClassifier(),ExtraTreesClassifier(),AdaBoostClassifier(),GradientBoostingClassifier()]\n",
    "algs_lst = ['LR','DTC','RFC','ETC','ABC','GBC']\n",
    "for alg,l in zip(algs,algs_lst):\n",
    "    print(l)\n",
    "    simple_model(alg=alg)"
   ]
  },
  {
   "cell_type": "code",
   "execution_count": 138,
   "metadata": {},
   "outputs": [
    {
     "name": "stdout",
     "output_type": "stream",
     "text": [
      "[[44362  1022]\n",
      " [ 1999   139]]\n"
     ]
    }
   ],
   "source": [
    "# Confusion Matrix (on AdaBoostClassifier)\n",
    "from sklearn.metrics import confusion_matrix\n",
    "xtrain, xtest, ytrain, ytest = train_test_split(X,y, random_state=42, test_size=0.2)\n",
    "model = DecisionTreeClassifier()\n",
    "model.fit(xtrain, ytrain)\n",
    "ypred = model.predict(xtest)\n",
    "confusion_matrix = confusion_matrix(ytest,ypred)\n",
    "print(confusion_matrix)"
   ]
  },
  {
   "cell_type": "code",
   "execution_count": 139,
   "metadata": {},
   "outputs": [
    {
     "name": "stdout",
     "output_type": "stream",
     "text": [
      "             precision    recall  f1-score   support\n",
      "\n",
      "        0.0       0.96      0.98      0.97     45384\n",
      "        1.0       0.12      0.07      0.08      2138\n",
      "\n",
      "avg / total       0.92      0.94      0.93     47522\n",
      "\n"
     ]
    }
   ],
   "source": [
    "from sklearn.metrics import classification_report\n",
    "print(classification_report(ytest,ypred))"
   ]
  },
  {
   "cell_type": "code",
   "execution_count": 140,
   "metadata": {},
   "outputs": [
    {
     "data": {
      "image/png": "[encoded data removed]",
      "text/plain": [
       "<Figure size 432x288 with 1 Axes>"
      ]
     },
     "metadata": {},
     "output_type": "display_data"
    }
   ],
   "source": [
    "from sklearn.metrics import roc_auc_score, roc_curve\n",
    "\n",
    "auc = roc_auc_score(ytest, ypred)\n",
    "fpr, tpr, thresholds = roc_curve(ytest, ypred)\n",
    "plt.figure()\n",
    "plt.plot(fpr, tpr, label='RF Classifier (area = %0.2f)' % auc)\n",
    "plt.plot([0, 1], [0, 1],'r--')\n",
    "plt.xlim([0.0, 1.0])\n",
    "plt.ylim([0.0, 1.05])\n",
    "plt.xlabel('False Positive Rate'), plt.ylabel('True Positive Rate'), plt.title('Receiver operating characteristic')\n",
    "plt.legend(loc=\"lower right\")\n",
    "# plt.savefig('Log_ROC')\n",
    "plt.show()"
   ]
  },
  {
   "cell_type": "code",
   "execution_count": null,
   "metadata": {},
   "outputs": [],
   "source": []
  },
  {
   "cell_type": "code",
   "execution_count": 141,
   "metadata": {},
   "outputs": [],
   "source": [
    "model = DecisionTreeClassifier(random_state=10)\n",
    "model.fit(X, y)\n",
    "ypred = model.predict(xtest)"
   ]
  },
  {
   "cell_type": "code",
   "execution_count": 142,
   "metadata": {},
   "outputs": [],
   "source": [
    "train_pred=model.predict(train.drop(columns=['impression_id','impression_time_Timestamp','os_version','user_id','is_click'],axis=0))"
   ]
  },
  {
   "cell_type": "code",
   "execution_count": 143,
   "metadata": {},
   "outputs": [],
   "source": [
    "test_pred=model.predict(test.drop(columns=['impression_id','impression_time_Timestamp','os_version','user_id','is_click'],axis=0))"
   ]
  },
  {
   "cell_type": "code",
   "execution_count": 144,
   "metadata": {},
   "outputs": [],
   "source": [
    "sample_submission1=sample_submission"
   ]
  },
  {
   "cell_type": "code",
   "execution_count": 145,
   "metadata": {},
   "outputs": [],
   "source": [
    "sample_submission1[\"is_click\"]=test_pred.astype(int)"
   ]
  },
  {
   "cell_type": "code",
   "execution_count": 146,
   "metadata": {},
   "outputs": [
    {
     "data": {
      "text/plain": [
       "0    80470\n",
       "1    10205\n",
       "Name: is_click, dtype: int64"
      ]
     },
     "execution_count": 146,
     "metadata": {},
     "output_type": "execute_result"
    }
   ],
   "source": [
    "sample_submission1['is_click'].value_counts()"
   ]
  },
  {
   "cell_type": "code",
   "execution_count": 147,
   "metadata": {},
   "outputs": [],
   "source": [
    "sample_submission1.to_csv(\"sample_submissiondt1.csv\",index=False)"
   ]
  },
  {
   "cell_type": "code",
   "execution_count": 449,
   "metadata": {},
   "outputs": [
    {
     "name": "stdout",
     "output_type": "stream",
     "text": [
      "(190087, 9)\n"
     ]
    },
    {
     "data": {
      "text/plain": [
       "GridSearchCV(cv=None, error_score='raise',\n",
       "       estimator=LogisticRegression(C=1.0, class_weight=None, dual=False, fit_intercept=True,\n",
       "          intercept_scaling=1, max_iter=100, multi_class='ovr', n_jobs=1,\n",
       "          penalty='l2', random_state=None, solver='liblinear', tol=0.0001,\n",
       "          verbose=0, warm_start=False),\n",
       "       fit_params=None, iid=True, n_jobs=8,\n",
       "       param_grid={'C': [0.001, 0.01, 0.1, 1, 5, 10], 'penalty': ['l1', 'l2'], 'class_weight': ['balanced']},\n",
       "       pre_dispatch='2*n_jobs', refit=True, return_train_score='warn',\n",
       "       scoring='f1_macro', verbose=0)"
      ]
     },
     "execution_count": 449,
     "metadata": {},
     "output_type": "execute_result"
    }
   ],
   "source": [
    "\n",
    "# using gridsearch & cross validation, hypertune best parameters of Logistic Regression\n",
    "from sklearn.model_selection import GridSearchCV, RandomizedSearchCV\n",
    "xtrain, xtest, ytrain, ytest = train_test_split(X,y, random_state=42, test_size=0.2)\n",
    "print(xtrain.shape)\n",
    "model = LogisticRegression()\n",
    "grid = {'C':[0.001,0.01,0.1,1,5,10],\n",
    "       'penalty':['l1','l2'],\n",
    "        'class_weight':['balanced']}\n",
    "# cv = KFold(n_splits = 10, shuffle=True, random_state = 7)\n",
    "clf = GridSearchCV(model, grid, n_jobs=8, cv=None,scoring='f1_macro')\n",
    "clf.fit(xtrain, ytrain)"
   ]
  },
  {
   "cell_type": "code",
   "execution_count": 450,
   "metadata": {},
   "outputs": [
    {
     "data": {
      "text/plain": [
       "(0.39331771463041715, {'C': 0.1, 'class_weight': 'balanced', 'penalty': 'l1'})"
      ]
     },
     "execution_count": 450,
     "metadata": {},
     "output_type": "execute_result"
    }
   ],
   "source": [
    "clf.best_score_, clf.best_params_"
   ]
  },
  {
   "cell_type": "code",
   "execution_count": 190,
   "metadata": {},
   "outputs": [
    {
     "name": "stdout",
     "output_type": "stream",
     "text": [
      "f1_score: 0.08851740202795287\n",
      "Accuracy on train data: 0.5266746279335252\n",
      "Accuracy on test data: 0.5284920668322041\n"
     ]
    }
   ],
   "source": [
    "model = LogisticRegression(C= 0.1, class_weight= 'balanced', penalty= 'l1')\n",
    "model.fit(xtrain, ytrain)\n",
    "# ypred = model.predict(xtest)\n",
    "prediction = model.predict_proba(xtest) # predicting on the validation set\n",
    "prediction_int = prediction[:,1] >= 0.55 # if prediction is greater than or equal to 0.3 than 1 else 0\n",
    "ypred = prediction_int.astype(np.int)\n",
    "\n",
    "print(\"f1_score:\",f1_score(ytest, ypred)) # calculating f1 score\n",
    "print(\"Accuracy on train data:\",model.score(xtrain,ytrain))\n",
    "print(\"Accuracy on test data:\",model.score(xtest,ytest))"
   ]
  },
  {
   "cell_type": "code",
   "execution_count": 191,
   "metadata": {},
   "outputs": [
    {
     "data": {
      "text/html": [
       "<div>\n",
       "<style scoped>\n",
       "    .dataframe tbody tr th:only-of-type {\n",
       "        vertical-align: middle;\n",
       "    }\n",
       "\n",
       "    .dataframe tbody tr th {\n",
       "        vertical-align: top;\n",
       "    }\n",
       "\n",
       "    .dataframe thead th {\n",
       "        text-align: right;\n",
       "    }\n",
       "</style>\n",
       "<table border=\"1\" class=\"dataframe\">\n",
       "  <thead>\n",
       "    <tr style=\"text-align: right;\">\n",
       "      <th>is_click</th>\n",
       "      <th>0.0</th>\n",
       "      <th>1.0</th>\n",
       "    </tr>\n",
       "    <tr>\n",
       "      <th>row_0</th>\n",
       "      <th></th>\n",
       "      <th></th>\n",
       "    </tr>\n",
       "  </thead>\n",
       "  <tbody>\n",
       "    <tr>\n",
       "      <th>0</th>\n",
       "      <td>40547</td>\n",
       "      <td>1815</td>\n",
       "    </tr>\n",
       "    <tr>\n",
       "      <th>1</th>\n",
       "      <td>4837</td>\n",
       "      <td>323</td>\n",
       "    </tr>\n",
       "  </tbody>\n",
       "</table>\n",
       "</div>"
      ],
      "text/plain": [
       "is_click    0.0   1.0\n",
       "row_0                \n",
       "0         40547  1815\n",
       "1          4837   323"
      ]
     },
     "execution_count": 191,
     "metadata": {},
     "output_type": "execute_result"
    }
   ],
   "source": [
    "pd.crosstab(ypred,ytest)"
   ]
  },
  {
   "cell_type": "code",
   "execution_count": 192,
   "metadata": {},
   "outputs": [
    {
     "name": "stdout",
     "output_type": "stream",
     "text": [
      "             precision    recall  f1-score   support\n",
      "\n",
      "        0.0       0.96      0.89      0.92     45384\n",
      "        1.0       0.06      0.15      0.09      2138\n",
      "\n",
      "avg / total       0.92      0.86      0.89     47522\n",
      "\n"
     ]
    }
   ],
   "source": [
    "print(classification_report(ytest,ypred))"
   ]
  },
  {
   "cell_type": "code",
   "execution_count": 200,
   "metadata": {},
   "outputs": [
    {
     "data": {
      "image/png": "[encoded data removed]",
      "text/plain": [
       "<Figure size 432x288 with 1 Axes>"
      ]
     },
     "metadata": {},
     "output_type": "display_data"
    }
   ],
   "source": [
    "from sklearn.metrics import roc_auc_score, roc_curve\n",
    "\n",
    "auc = roc_auc_score(ytest, ypred)\n",
    "fpr, tpr, thresholds = roc_curve(ytest, ypred)\n",
    "plt.figure()\n",
    "plt.plot(fpr, tpr, label='Logistic Classifier (area = %0.2f)' % auc)\n",
    "plt.plot([0, 1], [0, 1],'r--')\n",
    "plt.xlim([0.0, 1.0])\n",
    "plt.ylim([0.0, 1.05])\n",
    "plt.xlabel('False Positive Rate'), plt.ylabel('True Positive Rate'), plt.title('Receiver operating characteristic')\n",
    "plt.legend(loc=\"lower right\")\n",
    "# plt.savefig('Log_ROC')\n",
    "plt.show()"
   ]
  },
  {
   "cell_type": "code",
   "execution_count": 208,
   "metadata": {},
   "outputs": [],
   "source": [
    "model = LogisticRegression(C= 0.1, class_weight='balanced' penalty= 'l1')\n",
    "model.fit(X, y)\n",
    "ypred = model.predict(xtest)"
   ]
  },
  {
   "cell_type": "code",
   "execution_count": 209,
   "metadata": {},
   "outputs": [],
   "source": [
    "train_pred=model.predict(train.drop(columns=['is_click'],axis=0))"
   ]
  },
  {
   "cell_type": "code",
   "execution_count": 210,
   "metadata": {},
   "outputs": [],
   "source": [
    "test_pred=model.predict(test.drop(columns=['is_click'],axis=0))"
   ]
  },
  {
   "cell_type": "code",
   "execution_count": 212,
   "metadata": {},
   "outputs": [],
   "source": [
    "sample_submission1[\"is_click\"]=test_pred.astype(int)"
   ]
  },
  {
   "cell_type": "code",
   "execution_count": 211,
   "metadata": {},
   "outputs": [],
   "source": [
    "sample_submission1=sample_submission"
   ]
  },
  {
   "cell_type": "code",
   "execution_count": 213,
   "metadata": {},
   "outputs": [
    {
     "data": {
      "text/plain": [
       "1    90675\n",
       "Name: is_click, dtype: int64"
      ]
     },
     "execution_count": 213,
     "metadata": {},
     "output_type": "execute_result"
    }
   ],
   "source": [
    "sample_submission1['is_click'].value_counts()"
   ]
  },
  {
   "cell_type": "code",
   "execution_count": 207,
   "metadata": {},
   "outputs": [],
   "source": [
    "sample_submission1.to_csv(\"sample_submissionlg4.csv\",index=False)"
   ]
  },
  {
   "cell_type": "code",
   "execution_count": null,
   "metadata": {},
   "outputs": [],
   "source": []
  },
  {
   "cell_type": "code",
   "execution_count": null,
   "metadata": {},
   "outputs": [],
   "source": [
    "#Grid Search and Random search for RF"
   ]
  },
  {
   "cell_type": "code",
   "execution_count": null,
   "metadata": {},
   "outputs": [
    {
     "name": "stdout",
     "output_type": "stream",
     "text": [
      "Fitting 3 folds for each of 1980 candidates, totalling 5940 fits\n"
     ]
    },
    {
     "name": "stderr",
     "output_type": "stream",
     "text": [
      "[Parallel(n_jobs=8)]: Done  25 tasks      | elapsed:  2.3min\n",
      "[Parallel(n_jobs=8)]: Done 146 tasks      | elapsed:  5.3min\n"
     ]
    }
   ],
   "source": [
    "from sklearn.model_selection import GridSearchCV, RandomizedSearchCV\n",
    "xtrain, xtest, ytrain, ytest = train_test_split(X, y, random_state=42, test_size=0.2)\n",
    "model = RandomForestClassifier()\n",
    "grid = {'n_estimators': [10,20,30,50,100],\n",
    "        #'learning_rate':[0.4,0.5,0.6,0.7],\n",
    "        'max_features' : ['auto', 'sqrt'],\n",
    "        'max_depth' : [int(x) for x in np.linspace(10, 110, num = 11)],\n",
    "        'min_samples_split' : [2, 5, 10],\n",
    "        'min_samples_leaf' : [1, 2, 4],\n",
    "        'bootstrap' : [True, False],\n",
    "        \n",
    "       }\n",
    "#         'learning_rate' : [0.5,0.52,0.54,0.56,0.58,0.6,0.62,0.64,0.66,0.68,0.7]}\n",
    "# cv = KFold(n_splits = 10, shuffle=True, random_state = 7)\n",
    "clf = GridSearchCV(model, grid, n_jobs=8, cv=None,scoring='f1_macro',verbose=2)\n",
    "clf.fit(xtrain, ytrain)"
   ]
  },
  {
   "cell_type": "code",
   "execution_count": 463,
   "metadata": {},
   "outputs": [
    {
     "data": {
      "text/plain": [
       "(0.48825683133663805, {'learning_rate': 0.4, 'n_estimators': 10})"
      ]
     },
     "execution_count": 463,
     "metadata": {},
     "output_type": "execute_result"
    }
   ],
   "source": [
    "\n",
    "clf.best_score_, clf.best_params_"
   ]
  },
  {
   "cell_type": "code",
   "execution_count": 464,
   "metadata": {},
   "outputs": [
    {
     "name": "stdout",
     "output_type": "stream",
     "text": [
      "0.48825683133663805 8.941877859154185e-08 {'learning_rate': 0.4, 'n_estimators': 10}\n",
      "0.48825683133663805 8.941877859154185e-08 {'learning_rate': 0.4, 'n_estimators': 20}\n",
      "0.48825683133663805 8.941877859154185e-08 {'learning_rate': 0.4, 'n_estimators': 30}\n",
      "0.48825683133663805 8.941877859154185e-08 {'learning_rate': 0.4, 'n_estimators': 50}\n",
      "0.48825683133663805 8.941877859154185e-08 {'learning_rate': 0.4, 'n_estimators': 100}\n",
      "0.48825683133663805 8.941877859154185e-08 {'learning_rate': 0.5, 'n_estimators': 10}\n",
      "0.48825683133663805 8.941877859154185e-08 {'learning_rate': 0.5, 'n_estimators': 20}\n",
      "0.48825683133663805 8.941877859154185e-08 {'learning_rate': 0.5, 'n_estimators': 30}\n",
      "0.48825683133663805 8.941877859154185e-08 {'learning_rate': 0.5, 'n_estimators': 50}\n",
      "0.48825683133663805 8.941877859154185e-08 {'learning_rate': 0.5, 'n_estimators': 100}\n",
      "0.48825683133663805 8.941877859154185e-08 {'learning_rate': 0.6, 'n_estimators': 10}\n",
      "0.48825683133663805 8.941877859154185e-08 {'learning_rate': 0.6, 'n_estimators': 20}\n",
      "0.48825683133663805 8.941877859154185e-08 {'learning_rate': 0.6, 'n_estimators': 30}\n",
      "0.48825683133663805 8.941877859154185e-08 {'learning_rate': 0.6, 'n_estimators': 50}\n",
      "0.48825683133663805 8.941877859154185e-08 {'learning_rate': 0.6, 'n_estimators': 100}\n",
      "0.48825683133663805 8.941877859154185e-08 {'learning_rate': 0.7, 'n_estimators': 10}\n",
      "0.48825683133663805 8.941877859154185e-08 {'learning_rate': 0.7, 'n_estimators': 20}\n",
      "0.48825683133663805 8.941877859154185e-08 {'learning_rate': 0.7, 'n_estimators': 30}\n",
      "0.48825683133663805 8.941877859154185e-08 {'learning_rate': 0.7, 'n_estimators': 50}\n",
      "0.48825683133663805 8.941877859154185e-08 {'learning_rate': 0.7, 'n_estimators': 100}\n"
     ]
    }
   ],
   "source": [
    "means = clf.cv_results_['mean_test_score']\n",
    "stds = clf.cv_results_['std_test_score']\n",
    "params = clf.cv_results_['params']\n",
    "for m,s,p in zip(means,stds,params):\n",
    "    print(m,s,p)"
   ]
  },
  {
   "cell_type": "code",
   "execution_count": 169,
   "metadata": {},
   "outputs": [
    {
     "name": "stdout",
     "output_type": "stream",
     "text": [
      "f1_score: 0.05567765567765567\n",
      "Accuracy on train data: 0.965847217326803\n",
      "Accuracy on test data: 0.9432683809603973\n"
     ]
    }
   ],
   "source": [
    "model = RandomForestClassifier()\n",
    "model.fit(xtrain, ytrain)\n",
    "# ypred = model.predict(xtest)\n",
    "prediction = model.predict_proba(xtest) # predicting on the validation set\n",
    "prediction_int = prediction[:,1] >= 0.56 # if prediction is greater than or equal to 0.3 than 1 else 0\n",
    "ypred = prediction_int.astype(np.int)\n",
    "\n",
    "print(\"f1_score:\",f1_score(ytest, ypred)) # calculating f1 score\n",
    "print(\"Accuracy on train data:\",model.score(xtrain,ytrain))\n",
    "print(\"Accuracy on test data:\",model.score(xtest,ytest))"
   ]
  },
  {
   "cell_type": "code",
   "execution_count": 182,
   "metadata": {},
   "outputs": [
    {
     "name": "stderr",
     "output_type": "stream",
     "text": [
      "C:\\ProgramData\\Anaconda3\\lib\\site-packages\\sklearn\\preprocessing\\label.py:151: DeprecationWarning: The truth value of an empty array is ambiguous. Returning False, but in future this will result in an error. Use `array.size > 0` to check that an array is not empty.\n",
      "  if diff:\n"
     ]
    },
    {
     "data": {
      "text/html": [
       "<div>\n",
       "<style scoped>\n",
       "    .dataframe tbody tr th:only-of-type {\n",
       "        vertical-align: middle;\n",
       "    }\n",
       "\n",
       "    .dataframe tbody tr th {\n",
       "        vertical-align: top;\n",
       "    }\n",
       "\n",
       "    .dataframe thead th {\n",
       "        text-align: right;\n",
       "    }\n",
       "</style>\n",
       "<table border=\"1\" class=\"dataframe\">\n",
       "  <thead>\n",
       "    <tr style=\"text-align: right;\">\n",
       "      <th>col_0</th>\n",
       "      <th>0.0</th>\n",
       "      <th>1.0</th>\n",
       "    </tr>\n",
       "    <tr>\n",
       "      <th>is_click</th>\n",
       "      <th></th>\n",
       "      <th></th>\n",
       "    </tr>\n",
       "  </thead>\n",
       "  <tbody>\n",
       "    <tr>\n",
       "      <th>0.0</th>\n",
       "      <td>45339</td>\n",
       "      <td>45</td>\n",
       "    </tr>\n",
       "    <tr>\n",
       "      <th>1.0</th>\n",
       "      <td>2127</td>\n",
       "      <td>11</td>\n",
       "    </tr>\n",
       "  </tbody>\n",
       "</table>\n",
       "</div>"
      ],
      "text/plain": [
       "col_0       0.0  1.0\n",
       "is_click            \n",
       "0.0       45339   45\n",
       "1.0        2127   11"
      ]
     },
     "execution_count": 182,
     "metadata": {},
     "output_type": "execute_result"
    }
   ],
   "source": [
    "import xgboost as xgb\n",
    "model_xg = xgb.XGBClassifier( learning_rate = 0.9,\n",
    "           max_depth = 8,\n",
    "          gamma = 1.1,\n",
    "          alpha = 10,\n",
    "          n_estimators = 200,objective = 'multi:softmax',num_class = 2,eval_metric ='merror',colsample_bytree = 0.7,n_jobs =-1)\n",
    "model_xg.fit(xtrain,ytrain)\n",
    "predict_xg = model_xg.predict(xtest)\n",
    "pd.crosstab(ytest,predict_xg)\n",
    "#predict_xg_t = model_xg.predict(train)"
   ]
  },
  {
   "cell_type": "code",
   "execution_count": 183,
   "metadata": {},
   "outputs": [
    {
     "name": "stdout",
     "output_type": "stream",
     "text": [
      "             precision    recall  f1-score   support\n",
      "\n",
      "        0.0       0.96      1.00      0.98     45384\n",
      "        1.0       0.20      0.01      0.01      2138\n",
      "\n",
      "avg / total       0.92      0.95      0.93     47522\n",
      "\n"
     ]
    }
   ],
   "source": [
    "print (classification_report(ytest,predict_xg))"
   ]
  },
  {
   "cell_type": "code",
   "execution_count": 185,
   "metadata": {},
   "outputs": [
    {
     "ename": "ModuleNotFoundError",
     "evalue": "No module named 'catboost'",
     "output_type": "error",
     "traceback": [
      "\u001b[1;31m---------------------------------------------------------------------------\u001b[0m",
      "\u001b[1;31mModuleNotFoundError\u001b[0m                       Traceback (most recent call last)",
      "\u001b[1;32m<ipython-input-185-4ab83942259b>\u001b[0m in \u001b[0;36m<module>\u001b[1;34m()\u001b[0m\n\u001b[0;32m      1\u001b[0m \u001b[1;31m# cat boost model\u001b[0m\u001b[1;33m\u001b[0m\u001b[1;33m\u001b[0m\u001b[0m\n\u001b[1;32m----> 2\u001b[1;33m \u001b[1;32mfrom\u001b[0m \u001b[0mcatboost\u001b[0m \u001b[1;32mimport\u001b[0m \u001b[0mCatBoostClassifier\u001b[0m\u001b[1;33m\u001b[0m\u001b[0m\n\u001b[0m\u001b[0;32m      3\u001b[0m \u001b[0mmodel_cb\u001b[0m \u001b[1;33m=\u001b[0m \u001b[0mCatBoostClassifier\u001b[0m\u001b[1;33m(\u001b[0m\u001b[0mlearning_rate\u001b[0m \u001b[1;33m=\u001b[0m \u001b[1;36m0.01\u001b[0m\u001b[1;33m,\u001b[0m\u001b[0miterations\u001b[0m \u001b[1;33m=\u001b[0m \u001b[1;36m800\u001b[0m\u001b[1;33m,\u001b[0m\u001b[0mdepth\u001b[0m \u001b[1;33m=\u001b[0m\u001b[1;36m7\u001b[0m\u001b[1;33m,\u001b[0m \u001b[0meval_metric\u001b[0m \u001b[1;33m=\u001b[0m \u001b[1;34m'F1'\u001b[0m\u001b[1;33m)\u001b[0m\u001b[1;33m.\u001b[0m\u001b[0mfit\u001b[0m\u001b[1;33m(\u001b[0m\u001b[0mxtrain\u001b[0m\u001b[1;33m,\u001b[0m\u001b[0mytrain\u001b[0m\u001b[1;33m)\u001b[0m\u001b[1;33m\u001b[0m\u001b[0m\n\u001b[0;32m      4\u001b[0m \u001b[0mpredict_cb\u001b[0m \u001b[1;33m=\u001b[0m \u001b[0mmodel_cb\u001b[0m\u001b[1;33m.\u001b[0m\u001b[0mpredict\u001b[0m\u001b[1;33m(\u001b[0m\u001b[0mxtest\u001b[0m\u001b[1;33m)\u001b[0m\u001b[1;33m\u001b[0m\u001b[0m\n\u001b[0;32m      5\u001b[0m \u001b[0mpredict_cb\u001b[0m \u001b[1;33m=\u001b[0m \u001b[0mpredict_cb\u001b[0m\u001b[1;33m.\u001b[0m\u001b[0mflatten\u001b[0m\u001b[1;33m(\u001b[0m\u001b[1;33m)\u001b[0m\u001b[1;33m\u001b[0m\u001b[0m\n",
      "\u001b[1;31mModuleNotFoundError\u001b[0m: No module named 'catboost'"
     ]
    }
   ],
   "source": [
    "# cat boost model\n",
    "from catboost import CatBoostClassifier\n",
    "model_cb = CatBoostClassifier(learning_rate = 0.01,iterations = 800,depth =7, eval_metric = 'F1').fit(xtrain,ytrain)\n",
    "predict_cb = model_cb.predict(xtest)\n",
    "predict_cb = predict_cb.flatten()\n",
    "pd.crosstab(ytest,predict_cb)"
   ]
  },
  {
   "cell_type": "code",
   "execution_count": null,
   "metadata": {},
   "outputs": [],
   "source": []
  },
  {
   "cell_type": "code",
   "execution_count": 170,
   "metadata": {},
   "outputs": [
    {
     "data": {
      "text/html": [
       "<div>\n",
       "<style scoped>\n",
       "    .dataframe tbody tr th:only-of-type {\n",
       "        vertical-align: middle;\n",
       "    }\n",
       "\n",
       "    .dataframe tbody tr th {\n",
       "        vertical-align: top;\n",
       "    }\n",
       "\n",
       "    .dataframe thead th {\n",
       "        text-align: right;\n",
       "    }\n",
       "</style>\n",
       "<table border=\"1\" class=\"dataframe\">\n",
       "  <thead>\n",
       "    <tr style=\"text-align: right;\">\n",
       "      <th>is_click</th>\n",
       "      <th>0.0</th>\n",
       "      <th>1.0</th>\n",
       "    </tr>\n",
       "    <tr>\n",
       "      <th>row_0</th>\n",
       "      <th></th>\n",
       "      <th></th>\n",
       "    </tr>\n",
       "  </thead>\n",
       "  <tbody>\n",
       "    <tr>\n",
       "      <th>0</th>\n",
       "      <td>44868</td>\n",
       "      <td>2062</td>\n",
       "    </tr>\n",
       "    <tr>\n",
       "      <th>1</th>\n",
       "      <td>516</td>\n",
       "      <td>76</td>\n",
       "    </tr>\n",
       "  </tbody>\n",
       "</table>\n",
       "</div>"
      ],
      "text/plain": [
       "is_click    0.0   1.0\n",
       "row_0                \n",
       "0         44868  2062\n",
       "1           516    76"
      ]
     },
     "execution_count": 170,
     "metadata": {},
     "output_type": "execute_result"
    }
   ],
   "source": [
    "\n",
    "pd.crosstab(ypred,ytest)"
   ]
  },
  {
   "cell_type": "code",
   "execution_count": 171,
   "metadata": {},
   "outputs": [
    {
     "name": "stdout",
     "output_type": "stream",
     "text": [
      "             precision    recall  f1-score   support\n",
      "\n",
      "        0.0       0.96      0.99      0.97     45384\n",
      "        1.0       0.13      0.04      0.06      2138\n",
      "\n",
      "avg / total       0.92      0.95      0.93     47522\n",
      "\n"
     ]
    }
   ],
   "source": [
    "from sklearn.metrics import classification_report\n",
    "print(classification_report(ytest,ypred))"
   ]
  },
  {
   "cell_type": "code",
   "execution_count": 172,
   "metadata": {},
   "outputs": [
    {
     "name": "stdout",
     "output_type": "stream",
     "text": [
      "             precision    recall  f1-score   support\n",
      "\n",
      "        0.0       0.96      0.99      0.97     45384\n",
      "        1.0       0.13      0.04      0.06      2138\n",
      "\n",
      "avg / total       0.92      0.95      0.93     47522\n",
      "\n"
     ]
    }
   ],
   "source": [
    "print(classification_report(ytest,ypred))"
   ]
  },
  {
   "cell_type": "code",
   "execution_count": 173,
   "metadata": {},
   "outputs": [],
   "source": [
    "model = RandomForestClassifier()\n",
    "model.fit(X, y)\n",
    "ypred = model.predict(xtest)"
   ]
  },
  {
   "cell_type": "code",
   "execution_count": 174,
   "metadata": {},
   "outputs": [],
   "source": [
    "train_pred=model.predict(train.drop(columns=['impression_id','impression_time_Timestamp','os_version','user_id','is_click'],axis=0))"
   ]
  },
  {
   "cell_type": "code",
   "execution_count": 175,
   "metadata": {},
   "outputs": [],
   "source": [
    "test_pred=model.predict(test.drop(columns=['impression_id','impression_time_Timestamp','os_version','user_id','is_click'],axis=0))"
   ]
  },
  {
   "cell_type": "code",
   "execution_count": 177,
   "metadata": {},
   "outputs": [],
   "source": [
    "sample_submission1[\"is_click\"]=test_pred.astype(int)"
   ]
  },
  {
   "cell_type": "code",
   "execution_count": 176,
   "metadata": {},
   "outputs": [],
   "source": [
    "sample_submission1=sample_submission"
   ]
  },
  {
   "cell_type": "code",
   "execution_count": 178,
   "metadata": {},
   "outputs": [
    {
     "data": {
      "text/plain": [
       "0    90675\n",
       "Name: is_click, dtype: int64"
      ]
     },
     "execution_count": 178,
     "metadata": {},
     "output_type": "execute_result"
    }
   ],
   "source": [
    "sample_submission1['is_click'].value_counts()"
   ]
  },
  {
   "cell_type": "code",
   "execution_count": 112,
   "metadata": {},
   "outputs": [],
   "source": [
    "sample_submission1.to_csv(\"sample_submissionDT1.csv\",index=False)"
   ]
  },
  {
   "cell_type": "code",
   "execution_count": null,
   "metadata": {},
   "outputs": [],
   "source": [
    "#Light GBM "
   ]
  },
  {
   "cell_type": "code",
   "execution_count": 222,
   "metadata": {},
   "outputs": [],
   "source": [
    "import lightgbm as lgb"
   ]
  },
  {
   "cell_type": "code",
   "execution_count": 223,
   "metadata": {},
   "outputs": [],
   "source": [
    "params = {\n",
    "    'task': 'train',\n",
    "    'boosting_type': 'gbdt',\n",
    "    'objective': 'binary',\n",
    "    'metric': { 'binary_logloss'},\n",
    "    'num_leaves': 31, # defauly leaves(31) amount for each tree\n",
    "    'learning_rate': 0.08,\n",
    "    'feature_fraction': 0.7, # will select 70% features before training each tree\n",
    "    'bagging_fraction': 0.3, #feature_fraction, but this will random select part of data\n",
    "    'bagging_freq': 5, #  perform bagging at every 5 iteration\n",
    "    'verbose': 0\n",
    "}"
   ]
  },
  {
   "cell_type": "code",
   "execution_count": 226,
   "metadata": {},
   "outputs": [],
   "source": [
    "#X_train = train.loc[:, train.columns != 'click']\n",
    "#y_target = train.click.values\n",
    "#create lightgbm dataset\n",
    "msk = np.random.rand(len(xtrain)) < 0.8\n",
    "lgb_train = lgb.Dataset(xtrain[msk], ytrain[msk])\n",
    "lgb_eval = lgb.Dataset(xtrain[~msk], ytrain[~msk], reference=lgb_train)"
   ]
  },
  {
   "cell_type": "code",
   "execution_count": 227,
   "metadata": {},
   "outputs": [
    {
     "name": "stdout",
     "output_type": "stream",
     "text": [
      "Start training...\n",
      "[1]\tvalid_0's binary_logloss: 0.186978\n",
      "Training until validation scores don't improve for 500 rounds.\n",
      "[2]\tvalid_0's binary_logloss: 0.186857\n",
      "[3]\tvalid_0's binary_logloss: 0.185687\n",
      "[4]\tvalid_0's binary_logloss: 0.184743\n",
      "[5]\tvalid_0's binary_logloss: 0.183901\n",
      "[6]\tvalid_0's binary_logloss: 0.183214\n",
      "[7]\tvalid_0's binary_logloss: 0.183125\n",
      "[8]\tvalid_0's binary_logloss: 0.182505\n",
      "[9]\tvalid_0's binary_logloss: 0.182405\n",
      "[10]\tvalid_0's binary_logloss: 0.181865\n",
      "[11]\tvalid_0's binary_logloss: 0.18138\n",
      "[12]\tvalid_0's binary_logloss: 0.181346\n",
      "[13]\tvalid_0's binary_logloss: 0.181008\n",
      "[14]\tvalid_0's binary_logloss: 0.180988\n",
      "[15]\tvalid_0's binary_logloss: 0.180682\n",
      "[16]\tvalid_0's binary_logloss: 0.180639\n",
      "[17]\tvalid_0's binary_logloss: 0.180393\n",
      "[18]\tvalid_0's binary_logloss: 0.180134\n",
      "[19]\tvalid_0's binary_logloss: 0.179971\n",
      "[20]\tvalid_0's binary_logloss: 0.179771\n",
      "[21]\tvalid_0's binary_logloss: 0.179496\n",
      "[22]\tvalid_0's binary_logloss: 0.179311\n",
      "[23]\tvalid_0's binary_logloss: 0.179279\n",
      "[24]\tvalid_0's binary_logloss: 0.179286\n",
      "[25]\tvalid_0's binary_logloss: 0.179282\n",
      "[26]\tvalid_0's binary_logloss: 0.179204\n",
      "[27]\tvalid_0's binary_logloss: 0.179204\n",
      "[28]\tvalid_0's binary_logloss: 0.179109\n",
      "[29]\tvalid_0's binary_logloss: 0.179143\n",
      "[30]\tvalid_0's binary_logloss: 0.179159\n",
      "[31]\tvalid_0's binary_logloss: 0.179182\n",
      "[32]\tvalid_0's binary_logloss: 0.179059\n",
      "[33]\tvalid_0's binary_logloss: 0.178978\n",
      "[34]\tvalid_0's binary_logloss: 0.178977\n",
      "[35]\tvalid_0's binary_logloss: 0.178908\n",
      "[36]\tvalid_0's binary_logloss: 0.178904\n",
      "[37]\tvalid_0's binary_logloss: 0.178866\n",
      "[38]\tvalid_0's binary_logloss: 0.178811\n",
      "[39]\tvalid_0's binary_logloss: 0.178832\n",
      "[40]\tvalid_0's binary_logloss: 0.178848\n",
      "[41]\tvalid_0's binary_logloss: 0.178799\n",
      "[42]\tvalid_0's binary_logloss: 0.178722\n",
      "[43]\tvalid_0's binary_logloss: 0.178691\n",
      "[44]\tvalid_0's binary_logloss: 0.178638\n",
      "[45]\tvalid_0's binary_logloss: 0.178603\n",
      "[46]\tvalid_0's binary_logloss: 0.1786\n",
      "[47]\tvalid_0's binary_logloss: 0.178577\n",
      "[48]\tvalid_0's binary_logloss: 0.178564\n",
      "[49]\tvalid_0's binary_logloss: 0.178504\n",
      "[50]\tvalid_0's binary_logloss: 0.178504\n",
      "[51]\tvalid_0's binary_logloss: 0.178438\n",
      "[52]\tvalid_0's binary_logloss: 0.178367\n",
      "[53]\tvalid_0's binary_logloss: 0.178311\n",
      "[54]\tvalid_0's binary_logloss: 0.178272\n",
      "[55]\tvalid_0's binary_logloss: 0.178245\n",
      "[56]\tvalid_0's binary_logloss: 0.178255\n",
      "[57]\tvalid_0's binary_logloss: 0.178236\n",
      "[58]\tvalid_0's binary_logloss: 0.178223\n",
      "[59]\tvalid_0's binary_logloss: 0.178226\n",
      "[60]\tvalid_0's binary_logloss: 0.17824\n",
      "[61]\tvalid_0's binary_logloss: 0.178243\n",
      "[62]\tvalid_0's binary_logloss: 0.178268\n",
      "[63]\tvalid_0's binary_logloss: 0.178255\n",
      "[64]\tvalid_0's binary_logloss: 0.178212\n",
      "[65]\tvalid_0's binary_logloss: 0.17824\n",
      "[66]\tvalid_0's binary_logloss: 0.178205\n",
      "[67]\tvalid_0's binary_logloss: 0.178222\n",
      "[68]\tvalid_0's binary_logloss: 0.178217\n",
      "[69]\tvalid_0's binary_logloss: 0.178208\n",
      "[70]\tvalid_0's binary_logloss: 0.178255\n",
      "[71]\tvalid_0's binary_logloss: 0.178258\n",
      "[72]\tvalid_0's binary_logloss: 0.17827\n",
      "[73]\tvalid_0's binary_logloss: 0.178282\n",
      "[74]\tvalid_0's binary_logloss: 0.178316\n",
      "[75]\tvalid_0's binary_logloss: 0.178318\n",
      "[76]\tvalid_0's binary_logloss: 0.178358\n",
      "[77]\tvalid_0's binary_logloss: 0.178395\n",
      "[78]\tvalid_0's binary_logloss: 0.178421\n",
      "[79]\tvalid_0's binary_logloss: 0.17845\n",
      "[80]\tvalid_0's binary_logloss: 0.178462\n",
      "[81]\tvalid_0's binary_logloss: 0.178452\n",
      "[82]\tvalid_0's binary_logloss: 0.178436\n",
      "[83]\tvalid_0's binary_logloss: 0.178452\n",
      "[84]\tvalid_0's binary_logloss: 0.178438\n",
      "[85]\tvalid_0's binary_logloss: 0.178419\n",
      "[86]\tvalid_0's binary_logloss: 0.178418\n",
      "[87]\tvalid_0's binary_logloss: 0.178431\n",
      "[88]\tvalid_0's binary_logloss: 0.178418\n",
      "[89]\tvalid_0's binary_logloss: 0.178435\n",
      "[90]\tvalid_0's binary_logloss: 0.17843\n",
      "[91]\tvalid_0's binary_logloss: 0.178439\n",
      "[92]\tvalid_0's binary_logloss: 0.178437\n",
      "[93]\tvalid_0's binary_logloss: 0.178457\n",
      "[94]\tvalid_0's binary_logloss: 0.17845\n",
      "[95]\tvalid_0's binary_logloss: 0.178462\n",
      "[96]\tvalid_0's binary_logloss: 0.178467\n",
      "[97]\tvalid_0's binary_logloss: 0.178498\n",
      "[98]\tvalid_0's binary_logloss: 0.1785\n",
      "[99]\tvalid_0's binary_logloss: 0.178512\n",
      "[100]\tvalid_0's binary_logloss: 0.178533\n",
      "[101]\tvalid_0's binary_logloss: 0.178546\n",
      "[102]\tvalid_0's binary_logloss: 0.178552\n",
      "[103]\tvalid_0's binary_logloss: 0.178542\n",
      "[104]\tvalid_0's binary_logloss: 0.178554\n",
      "[105]\tvalid_0's binary_logloss: 0.178561\n",
      "[106]\tvalid_0's binary_logloss: 0.178521\n",
      "[107]\tvalid_0's binary_logloss: 0.178556\n",
      "[108]\tvalid_0's binary_logloss: 0.178564\n",
      "[109]\tvalid_0's binary_logloss: 0.178516\n",
      "[110]\tvalid_0's binary_logloss: 0.178504\n",
      "[111]\tvalid_0's binary_logloss: 0.178506\n",
      "[112]\tvalid_0's binary_logloss: 0.178481\n",
      "[113]\tvalid_0's binary_logloss: 0.178496\n",
      "[114]\tvalid_0's binary_logloss: 0.178476\n",
      "[115]\tvalid_0's binary_logloss: 0.178475\n",
      "[116]\tvalid_0's binary_logloss: 0.178478\n",
      "[117]\tvalid_0's binary_logloss: 0.178475\n",
      "[118]\tvalid_0's binary_logloss: 0.178483\n",
      "[119]\tvalid_0's binary_logloss: 0.178495\n",
      "[120]\tvalid_0's binary_logloss: 0.178508\n",
      "[121]\tvalid_0's binary_logloss: 0.17848\n",
      "[122]\tvalid_0's binary_logloss: 0.178482\n",
      "[123]\tvalid_0's binary_logloss: 0.178522\n",
      "[124]\tvalid_0's binary_logloss: 0.178546\n",
      "[125]\tvalid_0's binary_logloss: 0.178583\n",
      "[126]\tvalid_0's binary_logloss: 0.178618\n",
      "[127]\tvalid_0's binary_logloss: 0.178633\n",
      "[128]\tvalid_0's binary_logloss: 0.17864\n",
      "[129]\tvalid_0's binary_logloss: 0.178657\n",
      "[130]\tvalid_0's binary_logloss: 0.178667\n",
      "[131]\tvalid_0's binary_logloss: 0.178692\n",
      "[132]\tvalid_0's binary_logloss: 0.178692\n",
      "[133]\tvalid_0's binary_logloss: 0.17864\n",
      "[134]\tvalid_0's binary_logloss: 0.178636\n",
      "[135]\tvalid_0's binary_logloss: 0.178627\n",
      "[136]\tvalid_0's binary_logloss: 0.178617\n",
      "[137]\tvalid_0's binary_logloss: 0.178664\n",
      "[138]\tvalid_0's binary_logloss: 0.178605\n",
      "[139]\tvalid_0's binary_logloss: 0.178622\n",
      "[140]\tvalid_0's binary_logloss: 0.178629\n",
      "[141]\tvalid_0's binary_logloss: 0.178661\n",
      "[142]\tvalid_0's binary_logloss: 0.178679\n",
      "[143]\tvalid_0's binary_logloss: 0.178695\n",
      "[144]\tvalid_0's binary_logloss: 0.178714\n",
      "[145]\tvalid_0's binary_logloss: 0.178712\n",
      "[146]\tvalid_0's binary_logloss: 0.178748\n",
      "[147]\tvalid_0's binary_logloss: 0.178795\n",
      "[148]\tvalid_0's binary_logloss: 0.178797\n",
      "[149]\tvalid_0's binary_logloss: 0.178797\n",
      "[150]\tvalid_0's binary_logloss: 0.178812\n",
      "[151]\tvalid_0's binary_logloss: 0.17884\n",
      "[152]\tvalid_0's binary_logloss: 0.178832\n",
      "[153]\tvalid_0's binary_logloss: 0.178844\n",
      "[154]\tvalid_0's binary_logloss: 0.178828\n",
      "[155]\tvalid_0's binary_logloss: 0.178818\n",
      "[156]\tvalid_0's binary_logloss: 0.178827\n",
      "[157]\tvalid_0's binary_logloss: 0.178839\n",
      "[158]\tvalid_0's binary_logloss: 0.178861\n",
      "[159]\tvalid_0's binary_logloss: 0.178852\n",
      "[160]\tvalid_0's binary_logloss: 0.178863\n",
      "[161]\tvalid_0's binary_logloss: 0.178828\n",
      "[162]\tvalid_0's binary_logloss: 0.178848\n",
      "[163]\tvalid_0's binary_logloss: 0.178879\n",
      "[164]\tvalid_0's binary_logloss: 0.178836\n",
      "[165]\tvalid_0's binary_logloss: 0.178879\n",
      "[166]\tvalid_0's binary_logloss: 0.178846\n",
      "[167]\tvalid_0's binary_logloss: 0.178866\n",
      "[168]\tvalid_0's binary_logloss: 0.17888\n",
      "[169]\tvalid_0's binary_logloss: 0.178917\n",
      "[170]\tvalid_0's binary_logloss: 0.17892\n",
      "[171]\tvalid_0's binary_logloss: 0.178929\n",
      "[172]\tvalid_0's binary_logloss: 0.178919\n",
      "[173]\tvalid_0's binary_logloss: 0.178946\n",
      "[174]\tvalid_0's binary_logloss: 0.178965\n",
      "[175]\tvalid_0's binary_logloss: 0.178964\n",
      "[176]\tvalid_0's binary_logloss: 0.178962\n",
      "[177]\tvalid_0's binary_logloss: 0.178967\n",
      "[178]\tvalid_0's binary_logloss: 0.178978\n",
      "[179]\tvalid_0's binary_logloss: 0.178983\n",
      "[180]\tvalid_0's binary_logloss: 0.178994\n",
      "[181]\tvalid_0's binary_logloss: 0.179013\n",
      "[182]\tvalid_0's binary_logloss: 0.178992\n",
      "[183]\tvalid_0's binary_logloss: 0.179019\n",
      "[184]\tvalid_0's binary_logloss: 0.179053\n",
      "[185]\tvalid_0's binary_logloss: 0.179081\n",
      "[186]\tvalid_0's binary_logloss: 0.179088\n",
      "[187]\tvalid_0's binary_logloss: 0.179119\n",
      "[188]\tvalid_0's binary_logloss: 0.179076\n",
      "[189]\tvalid_0's binary_logloss: 0.179093\n",
      "[190]\tvalid_0's binary_logloss: 0.179095\n",
      "[191]\tvalid_0's binary_logloss: 0.17907\n",
      "[192]\tvalid_0's binary_logloss: 0.179074\n",
      "[193]\tvalid_0's binary_logloss: 0.179107\n",
      "[194]\tvalid_0's binary_logloss: 0.179106\n",
      "[195]\tvalid_0's binary_logloss: 0.179123\n",
      "[196]\tvalid_0's binary_logloss: 0.179165\n",
      "[197]\tvalid_0's binary_logloss: 0.179167\n",
      "[198]\tvalid_0's binary_logloss: 0.179194\n",
      "[199]\tvalid_0's binary_logloss: 0.179199\n",
      "[200]\tvalid_0's binary_logloss: 0.179256\n",
      "[201]\tvalid_0's binary_logloss: 0.179231\n",
      "[202]\tvalid_0's binary_logloss: 0.179219\n",
      "[203]\tvalid_0's binary_logloss: 0.179264\n",
      "[204]\tvalid_0's binary_logloss: 0.179306\n",
      "[205]\tvalid_0's binary_logloss: 0.179336\n",
      "[206]\tvalid_0's binary_logloss: 0.179304\n",
      "[207]\tvalid_0's binary_logloss: 0.179259\n",
      "[208]\tvalid_0's binary_logloss: 0.179251\n",
      "[209]\tvalid_0's binary_logloss: 0.179251\n",
      "[210]\tvalid_0's binary_logloss: 0.179268\n",
      "[211]\tvalid_0's binary_logloss: 0.179245\n",
      "[212]\tvalid_0's binary_logloss: 0.179244\n",
      "[213]\tvalid_0's binary_logloss: 0.179233\n",
      "[214]\tvalid_0's binary_logloss: 0.17922\n",
      "[215]\tvalid_0's binary_logloss: 0.179246\n",
      "[216]\tvalid_0's binary_logloss: 0.179221\n",
      "[217]\tvalid_0's binary_logloss: 0.179207\n"
     ]
    },
    {
     "name": "stdout",
     "output_type": "stream",
     "text": [
      "[218]\tvalid_0's binary_logloss: 0.179223\n",
      "[219]\tvalid_0's binary_logloss: 0.179261\n",
      "[220]\tvalid_0's binary_logloss: 0.17929\n",
      "[221]\tvalid_0's binary_logloss: 0.179303\n",
      "[222]\tvalid_0's binary_logloss: 0.179304\n",
      "[223]\tvalid_0's binary_logloss: 0.179299\n",
      "[224]\tvalid_0's binary_logloss: 0.179299\n",
      "[225]\tvalid_0's binary_logloss: 0.179249\n",
      "[226]\tvalid_0's binary_logloss: 0.179248\n",
      "[227]\tvalid_0's binary_logloss: 0.179247\n",
      "[228]\tvalid_0's binary_logloss: 0.179266\n",
      "[229]\tvalid_0's binary_logloss: 0.179265\n",
      "[230]\tvalid_0's binary_logloss: 0.179226\n",
      "[231]\tvalid_0's binary_logloss: 0.17923\n",
      "[232]\tvalid_0's binary_logloss: 0.179224\n",
      "[233]\tvalid_0's binary_logloss: 0.179243\n",
      "[234]\tvalid_0's binary_logloss: 0.179225\n",
      "[235]\tvalid_0's binary_logloss: 0.179245\n",
      "[236]\tvalid_0's binary_logloss: 0.179274\n",
      "[237]\tvalid_0's binary_logloss: 0.179284\n",
      "[238]\tvalid_0's binary_logloss: 0.179289\n",
      "[239]\tvalid_0's binary_logloss: 0.179298\n",
      "[240]\tvalid_0's binary_logloss: 0.179335\n",
      "[241]\tvalid_0's binary_logloss: 0.17941\n",
      "[242]\tvalid_0's binary_logloss: 0.179402\n",
      "[243]\tvalid_0's binary_logloss: 0.179399\n",
      "[244]\tvalid_0's binary_logloss: 0.179425\n",
      "[245]\tvalid_0's binary_logloss: 0.179466\n",
      "[246]\tvalid_0's binary_logloss: 0.179479\n",
      "[247]\tvalid_0's binary_logloss: 0.17951\n",
      "[248]\tvalid_0's binary_logloss: 0.179538\n",
      "[249]\tvalid_0's binary_logloss: 0.179556\n",
      "[250]\tvalid_0's binary_logloss: 0.179581\n",
      "[251]\tvalid_0's binary_logloss: 0.179584\n",
      "[252]\tvalid_0's binary_logloss: 0.179601\n",
      "[253]\tvalid_0's binary_logloss: 0.179619\n",
      "[254]\tvalid_0's binary_logloss: 0.179655\n",
      "[255]\tvalid_0's binary_logloss: 0.179684\n",
      "[256]\tvalid_0's binary_logloss: 0.179713\n",
      "[257]\tvalid_0's binary_logloss: 0.179717\n",
      "[258]\tvalid_0's binary_logloss: 0.179716\n",
      "[259]\tvalid_0's binary_logloss: 0.179739\n",
      "[260]\tvalid_0's binary_logloss: 0.179734\n",
      "[261]\tvalid_0's binary_logloss: 0.179704\n",
      "[262]\tvalid_0's binary_logloss: 0.179694\n",
      "[263]\tvalid_0's binary_logloss: 0.179712\n",
      "[264]\tvalid_0's binary_logloss: 0.179688\n",
      "[265]\tvalid_0's binary_logloss: 0.179743\n",
      "[266]\tvalid_0's binary_logloss: 0.179725\n",
      "[267]\tvalid_0's binary_logloss: 0.179722\n",
      "[268]\tvalid_0's binary_logloss: 0.179753\n",
      "[269]\tvalid_0's binary_logloss: 0.179766\n",
      "[270]\tvalid_0's binary_logloss: 0.179777\n",
      "[271]\tvalid_0's binary_logloss: 0.179737\n",
      "[272]\tvalid_0's binary_logloss: 0.179743\n",
      "[273]\tvalid_0's binary_logloss: 0.179746\n",
      "[274]\tvalid_0's binary_logloss: 0.179727\n",
      "[275]\tvalid_0's binary_logloss: 0.179744\n",
      "[276]\tvalid_0's binary_logloss: 0.179745\n",
      "[277]\tvalid_0's binary_logloss: 0.179739\n",
      "[278]\tvalid_0's binary_logloss: 0.179732\n",
      "[279]\tvalid_0's binary_logloss: 0.179739\n",
      "[280]\tvalid_0's binary_logloss: 0.179751\n",
      "[281]\tvalid_0's binary_logloss: 0.179709\n",
      "[282]\tvalid_0's binary_logloss: 0.179699\n",
      "[283]\tvalid_0's binary_logloss: 0.179733\n",
      "[284]\tvalid_0's binary_logloss: 0.179751\n",
      "[285]\tvalid_0's binary_logloss: 0.179749\n",
      "[286]\tvalid_0's binary_logloss: 0.179741\n",
      "[287]\tvalid_0's binary_logloss: 0.179754\n",
      "[288]\tvalid_0's binary_logloss: 0.179726\n",
      "[289]\tvalid_0's binary_logloss: 0.17973\n",
      "[290]\tvalid_0's binary_logloss: 0.179752\n",
      "[291]\tvalid_0's binary_logloss: 0.179747\n",
      "[292]\tvalid_0's binary_logloss: 0.179774\n",
      "[293]\tvalid_0's binary_logloss: 0.179792\n",
      "[294]\tvalid_0's binary_logloss: 0.179807\n",
      "[295]\tvalid_0's binary_logloss: 0.17984\n",
      "[296]\tvalid_0's binary_logloss: 0.17983\n",
      "[297]\tvalid_0's binary_logloss: 0.179821\n",
      "[298]\tvalid_0's binary_logloss: 0.179849\n",
      "[299]\tvalid_0's binary_logloss: 0.179844\n",
      "[300]\tvalid_0's binary_logloss: 0.179844\n",
      "[301]\tvalid_0's binary_logloss: 0.17984\n",
      "[302]\tvalid_0's binary_logloss: 0.179821\n",
      "[303]\tvalid_0's binary_logloss: 0.179799\n",
      "[304]\tvalid_0's binary_logloss: 0.179822\n",
      "[305]\tvalid_0's binary_logloss: 0.179861\n",
      "[306]\tvalid_0's binary_logloss: 0.179872\n",
      "[307]\tvalid_0's binary_logloss: 0.179855\n",
      "[308]\tvalid_0's binary_logloss: 0.179871\n",
      "[309]\tvalid_0's binary_logloss: 0.179888\n",
      "[310]\tvalid_0's binary_logloss: 0.179884\n",
      "[311]\tvalid_0's binary_logloss: 0.179883\n",
      "[312]\tvalid_0's binary_logloss: 0.179898\n",
      "[313]\tvalid_0's binary_logloss: 0.179925\n",
      "[314]\tvalid_0's binary_logloss: 0.179941\n",
      "[315]\tvalid_0's binary_logloss: 0.179956\n",
      "[316]\tvalid_0's binary_logloss: 0.179987\n",
      "[317]\tvalid_0's binary_logloss: 0.179997\n",
      "[318]\tvalid_0's binary_logloss: 0.180015\n",
      "[319]\tvalid_0's binary_logloss: 0.180053\n",
      "[320]\tvalid_0's binary_logloss: 0.180046\n",
      "[321]\tvalid_0's binary_logloss: 0.180075\n",
      "[322]\tvalid_0's binary_logloss: 0.18005\n",
      "[323]\tvalid_0's binary_logloss: 0.180085\n",
      "[324]\tvalid_0's binary_logloss: 0.180124\n",
      "[325]\tvalid_0's binary_logloss: 0.180144\n",
      "[326]\tvalid_0's binary_logloss: 0.180128\n",
      "[327]\tvalid_0's binary_logloss: 0.180135\n",
      "[328]\tvalid_0's binary_logloss: 0.180138\n",
      "[329]\tvalid_0's binary_logloss: 0.180164\n",
      "[330]\tvalid_0's binary_logloss: 0.180119\n",
      "[331]\tvalid_0's binary_logloss: 0.180128\n",
      "[332]\tvalid_0's binary_logloss: 0.180131\n",
      "[333]\tvalid_0's binary_logloss: 0.180174\n",
      "[334]\tvalid_0's binary_logloss: 0.180197\n",
      "[335]\tvalid_0's binary_logloss: 0.180221\n",
      "[336]\tvalid_0's binary_logloss: 0.180225\n",
      "[337]\tvalid_0's binary_logloss: 0.18023\n",
      "[338]\tvalid_0's binary_logloss: 0.180232\n",
      "[339]\tvalid_0's binary_logloss: 0.180225\n",
      "[340]\tvalid_0's binary_logloss: 0.180223\n",
      "[341]\tvalid_0's binary_logloss: 0.180266\n",
      "[342]\tvalid_0's binary_logloss: 0.180264\n",
      "[343]\tvalid_0's binary_logloss: 0.18025\n",
      "[344]\tvalid_0's binary_logloss: 0.180255\n",
      "[345]\tvalid_0's binary_logloss: 0.180295\n",
      "[346]\tvalid_0's binary_logloss: 0.180258\n",
      "[347]\tvalid_0's binary_logloss: 0.180248\n",
      "[348]\tvalid_0's binary_logloss: 0.180227\n",
      "[349]\tvalid_0's binary_logloss: 0.180198\n",
      "[350]\tvalid_0's binary_logloss: 0.180204\n",
      "[351]\tvalid_0's binary_logloss: 0.180181\n",
      "[352]\tvalid_0's binary_logloss: 0.180184\n",
      "[353]\tvalid_0's binary_logloss: 0.180174\n",
      "[354]\tvalid_0's binary_logloss: 0.180169\n",
      "[355]\tvalid_0's binary_logloss: 0.180153\n",
      "[356]\tvalid_0's binary_logloss: 0.180168\n",
      "[357]\tvalid_0's binary_logloss: 0.180186\n",
      "[358]\tvalid_0's binary_logloss: 0.18018\n",
      "[359]\tvalid_0's binary_logloss: 0.180211\n",
      "[360]\tvalid_0's binary_logloss: 0.180233\n",
      "[361]\tvalid_0's binary_logloss: 0.180206\n",
      "[362]\tvalid_0's binary_logloss: 0.180213\n",
      "[363]\tvalid_0's binary_logloss: 0.18022\n",
      "[364]\tvalid_0's binary_logloss: 0.180189\n",
      "[365]\tvalid_0's binary_logloss: 0.180191\n",
      "[366]\tvalid_0's binary_logloss: 0.180215\n",
      "[367]\tvalid_0's binary_logloss: 0.180237\n",
      "[368]\tvalid_0's binary_logloss: 0.180227\n",
      "[369]\tvalid_0's binary_logloss: 0.180269\n",
      "[370]\tvalid_0's binary_logloss: 0.180269\n",
      "[371]\tvalid_0's binary_logloss: 0.180262\n",
      "[372]\tvalid_0's binary_logloss: 0.180329\n",
      "[373]\tvalid_0's binary_logloss: 0.180346\n",
      "[374]\tvalid_0's binary_logloss: 0.180363\n",
      "[375]\tvalid_0's binary_logloss: 0.180389\n",
      "[376]\tvalid_0's binary_logloss: 0.180412\n",
      "[377]\tvalid_0's binary_logloss: 0.180426\n",
      "[378]\tvalid_0's binary_logloss: 0.180413\n",
      "[379]\tvalid_0's binary_logloss: 0.18045\n",
      "[380]\tvalid_0's binary_logloss: 0.180465\n",
      "[381]\tvalid_0's binary_logloss: 0.180483\n",
      "[382]\tvalid_0's binary_logloss: 0.180549\n",
      "[383]\tvalid_0's binary_logloss: 0.180576\n",
      "[384]\tvalid_0's binary_logloss: 0.180597\n",
      "[385]\tvalid_0's binary_logloss: 0.180646\n",
      "[386]\tvalid_0's binary_logloss: 0.180657\n",
      "[387]\tvalid_0's binary_logloss: 0.18062\n",
      "[388]\tvalid_0's binary_logloss: 0.180639\n",
      "[389]\tvalid_0's binary_logloss: 0.18071\n",
      "[390]\tvalid_0's binary_logloss: 0.180742\n",
      "[391]\tvalid_0's binary_logloss: 0.180696\n",
      "[392]\tvalid_0's binary_logloss: 0.180714\n",
      "[393]\tvalid_0's binary_logloss: 0.18069\n",
      "[394]\tvalid_0's binary_logloss: 0.180679\n",
      "[395]\tvalid_0's binary_logloss: 0.180726\n",
      "[396]\tvalid_0's binary_logloss: 0.180732\n",
      "[397]\tvalid_0's binary_logloss: 0.18073\n",
      "[398]\tvalid_0's binary_logloss: 0.180713\n",
      "[399]\tvalid_0's binary_logloss: 0.180756\n",
      "[400]\tvalid_0's binary_logloss: 0.180765\n",
      "[401]\tvalid_0's binary_logloss: 0.180795\n",
      "[402]\tvalid_0's binary_logloss: 0.180829\n",
      "[403]\tvalid_0's binary_logloss: 0.180896\n",
      "[404]\tvalid_0's binary_logloss: 0.180932\n",
      "[405]\tvalid_0's binary_logloss: 0.18092\n",
      "[406]\tvalid_0's binary_logloss: 0.180924\n",
      "[407]\tvalid_0's binary_logloss: 0.180934\n",
      "[408]\tvalid_0's binary_logloss: 0.180966\n",
      "[409]\tvalid_0's binary_logloss: 0.180996\n",
      "[410]\tvalid_0's binary_logloss: 0.181011\n",
      "[411]\tvalid_0's binary_logloss: 0.181006\n",
      "[412]\tvalid_0's binary_logloss: 0.181025\n",
      "[413]\tvalid_0's binary_logloss: 0.181047\n",
      "[414]\tvalid_0's binary_logloss: 0.181034\n",
      "[415]\tvalid_0's binary_logloss: 0.181035\n",
      "[416]\tvalid_0's binary_logloss: 0.181045\n",
      "[417]\tvalid_0's binary_logloss: 0.181048\n",
      "[418]\tvalid_0's binary_logloss: 0.181067\n",
      "[419]\tvalid_0's binary_logloss: 0.181111\n",
      "[420]\tvalid_0's binary_logloss: 0.181139\n",
      "[421]\tvalid_0's binary_logloss: 0.181116\n",
      "[422]\tvalid_0's binary_logloss: 0.181133\n",
      "[423]\tvalid_0's binary_logloss: 0.181173\n",
      "[424]\tvalid_0's binary_logloss: 0.181166\n",
      "[425]\tvalid_0's binary_logloss: 0.181201\n",
      "[426]\tvalid_0's binary_logloss: 0.181201\n",
      "[427]\tvalid_0's binary_logloss: 0.181189\n",
      "[428]\tvalid_0's binary_logloss: 0.181206\n",
      "[429]\tvalid_0's binary_logloss: 0.181235\n",
      "[430]\tvalid_0's binary_logloss: 0.18121\n"
     ]
    },
    {
     "name": "stdout",
     "output_type": "stream",
     "text": [
      "[431]\tvalid_0's binary_logloss: 0.181226\n",
      "[432]\tvalid_0's binary_logloss: 0.1812\n",
      "[433]\tvalid_0's binary_logloss: 0.181214\n",
      "[434]\tvalid_0's binary_logloss: 0.181224\n",
      "[435]\tvalid_0's binary_logloss: 0.181251\n",
      "[436]\tvalid_0's binary_logloss: 0.181211\n",
      "[437]\tvalid_0's binary_logloss: 0.181243\n",
      "[438]\tvalid_0's binary_logloss: 0.181203\n",
      "[439]\tvalid_0's binary_logloss: 0.181214\n",
      "[440]\tvalid_0's binary_logloss: 0.181201\n",
      "[441]\tvalid_0's binary_logloss: 0.18117\n",
      "[442]\tvalid_0's binary_logloss: 0.181153\n",
      "[443]\tvalid_0's binary_logloss: 0.181187\n",
      "[444]\tvalid_0's binary_logloss: 0.181173\n",
      "[445]\tvalid_0's binary_logloss: 0.181168\n",
      "[446]\tvalid_0's binary_logloss: 0.181193\n",
      "[447]\tvalid_0's binary_logloss: 0.181184\n",
      "[448]\tvalid_0's binary_logloss: 0.181239\n",
      "[449]\tvalid_0's binary_logloss: 0.181241\n",
      "[450]\tvalid_0's binary_logloss: 0.181272\n",
      "[451]\tvalid_0's binary_logloss: 0.181356\n",
      "[452]\tvalid_0's binary_logloss: 0.181385\n",
      "[453]\tvalid_0's binary_logloss: 0.1814\n",
      "[454]\tvalid_0's binary_logloss: 0.181443\n",
      "[455]\tvalid_0's binary_logloss: 0.181488\n",
      "[456]\tvalid_0's binary_logloss: 0.181495\n",
      "[457]\tvalid_0's binary_logloss: 0.181528\n",
      "[458]\tvalid_0's binary_logloss: 0.181534\n",
      "[459]\tvalid_0's binary_logloss: 0.181525\n",
      "[460]\tvalid_0's binary_logloss: 0.181524\n",
      "[461]\tvalid_0's binary_logloss: 0.181508\n",
      "[462]\tvalid_0's binary_logloss: 0.181522\n",
      "[463]\tvalid_0's binary_logloss: 0.181526\n",
      "[464]\tvalid_0's binary_logloss: 0.181556\n",
      "[465]\tvalid_0's binary_logloss: 0.181582\n",
      "[466]\tvalid_0's binary_logloss: 0.181591\n",
      "[467]\tvalid_0's binary_logloss: 0.181622\n",
      "[468]\tvalid_0's binary_logloss: 0.181633\n",
      "[469]\tvalid_0's binary_logloss: 0.181618\n",
      "[470]\tvalid_0's binary_logloss: 0.181646\n",
      "[471]\tvalid_0's binary_logloss: 0.181619\n",
      "[472]\tvalid_0's binary_logloss: 0.181575\n",
      "[473]\tvalid_0's binary_logloss: 0.181559\n",
      "[474]\tvalid_0's binary_logloss: 0.181537\n",
      "[475]\tvalid_0's binary_logloss: 0.181549\n",
      "[476]\tvalid_0's binary_logloss: 0.181566\n",
      "[477]\tvalid_0's binary_logloss: 0.181615\n",
      "[478]\tvalid_0's binary_logloss: 0.181621\n",
      "[479]\tvalid_0's binary_logloss: 0.181676\n",
      "[480]\tvalid_0's binary_logloss: 0.181698\n",
      "[481]\tvalid_0's binary_logloss: 0.181715\n",
      "[482]\tvalid_0's binary_logloss: 0.18174\n",
      "[483]\tvalid_0's binary_logloss: 0.181766\n",
      "[484]\tvalid_0's binary_logloss: 0.181801\n",
      "[485]\tvalid_0's binary_logloss: 0.181847\n",
      "[486]\tvalid_0's binary_logloss: 0.181842\n",
      "[487]\tvalid_0's binary_logloss: 0.181862\n",
      "[488]\tvalid_0's binary_logloss: 0.181885\n",
      "[489]\tvalid_0's binary_logloss: 0.181887\n",
      "[490]\tvalid_0's binary_logloss: 0.181878\n",
      "[491]\tvalid_0's binary_logloss: 0.181926\n",
      "[492]\tvalid_0's binary_logloss: 0.181945\n",
      "[493]\tvalid_0's binary_logloss: 0.181982\n",
      "[494]\tvalid_0's binary_logloss: 0.181979\n",
      "[495]\tvalid_0's binary_logloss: 0.181987\n",
      "[496]\tvalid_0's binary_logloss: 0.181974\n",
      "[497]\tvalid_0's binary_logloss: 0.18198\n",
      "[498]\tvalid_0's binary_logloss: 0.181978\n",
      "[499]\tvalid_0's binary_logloss: 0.181929\n",
      "[500]\tvalid_0's binary_logloss: 0.181929\n",
      "[501]\tvalid_0's binary_logloss: 0.1819\n",
      "[502]\tvalid_0's binary_logloss: 0.181901\n",
      "[503]\tvalid_0's binary_logloss: 0.181929\n",
      "[504]\tvalid_0's binary_logloss: 0.181946\n",
      "[505]\tvalid_0's binary_logloss: 0.181951\n",
      "[506]\tvalid_0's binary_logloss: 0.181949\n",
      "[507]\tvalid_0's binary_logloss: 0.18197\n",
      "[508]\tvalid_0's binary_logloss: 0.181953\n",
      "[509]\tvalid_0's binary_logloss: 0.181976\n",
      "[510]\tvalid_0's binary_logloss: 0.181985\n",
      "[511]\tvalid_0's binary_logloss: 0.182009\n",
      "[512]\tvalid_0's binary_logloss: 0.182045\n",
      "[513]\tvalid_0's binary_logloss: 0.182051\n",
      "[514]\tvalid_0's binary_logloss: 0.182072\n",
      "[515]\tvalid_0's binary_logloss: 0.182112\n",
      "[516]\tvalid_0's binary_logloss: 0.182105\n",
      "[517]\tvalid_0's binary_logloss: 0.182088\n",
      "[518]\tvalid_0's binary_logloss: 0.182034\n",
      "[519]\tvalid_0's binary_logloss: 0.182053\n",
      "[520]\tvalid_0's binary_logloss: 0.182046\n",
      "[521]\tvalid_0's binary_logloss: 0.182052\n",
      "[522]\tvalid_0's binary_logloss: 0.182051\n",
      "[523]\tvalid_0's binary_logloss: 0.18201\n",
      "[524]\tvalid_0's binary_logloss: 0.181995\n",
      "[525]\tvalid_0's binary_logloss: 0.182017\n",
      "[526]\tvalid_0's binary_logloss: 0.18204\n",
      "[527]\tvalid_0's binary_logloss: 0.182075\n",
      "[528]\tvalid_0's binary_logloss: 0.182099\n",
      "[529]\tvalid_0's binary_logloss: 0.182115\n",
      "[530]\tvalid_0's binary_logloss: 0.182138\n",
      "[531]\tvalid_0's binary_logloss: 0.182122\n",
      "[532]\tvalid_0's binary_logloss: 0.182112\n",
      "[533]\tvalid_0's binary_logloss: 0.182092\n",
      "[534]\tvalid_0's binary_logloss: 0.182101\n",
      "[535]\tvalid_0's binary_logloss: 0.182098\n",
      "[536]\tvalid_0's binary_logloss: 0.182119\n",
      "[537]\tvalid_0's binary_logloss: 0.182134\n",
      "[538]\tvalid_0's binary_logloss: 0.182159\n",
      "[539]\tvalid_0's binary_logloss: 0.182148\n",
      "[540]\tvalid_0's binary_logloss: 0.18215\n",
      "[541]\tvalid_0's binary_logloss: 0.182144\n",
      "[542]\tvalid_0's binary_logloss: 0.182182\n",
      "[543]\tvalid_0's binary_logloss: 0.182228\n",
      "[544]\tvalid_0's binary_logloss: 0.182241\n",
      "[545]\tvalid_0's binary_logloss: 0.182303\n",
      "[546]\tvalid_0's binary_logloss: 0.182301\n",
      "[547]\tvalid_0's binary_logloss: 0.182295\n",
      "[548]\tvalid_0's binary_logloss: 0.182314\n",
      "[549]\tvalid_0's binary_logloss: 0.182336\n",
      "[550]\tvalid_0's binary_logloss: 0.182345\n",
      "[551]\tvalid_0's binary_logloss: 0.182373\n",
      "[552]\tvalid_0's binary_logloss: 0.182378\n",
      "[553]\tvalid_0's binary_logloss: 0.182373\n",
      "[554]\tvalid_0's binary_logloss: 0.182386\n",
      "[555]\tvalid_0's binary_logloss: 0.182342\n",
      "[556]\tvalid_0's binary_logloss: 0.182342\n",
      "[557]\tvalid_0's binary_logloss: 0.182312\n",
      "[558]\tvalid_0's binary_logloss: 0.182281\n",
      "[559]\tvalid_0's binary_logloss: 0.18227\n",
      "[560]\tvalid_0's binary_logloss: 0.18223\n",
      "[561]\tvalid_0's binary_logloss: 0.182247\n",
      "[562]\tvalid_0's binary_logloss: 0.182228\n",
      "[563]\tvalid_0's binary_logloss: 0.182243\n",
      "[564]\tvalid_0's binary_logloss: 0.182235\n",
      "[565]\tvalid_0's binary_logloss: 0.182259\n",
      "[566]\tvalid_0's binary_logloss: 0.182282\n",
      "Early stopping, best iteration is:\n",
      "[66]\tvalid_0's binary_logloss: 0.178205\n"
     ]
    }
   ],
   "source": [
    "print('Start training...')\n",
    "# train\n",
    "gbm = lgb.train(params,\n",
    "                lgb_train,\n",
    "                num_boost_round=4000,\n",
    "                valid_sets=lgb_eval,\n",
    "                early_stopping_rounds=500)"
   ]
  },
  {
   "cell_type": "code",
   "execution_count": 301,
   "metadata": {},
   "outputs": [
    {
     "name": "stdout",
     "output_type": "stream",
     "text": [
      "defaultdict(<class 'dict'>, {'valid_0': {'binary_logloss': 0.17820478282236757}})\n",
      "66\n"
     ]
    }
   ],
   "source": [
    "print(gbm.best_score)\n",
    "print(gbm.best_iteration)"
   ]
  },
  {
   "cell_type": "code",
   "execution_count": 302,
   "metadata": {},
   "outputs": [
    {
     "name": "stdout",
     "output_type": "stream",
     "text": [
      "Overall AUC: 0.713\n"
     ]
    }
   ],
   "source": [
    "y_pred_train = gbm.predict(xtrain)\n",
    "score = roc_auc_score(ytrain, y_pred_train)\n",
    "print(\"Overall AUC: {:.3f}\" .format(score))"
   ]
  },
  {
   "cell_type": "code",
   "execution_count": 303,
   "metadata": {},
   "outputs": [
    {
     "name": "stdout",
     "output_type": "stream",
     "text": [
      "Overall AUC: 0.688\n"
     ]
    }
   ],
   "source": [
    "ypred = gbm.predict(xtest)\n",
    "score = roc_auc_score(ytest, ypred)\n",
    "print(\"Overall AUC: {:.3f}\" .format(score))"
   ]
  },
  {
   "cell_type": "code",
   "execution_count": 304,
   "metadata": {},
   "outputs": [
    {
     "data": {
      "image/png": "[encoded data removed]",
      "text/plain": [
       "<Figure size 432x288 with 1 Axes>"
      ]
     },
     "metadata": {},
     "output_type": "display_data"
    }
   ],
   "source": [
    "from sklearn.metrics import roc_auc_score, roc_curve\n",
    "\n",
    "auc = roc_auc_score(ytest, ypred)\n",
    "fpr, tpr, thresholds = roc_curve(ytest, ypred)\n",
    "plt.figure()\n",
    "plt.plot(fpr, tpr, label='LGBM (area = %0.2f)' % auc)\n",
    "plt.plot([0, 1], [0, 1],'r--')\n",
    "plt.xlim([0.0, 1.0])\n",
    "plt.ylim([0.0, 1.05])\n",
    "plt.xlabel('False Positive Rate'), plt.ylabel('True Positive Rate'), plt.title('Receiver operating characteristic')\n",
    "plt.legend(loc=\"lower right\")\n",
    "# plt.savefig('Log_ROC')\n",
    "plt.show()"
   ]
  },
  {
   "cell_type": "code",
   "execution_count": 316,
   "metadata": {},
   "outputs": [],
   "source": [
    "train_pred=gbm.predict(traindf.drop(columns=['is_click'],axis=0))"
   ]
  },
  {
   "cell_type": "code",
   "execution_count": 317,
   "metadata": {},
   "outputs": [],
   "source": [
    "sub_pred = gbm.predict(testdf.drop(columns=['is_click'],axis=0))"
   ]
  },
  {
   "cell_type": "code",
   "execution_count": 318,
   "metadata": {},
   "outputs": [
    {
     "name": "stdout",
     "output_type": "stream",
     "text": [
      "[0.05894078 0.0476607  0.06513023 ... 0.12042996 0.08431379 0.06865842]\n"
     ]
    }
   ],
   "source": [
    "print(sub_pred)"
   ]
  },
  {
   "cell_type": "code",
   "execution_count": 319,
   "metadata": {},
   "outputs": [],
   "source": [
    "sub_pred = np.clip(sub_pred, 0, 1)"
   ]
  },
  {
   "cell_type": "code",
   "execution_count": 320,
   "metadata": {},
   "outputs": [
    {
     "data": {
      "text/plain": [
       "(0.008044438333582263, 0.43623518703748626)"
      ]
     },
     "execution_count": 320,
     "metadata": {},
     "output_type": "execute_result"
    }
   ],
   "source": [
    "sub_pred.min(), sub_pred.max()"
   ]
  },
  {
   "cell_type": "code",
   "execution_count": 321,
   "metadata": {},
   "outputs": [],
   "source": [
    "sample_submission1=sample_submission"
   ]
  },
  {
   "cell_type": "code",
   "execution_count": 322,
   "metadata": {},
   "outputs": [],
   "source": [
    "\n",
    "sample_submission1.to_csv('subm_lgbm_auc{:.8f}.csv'.format(score), index=False, float_format='%.8f')"
   ]
  },
  {
   "cell_type": "code",
   "execution_count": 347,
   "metadata": {},
   "outputs": [],
   "source": [
    "sample_submission1['is_click']=sub_pred"
   ]
  },
  {
   "cell_type": "code",
   "execution_count": 348,
   "metadata": {},
   "outputs": [],
   "source": [
    "sample_submission1['is_click'] = sample_submission1.is_click.map( lambda x: 1 if x > 0.02 else 0)"
   ]
  },
  {
   "cell_type": "code",
   "execution_count": 349,
   "metadata": {},
   "outputs": [
    {
     "data": {
      "text/html": [
       "<div>\n",
       "<style scoped>\n",
       "    .dataframe tbody tr th:only-of-type {\n",
       "        vertical-align: middle;\n",
       "    }\n",
       "\n",
       "    .dataframe tbody tr th {\n",
       "        vertical-align: top;\n",
       "    }\n",
       "\n",
       "    .dataframe thead th {\n",
       "        text-align: right;\n",
       "    }\n",
       "</style>\n",
       "<table border=\"1\" class=\"dataframe\">\n",
       "  <thead>\n",
       "    <tr style=\"text-align: right;\">\n",
       "      <th></th>\n",
       "      <th>impression_id</th>\n",
       "      <th>is_click</th>\n",
       "    </tr>\n",
       "  </thead>\n",
       "  <tbody>\n",
       "    <tr>\n",
       "      <th>0</th>\n",
       "      <td>a9e7126a585a69a32bc7414e9d0c0ada</td>\n",
       "      <td>1</td>\n",
       "    </tr>\n",
       "    <tr>\n",
       "      <th>1</th>\n",
       "      <td>caac14a5bf2ba283db7708bb34855760</td>\n",
       "      <td>1</td>\n",
       "    </tr>\n",
       "    <tr>\n",
       "      <th>2</th>\n",
       "      <td>13f10ba306a19ce7bec2f3cae507b698</td>\n",
       "      <td>1</td>\n",
       "    </tr>\n",
       "    <tr>\n",
       "      <th>3</th>\n",
       "      <td>39c4b4dc0e9701b55a0a4f072008fb3f</td>\n",
       "      <td>1</td>\n",
       "    </tr>\n",
       "    <tr>\n",
       "      <th>4</th>\n",
       "      <td>bf5a572cca75f5fc67f4b14e58b11d70</td>\n",
       "      <td>1</td>\n",
       "    </tr>\n",
       "  </tbody>\n",
       "</table>\n",
       "</div>"
      ],
      "text/plain": [
       "                      impression_id  is_click\n",
       "0  a9e7126a585a69a32bc7414e9d0c0ada         1\n",
       "1  caac14a5bf2ba283db7708bb34855760         1\n",
       "2  13f10ba306a19ce7bec2f3cae507b698         1\n",
       "3  39c4b4dc0e9701b55a0a4f072008fb3f         1\n",
       "4  bf5a572cca75f5fc67f4b14e58b11d70         1"
      ]
     },
     "execution_count": 349,
     "metadata": {},
     "output_type": "execute_result"
    }
   ],
   "source": [
    "sample_submission1.head()"
   ]
  },
  {
   "cell_type": "code",
   "execution_count": 350,
   "metadata": {},
   "outputs": [
    {
     "data": {
      "text/plain": [
       "1    81502\n",
       "0     9173\n",
       "Name: is_click, dtype: int64"
      ]
     },
     "execution_count": 350,
     "metadata": {},
     "output_type": "execute_result"
    }
   ],
   "source": [
    "sample_submission1['is_click'].value_counts()"
   ]
  },
  {
   "cell_type": "code",
   "execution_count": 351,
   "metadata": {},
   "outputs": [],
   "source": [
    "sample_submission1.to_csv(\"sample_submissionLgb6.csv\",index=False)"
   ]
  },
  {
   "cell_type": "code",
   "execution_count": null,
   "metadata": {},
   "outputs": [],
   "source": []
  },
  {
   "cell_type": "code",
   "execution_count": null,
   "metadata": {},
   "outputs": [],
   "source": []
  },
  {
   "cell_type": "code",
   "execution_count": null,
   "metadata": {},
   "outputs": [],
   "source": [
    "#Adaboost with logistic regression method"
   ]
  },
  {
   "cell_type": "code",
   "execution_count": 113,
   "metadata": {},
   "outputs": [],
   "source": [
    "# Adaboost Classifier\n",
    "from sklearn.tree import DecisionTreeRegressor\n",
    "from sklearn.ensemble import RandomForestClassifier\n",
    "from sklearn.ensemble import AdaBoostClassifier\n",
    "#dtree = DecisionTreeClassifier(criterion='entropy',max_depth=2,random_state=42)\n",
    "\n",
    "\"\"\"dtree = RandomForestClassifier(bootstrap=True, class_weight=None, criterion='gini',\n",
    "            max_depth=10, max_features='sqrt', max_leaf_nodes=None,\n",
    "            min_impurity_decrease=0.0, min_impurity_split=None,\n",
    "            min_samples_leaf=1, min_samples_split=5,\n",
    "            min_weight_fraction_leaf=0.0, n_estimators=500, n_jobs=1,\n",
    "            oob_score=False, random_state=42, verbose=0,\n",
    "            warm_start=False)\"\"\"\n",
    "dtree=LogisticRegression(C= 0.2, class_weight= 'balanced', penalty= 'l1')\n",
    "\n",
    "adabst_fit = AdaBoostClassifier(base_estimator= dtree,\n",
    "        n_estimators=500,random_state = 42)"
   ]
  },
  {
   "cell_type": "code",
   "execution_count": 115,
   "metadata": {},
   "outputs": [
    {
     "data": {
      "text/plain": [
       "AdaBoostClassifier(algorithm='SAMME.R',\n",
       "          base_estimator=LogisticRegression(C=0.2, class_weight='balanced', dual=False,\n",
       "          fit_intercept=True, intercept_scaling=1, max_iter=100,\n",
       "          multi_class='ovr', n_jobs=1, penalty='l1', random_state=None,\n",
       "          solver='liblinear', tol=0.0001, verbose=0, warm_start=False),\n",
       "          learning_rate=1.0, n_estimators=500, random_state=42)"
      ]
     },
     "execution_count": 115,
     "metadata": {},
     "output_type": "execute_result"
    }
   ],
   "source": [
    "adabst_fit.fit(xtrain, ytrain)"
   ]
  },
  {
   "cell_type": "code",
   "execution_count": 118,
   "metadata": {},
   "outputs": [],
   "source": [
    "\n",
    "y_pred_train = dtree.predict(xtrain)"
   ]
  },
  {
   "cell_type": "code",
   "execution_count": 119,
   "metadata": {},
   "outputs": [
    {
     "data": {
      "text/plain": [
       "array([[95184, 86179],\n",
       "       [ 3825,  4899]], dtype=int64)"
      ]
     },
     "execution_count": 119,
     "metadata": {},
     "output_type": "execute_result"
    }
   ],
   "source": [
    "from sklearn import metrics\n",
    "metrics.confusion_matrix(ytrain,y_pred_train)"
   ]
  },
  {
   "cell_type": "code",
   "execution_count": 120,
   "metadata": {},
   "outputs": [],
   "source": [
    "\n",
    "ypred = dtree.predict(xtest)"
   ]
  },
  {
   "cell_type": "code",
   "execution_count": 121,
   "metadata": {},
   "outputs": [
    {
     "data": {
      "text/plain": [
       "0.09603289791969037"
      ]
     },
     "execution_count": 121,
     "metadata": {},
     "output_type": "execute_result"
    }
   ],
   "source": [
    "metrics.f1_score(ytest,ypred)"
   ]
  },
  {
   "cell_type": "code",
   "execution_count": 66,
   "metadata": {},
   "outputs": [
    {
     "name": "stdout",
     "output_type": "stream",
     "text": [
      "f1_score: 0.020725388601036267\n",
      "Accuracy on train data: 0.9642847748662454\n",
      "Accuracy on test data: 0.965426539287067\n"
     ]
    }
   ],
   "source": [
    "print(\"f1_score:\",f1_score(ytest, ypred)) # calculating f1 score\n",
    "print(\"Accuracy on train data:\",model.score(xtrain,ytrain))\n",
    "print(\"Accuracy on test data:\",model.score(xtest,ytest))"
   ]
  },
  {
   "cell_type": "code",
   "execution_count": 122,
   "metadata": {},
   "outputs": [
    {
     "data": {
      "text/plain": [
       "LogisticRegression(C=0.2, class_weight='balanced', dual=False,\n",
       "          fit_intercept=True, intercept_scaling=1, max_iter=100,\n",
       "          multi_class='ovr', n_jobs=1, penalty='l1', random_state=None,\n",
       "          solver='liblinear', tol=0.0001, verbose=0, warm_start=False)"
      ]
     },
     "execution_count": 122,
     "metadata": {},
     "output_type": "execute_result"
    }
   ],
   "source": [
    "dtree.fit(X, y)"
   ]
  },
  {
   "cell_type": "code",
   "execution_count": 123,
   "metadata": {},
   "outputs": [],
   "source": [
    "train_pred=dtree.predict(train.drop(columns=['impression_id','impression_time_Timestamp','os_version','user_id','is_click'],axis=0))"
   ]
  },
  {
   "cell_type": "code",
   "execution_count": 124,
   "metadata": {},
   "outputs": [],
   "source": [
    "test_pred=dtree.predict(test.drop(columns=['impression_id','impression_time_Timestamp','os_version','user_id','is_click'],axis=0))"
   ]
  },
  {
   "cell_type": "code",
   "execution_count": 125,
   "metadata": {},
   "outputs": [],
   "source": [
    "sample_submission1=sample_submission"
   ]
  },
  {
   "cell_type": "code",
   "execution_count": 126,
   "metadata": {},
   "outputs": [],
   "source": [
    "sample_submission1[\"is_click\"]=test_pred.astype(int)"
   ]
  },
  {
   "cell_type": "code",
   "execution_count": 127,
   "metadata": {},
   "outputs": [
    {
     "data": {
      "text/plain": [
       "0    52776\n",
       "1    37899\n",
       "Name: is_click, dtype: int64"
      ]
     },
     "execution_count": 127,
     "metadata": {},
     "output_type": "execute_result"
    }
   ],
   "source": [
    "sample_submission1['is_click'].value_counts()"
   ]
  },
  {
   "cell_type": "code",
   "execution_count": 128,
   "metadata": {},
   "outputs": [],
   "source": [
    "sample_submission1.to_csv(\"sample_submissionLFg.csv\",index=False)"
   ]
  },
  {
   "cell_type": "code",
   "execution_count": 74,
   "metadata": {},
   "outputs": [
    {
     "name": "stdout",
     "output_type": "stream",
     "text": [
      "Parameters currently in use:\n",
      "\n",
      "{'bootstrap': True,\n",
      " 'class_weight': None,\n",
      " 'criterion': 'gini',\n",
      " 'max_depth': None,\n",
      " 'max_features': 'auto',\n",
      " 'max_leaf_nodes': None,\n",
      " 'min_impurity_decrease': 0.0,\n",
      " 'min_impurity_split': None,\n",
      " 'min_samples_leaf': 1,\n",
      " 'min_samples_split': 2,\n",
      " 'min_weight_fraction_leaf': 0.0,\n",
      " 'n_estimators': 10,\n",
      " 'n_jobs': 1,\n",
      " 'oob_score': False,\n",
      " 'random_state': 42,\n",
      " 'verbose': 0,\n",
      " 'warm_start': False}\n"
     ]
    }
   ],
   "source": [
    "from sklearn.ensemble import RandomForestClassifier\n",
    "rf = RandomForestClassifier(random_state = 42)\n",
    "from pprint import pprint\n",
    "# Look at parameters used by our current forest\n",
    "print('Parameters currently in use:\\n')\n",
    "pprint(rf.get_params())"
   ]
  },
  {
   "cell_type": "code",
   "execution_count": 75,
   "metadata": {},
   "outputs": [
    {
     "name": "stdout",
     "output_type": "stream",
     "text": [
      "{'bootstrap': [True, False],\n",
      " 'max_depth': [10, 20, 30, 40, 50, 60, 70, 80, 90, 100, 110, None],\n",
      " 'max_features': ['auto', 'sqrt'],\n",
      " 'min_samples_leaf': [1, 2, 4],\n",
      " 'min_samples_split': [2, 5, 10],\n",
      " 'n_estimators': [100, 144, 188, 233, 277, 322, 366, 411, 455, 500]}\n"
     ]
    }
   ],
   "source": [
    "from sklearn.model_selection import RandomizedSearchCV\n",
    "# Number of trees in random forest\n",
    "n_estimators = [int(x) for x in np.linspace(start = 100, stop = 500, num = 10)]\n",
    "# Number of features to consider at every split\n",
    "max_features = ['auto', 'sqrt']\n",
    "# Maximum number of levels in tree\n",
    "max_depth = [int(x) for x in np.linspace(10, 110, num = 11)]\n",
    "max_depth.append(None)\n",
    "# Minimum number of samples required to split a node\n",
    "min_samples_split = [2, 5, 10]\n",
    "# Minimum number of samples required at each leaf node\n",
    "min_samples_leaf = [1, 2, 4]\n",
    "# Method of selecting samples for training each tree\n",
    "bootstrap = [True, False]\n",
    "# Create the random grid\n",
    "random_grid = {'n_estimators': n_estimators,\n",
    "               'max_features': max_features,\n",
    "               'max_depth': max_depth,\n",
    "               'min_samples_split': min_samples_split,\n",
    "               'min_samples_leaf': min_samples_leaf,\n",
    "               'bootstrap': bootstrap}\n",
    "pprint(random_grid)"
   ]
  },
  {
   "cell_type": "code",
   "execution_count": 76,
   "metadata": {},
   "outputs": [
    {
     "name": "stdout",
     "output_type": "stream",
     "text": [
      "Fitting 3 folds for each of 100 candidates, totalling 300 fits\n"
     ]
    },
    {
     "name": "stderr",
     "output_type": "stream",
     "text": [
      "[Parallel(n_jobs=-1)]: Done  33 tasks      | elapsed: 10.8min\n",
      "[Parallel(n_jobs=-1)]: Done 154 tasks      | elapsed: 40.5min\n",
      "[Parallel(n_jobs=-1)]: Done 300 out of 300 | elapsed: 76.2min finished\n"
     ]
    },
    {
     "data": {
      "text/plain": [
       "RandomizedSearchCV(cv=3, error_score='raise',\n",
       "          estimator=RandomForestClassifier(bootstrap=True, class_weight=None, criterion='gini',\n",
       "            max_depth=None, max_features='auto', max_leaf_nodes=None,\n",
       "            min_impurity_decrease=0.0, min_impurity_split=None,\n",
       "            min_samples_leaf=1, min_samples_split=2,\n",
       "            min_weight_fraction_leaf=0.0, n_estimators=10, n_jobs=1,\n",
       "            oob_score=False, random_state=None, verbose=0,\n",
       "            warm_start=False),\n",
       "          fit_params=None, iid=True, n_iter=100, n_jobs=-1,\n",
       "          param_distributions={'n_estimators': [100, 144, 188, 233, 277, 322, 366, 411, 455, 500], 'max_features': ['auto', 'sqrt'], 'max_depth': [10, 20, 30, 40, 50, 60, 70, 80, 90, 100, 110, None], 'min_samples_split': [2, 5, 10], 'min_samples_leaf': [1, 2, 4], 'bootstrap': [True, False]},\n",
       "          pre_dispatch='2*n_jobs', random_state=42, refit=True,\n",
       "          return_train_score='warn', scoring=None, verbose=2)"
      ]
     },
     "execution_count": 76,
     "metadata": {},
     "output_type": "execute_result"
    }
   ],
   "source": [
    "\n",
    "# Use the random grid to search for best hyperparameters\n",
    "# First create the base model to tune\n",
    "rf = RandomForestClassifier()\n",
    "# Random search of parameters, using 3 fold cross validation, \n",
    "# search across 100 different combinations, and use all available cores\n",
    "rf_random = RandomizedSearchCV(estimator = rf, param_distributions = random_grid, n_iter = 100, cv = 3, verbose=2, random_state=42, n_jobs = -1)\n",
    "# Fit the random search model\n",
    "rf_random.fit(X,y)"
   ]
  },
  {
   "cell_type": "code",
   "execution_count": 77,
   "metadata": {},
   "outputs": [
    {
     "data": {
      "text/plain": [
       "{'n_estimators': 500,\n",
       " 'min_samples_split': 5,\n",
       " 'min_samples_leaf': 1,\n",
       " 'max_features': 'sqrt',\n",
       " 'max_depth': 10,\n",
       " 'bootstrap': True}"
      ]
     },
     "execution_count": 77,
     "metadata": {},
     "output_type": "execute_result"
    }
   ],
   "source": [
    "rf_random.best_params_"
   ]
  },
  {
   "cell_type": "code",
   "execution_count": null,
   "metadata": {},
   "outputs": [],
   "source": []
  },
  {
   "cell_type": "code",
   "execution_count": null,
   "metadata": {},
   "outputs": [],
   "source": []
  }
 ],
 "metadata": {
  "kernelspec": {
   "display_name": "Python 3",
   "language": "python",
   "name": "python3"
  },
  "language_info": {
   "codemirror_mode": {
    "name": "ipython",
    "version": 3
   },
   "file_extension": ".py",
   "mimetype": "text/x-python",
   "name": "python",
   "nbconvert_exporter": "python",
   "pygments_lexer": "ipython3",
   "version": "3.6.5"
  }
 },
 "nbformat": 4,
 "nbformat_minor": 2
}
